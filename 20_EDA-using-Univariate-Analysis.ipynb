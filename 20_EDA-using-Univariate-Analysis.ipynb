{
 "cells": [
  {
   "cell_type": "markdown",
   "id": "7991cb14-1ae0-409c-bdf6-0379c2417d19",
   "metadata": {},
   "source": [
    "### Univariate-Analysis is analysis of uni variable i.e. single variable.Variable means column in dataset"
   ]
  },
  {
   "cell_type": "markdown",
   "id": "6c59ea23-6235-4af9-aaab-22bc3eb2906b",
   "metadata": {},
   "source": [
    "### COLUMN IN DATASET CAN BE EITHER NUMERICAL OR CATEGORICAL"
   ]
  },
  {
   "cell_type": "code",
   "execution_count": 11,
   "id": "62426afc-7fd3-4a88-b160-be50fb4c1f5f",
   "metadata": {},
   "outputs": [],
   "source": [
    "import pandas as pd\n",
    "import seaborn as sns"
   ]
  },
  {
   "cell_type": "code",
   "execution_count": 5,
   "id": "31e1bb18-5700-4951-bf36-ede1df496df3",
   "metadata": {},
   "outputs": [],
   "source": [
    "df = pd.read_csv('train.csv')"
   ]
  },
  {
   "cell_type": "code",
   "execution_count": 7,
   "id": "663b7120-8a50-405f-8295-40177c783330",
   "metadata": {},
   "outputs": [
    {
     "data": {
      "text/html": [
       "<div>\n",
       "<style scoped>\n",
       "    .dataframe tbody tr th:only-of-type {\n",
       "        vertical-align: middle;\n",
       "    }\n",
       "\n",
       "    .dataframe tbody tr th {\n",
       "        vertical-align: top;\n",
       "    }\n",
       "\n",
       "    .dataframe thead th {\n",
       "        text-align: right;\n",
       "    }\n",
       "</style>\n",
       "<table border=\"1\" class=\"dataframe\">\n",
       "  <thead>\n",
       "    <tr style=\"text-align: right;\">\n",
       "      <th></th>\n",
       "      <th>PassengerId</th>\n",
       "      <th>Survived</th>\n",
       "      <th>Pclass</th>\n",
       "      <th>Name</th>\n",
       "      <th>Sex</th>\n",
       "      <th>Age</th>\n",
       "      <th>SibSp</th>\n",
       "      <th>Parch</th>\n",
       "      <th>Ticket</th>\n",
       "      <th>Fare</th>\n",
       "      <th>Cabin</th>\n",
       "      <th>Embarked</th>\n",
       "    </tr>\n",
       "  </thead>\n",
       "  <tbody>\n",
       "    <tr>\n",
       "      <th>0</th>\n",
       "      <td>1</td>\n",
       "      <td>0</td>\n",
       "      <td>3</td>\n",
       "      <td>Braund, Mr. Owen Harris</td>\n",
       "      <td>male</td>\n",
       "      <td>22.0</td>\n",
       "      <td>1</td>\n",
       "      <td>0</td>\n",
       "      <td>A/5 21171</td>\n",
       "      <td>7.2500</td>\n",
       "      <td>NaN</td>\n",
       "      <td>S</td>\n",
       "    </tr>\n",
       "    <tr>\n",
       "      <th>1</th>\n",
       "      <td>2</td>\n",
       "      <td>1</td>\n",
       "      <td>1</td>\n",
       "      <td>Cumings, Mrs. John Bradley (Florence Briggs Th...</td>\n",
       "      <td>female</td>\n",
       "      <td>38.0</td>\n",
       "      <td>1</td>\n",
       "      <td>0</td>\n",
       "      <td>PC 17599</td>\n",
       "      <td>71.2833</td>\n",
       "      <td>C85</td>\n",
       "      <td>C</td>\n",
       "    </tr>\n",
       "    <tr>\n",
       "      <th>2</th>\n",
       "      <td>3</td>\n",
       "      <td>1</td>\n",
       "      <td>3</td>\n",
       "      <td>Heikkinen, Miss. Laina</td>\n",
       "      <td>female</td>\n",
       "      <td>26.0</td>\n",
       "      <td>0</td>\n",
       "      <td>0</td>\n",
       "      <td>STON/O2. 3101282</td>\n",
       "      <td>7.9250</td>\n",
       "      <td>NaN</td>\n",
       "      <td>S</td>\n",
       "    </tr>\n",
       "    <tr>\n",
       "      <th>3</th>\n",
       "      <td>4</td>\n",
       "      <td>1</td>\n",
       "      <td>1</td>\n",
       "      <td>Futrelle, Mrs. Jacques Heath (Lily May Peel)</td>\n",
       "      <td>female</td>\n",
       "      <td>35.0</td>\n",
       "      <td>1</td>\n",
       "      <td>0</td>\n",
       "      <td>113803</td>\n",
       "      <td>53.1000</td>\n",
       "      <td>C123</td>\n",
       "      <td>S</td>\n",
       "    </tr>\n",
       "    <tr>\n",
       "      <th>4</th>\n",
       "      <td>5</td>\n",
       "      <td>0</td>\n",
       "      <td>3</td>\n",
       "      <td>Allen, Mr. William Henry</td>\n",
       "      <td>male</td>\n",
       "      <td>35.0</td>\n",
       "      <td>0</td>\n",
       "      <td>0</td>\n",
       "      <td>373450</td>\n",
       "      <td>8.0500</td>\n",
       "      <td>NaN</td>\n",
       "      <td>S</td>\n",
       "    </tr>\n",
       "  </tbody>\n",
       "</table>\n",
       "</div>"
      ],
      "text/plain": [
       "   PassengerId  Survived  Pclass  \\\n",
       "0            1         0       3   \n",
       "1            2         1       1   \n",
       "2            3         1       3   \n",
       "3            4         1       1   \n",
       "4            5         0       3   \n",
       "\n",
       "                                                Name     Sex   Age  SibSp  \\\n",
       "0                            Braund, Mr. Owen Harris    male  22.0      1   \n",
       "1  Cumings, Mrs. John Bradley (Florence Briggs Th...  female  38.0      1   \n",
       "2                             Heikkinen, Miss. Laina  female  26.0      0   \n",
       "3       Futrelle, Mrs. Jacques Heath (Lily May Peel)  female  35.0      1   \n",
       "4                           Allen, Mr. William Henry    male  35.0      0   \n",
       "\n",
       "   Parch            Ticket     Fare Cabin Embarked  \n",
       "0      0         A/5 21171   7.2500   NaN        S  \n",
       "1      0          PC 17599  71.2833   C85        C  \n",
       "2      0  STON/O2. 3101282   7.9250   NaN        S  \n",
       "3      0            113803  53.1000  C123        S  \n",
       "4      0            373450   8.0500   NaN        S  "
      ]
     },
     "execution_count": 7,
     "metadata": {},
     "output_type": "execute_result"
    }
   ],
   "source": [
    "df.head()"
   ]
  },
  {
   "cell_type": "markdown",
   "id": "2f5caf2b-a8a2-47dd-af7a-ea3664dc9841",
   "metadata": {},
   "source": [
    "# 1.CATEGORICAL DATA"
   ]
  },
  {
   "cell_type": "markdown",
   "id": "03f76305-c417-4448-9552-9d4fe5cb7455",
   "metadata": {},
   "source": [
    "## a. CountPlot"
   ]
  },
  {
   "cell_type": "code",
   "execution_count": 17,
   "id": "ffe81f6b-e6a3-4669-8cf3-9ff93f8164f9",
   "metadata": {},
   "outputs": [
    {
     "name": "stdout",
     "output_type": "stream",
     "text": [
      "[0 1]\n"
     ]
    }
   ],
   "source": [
    "print(df['Survived'].unique()) #It shows the number of classes in 'Survived' column i.e. 0 and 1"
   ]
  },
  {
   "cell_type": "code",
   "execution_count": 19,
   "id": "38252262-9b2d-4d30-b31f-d4ca99f52ef8",
   "metadata": {},
   "outputs": [
    {
     "data": {
      "text/plain": [
       "<Axes: xlabel='Survived', ylabel='count'>"
      ]
     },
     "execution_count": 19,
     "metadata": {},
     "output_type": "execute_result"
    },
    {
     "data": {
      "image/png": "[encoded data removed]",
      "text/plain": [
       "<Figure size 640x480 with 1 Axes>"
      ]
     },
     "metadata": {},
     "output_type": "display_data"
    }
   ],
   "source": [
    "sns.countplot(x='Survived', data=df) #This draws a countplot with values in \"Survived\" on X-axis from data of 'df'"
   ]
  },
  {
   "cell_type": "markdown",
   "id": "dbe8cc55-910e-40f9-add2-7aad70913fc6",
   "metadata": {},
   "source": [
    "### From above bar diagram we can conclude that more than 500 people 'not survived' i.e 0 and less than 400 people 'Survived'"
   ]
  },
  {
   "cell_type": "code",
   "execution_count": 24,
   "id": "d2b8b273-78a8-43ed-99a3-ab9fbe271e2d",
   "metadata": {},
   "outputs": [
    {
     "data": {
      "text/plain": [
       "<Axes: xlabel='Pclass', ylabel='count'>"
      ]
     },
     "execution_count": 24,
     "metadata": {},
     "output_type": "execute_result"
    },
    {
     "data": {
      "image/png": "[encoded data removed]",
      "text/plain": [
       "<Figure size 640x480 with 1 Axes>"
      ]
     },
     "metadata": {},
     "output_type": "display_data"
    }
   ],
   "source": [
    "sns.countplot(x='Pclass',data=df)"
   ]
  },
  {
   "cell_type": "markdown",
   "id": "8a250af9-4901-4120-8b37-24936fd6e56f",
   "metadata": {},
   "source": [
    "### From this we can see that people of class 3 were more"
   ]
  },
  {
   "cell_type": "code",
   "execution_count": 27,
   "id": "5e04b39e-19bd-4ae5-bc28-7962565c456e",
   "metadata": {},
   "outputs": [
    {
     "data": {
      "text/plain": [
       "<Axes: xlabel='Sex', ylabel='count'>"
      ]
     },
     "execution_count": 27,
     "metadata": {},
     "output_type": "execute_result"
    },
    {
     "data": {
      "image/png": "[encoded data removed]",
      "text/plain": [
       "<Figure size 640x480 with 1 Axes>"
      ]
     },
     "metadata": {},
     "output_type": "display_data"
    }
   ],
   "source": [
    "sns.countplot(x='Sex',data = df)"
   ]
  },
  {
   "cell_type": "markdown",
   "id": "527ef7c0-7489-48d0-997b-bd9dd168a4f6",
   "metadata": {},
   "source": [
    "### This shows that there were more male in tytanic"
   ]
  },
  {
   "cell_type": "code",
   "execution_count": 30,
   "id": "af62bd5f-488b-406e-bf2e-f49b3b530640",
   "metadata": {},
   "outputs": [
    {
     "data": {
      "text/plain": [
       "Survived\n",
       "0    549\n",
       "1    342\n",
       "Name: count, dtype: int64"
      ]
     },
     "execution_count": 30,
     "metadata": {},
     "output_type": "execute_result"
    }
   ],
   "source": [
    "df['Survived'].value_counts() #This will show the number of different classes in column"
   ]
  },
  {
   "cell_type": "markdown",
   "id": "e6c8d837-afe6-4b72-b971-0dec16e69697",
   "metadata": {},
   "source": [
    "# PIECHART"
   ]
  },
  {
   "cell_type": "code",
   "execution_count": 33,
   "id": "970306e9-313b-40df-acfc-8cd2763003f0",
   "metadata": {},
   "outputs": [
    {
     "data": {
      "text/plain": [
       "<Axes: ylabel='count'>"
      ]
     },
     "execution_count": 33,
     "metadata": {},
     "output_type": "execute_result"
    },
    {
     "data": {
      "image/png": "[encoded data removed]",
      "text/plain": [
       "<Figure size 640x480 with 1 Axes>"
      ]
     },
     "metadata": {},
     "output_type": "display_data"
    }
   ],
   "source": [
    "df['Pclass'].value_counts().plot(kind = 'pie')"
   ]
  },
  {
   "cell_type": "markdown",
   "id": "6c98fb02-8e58-4522-8147-bd57f4d53b9a",
   "metadata": {},
   "source": [
    "### IT is not showing the percentage.So if we want to show the percentage too,then"
   ]
  },
  {
   "cell_type": "code",
   "execution_count": 36,
   "id": "2fd6eb53-ea47-49d7-9d6a-88a34ac9dda0",
   "metadata": {},
   "outputs": [
    {
     "data": {
      "text/plain": [
       "<Axes: ylabel='count'>"
      ]
     },
     "execution_count": 36,
     "metadata": {},
     "output_type": "execute_result"
    },
    {
     "data": {
      "image/png": "[encoded data removed]",
      "text/plain": [
       "<Figure size 640x480 with 1 Axes>"
      ]
     },
     "metadata": {},
     "output_type": "display_data"
    }
   ],
   "source": [
    "df['Survived'].value_counts().plot(kind= 'pie',autopct = '%.2f')"
   ]
  },
  {
   "cell_type": "markdown",
   "id": "6d5134b0-21af-48b7-b3be-5b2cc366240a",
   "metadata": {},
   "source": [
    "# 2. Numerical Data"
   ]
  },
  {
   "cell_type": "markdown",
   "id": "f2f1f199-d50e-447f-8aa5-cc9f7a1ff49d",
   "metadata": {},
   "source": [
    "### a.Histogram"
   ]
  },
  {
   "cell_type": "code",
   "execution_count": 49,
   "id": "2242d3b8-18a6-4647-a5d5-3ea611d25a7f",
   "metadata": {},
   "outputs": [
    {
     "data": {
      "text/plain": [
       "(array([ 44.,  24.,  32., 104., 115., 127.,  80.,  59.,  49.,  30.,  22.,\n",
       "         17.,   4.,   6.,   1.]),\n",
       " array([ 0.42      ,  5.72533333, 11.03066667, 16.336     , 21.64133333,\n",
       "        26.94666667, 32.252     , 37.55733333, 42.86266667, 48.168     ,\n",
       "        53.47333333, 58.77866667, 64.084     , 69.38933333, 74.69466667,\n",
       "        80.        ]),\n",
       " <BarContainer object of 15 artists>)"
      ]
     },
     "execution_count": 49,
     "metadata": {},
     "output_type": "execute_result"
    },
    {
     "data": {
      "image/png": "[encoded data removed]",
      "text/plain": [
       "<Figure size 640x480 with 1 Axes>"
      ]
     },
     "metadata": {},
     "output_type": "display_data"
    }
   ],
   "source": [
    "import matplotlib.pyplot as plt\n",
    "plt.hist(df['Age'],bins=15) #Bins is ranges.5 means we want total of 5 ranges"
   ]
  },
  {
   "cell_type": "markdown",
   "id": "b20871fe-988c-4d5a-970a-c5c5d8d2c154",
   "metadata": {},
   "source": [
    "### This shows the distribution of age in our dataset.More people between agegroup 25-30 are in titanic"
   ]
  },
  {
   "cell_type": "markdown",
   "id": "9e1dce15-13ec-428b-b4c0-a95d932a6f05",
   "metadata": {},
   "source": [
    "### b.Distplot"
   ]
  },
  {
   "cell_type": "code",
   "execution_count": 52,
   "id": "57013ff0-8fa0-49e3-b094-a74479413568",
   "metadata": {},
   "outputs": [
    {
     "data": {
      "text/plain": [
       "<seaborn.axisgrid.FacetGrid at 0x22a0f16dee0>"
      ]
     },
     "execution_count": 52,
     "metadata": {},
     "output_type": "execute_result"
    },
    {
     "data": {
      "image/png": "[encoded data removed]",
      "text/plain": [
       "<Figure size 500x500 with 1 Axes>"
      ]
     },
     "metadata": {},
     "output_type": "display_data"
    }
   ],
   "source": [
    "sns.displot(df['Age'])"
   ]
  },
  {
   "cell_type": "markdown",
   "id": "60faf3f6-69f9-4d5a-9edf-209656d2cbc7",
   "metadata": {},
   "source": [
    "### c.Boxplot"
   ]
  },
  {
   "cell_type": "markdown",
   "id": "07921637-f606-47c4-82a6-b6667ff16dc6",
   "metadata": {},
   "source": [
    "#### Boxplot is used to detect outliers in numeric data.Figure below shows the graphical structure of boxplot.Here the \n",
    "#### green dots outside the Q1 and Q3 are outliers.So we have to ignore them "
   ]
  },
  {
   "cell_type": "markdown",
   "id": "12a61f41-f89d-47a8-ac72-798ad82857b6",
   "metadata": {},
   "source": [
    "<img src=\"image.jpg\" alt=\"Alt text\" style=\"width:500px;height:300px;\">"
   ]
  },
  {
   "cell_type": "code",
   "execution_count": 60,
   "id": "124884b1-6014-4bd2-adab-c805970c28ba",
   "metadata": {},
   "outputs": [
    {
     "data": {
      "text/plain": [
       "<Axes: ylabel='Age'>"
      ]
     },
     "execution_count": 60,
     "metadata": {},
     "output_type": "execute_result"
    },
    {
     "data": {
      "image/png": "[encoded data removed]",
      "text/plain": [
       "<Figure size 640x480 with 1 Axes>"
      ]
     },
     "metadata": {},
     "output_type": "display_data"
    }
   ],
   "source": [
    "sns.boxplot(df['Age'])"
   ]
  },
  {
   "cell_type": "markdown",
   "id": "beb52608-39c9-4bf2-8c64-04b188dbcc0c",
   "metadata": {},
   "source": [
    "#### i want age in X axis not in y,so "
   ]
  },
  {
   "cell_type": "code",
   "execution_count": 63,
   "id": "928b54b0-4413-458c-aa33-7243d49a8cd1",
   "metadata": {},
   "outputs": [
    {
     "data": {
      "text/plain": [
       "<Axes: xlabel='Age'>"
      ]
     },
     "execution_count": 63,
     "metadata": {},
     "output_type": "execute_result"
    },
    {
     "data": {
      "image/png": "[encoded data removed]",
      "text/plain": [
       "<Figure size 640x480 with 1 Axes>"
      ]
     },
     "metadata": {},
     "output_type": "display_data"
    }
   ],
   "source": [
    "sns.boxplot(x='Age',data=df)"
   ]
  },
  {
   "cell_type": "markdown",
   "id": "b0773304-06cd-40b5-bd42-2cb9432f72d9",
   "metadata": {},
   "source": [
    "#### Here Q1(25 percentile ) lies somewhere in 20 and Q3(75 percentile) lies in 38 and median(50 percentile) is somewhere in 28\n",
    "#### Here the dot outside Q3 i.e. dot shown between range 62 to 90 are outliers so better to ignore them"
   ]
  },
  {
   "cell_type": "markdown",
   "id": "864a7094-6d0b-4e92-9ce2-df54f0f9e49a",
   "metadata": {},
   "source": [
    "# IN NUMERIC DATA COLUMN,WE CAN FIND THE MAX AND MIN TOOO"
   ]
  },
  {
   "cell_type": "code",
   "execution_count": 75,
   "id": "4ece9ae1-b417-41cc-b35d-6c09ba59f60b",
   "metadata": {},
   "outputs": [
    {
     "data": {
      "text/plain": [
       "0.42"
      ]
     },
     "execution_count": 75,
     "metadata": {},
     "output_type": "execute_result"
    }
   ],
   "source": [
    "df['Age'].min()"
   ]
  },
  {
   "cell_type": "code",
   "execution_count": 77,
   "id": "59b0d9d4-a4e4-47a7-a2ab-1e121b39679d",
   "metadata": {},
   "outputs": [
    {
     "data": {
      "text/plain": [
       "80.0"
      ]
     },
     "execution_count": 77,
     "metadata": {},
     "output_type": "execute_result"
    }
   ],
   "source": [
    "df['Age'].max()"
   ]
  },
  {
   "cell_type": "code",
   "execution_count": null,
   "id": "ee5d3330-9a62-40ae-bffa-7266bbe0070f",
   "metadata": {},
   "outputs": [],
   "source": []
  },
  {
   "cell_type": "code",
   "execution_count": null,
   "id": "01d0cda7-3233-436d-bba9-86a4b4be2230",
   "metadata": {},
   "outputs": [],
   "source": []
  }
 ],
 "metadata": {
  "kernelspec": {
   "display_name": "Python 3 (ipykernel)",
   "language": "python",
   "name": "python3"
  },
  "language_info": {
   "codemirror_mode": {
    "name": "ipython",
    "version": 3
   },
   "file_extension": ".py",
   "mimetype": "text/x-python",
   "name": "python",
   "nbconvert_exporter": "python",
   "pygments_lexer": "ipython3",
   "version": "3.12.4"
  }
 },
 "nbformat": 4,
 "nbformat_minor": 5
}
