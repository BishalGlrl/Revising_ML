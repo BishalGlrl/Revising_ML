{
 "cells": [
  {
   "cell_type": "markdown",
   "id": "5ad846d9-740e-4d60-9f14-c268ae7c7c64",
   "metadata": {},
   "source": [
    "### In first part we have only known about calculating slope with respect to b in (b_new = b_old - n * slope) keeping m constant but what if m is not constant.Then in this case we have to calculate this slope by differentiating Loss function with respect to both m and b.At first we have to choose the random value of m and b.Then we have to calculate the loss_slope_of_m and loss_slope_of_b then using that loss slope we have to calculate the new value of b and m and find Y_predict with that new value and repeat this process until certain epoch and after some instant we will get approximate value for m and b"
   ]
  },
  {
   "cell_type": "markdown",
   "id": "511833c5-e556-4f88-9588-5d36a7fcce4e",
   "metadata": {},
   "source": [
    "<img src = 's.jpg' height = '600' width = '800'/>"
   ]
  },
  {
   "cell_type": "markdown",
   "id": "d7224413-6d39-4e2c-80c6-b028d033df57",
   "metadata": {},
   "source": [
    "### When fitting,you have to calculate the value for b and m ,and while predicting you have to calculate y_pred"
   ]
  },
  {
   "cell_type": "code",
   "execution_count": null,
   "id": "b155dc6f-cec7-4dfc-9197-5b8ab1dc6391",
   "metadata": {},
   "outputs": [],
   "source": []
  }
 ],
 "metadata": {
  "kernelspec": {
   "display_name": "Python 3 (ipykernel)",
   "language": "python",
   "name": "python3"
  },
  "language_info": {
   "codemirror_mode": {
    "name": "ipython",
    "version": 3
   },
   "file_extension": ".py",
   "mimetype": "text/x-python",
   "name": "python",
   "nbconvert_exporter": "python",
   "pygments_lexer": "ipython3",
   "version": "3.12.4"
  }
 },
 "nbformat": 4,
 "nbformat_minor": 5
}
