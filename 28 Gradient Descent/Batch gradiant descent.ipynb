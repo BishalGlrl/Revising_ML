{
 "cells": [
  {
   "cell_type": "markdown",
   "id": "4e36f2f7-2911-43aa-bc5c-2a9ab468d506",
   "metadata": {},
   "source": [
    "# There are three type of Gradiant descent, <br>1) Batch Gradient Descent <br>2) Stocastic Gradient Descent<br>3) Mini Batch Gradient Descent"
   ]
  },
  {
   "cell_type": "markdown",
   "id": "c8adea02-d96a-44d5-8276-d4cfcae1c6f5",
   "metadata": {},
   "source": [
    "### 1) <u>Batch Gradient Descent </u>: The Gradient Descent we read before is Batch Gradient descent.For eg our dataset have 300 rows,then in this gd we take 300 row at once and update out loss_slope(Loss function ko slope) with respect to b and m at once.It is used only when we have small dataset<br><u>2)Stocastic GD </u>: Here instead of computing in single go,we iterate through each row of the dataset and then each time it update the value .It is most widely used GD<br><u>3) Batch Gradient Descent</u> : Here the data is divided into batch and then value is upddted based on these batch"
   ]
  },
  {
   "cell_type": "markdown",
   "id": "511548c1-b92b-46b0-bbd4-2c9facc1965c",
   "metadata": {},
   "source": [
    "<h1 style = 'color :red;'>Skip Batch Gradient Descent</h1>"
   ]
  },
  {
   "cell_type": "markdown",
   "id": "540f8e8f-552a-4715-b174-097600a48187",
   "metadata": {},
   "source": [
    "<h2>Since Batch Gradient Descent is computationally expensive,so we will not read it</h2>"
   ]
  },
  {
   "cell_type": "code",
   "execution_count": null,
   "id": "ad8b0872-a199-4af0-bad0-ea8fc3a1263f",
   "metadata": {},
   "outputs": [],
   "source": []
  }
 ],
 "metadata": {
  "kernelspec": {
   "display_name": "Python 3 (ipykernel)",
   "language": "python",
   "name": "python3"
  },
  "language_info": {
   "codemirror_mode": {
    "name": "ipython",
    "version": 3
   },
   "file_extension": ".py",
   "mimetype": "text/x-python",
   "name": "python",
   "nbconvert_exporter": "python",
   "pygments_lexer": "ipython3",
   "version": "3.12.4"
  }
 },
 "nbformat": 4,
 "nbformat_minor": 5
}
