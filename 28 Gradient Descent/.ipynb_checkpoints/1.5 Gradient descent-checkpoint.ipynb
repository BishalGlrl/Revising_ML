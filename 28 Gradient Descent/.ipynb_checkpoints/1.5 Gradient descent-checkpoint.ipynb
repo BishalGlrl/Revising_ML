{
 "cells": [
  {
   "cell_type": "markdown",
   "id": "5ad846d9-740e-4d60-9f14-c268ae7c7c64",
   "metadata": {},
   "source": [
    "### In first part we have only known about calculating slope with respect to b in (b_new = b_old - n * slope) keeping m constant but what if m is not constant.Then in this case we have to calculate this slope by differentiating Loss function with respect to both m and b as:"
   ]
  },
  {
   "cell_type": "markdown",
   "id": "511833c5-e556-4f88-9588-5d36a7fcce4e",
   "metadata": {},
   "source": [
    "<img src = 's.jpg' height = '600' width = '800'/>"
   ]
  },
  {
   "cell_type": "code",
   "execution_count": null,
   "id": "6fb579e3-49b9-4b75-b7f9-5f507179dc08",
   "metadata": {},
   "outputs": [],
   "source": []
  }
 ],
 "metadata": {
  "kernelspec": {
   "display_name": "Python 3 (ipykernel)",
   "language": "python",
   "name": "python3"
  },
  "language_info": {
   "codemirror_mode": {
    "name": "ipython",
    "version": 3
   },
   "file_extension": ".py",
   "mimetype": "text/x-python",
   "name": "python",
   "nbconvert_exporter": "python",
   "pygments_lexer": "ipython3",
   "version": "3.12.4"
  }
 },
 "nbformat": 4,
 "nbformat_minor": 5
}
