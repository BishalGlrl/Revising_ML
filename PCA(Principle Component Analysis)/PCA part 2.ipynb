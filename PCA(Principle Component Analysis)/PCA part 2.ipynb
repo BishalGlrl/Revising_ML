{
 "cells": [
  {
   "cell_type": "markdown",
   "id": "67d62a19-05bc-4c3e-9e2f-28235aa91686",
   "metadata": {},
   "source": [
    "<h2 style = 'color:purple;'>Unit vector:</h2> <br>"
   ]
  },
  {
   "cell_type": "markdown",
   "id": "5f7783f2-c059-4f98-a5c0-b98c21aff1db",
   "metadata": {},
   "source": [
    "\n",
    "### Unit vector is a vector with a magnitude of 1.Dimensions of Unit vector is calculated from a given set of vectors such that the maghnitude of unit vector is 1.\n"
   ]
  },
  {
   "cell_type": "markdown",
   "id": "3f488e81-1adf-4431-87da-008f51957f97",
   "metadata": {},
   "source": [
    "<h2 style = 'color:red;'>Now we need to find a unit vector for a given graph,such that when we project every point in a graph to the unit vector,then it results into maximum variance.</h2>"
   ]
  },
  {
   "cell_type": "markdown",
   "id": "cd311bde-fa98-4ac4-93f3-b3f073ee525c",
   "metadata": {},
   "source": [
    "<img src = 'unit_vector.png'/>"
   ]
  },
  {
   "cell_type": "markdown",
   "id": "8cc0c2dc-1984-447f-8f82-2da84aa8fa5f",
   "metadata": {},
   "source": [
    "### In above,reds are the points of vector from input features,U is the unit vector,and all the points are projected to unit vector.Unit vector must be choosen such that it offers maximum variance.Maximum variance means maximum features."
   ]
  },
  {
   "cell_type": "markdown",
   "id": "b0c682e3-a7f0-4482-ae11-dff47001825c",
   "metadata": {},
   "source": [
    "### Now each vectors ${(x_1,x_2,x_3.....x_n)}$ can be projected (means prurple line) with new representation as ${(U^{T}x_1,U^{T}x_2,U^{T}x_3.....U^{T}x_n)}$"
   ]
  },
  {
   "cell_type": "markdown",
   "id": "1c25d492-d687-4f39-96be-aa807fafc782",
   "metadata": {},
   "source": [
    "### So thus variance(before projection to unit vector) was $1/n{\\sum_{i=0}^{n} (X_i - \\bar{X})^{2}}$ which then becomes $1/n\\sum_{i=0}^{n} (U^{T}X_i - \\bar{X}U^{T})^{2}$ where ${U^{T}}$ is the projection factor\r\n",
    "\n"
   ]
  },
  {
   "cell_type": "markdown",
   "id": "7fa8d16c-4af9-4a3a-a7dc-49cec4bda349",
   "metadata": {},
   "source": [
    "### Now i have to find ${U^{T}}$ such that it have maximum variance"
   ]
  },
  {
   "cell_type": "markdown",
   "id": "dd45ee02-8e3f-4f32-b00d-430d1d049888",
   "metadata": {},
   "source": [
    "<img src = \"cov.png\">"
   ]
  },
  {
   "cell_type": "markdown",
   "id": "0140277e-7a71-439b-86f9-35a388c86711",
   "metadata": {},
   "source": [
    "### Covariance and correlation are similar concept.Covariance can be anything but correlation is within the range of 1 and -1"
   ]
  },
  {
   "cell_type": "markdown",
   "id": "107df976-8ec3-4bd7-8a4e-f0153581dec8",
   "metadata": {},
   "source": [
    "<h2 style = 'color:purple;'>Covariance matrix:</h2>"
   ]
  },
  {
   "cell_type": "markdown",
   "id": "29424b79-b46a-4571-b5a8-fa39441dcf3b",
   "metadata": {},
   "source": [
    "<img src = 'confusion_matrix.png'/>"
   ]
  },
  {
   "cell_type": "markdown",
   "id": "576f333c-d8ee-4520-bb69-832d669c0256",
   "metadata": {},
   "source": [
    "<img src = 'cv.png'/>"
   ]
  },
  {
   "cell_type": "markdown",
   "id": "1714a6c8-7f64-4e1f-b422-d495e70a097d",
   "metadata": {},
   "source": [
    "<h2 style = 'color:purple'>Eigen vector and Eigen Value</h2>"
   ]
  },
  {
   "cell_type": "markdown",
   "id": "128dbcb9-59df-4f96-87c8-32fb49f80b5c",
   "metadata": {},
   "source": [
    "### In a simple word matrix is a linear transformation value which transforms the original coordinate system such that when we plot the point in a new transformed coordinate system,then the both magnitude and direction of the point may changed.So for any given point,whose direction is same in a transformed coordinate system too but the maghnitude differs,it is called eigen vector.And a value of stretch from old vector to new one is called eigen value"
   ]
  },
  {
   "cell_type": "markdown",
   "id": "d36b1213-f2c2-4f62-9b63-adf285acff01",
   "metadata": {},
   "source": [
    "<img src = 'eigen 1.png'/>\n",
    "<img src = 'eigen 2.png'/>"
   ]
  },
  {
   "cell_type": "markdown",
   "id": "61b3059e-00a6-44b4-9e80-c291c6dbc6a0",
   "metadata": {},
   "source": [
    "<h2 style = 'color:purple;'>Why eigen value and vector are needed in PCA?</h2>"
   ]
  },
  {
   "cell_type": "markdown",
   "id": "9fdee25d-2303-4727-9fad-d2d485230e67",
   "metadata": {},
   "source": [
    "### When we calculate the eigen value and vector for a covariance matrix,then the largest eigen vector i.e. largest eigen value will be pointing toward large variance which means that we have to choose the eigen vector as unit vector which have largest eigen value(largest eigen value means vectors on which largest variance can be found).These vector is used to project all the points in the coordinate system."
   ]
  },
  {
   "cell_type": "markdown",
   "id": "ea1ea07f-06e2-4aee-a078-da221b524d18",
   "metadata": {},
   "source": [
    "<h2 style = 'color:purple;'>How PCA works in steps</h2>"
   ]
  },
  {
   "cell_type": "markdown",
   "id": "014a25ae-7813-42fd-9d33-e86577a0c0fb",
   "metadata": {},
   "source": [
    "### let us consider a input with three features and a label output"
   ]
  },
  {
   "cell_type": "markdown",
   "id": "931fbce2-003b-47ba-ac76-85a3445ba083",
   "metadata": {},
   "source": [
    "### 1) Calculating the mean center : Mean center takes all the data to the origin making the resulting mean 0 (Same as standarization) as :"
   ]
  },
  {
   "cell_type": "markdown",
   "id": "90b3c54b-d963-470a-8d68-3de59382fc38",
   "metadata": {},
   "source": [
    "<img src=\"m.png\"/>"
   ]
  },
  {
   "cell_type": "markdown",
   "id": "f076561a-5ea0-4d43-98dc-56ce6355f301",
   "metadata": {},
   "source": [
    "### 2) Find a convariance matrix for 3D features"
   ]
  },
  {
   "cell_type": "markdown",
   "id": "69b53fbc-3383-410e-82a1-0d163daf63f3",
   "metadata": {},
   "source": [
    "<img src = 'c.png'/>"
   ]
  },
  {
   "cell_type": "markdown",
   "id": "32540398-cee3-4199-bcff-3f15d7ecd167",
   "metadata": {},
   "source": [
    "### where f1,f2,f3 are input features"
   ]
  },
  {
   "cell_type": "markdown",
   "id": "39a99d38-f8cf-4b69-a423-c117a0a4a6a0",
   "metadata": {},
   "source": [
    "### 3) Find the eigen value for features and choose the largest eigen valued vector."
   ]
  },
  {
   "cell_type": "markdown",
   "id": "bb1dffa8-5707-4524-8f6e-576638a7be8f",
   "metadata": {},
   "source": [
    "### Largest eigen value become PC1,second one become PC2 and third one become PC3.Now we can represent our data in form of only 1D by taking PC1 or in 2D by raking PC1 and PC2"
   ]
  },
  {
   "cell_type": "markdown",
   "id": "2538c082-53fe-4c09-834f-2e68399d4b9f",
   "metadata": {},
   "source": [
    "<h2 style = 'color:purple;'>How to transform point in higher dimension into lower one</h2>"
   ]
  },
  {
   "cell_type": "markdown",
   "id": "9e9cf90e-26a0-44d6-b08b-6d9938acc045",
   "metadata": {},
   "source": [
    "### Let us consider above dataset with 1000 rows and three feature(1000,3) and one label.Now for converting 3D points into 1D points,we have to take 1 PC i.e. PC1 where all the input points are projected. in figure below PC1 is a vector in 3D space so its coordinates is (1,3) i.e. 1 vector in 3D space, on which all the points are to be projectted.We will be projecting all the points in PC1 by finding dot product as (1000,3).(1,3).After transpose in (1,3),it becomes (3,1).So (1000,3).(3,1) = (1000,1).Here it is 1D"
   ]
  },
  {
   "cell_type": "markdown",
   "id": "08511806-315b-486b-8a33-70999bf95275",
   "metadata": {},
   "source": [
    "<img src= 'J.png'/>"
   ]
  },
  {
   "cell_type": "markdown",
   "id": "cd3a64b4-ff51-414c-85bf-17e2b2308d4d",
   "metadata": {},
   "source": [
    "### For converting 3D points to 2D points,we have a data with (1000,3) and two PC in 3D dimension i.e. (2,3).After performing transpose on (2,3) it becomes (3,2).So we will be projecting all this point into these two PC's by finding dot product as (1000,3).(3,2) which becomes (1000,2)"
   ]
  },
  {
   "cell_type": "markdown",
   "id": "431411f9-6688-4bc5-a4cb-0e43b420d2f5",
   "metadata": {},
   "source": [
    "# CODE DEMO (dataframe contains binary numbers i.e. 0 and 1)"
   ]
  },
  {
   "cell_type": "code",
   "execution_count": 142,
   "id": "1b2f7c6e-ce65-4a0d-b763-bf075295d8ea",
   "metadata": {},
   "outputs": [],
   "source": [
    "import pandas as pd\n",
    "import numpy as np\n",
    "\n",
    "np.random.seed(43) ##This code is used to generate the same output randomly everytime the code runs.We can input anynumber here in random seed.But you have to write a code that generate the random number in this same box\n",
    "\n",
    "mean_vector1 = np.array([0,0,0]) #This specifies the mean vector which is the mean of all the vectors to be generated\n",
    "mean_vector2 = np.array([1,1,1]) #This specifies another mean vector which is the mean of all the vectors to be generated\n",
    "cov_matrix = np.array([[1, 0, 0], [0, 1, 0], [0, 0, 1]]) ## This is the covariance matrix,which defines the spread of data and relationship between axis.\n",
    "\n",
    "#If i want a 4D data to be generated,then i have to specify 4D mean and 4D of covariance\n",
    "first_20_random1 = np.random.multivariate_normal(mean_vector1,cov_matrix,20) # I want a 20 data with mean [0,0,0] and with given spread\n",
    "first_20_random2 = np.random.multivariate_normal(mean_vector2,cov_matrix,20)\n",
    "\n",
    "data = np.vstack([first_20_random1,first_20_random2])\n",
    "df = pd.DataFrame(data)\n",
    "\n",
    "\n",
    "\n",
    "target = np.hstack([np.zeros(20),np.ones(20)])\n",
    "target = pd.DataFrame(target)\n",
    "df = np.hstack([df,target])\n",
    "df = pd.DataFrame(df)\n",
    "\n",
    "df = df.rename(columns={0:'feature1',1:'feature2',2:'feature3',3:'target'})"
   ]
  },
  {
   "cell_type": "code",
   "execution_count": 144,
   "id": "a29b505f-92e0-4bdb-abe5-e8764c18c8fe",
   "metadata": {},
   "outputs": [
    {
     "data": {
      "text/html": [
       "<div>\n",
       "<style scoped>\n",
       "    .dataframe tbody tr th:only-of-type {\n",
       "        vertical-align: middle;\n",
       "    }\n",
       "\n",
       "    .dataframe tbody tr th {\n",
       "        vertical-align: top;\n",
       "    }\n",
       "\n",
       "    .dataframe thead th {\n",
       "        text-align: right;\n",
       "    }\n",
       "</style>\n",
       "<table border=\"1\" class=\"dataframe\">\n",
       "  <thead>\n",
       "    <tr style=\"text-align: right;\">\n",
       "      <th></th>\n",
       "      <th>feature1</th>\n",
       "      <th>feature2</th>\n",
       "      <th>feature3</th>\n",
       "      <th>target</th>\n",
       "    </tr>\n",
       "  </thead>\n",
       "  <tbody>\n",
       "    <tr>\n",
       "      <th>0</th>\n",
       "      <td>0.257400</td>\n",
       "      <td>-0.908481</td>\n",
       "      <td>-0.378503</td>\n",
       "      <td>0.0</td>\n",
       "    </tr>\n",
       "    <tr>\n",
       "      <th>1</th>\n",
       "      <td>-0.534916</td>\n",
       "      <td>0.858073</td>\n",
       "      <td>-0.413010</td>\n",
       "      <td>0.0</td>\n",
       "    </tr>\n",
       "    <tr>\n",
       "      <th>2</th>\n",
       "      <td>0.498189</td>\n",
       "      <td>2.010199</td>\n",
       "      <td>1.262862</td>\n",
       "      <td>0.0</td>\n",
       "    </tr>\n",
       "    <tr>\n",
       "      <th>3</th>\n",
       "      <td>-0.439215</td>\n",
       "      <td>-0.346438</td>\n",
       "      <td>0.455320</td>\n",
       "      <td>0.0</td>\n",
       "    </tr>\n",
       "    <tr>\n",
       "      <th>4</th>\n",
       "      <td>-1.668663</td>\n",
       "      <td>-0.862085</td>\n",
       "      <td>0.492911</td>\n",
       "      <td>0.0</td>\n",
       "    </tr>\n",
       "    <tr>\n",
       "      <th>5</th>\n",
       "      <td>-0.124313</td>\n",
       "      <td>1.935136</td>\n",
       "      <td>-0.618443</td>\n",
       "      <td>0.0</td>\n",
       "    </tr>\n",
       "    <tr>\n",
       "      <th>6</th>\n",
       "      <td>-1.046839</td>\n",
       "      <td>-0.889618</td>\n",
       "      <td>0.014041</td>\n",
       "      <td>0.0</td>\n",
       "    </tr>\n",
       "    <tr>\n",
       "      <th>7</th>\n",
       "      <td>-0.160830</td>\n",
       "      <td>2.230360</td>\n",
       "      <td>-0.399116</td>\n",
       "      <td>0.0</td>\n",
       "    </tr>\n",
       "    <tr>\n",
       "      <th>8</th>\n",
       "      <td>0.054445</td>\n",
       "      <td>0.884182</td>\n",
       "      <td>-0.107981</td>\n",
       "      <td>0.0</td>\n",
       "    </tr>\n",
       "    <tr>\n",
       "      <th>9</th>\n",
       "      <td>0.555607</td>\n",
       "      <td>0.394907</td>\n",
       "      <td>0.837205</td>\n",
       "      <td>0.0</td>\n",
       "    </tr>\n",
       "    <tr>\n",
       "      <th>10</th>\n",
       "      <td>-1.407878</td>\n",
       "      <td>0.807849</td>\n",
       "      <td>-0.138284</td>\n",
       "      <td>0.0</td>\n",
       "    </tr>\n",
       "    <tr>\n",
       "      <th>11</th>\n",
       "      <td>0.187179</td>\n",
       "      <td>-0.386658</td>\n",
       "      <td>1.659049</td>\n",
       "      <td>0.0</td>\n",
       "    </tr>\n",
       "    <tr>\n",
       "      <th>12</th>\n",
       "      <td>-2.047069</td>\n",
       "      <td>1.399317</td>\n",
       "      <td>-0.679007</td>\n",
       "      <td>0.0</td>\n",
       "    </tr>\n",
       "    <tr>\n",
       "      <th>13</th>\n",
       "      <td>1.528985</td>\n",
       "      <td>1.221216</td>\n",
       "      <td>1.014989</td>\n",
       "      <td>0.0</td>\n",
       "    </tr>\n",
       "    <tr>\n",
       "      <th>14</th>\n",
       "      <td>0.828130</td>\n",
       "      <td>2.266293</td>\n",
       "      <td>-0.594956</td>\n",
       "      <td>0.0</td>\n",
       "    </tr>\n",
       "    <tr>\n",
       "      <th>15</th>\n",
       "      <td>-0.581270</td>\n",
       "      <td>-0.655894</td>\n",
       "      <td>0.925149</td>\n",
       "      <td>0.0</td>\n",
       "    </tr>\n",
       "    <tr>\n",
       "      <th>16</th>\n",
       "      <td>-1.299161</td>\n",
       "      <td>1.011167</td>\n",
       "      <td>-0.288440</td>\n",
       "      <td>0.0</td>\n",
       "    </tr>\n",
       "    <tr>\n",
       "      <th>17</th>\n",
       "      <td>-1.067713</td>\n",
       "      <td>-1.077601</td>\n",
       "      <td>-0.796774</td>\n",
       "      <td>0.0</td>\n",
       "    </tr>\n",
       "    <tr>\n",
       "      <th>18</th>\n",
       "      <td>-1.486043</td>\n",
       "      <td>0.514129</td>\n",
       "      <td>0.851791</td>\n",
       "      <td>0.0</td>\n",
       "    </tr>\n",
       "    <tr>\n",
       "      <th>19</th>\n",
       "      <td>0.958673</td>\n",
       "      <td>-0.626484</td>\n",
       "      <td>0.307931</td>\n",
       "      <td>0.0</td>\n",
       "    </tr>\n",
       "    <tr>\n",
       "      <th>20</th>\n",
       "      <td>1.005206</td>\n",
       "      <td>1.691532</td>\n",
       "      <td>1.444862</td>\n",
       "      <td>1.0</td>\n",
       "    </tr>\n",
       "    <tr>\n",
       "      <th>21</th>\n",
       "      <td>1.090280</td>\n",
       "      <td>-0.858343</td>\n",
       "      <td>0.833420</td>\n",
       "      <td>1.0</td>\n",
       "    </tr>\n",
       "    <tr>\n",
       "      <th>22</th>\n",
       "      <td>1.110876</td>\n",
       "      <td>0.305227</td>\n",
       "      <td>0.730824</td>\n",
       "      <td>1.0</td>\n",
       "    </tr>\n",
       "    <tr>\n",
       "      <th>23</th>\n",
       "      <td>-0.299225</td>\n",
       "      <td>0.678895</td>\n",
       "      <td>1.505869</td>\n",
       "      <td>1.0</td>\n",
       "    </tr>\n",
       "    <tr>\n",
       "      <th>24</th>\n",
       "      <td>3.089060</td>\n",
       "      <td>-0.012709</td>\n",
       "      <td>0.976026</td>\n",
       "      <td>1.0</td>\n",
       "    </tr>\n",
       "    <tr>\n",
       "      <th>25</th>\n",
       "      <td>0.038531</td>\n",
       "      <td>0.907434</td>\n",
       "      <td>0.776268</td>\n",
       "      <td>1.0</td>\n",
       "    </tr>\n",
       "    <tr>\n",
       "      <th>26</th>\n",
       "      <td>1.832892</td>\n",
       "      <td>1.974120</td>\n",
       "      <td>1.162818</td>\n",
       "      <td>1.0</td>\n",
       "    </tr>\n",
       "    <tr>\n",
       "      <th>27</th>\n",
       "      <td>0.885508</td>\n",
       "      <td>2.186468</td>\n",
       "      <td>1.179792</td>\n",
       "      <td>1.0</td>\n",
       "    </tr>\n",
       "    <tr>\n",
       "      <th>28</th>\n",
       "      <td>2.516442</td>\n",
       "      <td>-0.634032</td>\n",
       "      <td>2.781971</td>\n",
       "      <td>1.0</td>\n",
       "    </tr>\n",
       "    <tr>\n",
       "      <th>29</th>\n",
       "      <td>0.382272</td>\n",
       "      <td>-0.086399</td>\n",
       "      <td>0.955247</td>\n",
       "      <td>1.0</td>\n",
       "    </tr>\n",
       "    <tr>\n",
       "      <th>30</th>\n",
       "      <td>-0.163702</td>\n",
       "      <td>1.568939</td>\n",
       "      <td>0.537356</td>\n",
       "      <td>1.0</td>\n",
       "    </tr>\n",
       "    <tr>\n",
       "      <th>31</th>\n",
       "      <td>1.287355</td>\n",
       "      <td>0.022661</td>\n",
       "      <td>0.777564</td>\n",
       "      <td>1.0</td>\n",
       "    </tr>\n",
       "    <tr>\n",
       "      <th>32</th>\n",
       "      <td>1.096932</td>\n",
       "      <td>0.811616</td>\n",
       "      <td>2.591602</td>\n",
       "      <td>1.0</td>\n",
       "    </tr>\n",
       "    <tr>\n",
       "      <th>33</th>\n",
       "      <td>1.585811</td>\n",
       "      <td>1.203675</td>\n",
       "      <td>-0.856521</td>\n",
       "      <td>1.0</td>\n",
       "    </tr>\n",
       "    <tr>\n",
       "      <th>34</th>\n",
       "      <td>1.378189</td>\n",
       "      <td>2.236140</td>\n",
       "      <td>0.310028</td>\n",
       "      <td>1.0</td>\n",
       "    </tr>\n",
       "    <tr>\n",
       "      <th>35</th>\n",
       "      <td>0.801645</td>\n",
       "      <td>-2.025740</td>\n",
       "      <td>-0.245626</td>\n",
       "      <td>1.0</td>\n",
       "    </tr>\n",
       "    <tr>\n",
       "      <th>36</th>\n",
       "      <td>-1.084039</td>\n",
       "      <td>1.104122</td>\n",
       "      <td>0.849767</td>\n",
       "      <td>1.0</td>\n",
       "    </tr>\n",
       "    <tr>\n",
       "      <th>37</th>\n",
       "      <td>0.894183</td>\n",
       "      <td>0.563046</td>\n",
       "      <td>2.019136</td>\n",
       "      <td>1.0</td>\n",
       "    </tr>\n",
       "    <tr>\n",
       "      <th>38</th>\n",
       "      <td>-0.232803</td>\n",
       "      <td>0.925875</td>\n",
       "      <td>1.596389</td>\n",
       "      <td>1.0</td>\n",
       "    </tr>\n",
       "    <tr>\n",
       "      <th>39</th>\n",
       "      <td>0.820607</td>\n",
       "      <td>0.909205</td>\n",
       "      <td>0.174920</td>\n",
       "      <td>1.0</td>\n",
       "    </tr>\n",
       "  </tbody>\n",
       "</table>\n",
       "</div>"
      ],
      "text/plain": [
       "    feature1  feature2  feature3  target\n",
       "0   0.257400 -0.908481 -0.378503     0.0\n",
       "1  -0.534916  0.858073 -0.413010     0.0\n",
       "2   0.498189  2.010199  1.262862     0.0\n",
       "3  -0.439215 -0.346438  0.455320     0.0\n",
       "4  -1.668663 -0.862085  0.492911     0.0\n",
       "5  -0.124313  1.935136 -0.618443     0.0\n",
       "6  -1.046839 -0.889618  0.014041     0.0\n",
       "7  -0.160830  2.230360 -0.399116     0.0\n",
       "8   0.054445  0.884182 -0.107981     0.0\n",
       "9   0.555607  0.394907  0.837205     0.0\n",
       "10 -1.407878  0.807849 -0.138284     0.0\n",
       "11  0.187179 -0.386658  1.659049     0.0\n",
       "12 -2.047069  1.399317 -0.679007     0.0\n",
       "13  1.528985  1.221216  1.014989     0.0\n",
       "14  0.828130  2.266293 -0.594956     0.0\n",
       "15 -0.581270 -0.655894  0.925149     0.0\n",
       "16 -1.299161  1.011167 -0.288440     0.0\n",
       "17 -1.067713 -1.077601 -0.796774     0.0\n",
       "18 -1.486043  0.514129  0.851791     0.0\n",
       "19  0.958673 -0.626484  0.307931     0.0\n",
       "20  1.005206  1.691532  1.444862     1.0\n",
       "21  1.090280 -0.858343  0.833420     1.0\n",
       "22  1.110876  0.305227  0.730824     1.0\n",
       "23 -0.299225  0.678895  1.505869     1.0\n",
       "24  3.089060 -0.012709  0.976026     1.0\n",
       "25  0.038531  0.907434  0.776268     1.0\n",
       "26  1.832892  1.974120  1.162818     1.0\n",
       "27  0.885508  2.186468  1.179792     1.0\n",
       "28  2.516442 -0.634032  2.781971     1.0\n",
       "29  0.382272 -0.086399  0.955247     1.0\n",
       "30 -0.163702  1.568939  0.537356     1.0\n",
       "31  1.287355  0.022661  0.777564     1.0\n",
       "32  1.096932  0.811616  2.591602     1.0\n",
       "33  1.585811  1.203675 -0.856521     1.0\n",
       "34  1.378189  2.236140  0.310028     1.0\n",
       "35  0.801645 -2.025740 -0.245626     1.0\n",
       "36 -1.084039  1.104122  0.849767     1.0\n",
       "37  0.894183  0.563046  2.019136     1.0\n",
       "38 -0.232803  0.925875  1.596389     1.0\n",
       "39  0.820607  0.909205  0.174920     1.0"
      ]
     },
     "execution_count": 144,
     "metadata": {},
     "output_type": "execute_result"
    }
   ],
   "source": [
    "df"
   ]
  },
  {
   "cell_type": "markdown",
   "id": "6ac0bf7c-a04c-4af7-bc86-409e7411402a",
   "metadata": {},
   "source": [
    "### 1) Applying standarization"
   ]
  },
  {
   "cell_type": "code",
   "execution_count": 147,
   "id": "d2de3922-fe63-4fa8-add9-619565bfd010",
   "metadata": {},
   "outputs": [],
   "source": [
    "from sklearn.preprocessing import StandardScaler\n",
    "from sklearn.model_selection import train_test_split\n",
    "ss = StandardScaler()\n",
    "\n",
    "X = df.drop(['target'],axis=1)\n",
    "Y = df['target']\n",
    "\n",
    "X_train,X_test,Y_train,Y_test = train_test_split(X,Y,test_size=0.2,random_state=3)"
   ]
  },
  {
   "cell_type": "code",
   "execution_count": 149,
   "id": "04681382-9c7b-4b65-9069-4787ad3a93f3",
   "metadata": {},
   "outputs": [
    {
     "data": {
      "text/plain": [
       "((32, 3), (8, 3), (32,), (8,))"
      ]
     },
     "execution_count": 149,
     "metadata": {},
     "output_type": "execute_result"
    }
   ],
   "source": [
    "X_train.shape , X_test.shape, Y_train.shape,Y_test.shape"
   ]
  },
  {
   "cell_type": "code",
   "execution_count": 151,
   "id": "72d14a3b-a282-41f0-aaab-490d5d4a1e97",
   "metadata": {},
   "outputs": [],
   "source": [
    "X_train = ss.fit_transform(X_train)\n",
    "X_test = ss.transform(X_test)"
   ]
  },
  {
   "cell_type": "markdown",
   "id": "6d7e88b1-2466-4531-b346-a10af17472a6",
   "metadata": {},
   "source": [
    "### 2) Find Covariance Matrix"
   ]
  },
  {
   "cell_type": "code",
   "execution_count": 154,
   "id": "c800740f-d40f-4de4-96b2-2acd59af91ec",
   "metadata": {},
   "outputs": [
    {
     "data": {
      "text/plain": [
       "array([[ 1.32920211,  0.08443429,  0.41260965],\n",
       "       [ 0.08443429,  1.20547332, -0.04256365],\n",
       "       [ 0.41260965, -0.04256365,  0.80054873]])"
      ]
     },
     "execution_count": 154,
     "metadata": {},
     "output_type": "execute_result"
    }
   ],
   "source": [
    "cov_matrix = np.cov([df.iloc[:,0],df.iloc[:,1],df.iloc[:,2]])\n",
    "cov_matrix"
   ]
  },
  {
   "cell_type": "markdown",
   "id": "60039f5b-8ecc-4c26-bd22-eafe65b1194c",
   "metadata": {},
   "source": [
    "### 3) Finding an eigen value and eigen vector"
   ]
  },
  {
   "cell_type": "code",
   "execution_count": 157,
   "id": "462e4ff6-1b24-4af4-afa6-20d22a8bbd2d",
   "metadata": {},
   "outputs": [],
   "source": [
    "eigen_values ,eigen_vector = np.linalg.eig(cov_matrix)"
   ]
  },
  {
   "cell_type": "code",
   "execution_count": 159,
   "id": "2aa81fed-48d8-44b4-ab76-abb5119c2e01",
   "metadata": {},
   "outputs": [
    {
     "data": {
      "text/plain": [
       "array([0.56534603, 1.56308079, 1.20679733])"
      ]
     },
     "execution_count": 159,
     "metadata": {},
     "output_type": "execute_result"
    }
   ],
   "source": [
    "eigen_values"
   ]
  },
  {
   "cell_type": "code",
   "execution_count": 161,
   "id": "405521f8-ebd0-4257-8d5b-fa067c247305",
   "metadata": {},
   "outputs": [
    {
     "data": {
      "text/plain": [
       "array([[-0.48209894,  0.87293013,  0.07465662],\n",
       "       [ 0.12128426,  0.15088872, -0.98108242],\n",
       "       [ 0.86768125,  0.46392412,  0.17861597]])"
      ]
     },
     "execution_count": 161,
     "metadata": {},
     "output_type": "execute_result"
    }
   ],
   "source": [
    "eigen_vector"
   ]
  },
  {
   "cell_type": "code",
   "execution_count": 163,
   "id": "7114578e-69a8-4db6-9c50-c5866166f2a2",
   "metadata": {},
   "outputs": [],
   "source": [
    "pc = eigen_vector[0:2]"
   ]
  },
  {
   "cell_type": "code",
   "execution_count": 165,
   "id": "18d2b634-fea9-424f-b8b0-305f2d99b8b0",
   "metadata": {},
   "outputs": [
    {
     "data": {
      "text/plain": [
       "array([[-0.48209894,  0.87293013,  0.07465662],\n",
       "       [ 0.12128426,  0.15088872, -0.98108242]])"
      ]
     },
     "execution_count": 165,
     "metadata": {},
     "output_type": "execute_result"
    }
   ],
   "source": [
    "pc"
   ]
  },
  {
   "cell_type": "markdown",
   "id": "ad527e60-327f-4950-ade0-8def151204fb",
   "metadata": {},
   "source": [
    "### Now PC is i coordinate of (2,3) which is (3,2) after transpose.And we have input feature as (1000,3)."
   ]
  },
  {
   "cell_type": "code",
   "execution_count": 168,
   "id": "adf2b8bf-ded7-405b-8945-5f769d00e838",
   "metadata": {},
   "outputs": [],
   "source": [
    "input_feature = df.iloc[:,0:3]\n",
    "pc = pc.T #Performing transpose\n",
    "\n",
    "transformed_df = np.dot(input_feature,pc)\n",
    "# (1000,3).(3,2)"
   ]
  },
  {
   "cell_type": "code",
   "execution_count": 170,
   "id": "aa3e1318-77ab-450a-ae58-20691a287542",
   "metadata": {},
   "outputs": [
    {
     "data": {
      "text/plain": [
       "array([[-0.9453908 ,  0.26548171],\n",
       "       [ 0.97608639,  0.46979358],\n",
       "       [ 1.60886827, -0.87523244],\n",
       "       [-0.05667843, -0.55224953],\n",
       "       [ 0.08871917, -0.81604767],\n",
       "       [ 1.70299928,  0.88365619],\n",
       "       [-0.27084581, -0.27497327],\n",
       "       [ 1.99468732,  0.70859542],\n",
       "       [ 0.73751981,  0.24595416],\n",
       "       [ 0.13937126, -0.6943938 ],\n",
       "       [ 1.37360887,  0.08680955],\n",
       "       [-0.30390517, -1.66330408],\n",
       "       [ 2.15770343,  0.62902583],\n",
       "       [ 0.40468971, -0.62607785],\n",
       "       [ 1.53465722,  1.02609769],\n",
       "       [-0.22325185, -1.07711315],\n",
       "       [ 1.48746835,  0.27798944],\n",
       "       [-0.48541139,  0.48960613],\n",
       "       [ 1.22880986, -0.93833439],\n",
       "       [-0.98606316, -0.28036308],\n",
       "       [ 1.09984909, -1.04038016],\n",
       "       [-1.21267566, -0.81493418],\n",
       "       [-0.21454933, -0.53621181],\n",
       "       [ 0.8493067 , -1.41123513],\n",
       "       [-1.42745983, -0.58482526],\n",
       "       [ 0.83150412, -0.61998809],\n",
       "       [ 0.92644516, -0.62064711],\n",
       "       [ 1.56981096, -0.72016125],\n",
       "       [-1.55894694, -2.51980627],\n",
       "       [-0.18839813, -0.90384879],\n",
       "       [ 1.48861251, -0.31030993],\n",
       "       [-0.54280053, -0.60329888],\n",
       "       [ 0.37313437, -2.28707112],\n",
       "       [ 0.22226186,  1.21427233],\n",
       "       [ 1.31071623,  0.20039782],\n",
       "       [-2.17313934,  0.03254524],\n",
       "       [ 1.54987602, -0.79856841],\n",
       "       [ 0.21115667, -1.7875315 ],\n",
       "       [ 1.03963979, -1.45472057],\n",
       "       [ 0.41111737,  0.06510423]])"
      ]
     },
     "execution_count": 170,
     "metadata": {},
     "output_type": "execute_result"
    }
   ],
   "source": [
    "transformed_df"
   ]
  },
  {
   "cell_type": "code",
   "execution_count": 176,
   "id": "27ce3403-d852-4e74-bae5-3ee060b77178",
   "metadata": {},
   "outputs": [],
   "source": [
    "new_df = pd.DataFrame(transformed_df,columns=['PC1','PC2'])"
   ]
  },
  {
   "cell_type": "code",
   "execution_count": 180,
   "id": "39873580-064c-4451-b89e-5cd18405168e",
   "metadata": {},
   "outputs": [
    {
     "data": {
      "text/html": [
       "<div>\n",
       "<style scoped>\n",
       "    .dataframe tbody tr th:only-of-type {\n",
       "        vertical-align: middle;\n",
       "    }\n",
       "\n",
       "    .dataframe tbody tr th {\n",
       "        vertical-align: top;\n",
       "    }\n",
       "\n",
       "    .dataframe thead th {\n",
       "        text-align: right;\n",
       "    }\n",
       "</style>\n",
       "<table border=\"1\" class=\"dataframe\">\n",
       "  <thead>\n",
       "    <tr style=\"text-align: right;\">\n",
       "      <th></th>\n",
       "      <th>PC1</th>\n",
       "      <th>PC2</th>\n",
       "    </tr>\n",
       "  </thead>\n",
       "  <tbody>\n",
       "    <tr>\n",
       "      <th>0</th>\n",
       "      <td>-0.945391</td>\n",
       "      <td>0.265482</td>\n",
       "    </tr>\n",
       "    <tr>\n",
       "      <th>1</th>\n",
       "      <td>0.976086</td>\n",
       "      <td>0.469794</td>\n",
       "    </tr>\n",
       "    <tr>\n",
       "      <th>2</th>\n",
       "      <td>1.608868</td>\n",
       "      <td>-0.875232</td>\n",
       "    </tr>\n",
       "    <tr>\n",
       "      <th>3</th>\n",
       "      <td>-0.056678</td>\n",
       "      <td>-0.552250</td>\n",
       "    </tr>\n",
       "    <tr>\n",
       "      <th>4</th>\n",
       "      <td>0.088719</td>\n",
       "      <td>-0.816048</td>\n",
       "    </tr>\n",
       "  </tbody>\n",
       "</table>\n",
       "</div>"
      ],
      "text/plain": [
       "        PC1       PC2\n",
       "0 -0.945391  0.265482\n",
       "1  0.976086  0.469794\n",
       "2  1.608868 -0.875232\n",
       "3 -0.056678 -0.552250\n",
       "4  0.088719 -0.816048"
      ]
     },
     "execution_count": 180,
     "metadata": {},
     "output_type": "execute_result"
    }
   ],
   "source": [
    "new_df.head()"
   ]
  },
  {
   "cell_type": "code",
   "execution_count": 182,
   "id": "e5d9d2ca-fcde-444a-8858-dbb9fd261f8c",
   "metadata": {},
   "outputs": [],
   "source": [
    "new_df['target'] = df['target']"
   ]
  },
  {
   "cell_type": "code",
   "execution_count": 184,
   "id": "09cba835-af52-4088-98ba-4837cf491278",
   "metadata": {},
   "outputs": [
    {
     "data": {
      "text/html": [
       "<div>\n",
       "<style scoped>\n",
       "    .dataframe tbody tr th:only-of-type {\n",
       "        vertical-align: middle;\n",
       "    }\n",
       "\n",
       "    .dataframe tbody tr th {\n",
       "        vertical-align: top;\n",
       "    }\n",
       "\n",
       "    .dataframe thead th {\n",
       "        text-align: right;\n",
       "    }\n",
       "</style>\n",
       "<table border=\"1\" class=\"dataframe\">\n",
       "  <thead>\n",
       "    <tr style=\"text-align: right;\">\n",
       "      <th></th>\n",
       "      <th>PC1</th>\n",
       "      <th>PC2</th>\n",
       "      <th>target</th>\n",
       "    </tr>\n",
       "  </thead>\n",
       "  <tbody>\n",
       "    <tr>\n",
       "      <th>0</th>\n",
       "      <td>-0.945391</td>\n",
       "      <td>0.265482</td>\n",
       "      <td>0.0</td>\n",
       "    </tr>\n",
       "    <tr>\n",
       "      <th>1</th>\n",
       "      <td>0.976086</td>\n",
       "      <td>0.469794</td>\n",
       "      <td>0.0</td>\n",
       "    </tr>\n",
       "    <tr>\n",
       "      <th>2</th>\n",
       "      <td>1.608868</td>\n",
       "      <td>-0.875232</td>\n",
       "      <td>0.0</td>\n",
       "    </tr>\n",
       "    <tr>\n",
       "      <th>3</th>\n",
       "      <td>-0.056678</td>\n",
       "      <td>-0.552250</td>\n",
       "      <td>0.0</td>\n",
       "    </tr>\n",
       "    <tr>\n",
       "      <th>4</th>\n",
       "      <td>0.088719</td>\n",
       "      <td>-0.816048</td>\n",
       "      <td>0.0</td>\n",
       "    </tr>\n",
       "    <tr>\n",
       "      <th>5</th>\n",
       "      <td>1.702999</td>\n",
       "      <td>0.883656</td>\n",
       "      <td>0.0</td>\n",
       "    </tr>\n",
       "    <tr>\n",
       "      <th>6</th>\n",
       "      <td>-0.270846</td>\n",
       "      <td>-0.274973</td>\n",
       "      <td>0.0</td>\n",
       "    </tr>\n",
       "    <tr>\n",
       "      <th>7</th>\n",
       "      <td>1.994687</td>\n",
       "      <td>0.708595</td>\n",
       "      <td>0.0</td>\n",
       "    </tr>\n",
       "    <tr>\n",
       "      <th>8</th>\n",
       "      <td>0.737520</td>\n",
       "      <td>0.245954</td>\n",
       "      <td>0.0</td>\n",
       "    </tr>\n",
       "    <tr>\n",
       "      <th>9</th>\n",
       "      <td>0.139371</td>\n",
       "      <td>-0.694394</td>\n",
       "      <td>0.0</td>\n",
       "    </tr>\n",
       "    <tr>\n",
       "      <th>10</th>\n",
       "      <td>1.373609</td>\n",
       "      <td>0.086810</td>\n",
       "      <td>0.0</td>\n",
       "    </tr>\n",
       "    <tr>\n",
       "      <th>11</th>\n",
       "      <td>-0.303905</td>\n",
       "      <td>-1.663304</td>\n",
       "      <td>0.0</td>\n",
       "    </tr>\n",
       "    <tr>\n",
       "      <th>12</th>\n",
       "      <td>2.157703</td>\n",
       "      <td>0.629026</td>\n",
       "      <td>0.0</td>\n",
       "    </tr>\n",
       "    <tr>\n",
       "      <th>13</th>\n",
       "      <td>0.404690</td>\n",
       "      <td>-0.626078</td>\n",
       "      <td>0.0</td>\n",
       "    </tr>\n",
       "    <tr>\n",
       "      <th>14</th>\n",
       "      <td>1.534657</td>\n",
       "      <td>1.026098</td>\n",
       "      <td>0.0</td>\n",
       "    </tr>\n",
       "    <tr>\n",
       "      <th>15</th>\n",
       "      <td>-0.223252</td>\n",
       "      <td>-1.077113</td>\n",
       "      <td>0.0</td>\n",
       "    </tr>\n",
       "    <tr>\n",
       "      <th>16</th>\n",
       "      <td>1.487468</td>\n",
       "      <td>0.277989</td>\n",
       "      <td>0.0</td>\n",
       "    </tr>\n",
       "    <tr>\n",
       "      <th>17</th>\n",
       "      <td>-0.485411</td>\n",
       "      <td>0.489606</td>\n",
       "      <td>0.0</td>\n",
       "    </tr>\n",
       "    <tr>\n",
       "      <th>18</th>\n",
       "      <td>1.228810</td>\n",
       "      <td>-0.938334</td>\n",
       "      <td>0.0</td>\n",
       "    </tr>\n",
       "    <tr>\n",
       "      <th>19</th>\n",
       "      <td>-0.986063</td>\n",
       "      <td>-0.280363</td>\n",
       "      <td>0.0</td>\n",
       "    </tr>\n",
       "    <tr>\n",
       "      <th>20</th>\n",
       "      <td>1.099849</td>\n",
       "      <td>-1.040380</td>\n",
       "      <td>1.0</td>\n",
       "    </tr>\n",
       "    <tr>\n",
       "      <th>21</th>\n",
       "      <td>-1.212676</td>\n",
       "      <td>-0.814934</td>\n",
       "      <td>1.0</td>\n",
       "    </tr>\n",
       "    <tr>\n",
       "      <th>22</th>\n",
       "      <td>-0.214549</td>\n",
       "      <td>-0.536212</td>\n",
       "      <td>1.0</td>\n",
       "    </tr>\n",
       "    <tr>\n",
       "      <th>23</th>\n",
       "      <td>0.849307</td>\n",
       "      <td>-1.411235</td>\n",
       "      <td>1.0</td>\n",
       "    </tr>\n",
       "    <tr>\n",
       "      <th>24</th>\n",
       "      <td>-1.427460</td>\n",
       "      <td>-0.584825</td>\n",
       "      <td>1.0</td>\n",
       "    </tr>\n",
       "    <tr>\n",
       "      <th>25</th>\n",
       "      <td>0.831504</td>\n",
       "      <td>-0.619988</td>\n",
       "      <td>1.0</td>\n",
       "    </tr>\n",
       "    <tr>\n",
       "      <th>26</th>\n",
       "      <td>0.926445</td>\n",
       "      <td>-0.620647</td>\n",
       "      <td>1.0</td>\n",
       "    </tr>\n",
       "    <tr>\n",
       "      <th>27</th>\n",
       "      <td>1.569811</td>\n",
       "      <td>-0.720161</td>\n",
       "      <td>1.0</td>\n",
       "    </tr>\n",
       "    <tr>\n",
       "      <th>28</th>\n",
       "      <td>-1.558947</td>\n",
       "      <td>-2.519806</td>\n",
       "      <td>1.0</td>\n",
       "    </tr>\n",
       "    <tr>\n",
       "      <th>29</th>\n",
       "      <td>-0.188398</td>\n",
       "      <td>-0.903849</td>\n",
       "      <td>1.0</td>\n",
       "    </tr>\n",
       "    <tr>\n",
       "      <th>30</th>\n",
       "      <td>1.488613</td>\n",
       "      <td>-0.310310</td>\n",
       "      <td>1.0</td>\n",
       "    </tr>\n",
       "    <tr>\n",
       "      <th>31</th>\n",
       "      <td>-0.542801</td>\n",
       "      <td>-0.603299</td>\n",
       "      <td>1.0</td>\n",
       "    </tr>\n",
       "    <tr>\n",
       "      <th>32</th>\n",
       "      <td>0.373134</td>\n",
       "      <td>-2.287071</td>\n",
       "      <td>1.0</td>\n",
       "    </tr>\n",
       "    <tr>\n",
       "      <th>33</th>\n",
       "      <td>0.222262</td>\n",
       "      <td>1.214272</td>\n",
       "      <td>1.0</td>\n",
       "    </tr>\n",
       "    <tr>\n",
       "      <th>34</th>\n",
       "      <td>1.310716</td>\n",
       "      <td>0.200398</td>\n",
       "      <td>1.0</td>\n",
       "    </tr>\n",
       "    <tr>\n",
       "      <th>35</th>\n",
       "      <td>-2.173139</td>\n",
       "      <td>0.032545</td>\n",
       "      <td>1.0</td>\n",
       "    </tr>\n",
       "    <tr>\n",
       "      <th>36</th>\n",
       "      <td>1.549876</td>\n",
       "      <td>-0.798568</td>\n",
       "      <td>1.0</td>\n",
       "    </tr>\n",
       "    <tr>\n",
       "      <th>37</th>\n",
       "      <td>0.211157</td>\n",
       "      <td>-1.787531</td>\n",
       "      <td>1.0</td>\n",
       "    </tr>\n",
       "    <tr>\n",
       "      <th>38</th>\n",
       "      <td>1.039640</td>\n",
       "      <td>-1.454721</td>\n",
       "      <td>1.0</td>\n",
       "    </tr>\n",
       "    <tr>\n",
       "      <th>39</th>\n",
       "      <td>0.411117</td>\n",
       "      <td>0.065104</td>\n",
       "      <td>1.0</td>\n",
       "    </tr>\n",
       "  </tbody>\n",
       "</table>\n",
       "</div>"
      ],
      "text/plain": [
       "         PC1       PC2  target\n",
       "0  -0.945391  0.265482     0.0\n",
       "1   0.976086  0.469794     0.0\n",
       "2   1.608868 -0.875232     0.0\n",
       "3  -0.056678 -0.552250     0.0\n",
       "4   0.088719 -0.816048     0.0\n",
       "5   1.702999  0.883656     0.0\n",
       "6  -0.270846 -0.274973     0.0\n",
       "7   1.994687  0.708595     0.0\n",
       "8   0.737520  0.245954     0.0\n",
       "9   0.139371 -0.694394     0.0\n",
       "10  1.373609  0.086810     0.0\n",
       "11 -0.303905 -1.663304     0.0\n",
       "12  2.157703  0.629026     0.0\n",
       "13  0.404690 -0.626078     0.0\n",
       "14  1.534657  1.026098     0.0\n",
       "15 -0.223252 -1.077113     0.0\n",
       "16  1.487468  0.277989     0.0\n",
       "17 -0.485411  0.489606     0.0\n",
       "18  1.228810 -0.938334     0.0\n",
       "19 -0.986063 -0.280363     0.0\n",
       "20  1.099849 -1.040380     1.0\n",
       "21 -1.212676 -0.814934     1.0\n",
       "22 -0.214549 -0.536212     1.0\n",
       "23  0.849307 -1.411235     1.0\n",
       "24 -1.427460 -0.584825     1.0\n",
       "25  0.831504 -0.619988     1.0\n",
       "26  0.926445 -0.620647     1.0\n",
       "27  1.569811 -0.720161     1.0\n",
       "28 -1.558947 -2.519806     1.0\n",
       "29 -0.188398 -0.903849     1.0\n",
       "30  1.488613 -0.310310     1.0\n",
       "31 -0.542801 -0.603299     1.0\n",
       "32  0.373134 -2.287071     1.0\n",
       "33  0.222262  1.214272     1.0\n",
       "34  1.310716  0.200398     1.0\n",
       "35 -2.173139  0.032545     1.0\n",
       "36  1.549876 -0.798568     1.0\n",
       "37  0.211157 -1.787531     1.0\n",
       "38  1.039640 -1.454721     1.0\n",
       "39  0.411117  0.065104     1.0"
      ]
     },
     "execution_count": 184,
     "metadata": {},
     "output_type": "execute_result"
    }
   ],
   "source": [
    "new_df"
   ]
  },
  {
   "cell_type": "markdown",
   "id": "9d4a8446-21b2-4f21-9d49-36d8688d13a1",
   "metadata": {},
   "source": [
    "### Here we have converted 3D feature into 2D using PCA by capturing the important feature"
   ]
  },
  {
   "cell_type": "code",
   "execution_count": null,
   "id": "e9fc892d-7d98-45c7-9543-b47c9a3dc360",
   "metadata": {},
   "outputs": [],
   "source": []
  }
 ],
 "metadata": {
  "kernelspec": {
   "display_name": "Python 3 (ipykernel)",
   "language": "python",
   "name": "python3"
  },
  "language_info": {
   "codemirror_mode": {
    "name": "ipython",
    "version": 3
   },
   "file_extension": ".py",
   "mimetype": "text/x-python",
   "name": "python",
   "nbconvert_exporter": "python",
   "pygments_lexer": "ipython3",
   "version": "3.12.4"
  }
 },
 "nbformat": 4,
 "nbformat_minor": 5
}
