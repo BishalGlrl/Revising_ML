{
 "cells": [
  {
   "cell_type": "markdown",
   "id": "86cef1cc-3443-4e6c-b345-1617a8c43a18",
   "metadata": {},
   "source": [
    "## Following are some ways of handling missing data:"
   ]
  },
  {
   "cell_type": "markdown",
   "id": "3458489d-9570-4e84-afb6-5a09fdae4c8e",
   "metadata": {},
   "source": [
    "# 1)Complete Case Analysis(Completely removing the row of missing data)"
   ]
  },
  {
   "cell_type": "markdown",
   "id": "cb435279-54c9-4ea4-92b2-911020e554d9",
   "metadata": {},
   "source": [
    "###           This method is applied when the less then 5% values are randomly missing and arenot missing continuosly i.e.(1000 ota data ma bich tira randomly miss vayeko x vaney matra).Continuos missing means lagatar miss vayeko i.e. (suru ko 50 ota xainah or bich tira lagatar 50 ota data xainah or last ko 50 ota xainah).In such continous case we will not be dropping the whole  row as it will be causing data distribution inconsistency in data"
   ]
  },
  {
   "cell_type": "markdown",
   "id": "3d893f9d-728f-458e-9e4e-4129ee8095af",
   "metadata": {},
   "source": [
    "### pd.dropna(['column_name'],axis = 1)"
   ]
  },
  {
   "cell_type": "code",
   "execution_count": null,
   "id": "ff25fc64-0bf8-4260-ad04-7afd6f77492b",
   "metadata": {},
   "outputs": [],
   "source": []
  }
 ],
 "metadata": {
  "kernelspec": {
   "display_name": "Python 3 (ipykernel)",
   "language": "python",
   "name": "python3"
  },
  "language_info": {
   "codemirror_mode": {
    "name": "ipython",
    "version": 3
   },
   "file_extension": ".py",
   "mimetype": "text/x-python",
   "name": "python",
   "nbconvert_exporter": "python",
   "pygments_lexer": "ipython3",
   "version": "3.12.4"
  }
 },
 "nbformat": 4,
 "nbformat_minor": 5
}
