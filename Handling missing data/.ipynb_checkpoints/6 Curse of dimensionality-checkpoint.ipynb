{
 "cells": [
  {
   "cell_type": "markdown",
   "id": "5c15d01b-0a27-4c91-b108-7002506f8661",
   "metadata": {},
   "source": [
    "## When the data have more feature than needed or less feature than needed then it can lead to curse of dimensionality"
   ]
  },
  {
   "cell_type": "markdown",
   "id": "37af8aa9-36ca-4e36-bfea-dff152150cdf",
   "metadata": {},
   "source": [
    "<img src = '1.png' height = '300' width = '300'/>"
   ]
  },
  {
   "cell_type": "markdown",
   "id": "7b76c327-1584-48e4-8ea8-ac86d7ade1fe",
   "metadata": {},
   "source": [
    "### Above image has less feature than needed which is not enough"
   ]
  },
  {
   "cell_type": "markdown",
   "id": "cd01ff85-6916-45db-989b-f54b4a0ceafd",
   "metadata": {},
   "source": [
    "<img src='2.png' height='300' width= '300'/>"
   ]
  },
  {
   "cell_type": "markdown",
   "id": "3e51ac95-ba2c-459a-a1bc-054781aae9d7",
   "metadata": {},
   "source": [
    "### Above image has more feature than needed,hence it includes unnecessary computation introducing curse of dimensionality"
   ]
  },
  {
   "cell_type": "markdown",
   "id": "fe27c0ed-5f44-4f83-a93c-332f3dfabab2",
   "metadata": {},
   "source": [
    "<img src=\"3.png\" height='300' width = '300'/>"
   ]
  },
  {
   "cell_type": "markdown",
   "id": "59c47504-8364-4fca-bb16-32aabf9b791b",
   "metadata": {},
   "source": [
    "### This image have feature as needed which is suitable"
   ]
  },
  {
   "cell_type": "markdown",
   "id": "1ae5fffd-9972-4275-ada7-ddc5e3d3c7fc",
   "metadata": {},
   "source": [
    "<h2 style='color:purple;'>Curse of dimensionality can be reduced by applying dimension reduction which can be dont with following methods</h2>"
   ]
  },
  {
   "cell_type": "markdown",
   "id": "9c208724-a06b-49dd-b251-114108d0d176",
   "metadata": {},
   "source": [
    "<img src='types.png' />"
   ]
  },
  {
   "cell_type": "code",
   "execution_count": null,
   "id": "e5c77ea0-fdb1-489b-b372-d4ee7b2460b4",
   "metadata": {},
   "outputs": [],
   "source": []
  }
 ],
 "metadata": {
  "kernelspec": {
   "display_name": "Python 3 (ipykernel)",
   "language": "python",
   "name": "python3"
  },
  "language_info": {
   "codemirror_mode": {
    "name": "ipython",
    "version": 3
   },
   "file_extension": ".py",
   "mimetype": "text/x-python",
   "name": "python",
   "nbconvert_exporter": "python",
   "pygments_lexer": "ipython3",
   "version": "3.12.4"
  }
 },
 "nbformat": 4,
 "nbformat_minor": 5
}
