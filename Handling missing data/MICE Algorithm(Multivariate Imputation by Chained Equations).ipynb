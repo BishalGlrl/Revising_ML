{
 "cells": [
  {
   "cell_type": "markdown",
   "id": "eff70691-3411-4f31-9f60-e2eb954f938b",
   "metadata": {},
   "source": [
    "## MICE ALGORITHM IS USED TO FILL MISSING VALUE IN DATASET"
   ]
  },
  {
   "cell_type": "markdown",
   "id": "9e616464-8482-4715-9756-100f8f7711da",
   "metadata": {},
   "source": [
    "## Missing data are basically categorized into threee types :"
   ]
  },
  {
   "cell_type": "markdown",
   "id": "813b158f-e81e-46f4-818a-2567b35c7123",
   "metadata": {},
   "source": [
    "<img src = 'Missing data.png'/>"
   ]
  },
  {
   "cell_type": "markdown",
   "id": "5ffc8d7c-1fca-4180-a42c-70771fb82fc9",
   "metadata": {},
   "source": [
    "## MICE algorithm can be applied to MAR"
   ]
  },
  {
   "cell_type": "code",
   "execution_count": null,
   "id": "814a7b9f-bbdd-4a68-9b32-5e4894ed3dcc",
   "metadata": {},
   "outputs": [],
   "source": []
  }
 ],
 "metadata": {
  "kernelspec": {
   "display_name": "Python 3 (ipykernel)",
   "language": "python",
   "name": "python3"
  },
  "language_info": {
   "codemirror_mode": {
    "name": "ipython",
    "version": 3
   },
   "file_extension": ".py",
   "mimetype": "text/x-python",
   "name": "python",
   "nbconvert_exporter": "python",
   "pygments_lexer": "ipython3",
   "version": "3.12.4"
  }
 },
 "nbformat": 4,
 "nbformat_minor": 5
}
