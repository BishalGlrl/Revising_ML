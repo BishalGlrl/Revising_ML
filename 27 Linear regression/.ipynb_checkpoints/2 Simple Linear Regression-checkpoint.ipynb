{
 "cells": [
  {
   "cell_type": "markdown",
   "id": "cf15144a-89ab-46ea-ae50-c1e0ed04d92b",
   "metadata": {},
   "source": [
    "### Instead of directly using model to classify the input label which can be inaccurate as dimension of our input features increases, we can use other methods for applying linear regression like OLS by importing \"LinearRegression\" or using Gradient Descent by importing \"SDGRegresser\".OLS is suitable for a input with less number of dimension whereas Gradient Descent is suitable for input with higher number of features"
   ]
  },
  {
   "cell_type": "code",
   "execution_count": 225,
   "id": "18d0b5bf-950b-43c7-b1e5-b8100005655a",
   "metadata": {},
   "outputs": [],
   "source": [
    "class Merolinear:\n",
    "    def fit(self,X_train,Y_train):\n",
    "        X_train = X_train.values\n",
    "        Y_train = Y_train.values\n",
    "        num = 0\n",
    "        den = 0\n",
    "        for i in range(X_train.shape[0]): #X_train.shape typically returns a tuple (n_samples, n_features),so we want only no of samples so we did X_train.shape[0]\n",
    "            # print(X_train[i])\n",
    "            num = num + (X_train[i]-X_train.mean())*(Y_train[i]-Y_train.mean())\n",
    "            den = den + ((X_train[i] - X_train.mean())*(X_train[i] - X_train.mean()))\n",
    "        self.m = num/den\n",
    "        print (\",\",num,den)\n",
    "        self.b = Y_train.mean() - self.m *(X_train.mean())\n",
    "        print(self.m)\n",
    "        print(self.b)\n",
    "        \n",
    "        \n",
    "    def predict(self,X_test):\n",
    "        # if  type(X_test)== 'numpy.float64':\n",
    "        X_test = X_test.values\n",
    "        if range(X_test.shape[0]) == 1:\n",
    "            return self.m * X_test[i] + self.b\n",
    "        else :\n",
    "            y = []\n",
    "            for i in range(X_test.shape[0]):\n",
    "                x = self.m * X_test[i] + self.b\n",
    "                y.append(x)\n",
    "            print (y)\n",
    "    def __init__(self):\n",
    "        self.m = None\n",
    "        self.b = None\n",
    "        \n",
    "        "
   ]
  },
  {
   "cell_type": "code",
   "execution_count": 13,
   "id": "24557a15-426c-46ea-9f34-b7dfc2e6a65e",
   "metadata": {},
   "outputs": [],
   "source": [
    "import pandas as pd\n",
    "import numpy as np\n",
    "\n",
    "df = pd.read_csv('placement.csv')"
   ]
  },
  {
   "cell_type": "code",
   "execution_count": 19,
   "id": "03362d20-7026-44c7-8aa3-6f0ea07eb7a4",
   "metadata": {},
   "outputs": [],
   "source": [
    "from sklearn.model_selection import train_test_split\n",
    "X = df.iloc[:,0]\n",
    "Y = df.iloc[:,-1:]\n",
    "X_train,X_test,Y_train,Y_test = train_test_split(X,Y,test_size=0.2,random_state=34)"
   ]
  },
  {
   "cell_type": "code",
   "execution_count": 25,
   "id": "90be227a-28b7-49ee-a771-9260a496e8a0",
   "metadata": {},
   "outputs": [
    {
     "data": {
      "text/plain": [
       "((160,), (40,), (200, 2))"
      ]
     },
     "execution_count": 25,
     "metadata": {},
     "output_type": "execute_result"
    }
   ],
   "source": [
    "X_train.shape,X_test.shape,df.shape"
   ]
  },
  {
   "cell_type": "code",
   "execution_count": 227,
   "id": "b31164be-15ee-4c36-b444-1c6265592213",
   "metadata": {},
   "outputs": [],
   "source": [
    "lr = Merolinear()"
   ]
  },
  {
   "cell_type": "code",
   "execution_count": 229,
   "id": "e6f26132-4dba-4a6e-a553-41bd6dcd6f1b",
   "metadata": {},
   "outputs": [
    {
     "name": "stdout",
     "output_type": "stream",
     "text": [
      ", [109.00484063] 190.02595937499996\n",
      "[0.57363131]\n",
      "[-1.00421291]\n"
     ]
    }
   ],
   "source": [
    "lr.fit(X_train,Y_train)"
   ]
  },
  {
   "cell_type": "code",
   "execution_count": 231,
   "id": "faf2960e-85be-4262-b404-22233428e681",
   "metadata": {},
   "outputs": [
    {
     "name": "stdout",
     "output_type": "stream",
     "text": [
      "[array([3.99211583]), array([4.49117507]), array([3.48158396]), array([2.61540068]), array([3.79708119]), array([3.22918619]), array([2.34579396]), array([3.83723538]), array([2.86779846]), array([2.70718169]), array([3.49305659]), array([2.21385876]), array([2.48920179]), array([2.46625654]), array([1.6172822]), array([3.91754376]), array([2.10486881]), array([1.92130679]), array([2.97105209]), array([4.11831472]), array([2.34579396]), array([2.98826103]), array([3.03415154]), array([1.77789896]), array([3.36112139]), array([3.76266331]), array([3.280813]), array([4.12405103]), array([4.30761305]), array([2.63834593]), array([2.36873922]), array([2.34579396]), array([3.65940967]), array([3.2349225]), array([3.51026553]), array([3.25786775]), array([3.0628331]), array([2.89074371]), array([2.9308979]), array([2.5350923]), array([3.08577836]), array([3.78560856]), array([2.73012694]), array([3.17182305]), array([2.10486881]), array([3.37259401]), array([2.94810684]), array([3.19476831]), array([3.52747447]), array([3.3668577]), array([2.51788336]), array([3.95769795]), array([3.83723538]), array([2.78175376]), array([3.68809124]), array([2.34579396]), array([1.70906321]), array([2.40315709]), array([2.86779846]), array([3.44716608]), array([3.94622533]), array([3.20050462]), array([3.17182305]), array([2.77601745]), array([2.97678841]), array([2.47199285]), array([2.4949381]), array([2.50641073]), array([3.54468341]), array([2.91942528]), array([3.15461411]), array([2.84485321]), array([3.70530018]), array([3.74545437]), array([3.55041972]), array([3.05709679]), array([4.08389684]), array([2.24254033]), array([3.22344987]), array([2.56377386]), array([3.03988785]), array([2.58671911]), array([2.37447553]), array([3.53321078]), array([2.7989627]), array([2.08192356]), array([4.25024992]), array([3.21197725]), array([2.56377386]), array([3.33243982]), array([2.85632583]), array([2.78749007]), array([2.13928669]), array([3.52173816]), array([2.62687331]), array([2.60966437]), array([3.40701189]), array([1.91557048]), array([2.94810684]), array([2.78749007]), array([3.71103649]), array([1.93277942]), array([2.97105209]), array([2.99973366]), array([2.43183866]), array([3.55615603]), array([2.72439063]), array([2.34005765]), array([1.99587886]), array([2.2310677]), array([2.16796826]), array([2.87353477]), array([3.09151467]), array([2.54656492]), array([3.94048901]), array([3.59057391]), array([3.6708823]), array([3.07430573]), array([1.43945649]), array([3.64220073]), array([4.18141417]), array([3.38980295]), array([2.3171124]), array([1.9270431]), array([2.96531578]), array([3.13166886]), array([3.20624093]), array([2.38021184]), array([2.82764427]), array([4.19288679]), array([4.1527326]), array([2.51214704]), array([2.38594815]), array([2.60392805]), array([3.4529024]), array([2.40889341]), array([3.45863871]), array([2.92516159]), array([3.28654932]), array([3.09151467]), array([3.33817613]), array([3.52173816]), array([2.63260962]), array([3.07430573]), array([3.17182305]), array([3.24065881]), array([3.08004204]), array([1.93851573]), array([2.54656492]), array([2.67850012]), array([3.09725098]), array([2.97678841]), array([2.70718169]), array([3.12019624]), array([2.93663422]), array([3.33243982]), array([1.74348108]), array([2.81617164]), array([1.93277942]), array([3.18329568])]\n"
     ]
    }
   ],
   "source": [
    "# lr.predict(X_train.iloc[0])\n",
    "# X_train.iloc[0]\n",
    "# print(type(X_train))\n",
    "lr.predict(X_train)\n",
    "# X_train.values.shape"
   ]
  },
  {
   "cell_type": "code",
   "execution_count": 233,
   "id": "779e3bc8-9642-4539-a806-776c8f17fa3d",
   "metadata": {},
   "outputs": [],
   "source": [
    "X_test = pd.DataFrame(X_test)"
   ]
  },
  {
   "cell_type": "code",
   "execution_count": 235,
   "id": "c31d50da-c15d-4ddd-aab3-cdcd8aa3de4b",
   "metadata": {},
   "outputs": [
    {
     "name": "stdout",
     "output_type": "stream",
     "text": [
      "[array([2.92516159])]\n"
     ]
    }
   ],
   "source": [
    "lr.predict(X_test.iloc[0])"
   ]
  },
  {
   "cell_type": "code",
   "execution_count": 237,
   "id": "66803f6c-8217-43cd-9454-5c2bda9ff259",
   "metadata": {},
   "outputs": [
    {
     "data": {
      "text/plain": [
       "package    3.44\n",
       "Name: 74, dtype: float64"
      ]
     },
     "execution_count": 237,
     "metadata": {},
     "output_type": "execute_result"
    }
   ],
   "source": [
    "Y_test.iloc[0]"
   ]
  },
  {
   "cell_type": "code",
   "execution_count": null,
   "id": "bf976da7-7559-4713-9d8b-3f38d49919d9",
   "metadata": {},
   "outputs": [],
   "source": []
  }
 ],
 "metadata": {
  "kernelspec": {
   "display_name": "Python 3 (ipykernel)",
   "language": "python",
   "name": "python3"
  },
  "language_info": {
   "codemirror_mode": {
    "name": "ipython",
    "version": 3
   },
   "file_extension": ".py",
   "mimetype": "text/x-python",
   "name": "python",
   "nbconvert_exporter": "python",
   "pygments_lexer": "ipython3",
   "version": "3.12.4"
  }
 },
 "nbformat": 4,
 "nbformat_minor": 5
}
