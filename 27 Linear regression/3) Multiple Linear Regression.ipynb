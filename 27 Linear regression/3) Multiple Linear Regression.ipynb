{
 "cells": [
  {
   "cell_type": "markdown",
   "id": "97b89c8a-ba31-4e51-bc2c-472c1d92fa7d",
   "metadata": {},
   "source": [
    "## Unlike simple linear regression which is used in case of 1 input and 1 output,we use multiple linear regression when we have multiple input feature and a single output"
   ]
  },
  {
   "cell_type": "markdown",
   "id": "bcaaba38-d13f-46f6-bf60-94508a81f2ae",
   "metadata": {},
   "source": [
    "### Instead of drawing line in a graph,Multiple LR draws a plane in 3D such that each point in a 3D space have minimum distance from the plane"
   ]
  },
  {
   "cell_type": "markdown",
   "id": "f3d4edcd-3ec1-46a7-85bb-0ed92d3b5e5e",
   "metadata": {},
   "source": [
    "<img src = \"MLR.png\"/>"
   ]
  },
  {
   "cell_type": "markdown",
   "id": "4247c600-4b41-4427-9eff-4bd9c134b271",
   "metadata": {},
   "source": [
    "### Just like Simple Linear Regression(Y = mX + b) ,we use here (Y = mX1+mX2 + b).We can write this as :"
   ]
  },
  {
   "cell_type": "markdown",
   "id": "fc618527-63e6-4fac-8eb3-1331bc2741f1",
   "metadata": {},
   "source": [
    "<img src = 'Formula.png'/>"
   ]
  },
  {
   "cell_type": "markdown",
   "id": "d02dee21-b9e9-47fd-ae3c-ffcdb7207dcc",
   "metadata": {},
   "source": [
    "### In above B1,B2 ... Bn provides a weight of input label to the target.Means the more the weight,more an input column have affect on the target.If B1 is greater then B2 then X1 have greater effect in target Y than X2"
   ]
  },
  {
   "cell_type": "markdown",
   "id": "bcf00515-a164-45bf-a0e5-b1ff481647e8",
   "metadata": {},
   "source": [
    "### Do it same in the way of Simple linear regression coding"
   ]
  },
  {
   "cell_type": "code",
   "execution_count": null,
   "id": "95e8788b-6b43-4e24-b74f-7a691deac32f",
   "metadata": {},
   "outputs": [],
   "source": []
  }
 ],
 "metadata": {
  "kernelspec": {
   "display_name": "Python 3 (ipykernel)",
   "language": "python",
   "name": "python3"
  },
  "language_info": {
   "codemirror_mode": {
    "name": "ipython",
    "version": 3
   },
   "file_extension": ".py",
   "mimetype": "text/x-python",
   "name": "python",
   "nbconvert_exporter": "python",
   "pygments_lexer": "ipython3",
   "version": "3.12.4"
  }
 },
 "nbformat": 4,
 "nbformat_minor": 5
}
