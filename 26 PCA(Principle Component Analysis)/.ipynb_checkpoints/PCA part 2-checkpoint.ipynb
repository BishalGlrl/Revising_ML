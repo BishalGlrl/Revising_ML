{
 "cells": [
  {
   "cell_type": "markdown",
   "id": "67d62a19-05bc-4c3e-9e2f-28235aa91686",
   "metadata": {},
   "source": [
    "<h2 style = 'color:purple;'>Unit vector:</h2> <br>"
   ]
  },
  {
   "cell_type": "markdown",
   "id": "5f7783f2-c059-4f98-a5c0-b98c21aff1db",
   "metadata": {},
   "source": [
    "\n",
    "### Unit vector is a vector with a magnitude of 1.Dimensions of Unit vector is calculated from a given set of vectors such that the maghnitude of unit vector is 1.\n"
   ]
  },
  {
   "cell_type": "markdown",
   "id": "3f488e81-1adf-4431-87da-008f51957f97",
   "metadata": {},
   "source": [
    "<h2 style = 'color:red;'>Now we need to find a unit vector for a given graph,such that when we project every point in a graph to the unit vector,then it results into maximum variance.</h2>"
   ]
  },
  {
   "cell_type": "markdown",
   "id": "cd311bde-fa98-4ac4-93f3-b3f073ee525c",
   "metadata": {},
   "source": [
    "<img src = 'unit_vector.png'/>"
   ]
  },
  {
   "cell_type": "markdown",
   "id": "8cc0c2dc-1984-447f-8f82-2da84aa8fa5f",
   "metadata": {},
   "source": [
    "### In above,reds are the points of vector from input features,U is the unit vector,and all the points are projected to unit vector.Unit vector must be choosen such that it offers maximum variance.Maximum variance means maximum features."
   ]
  },
  {
   "cell_type": "markdown",
   "id": "b0c682e3-a7f0-4482-ae11-dff47001825c",
   "metadata": {},
   "source": [
    "### Now each vectors ${(x_1,x_2,x_3.....x_n)}$ can be projected (means prurple line) with new representation as ${(U^{T}x_1,U^{T}x_2,U^{T}x_3.....U^{T}x_n)}$"
   ]
  },
  {
   "cell_type": "markdown",
   "id": "1c25d492-d687-4f39-96be-aa807fafc782",
   "metadata": {},
   "source": [
    "### So thus variance(before projection to unit vector) was $1/n{\\sum_{i=0}^{n} (X_i - \\bar{X})^{2}}$ which then becomes $1/n\\sum_{i=0}^{n} (U^{T}X_i - \\bar{X}U^{T})^{2}$ where ${U^{T}}$ is the projection factor\r\n",
    "\n"
   ]
  },
  {
   "cell_type": "markdown",
   "id": "7fa8d16c-4af9-4a3a-a7dc-49cec4bda349",
   "metadata": {},
   "source": [
    "### Now i have to find ${U^{T}}$ such that it have maximum variance"
   ]
  },
  {
   "cell_type": "markdown",
   "id": "dd45ee02-8e3f-4f32-b00d-430d1d049888",
   "metadata": {},
   "source": [
    "<img src = \"cov.png\">"
   ]
  },
  {
   "cell_type": "markdown",
   "id": "0140277e-7a71-439b-86f9-35a388c86711",
   "metadata": {},
   "source": [
    "### Covariance and correlation are similar concept.Covariance can be anything but correlation is within the range of 1 and -1"
   ]
  },
  {
   "cell_type": "markdown",
   "id": "107df976-8ec3-4bd7-8a4e-f0153581dec8",
   "metadata": {},
   "source": [
    "<h2 style = 'color:purple;'>Covariance matrix:</h2>"
   ]
  },
  {
   "cell_type": "markdown",
   "id": "29424b79-b46a-4571-b5a8-fa39441dcf3b",
   "metadata": {},
   "source": [
    "<img src = 'confusion_matrix.png'/>"
   ]
  },
  {
   "cell_type": "markdown",
   "id": "576f333c-d8ee-4520-bb69-832d669c0256",
   "metadata": {},
   "source": [
    "<img src = 'cv.png'/>"
   ]
  },
  {
   "cell_type": "markdown",
   "id": "1714a6c8-7f64-4e1f-b422-d495e70a097d",
   "metadata": {},
   "source": [
    "<h2 style = 'color:purple'>Eigen vector and Eigen Value</h2>"
   ]
  },
  {
   "cell_type": "markdown",
   "id": "128dbcb9-59df-4f96-87c8-32fb49f80b5c",
   "metadata": {},
   "source": [
    "### In a simple word matrix is a linear transformation value which transforms the original coordinate system such that when we plot the point in a new transformed coordinate system,then the both magnitude and direction of the point may changed.So for any given point,whose direction is same in a transformed coordinate system too but the maghnitude differs,it is called eigen vector.And a value of stretch from old vector to new one is called eigen value"
   ]
  },
  {
   "cell_type": "markdown",
   "id": "d36b1213-f2c2-4f62-9b63-adf285acff01",
   "metadata": {},
   "source": [
    "<img src = 'eigen 1.png'/>\n",
    "<img src = 'eigen 2.png'/>"
   ]
  },
  {
   "cell_type": "markdown",
   "id": "61b3059e-00a6-44b4-9e80-c291c6dbc6a0",
   "metadata": {},
   "source": [
    "<h2 style = 'color:purple;'>Why eigen value and vector are needed in PCA?</h2>"
   ]
  },
  {
   "cell_type": "markdown",
   "id": "9fdee25d-2303-4727-9fad-d2d485230e67",
   "metadata": {},
   "source": [
    "### When we calculate the eigen value and vector for a covariance matrix,then the largest eigen vector i.e. largest eigen value will be pointing toward large variance which means that we have to choose the eigen vector as unit vector which have largest eigen value(largest eigen value means vectors on which largest variance can be found).These vector is used to project all the points in the coordinate system."
   ]
  },
  {
   "cell_type": "markdown",
   "id": "ea1ea07f-06e2-4aee-a078-da221b524d18",
   "metadata": {},
   "source": [
    "<h2 style = 'color:purple;'>How PCA works in steps</h2>"
   ]
  },
  {
   "cell_type": "markdown",
   "id": "014a25ae-7813-42fd-9d33-e86577a0c0fb",
   "metadata": {},
   "source": [
    "### let us consider a input with three features and a label output"
   ]
  },
  {
   "cell_type": "markdown",
   "id": "931fbce2-003b-47ba-ac76-85a3445ba083",
   "metadata": {},
   "source": [
    "### 1) Calculating the mean center : Mean center takes all the data to the origin making the resulting mean 0 (Same as standarization) as :"
   ]
  },
  {
   "cell_type": "markdown",
   "id": "90b3c54b-d963-470a-8d68-3de59382fc38",
   "metadata": {},
   "source": [
    "<img src=\"m.png\"/>"
   ]
  },
  {
   "cell_type": "markdown",
   "id": "f076561a-5ea0-4d43-98dc-56ce6355f301",
   "metadata": {},
   "source": [
    "### 2) Find a convariance matrix for 3D features"
   ]
  },
  {
   "cell_type": "markdown",
   "id": "69b53fbc-3383-410e-82a1-0d163daf63f3",
   "metadata": {},
   "source": [
    "<img src = 'c.png'/>"
   ]
  },
  {
   "cell_type": "markdown",
   "id": "32540398-cee3-4199-bcff-3f15d7ecd167",
   "metadata": {},
   "source": [
    "### where f1,f2,f3 are input features"
   ]
  },
  {
   "cell_type": "markdown",
   "id": "39a99d38-f8cf-4b69-a423-c117a0a4a6a0",
   "metadata": {},
   "source": [
    "### 3) Find the eigen value for features and choose the largest eigen valued vector."
   ]
  },
  {
   "cell_type": "markdown",
   "id": "bb1dffa8-5707-4524-8f6e-576638a7be8f",
   "metadata": {},
   "source": [
    "### Largest eigen value become PC1,second one become PC2 and third one become PC3.Now we can represent our data in form of only 1D by taking PC1 or in 2D by raking PC1 and PC2"
   ]
  },
  {
   "cell_type": "markdown",
   "id": "2538c082-53fe-4c09-834f-2e68399d4b9f",
   "metadata": {},
   "source": [
    "<h2 style = 'color:purple;'>How to transform point in higher dimension into lower one</h2>"
   ]
  },
  {
   "cell_type": "markdown",
   "id": "9e9cf90e-26a0-44d6-b08b-6d9938acc045",
   "metadata": {},
   "source": [
    "### Let us consider above dataset with 1000 rows and three feature(1000,3) and one label.Now for converting 3D points into 1D points,we have to take 1 PC i.e. PC1 where all the input points are projected. in figure below PC1 is a vector in 3D space so its coordinates is (1,3) i.e. 1 vector in 3D space, on which all the points are to be projectted.We will be projecting all the points in PC1 by finding dot product as (1000,3).(1,3).After transpose in (1,3),it becomes (3,1).So (1000,3).(3,1) = (1000,1).Here it is 1D"
   ]
  },
  {
   "cell_type": "markdown",
   "id": "08511806-315b-486b-8a33-70999bf95275",
   "metadata": {},
   "source": [
    "<img src= 'J.png'/>"
   ]
  },
  {
   "cell_type": "markdown",
   "id": "cd3a64b4-ff51-414c-85bf-17e2b2308d4d",
   "metadata": {},
   "source": [
    "### For converting 3D points to 2D points,we have a data with (1000,3) and two PC in 3D dimension i.e. (2,3).After performing transpose on (2,3) it becomes (3,2).So we will be projecting all this point into these two PC's by finding dot product as (1000,3).(3,2) which becomes (1000,2)"
   ]
  },
  {
   "cell_type": "code",
   "execution_count": null,
   "id": "2d516d37-dd21-4cb4-844a-8ced0b5e9405",
   "metadata": {},
   "outputs": [],
   "source": []
  }
 ],
 "metadata": {
  "kernelspec": {
   "display_name": "Python 3 (ipykernel)",
   "language": "python",
   "name": "python3"
  },
  "language_info": {
   "codemirror_mode": {
    "name": "ipython",
    "version": 3
   },
   "file_extension": ".py",
   "mimetype": "text/x-python",
   "name": "python",
   "nbconvert_exporter": "python",
   "pygments_lexer": "ipython3",
   "version": "3.12.4"
  }
 },
 "nbformat": 4,
 "nbformat_minor": 5
}
