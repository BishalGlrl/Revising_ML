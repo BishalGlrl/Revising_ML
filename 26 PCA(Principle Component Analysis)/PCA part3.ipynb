{
 "cells": [
  {
   "cell_type": "markdown",
   "metadata": {},
   "source": [
    "# Dont run this becasue this notebook is downloaded from kaggle and doenot contain input in local device"
   ]
  },
  {
   "cell_type": "code",
   "execution_count": 2,
   "metadata": {
    "_cell_guid": "b1076dfc-b9ad-4769-8c92-a6c4dae69d19",
    "_uuid": "8f2839f25d086af736a60e9eeb907d3b93b6e0e5",
    "execution": {
     "iopub.execute_input": "2024-08-10T13:47:54.844343Z",
     "iopub.status.busy": "2024-08-10T13:47:54.843843Z",
     "iopub.status.idle": "2024-08-10T13:47:55.369343Z",
     "shell.execute_reply": "2024-08-10T13:47:55.367744Z",
     "shell.execute_reply.started": "2024-08-10T13:47:54.844306Z"
    }
   },
   "outputs": [
    {
     "name": "stdout",
     "output_type": "stream",
     "text": [
      "/kaggle/input/digit-recognizer/sample_submission.csv\n",
      "/kaggle/input/digit-recognizer/train.csv\n",
      "/kaggle/input/digit-recognizer/test.csv\n"
     ]
    }
   ],
   "source": [
    "# This Python 3 environment comes with many helpful analytics libraries installed\n",
    "# It is defined by the kaggle/python Docker image: https://github.com/kaggle/docker-python\n",
    "# For example, here's several helpful packages to load\n",
    "\n",
    "import numpy as np # linear algebra\n",
    "import pandas as pd # data processing, CSV file I/O (e.g. pd.read_csv)\n",
    "\n",
    "# Input data files are available in the read-only \"../input/\" directory\n",
    "# For example, running this (by clicking run or pressing Shift+Enter) will list all files under the input directory\n",
    "\n",
    "import os\n",
    "for dirname, _, filenames in os.walk('/kaggle/input'):\n",
    "    for filename in filenames:\n",
    "        print(os.path.join(dirname, filename))\n",
    "\n",
    "# You can write up to 20GB to the current directory (/kaggle/working/) that gets preserved as output when you create a version using \"Save & Run All\" \n",
    "# You can also write temporary files to /kaggle/temp/, but they won't be saved outside of the current session"
   ]
  },
  {
   "cell_type": "code",
   "execution_count": 3,
   "metadata": {
    "execution": {
     "iopub.execute_input": "2024-08-10T13:47:55.372178Z",
     "iopub.status.busy": "2024-08-10T13:47:55.371618Z",
     "iopub.status.idle": "2024-08-10T13:48:00.224796Z",
     "shell.execute_reply": "2024-08-10T13:48:00.223144Z",
     "shell.execute_reply.started": "2024-08-10T13:47:55.372137Z"
    }
   },
   "outputs": [],
   "source": [
    "df = pd.read_csv('/kaggle/input/digit-recognizer/train.csv')"
   ]
  },
  {
   "cell_type": "code",
   "execution_count": 4,
   "metadata": {
    "execution": {
     "iopub.execute_input": "2024-08-10T13:48:00.227453Z",
     "iopub.status.busy": "2024-08-10T13:48:00.227086Z",
     "iopub.status.idle": "2024-08-10T13:48:00.270580Z",
     "shell.execute_reply": "2024-08-10T13:48:00.268892Z",
     "shell.execute_reply.started": "2024-08-10T13:48:00.227425Z"
    }
   },
   "outputs": [
    {
     "data": {
      "text/html": [
       "<div>\n",
       "<style scoped>\n",
       "    .dataframe tbody tr th:only-of-type {\n",
       "        vertical-align: middle;\n",
       "    }\n",
       "\n",
       "    .dataframe tbody tr th {\n",
       "        vertical-align: top;\n",
       "    }\n",
       "\n",
       "    .dataframe thead th {\n",
       "        text-align: right;\n",
       "    }\n",
       "</style>\n",
       "<table border=\"1\" class=\"dataframe\">\n",
       "  <thead>\n",
       "    <tr style=\"text-align: right;\">\n",
       "      <th></th>\n",
       "      <th>label</th>\n",
       "      <th>pixel0</th>\n",
       "      <th>pixel1</th>\n",
       "      <th>pixel2</th>\n",
       "      <th>pixel3</th>\n",
       "      <th>pixel4</th>\n",
       "      <th>pixel5</th>\n",
       "      <th>pixel6</th>\n",
       "      <th>pixel7</th>\n",
       "      <th>pixel8</th>\n",
       "      <th>...</th>\n",
       "      <th>pixel774</th>\n",
       "      <th>pixel775</th>\n",
       "      <th>pixel776</th>\n",
       "      <th>pixel777</th>\n",
       "      <th>pixel778</th>\n",
       "      <th>pixel779</th>\n",
       "      <th>pixel780</th>\n",
       "      <th>pixel781</th>\n",
       "      <th>pixel782</th>\n",
       "      <th>pixel783</th>\n",
       "    </tr>\n",
       "  </thead>\n",
       "  <tbody>\n",
       "    <tr>\n",
       "      <th>3652</th>\n",
       "      <td>9</td>\n",
       "      <td>0</td>\n",
       "      <td>0</td>\n",
       "      <td>0</td>\n",
       "      <td>0</td>\n",
       "      <td>0</td>\n",
       "      <td>0</td>\n",
       "      <td>0</td>\n",
       "      <td>0</td>\n",
       "      <td>0</td>\n",
       "      <td>...</td>\n",
       "      <td>0</td>\n",
       "      <td>0</td>\n",
       "      <td>0</td>\n",
       "      <td>0</td>\n",
       "      <td>0</td>\n",
       "      <td>0</td>\n",
       "      <td>0</td>\n",
       "      <td>0</td>\n",
       "      <td>0</td>\n",
       "      <td>0</td>\n",
       "    </tr>\n",
       "    <tr>\n",
       "      <th>5262</th>\n",
       "      <td>2</td>\n",
       "      <td>0</td>\n",
       "      <td>0</td>\n",
       "      <td>0</td>\n",
       "      <td>0</td>\n",
       "      <td>0</td>\n",
       "      <td>0</td>\n",
       "      <td>0</td>\n",
       "      <td>0</td>\n",
       "      <td>0</td>\n",
       "      <td>...</td>\n",
       "      <td>0</td>\n",
       "      <td>0</td>\n",
       "      <td>0</td>\n",
       "      <td>0</td>\n",
       "      <td>0</td>\n",
       "      <td>0</td>\n",
       "      <td>0</td>\n",
       "      <td>0</td>\n",
       "      <td>0</td>\n",
       "      <td>0</td>\n",
       "    </tr>\n",
       "    <tr>\n",
       "      <th>38510</th>\n",
       "      <td>7</td>\n",
       "      <td>0</td>\n",
       "      <td>0</td>\n",
       "      <td>0</td>\n",
       "      <td>0</td>\n",
       "      <td>0</td>\n",
       "      <td>0</td>\n",
       "      <td>0</td>\n",
       "      <td>0</td>\n",
       "      <td>0</td>\n",
       "      <td>...</td>\n",
       "      <td>0</td>\n",
       "      <td>0</td>\n",
       "      <td>0</td>\n",
       "      <td>0</td>\n",
       "      <td>0</td>\n",
       "      <td>0</td>\n",
       "      <td>0</td>\n",
       "      <td>0</td>\n",
       "      <td>0</td>\n",
       "      <td>0</td>\n",
       "    </tr>\n",
       "    <tr>\n",
       "      <th>24541</th>\n",
       "      <td>8</td>\n",
       "      <td>0</td>\n",
       "      <td>0</td>\n",
       "      <td>0</td>\n",
       "      <td>0</td>\n",
       "      <td>0</td>\n",
       "      <td>0</td>\n",
       "      <td>0</td>\n",
       "      <td>0</td>\n",
       "      <td>0</td>\n",
       "      <td>...</td>\n",
       "      <td>0</td>\n",
       "      <td>0</td>\n",
       "      <td>0</td>\n",
       "      <td>0</td>\n",
       "      <td>0</td>\n",
       "      <td>0</td>\n",
       "      <td>0</td>\n",
       "      <td>0</td>\n",
       "      <td>0</td>\n",
       "      <td>0</td>\n",
       "    </tr>\n",
       "    <tr>\n",
       "      <th>25968</th>\n",
       "      <td>0</td>\n",
       "      <td>0</td>\n",
       "      <td>0</td>\n",
       "      <td>0</td>\n",
       "      <td>0</td>\n",
       "      <td>0</td>\n",
       "      <td>0</td>\n",
       "      <td>0</td>\n",
       "      <td>0</td>\n",
       "      <td>0</td>\n",
       "      <td>...</td>\n",
       "      <td>0</td>\n",
       "      <td>0</td>\n",
       "      <td>0</td>\n",
       "      <td>0</td>\n",
       "      <td>0</td>\n",
       "      <td>0</td>\n",
       "      <td>0</td>\n",
       "      <td>0</td>\n",
       "      <td>0</td>\n",
       "      <td>0</td>\n",
       "    </tr>\n",
       "  </tbody>\n",
       "</table>\n",
       "<p>5 rows × 785 columns</p>\n",
       "</div>"
      ],
      "text/plain": [
       "       label  pixel0  pixel1  pixel2  pixel3  pixel4  pixel5  pixel6  pixel7  \\\n",
       "3652       9       0       0       0       0       0       0       0       0   \n",
       "5262       2       0       0       0       0       0       0       0       0   \n",
       "38510      7       0       0       0       0       0       0       0       0   \n",
       "24541      8       0       0       0       0       0       0       0       0   \n",
       "25968      0       0       0       0       0       0       0       0       0   \n",
       "\n",
       "       pixel8  ...  pixel774  pixel775  pixel776  pixel777  pixel778  \\\n",
       "3652        0  ...         0         0         0         0         0   \n",
       "5262        0  ...         0         0         0         0         0   \n",
       "38510       0  ...         0         0         0         0         0   \n",
       "24541       0  ...         0         0         0         0         0   \n",
       "25968       0  ...         0         0         0         0         0   \n",
       "\n",
       "       pixel779  pixel780  pixel781  pixel782  pixel783  \n",
       "3652          0         0         0         0         0  \n",
       "5262          0         0         0         0         0  \n",
       "38510         0         0         0         0         0  \n",
       "24541         0         0         0         0         0  \n",
       "25968         0         0         0         0         0  \n",
       "\n",
       "[5 rows x 785 columns]"
      ]
     },
     "execution_count": 4,
     "metadata": {},
     "output_type": "execute_result"
    }
   ],
   "source": [
    "df.sample(5)"
   ]
  },
  {
   "cell_type": "code",
   "execution_count": 5,
   "metadata": {
    "execution": {
     "iopub.execute_input": "2024-08-10T13:48:00.272477Z",
     "iopub.status.busy": "2024-08-10T13:48:00.272143Z",
     "iopub.status.idle": "2024-08-10T13:48:00.280787Z",
     "shell.execute_reply": "2024-08-10T13:48:00.279443Z",
     "shell.execute_reply.started": "2024-08-10T13:48:00.272449Z"
    }
   },
   "outputs": [
    {
     "data": {
      "text/plain": [
       "(42000, 785)"
      ]
     },
     "execution_count": 5,
     "metadata": {},
     "output_type": "execute_result"
    }
   ],
   "source": [
    "df.shape"
   ]
  },
  {
   "cell_type": "markdown",
   "metadata": {},
   "source": [
    "## Here we have 42000 images with 785 column.These images contains a number from 0 to 9.Each row denotes a single image and label denotes the number a row is representing.Each image contains 28*28 pixels i.e. 28 pixels in row and 28 pixels in column.In each row,Only the pixels that are shaded with part of number are denoted as color gradient other are as 0."
   ]
  },
  {
   "cell_type": "code",
   "execution_count": 6,
   "metadata": {
    "execution": {
     "iopub.execute_input": "2024-08-10T13:48:00.284134Z",
     "iopub.status.busy": "2024-08-10T13:48:00.283722Z",
     "iopub.status.idle": "2024-08-10T13:48:00.645834Z",
     "shell.execute_reply": "2024-08-10T13:48:00.644293Z",
     "shell.execute_reply.started": "2024-08-10T13:48:00.284104Z"
    }
   },
   "outputs": [
    {
     "data": {
      "text/plain": [
       "<matplotlib.image.AxesImage at 0x789d99bbb4f0>"
      ]
     },
     "execution_count": 6,
     "metadata": {},
     "output_type": "execute_result"
    },
    {
     "data": {
      "image/png": "[encoded data removed]",
      "text/plain": [
       "<Figure size 640x480 with 1 Axes>"
      ]
     },
     "metadata": {},
     "output_type": "display_data"
    }
   ],
   "source": [
    "import matplotlib.pyplot as plt\n",
    "plt.imshow(df.iloc[19002,1:].values.reshape(28,28)) \n",
    "#df.iloc[19002,1:].values will pass the numpy array with all the values in 784 columns and 784 features will be reshaped in 24 rows and 24 columns"
   ]
  },
  {
   "cell_type": "code",
   "execution_count": 7,
   "metadata": {
    "execution": {
     "iopub.execute_input": "2024-08-10T13:48:00.647825Z",
     "iopub.status.busy": "2024-08-10T13:48:00.647448Z",
     "iopub.status.idle": "2024-08-10T13:48:01.816970Z",
     "shell.execute_reply": "2024-08-10T13:48:01.815631Z",
     "shell.execute_reply.started": "2024-08-10T13:48:00.647794Z"
    }
   },
   "outputs": [],
   "source": [
    "from sklearn.model_selection import train_test_split\n",
    "X = df.iloc[:,1:] #1: vaneko 1 sahit uta sabbai column vanya tara :2 vaneko chai 2 bahek 0,1 matra vanya\n",
    "Y = df.iloc[:,0]\n",
    "X_train,X_test,Y_train,Y_test = train_test_split(X,Y,test_size=0.2,random_state=42)"
   ]
  },
  {
   "cell_type": "code",
   "execution_count": 8,
   "metadata": {
    "execution": {
     "iopub.execute_input": "2024-08-10T13:48:01.819339Z",
     "iopub.status.busy": "2024-08-10T13:48:01.818798Z",
     "iopub.status.idle": "2024-08-10T13:48:01.833172Z",
     "shell.execute_reply": "2024-08-10T13:48:01.831761Z",
     "shell.execute_reply.started": "2024-08-10T13:48:01.819294Z"
    }
   },
   "outputs": [
    {
     "data": {
      "text/plain": [
       "((33600, 784), (8400, 784))"
      ]
     },
     "execution_count": 8,
     "metadata": {},
     "output_type": "execute_result"
    }
   ],
   "source": [
    "X_train.shape,X_test.shape"
   ]
  },
  {
   "cell_type": "code",
   "execution_count": 9,
   "metadata": {
    "execution": {
     "iopub.execute_input": "2024-08-10T13:48:01.835358Z",
     "iopub.status.busy": "2024-08-10T13:48:01.834941Z",
     "iopub.status.idle": "2024-08-10T13:48:02.180077Z",
     "shell.execute_reply": "2024-08-10T13:48:02.178843Z",
     "shell.execute_reply.started": "2024-08-10T13:48:01.835323Z"
    }
   },
   "outputs": [
    {
     "data": {
      "text/html": [
       "<style>#sk-container-id-1 {color: black;background-color: white;}#sk-container-id-1 pre{padding: 0;}#sk-container-id-1 div.sk-toggleable {background-color: white;}#sk-container-id-1 label.sk-toggleable__label {cursor: pointer;display: block;width: 100%;margin-bottom: 0;padding: 0.3em;box-sizing: border-box;text-align: center;}#sk-container-id-1 label.sk-toggleable__label-arrow:before {content: \"▸\";float: left;margin-right: 0.25em;color: #696969;}#sk-container-id-1 label.sk-toggleable__label-arrow:hover:before {color: black;}#sk-container-id-1 div.sk-estimator:hover label.sk-toggleable__label-arrow:before {color: black;}#sk-container-id-1 div.sk-toggleable__content {max-height: 0;max-width: 0;overflow: hidden;text-align: left;background-color: #f0f8ff;}#sk-container-id-1 div.sk-toggleable__content pre {margin: 0.2em;color: black;border-radius: 0.25em;background-color: #f0f8ff;}#sk-container-id-1 input.sk-toggleable__control:checked~div.sk-toggleable__content {max-height: 200px;max-width: 100%;overflow: auto;}#sk-container-id-1 input.sk-toggleable__control:checked~label.sk-toggleable__label-arrow:before {content: \"▾\";}#sk-container-id-1 div.sk-estimator input.sk-toggleable__control:checked~label.sk-toggleable__label {background-color: #d4ebff;}#sk-container-id-1 div.sk-label input.sk-toggleable__control:checked~label.sk-toggleable__label {background-color: #d4ebff;}#sk-container-id-1 input.sk-hidden--visually {border: 0;clip: rect(1px 1px 1px 1px);clip: rect(1px, 1px, 1px, 1px);height: 1px;margin: -1px;overflow: hidden;padding: 0;position: absolute;width: 1px;}#sk-container-id-1 div.sk-estimator {font-family: monospace;background-color: #f0f8ff;border: 1px dotted black;border-radius: 0.25em;box-sizing: border-box;margin-bottom: 0.5em;}#sk-container-id-1 div.sk-estimator:hover {background-color: #d4ebff;}#sk-container-id-1 div.sk-parallel-item::after {content: \"\";width: 100%;border-bottom: 1px solid gray;flex-grow: 1;}#sk-container-id-1 div.sk-label:hover label.sk-toggleable__label {background-color: #d4ebff;}#sk-container-id-1 div.sk-serial::before {content: \"\";position: absolute;border-left: 1px solid gray;box-sizing: border-box;top: 0;bottom: 0;left: 50%;z-index: 0;}#sk-container-id-1 div.sk-serial {display: flex;flex-direction: column;align-items: center;background-color: white;padding-right: 0.2em;padding-left: 0.2em;position: relative;}#sk-container-id-1 div.sk-item {position: relative;z-index: 1;}#sk-container-id-1 div.sk-parallel {display: flex;align-items: stretch;justify-content: center;background-color: white;position: relative;}#sk-container-id-1 div.sk-item::before, #sk-container-id-1 div.sk-parallel-item::before {content: \"\";position: absolute;border-left: 1px solid gray;box-sizing: border-box;top: 0;bottom: 0;left: 50%;z-index: -1;}#sk-container-id-1 div.sk-parallel-item {display: flex;flex-direction: column;z-index: 1;position: relative;background-color: white;}#sk-container-id-1 div.sk-parallel-item:first-child::after {align-self: flex-end;width: 50%;}#sk-container-id-1 div.sk-parallel-item:last-child::after {align-self: flex-start;width: 50%;}#sk-container-id-1 div.sk-parallel-item:only-child::after {width: 0;}#sk-container-id-1 div.sk-dashed-wrapped {border: 1px dashed gray;margin: 0 0.4em 0.5em 0.4em;box-sizing: border-box;padding-bottom: 0.4em;background-color: white;}#sk-container-id-1 div.sk-label label {font-family: monospace;font-weight: bold;display: inline-block;line-height: 1.2em;}#sk-container-id-1 div.sk-label-container {text-align: center;}#sk-container-id-1 div.sk-container {/* jupyter's `normalize.less` sets `[hidden] { display: none; }` but bootstrap.min.css set `[hidden] { display: none !important; }` so we also need the `!important` here to be able to override the default hidden behavior on the sphinx rendered scikit-learn.org. See: https://github.com/scikit-learn/scikit-learn/issues/21755 */display: inline-block !important;position: relative;}#sk-container-id-1 div.sk-text-repr-fallback {display: none;}</style><div id=\"sk-container-id-1\" class=\"sk-top-container\"><div class=\"sk-text-repr-fallback\"><pre>KNeighborsClassifier()</pre><b>In a Jupyter environment, please rerun this cell to show the HTML representation or trust the notebook. <br />On GitHub, the HTML representation is unable to render, please try loading this page with nbviewer.org.</b></div><div class=\"sk-container\" hidden><div class=\"sk-item\"><div class=\"sk-estimator sk-toggleable\"><input class=\"sk-toggleable__control sk-hidden--visually\" id=\"sk-estimator-id-1\" type=\"checkbox\" checked><label for=\"sk-estimator-id-1\" class=\"sk-toggleable__label sk-toggleable__label-arrow\">KNeighborsClassifier</label><div class=\"sk-toggleable__content\"><pre>KNeighborsClassifier()</pre></div></div></div></div></div>"
      ],
      "text/plain": [
       "KNeighborsClassifier()"
      ]
     },
     "execution_count": 9,
     "metadata": {},
     "output_type": "execute_result"
    }
   ],
   "source": [
    "from sklearn.neighbors import KNeighborsClassifier\n",
    "kn = KNeighborsClassifier()\n",
    "kn.fit(X_train,Y_train)"
   ]
  },
  {
   "cell_type": "code",
   "execution_count": 10,
   "metadata": {
    "execution": {
     "iopub.execute_input": "2024-08-10T13:48:02.181805Z",
     "iopub.status.busy": "2024-08-10T13:48:02.181462Z",
     "iopub.status.idle": "2024-08-10T13:48:17.230224Z",
     "shell.execute_reply": "2024-08-10T13:48:17.228703Z",
     "shell.execute_reply.started": "2024-08-10T13:48:02.181776Z"
    }
   },
   "outputs": [],
   "source": [
    "Y_pred = kn.predict(X_test)"
   ]
  },
  {
   "cell_type": "code",
   "execution_count": 11,
   "metadata": {
    "execution": {
     "iopub.execute_input": "2024-08-10T13:48:17.232647Z",
     "iopub.status.busy": "2024-08-10T13:48:17.232182Z",
     "iopub.status.idle": "2024-08-10T13:48:17.249433Z",
     "shell.execute_reply": "2024-08-10T13:48:17.247504Z",
     "shell.execute_reply.started": "2024-08-10T13:48:17.232604Z"
    }
   },
   "outputs": [
    {
     "data": {
      "text/plain": [
       "0.9648809523809524"
      ]
     },
     "execution_count": 11,
     "metadata": {},
     "output_type": "execute_result"
    }
   ],
   "source": [
    "from sklearn.metrics import accuracy_score\n",
    "c = accuracy_score(Y_test,Y_pred)\n",
    "c"
   ]
  },
  {
   "cell_type": "markdown",
   "metadata": {},
   "source": [
    "## Now lets apply PCA and see the result"
   ]
  },
  {
   "cell_type": "markdown",
   "metadata": {},
   "source": [
    "### Applying the mean center"
   ]
  },
  {
   "cell_type": "code",
   "execution_count": 12,
   "metadata": {
    "execution": {
     "iopub.execute_input": "2024-08-10T13:48:17.255086Z",
     "iopub.status.busy": "2024-08-10T13:48:17.254650Z",
     "iopub.status.idle": "2024-08-10T13:48:17.794308Z",
     "shell.execute_reply": "2024-08-10T13:48:17.792421Z",
     "shell.execute_reply.started": "2024-08-10T13:48:17.255052Z"
    }
   },
   "outputs": [],
   "source": [
    "from sklearn.preprocessing import StandardScaler\n",
    "ss = StandardScaler()\n",
    "X_train_trs = ss.fit_transform(X_train)\n",
    "X_test_trs= ss.transform(X_test)"
   ]
  },
  {
   "cell_type": "markdown",
   "metadata": {},
   "source": [
    "### Now instead of doing by calculating covariance and calculating eigen value and vector,lets do directly"
   ]
  },
  {
   "cell_type": "code",
   "execution_count": 13,
   "metadata": {
    "execution": {
     "iopub.execute_input": "2024-08-10T13:48:17.796616Z",
     "iopub.status.busy": "2024-08-10T13:48:17.796056Z",
     "iopub.status.idle": "2024-08-10T13:48:25.831821Z",
     "shell.execute_reply": "2024-08-10T13:48:25.829422Z",
     "shell.execute_reply.started": "2024-08-10T13:48:17.796568Z"
    }
   },
   "outputs": [],
   "source": [
    "from sklearn.decomposition import PCA\n",
    "pc = PCA(n_components=300) # 300 is principle component we want i.e PC1,PC2.....PC300.These indicates 785 columns are to be transformed into 300D vectors.All the data points are projected into these 300 PC's\n",
    "X_train_pc = pc.fit_transform(X_train)\n",
    "X_test_pc = pc.transform(X_test)"
   ]
  },
  {
   "cell_type": "markdown",
   "metadata": {},
   "source": [
    "### IF we have to project all the datapoints in 300 PCAs then from another method,we have to find the covariance matrix af 745*745 dimension,then we have to decompose the matrix in its eigen vector.The we have to give the maximum eigen vector as PC1,second one as PC2,third as PC3 and last as 785.Then we have to choose top 300 PC's"
   ]
  },
  {
   "cell_type": "code",
   "execution_count": 14,
   "metadata": {
    "execution": {
     "iopub.execute_input": "2024-08-10T13:48:25.835186Z",
     "iopub.status.busy": "2024-08-10T13:48:25.834572Z",
     "iopub.status.idle": "2024-08-10T13:48:25.917805Z",
     "shell.execute_reply": "2024-08-10T13:48:25.916322Z",
     "shell.execute_reply.started": "2024-08-10T13:48:25.835136Z"
    }
   },
   "outputs": [
    {
     "data": {
      "text/html": [
       "<style>#sk-container-id-2 {color: black;background-color: white;}#sk-container-id-2 pre{padding: 0;}#sk-container-id-2 div.sk-toggleable {background-color: white;}#sk-container-id-2 label.sk-toggleable__label {cursor: pointer;display: block;width: 100%;margin-bottom: 0;padding: 0.3em;box-sizing: border-box;text-align: center;}#sk-container-id-2 label.sk-toggleable__label-arrow:before {content: \"▸\";float: left;margin-right: 0.25em;color: #696969;}#sk-container-id-2 label.sk-toggleable__label-arrow:hover:before {color: black;}#sk-container-id-2 div.sk-estimator:hover label.sk-toggleable__label-arrow:before {color: black;}#sk-container-id-2 div.sk-toggleable__content {max-height: 0;max-width: 0;overflow: hidden;text-align: left;background-color: #f0f8ff;}#sk-container-id-2 div.sk-toggleable__content pre {margin: 0.2em;color: black;border-radius: 0.25em;background-color: #f0f8ff;}#sk-container-id-2 input.sk-toggleable__control:checked~div.sk-toggleable__content {max-height: 200px;max-width: 100%;overflow: auto;}#sk-container-id-2 input.sk-toggleable__control:checked~label.sk-toggleable__label-arrow:before {content: \"▾\";}#sk-container-id-2 div.sk-estimator input.sk-toggleable__control:checked~label.sk-toggleable__label {background-color: #d4ebff;}#sk-container-id-2 div.sk-label input.sk-toggleable__control:checked~label.sk-toggleable__label {background-color: #d4ebff;}#sk-container-id-2 input.sk-hidden--visually {border: 0;clip: rect(1px 1px 1px 1px);clip: rect(1px, 1px, 1px, 1px);height: 1px;margin: -1px;overflow: hidden;padding: 0;position: absolute;width: 1px;}#sk-container-id-2 div.sk-estimator {font-family: monospace;background-color: #f0f8ff;border: 1px dotted black;border-radius: 0.25em;box-sizing: border-box;margin-bottom: 0.5em;}#sk-container-id-2 div.sk-estimator:hover {background-color: #d4ebff;}#sk-container-id-2 div.sk-parallel-item::after {content: \"\";width: 100%;border-bottom: 1px solid gray;flex-grow: 1;}#sk-container-id-2 div.sk-label:hover label.sk-toggleable__label {background-color: #d4ebff;}#sk-container-id-2 div.sk-serial::before {content: \"\";position: absolute;border-left: 1px solid gray;box-sizing: border-box;top: 0;bottom: 0;left: 50%;z-index: 0;}#sk-container-id-2 div.sk-serial {display: flex;flex-direction: column;align-items: center;background-color: white;padding-right: 0.2em;padding-left: 0.2em;position: relative;}#sk-container-id-2 div.sk-item {position: relative;z-index: 1;}#sk-container-id-2 div.sk-parallel {display: flex;align-items: stretch;justify-content: center;background-color: white;position: relative;}#sk-container-id-2 div.sk-item::before, #sk-container-id-2 div.sk-parallel-item::before {content: \"\";position: absolute;border-left: 1px solid gray;box-sizing: border-box;top: 0;bottom: 0;left: 50%;z-index: -1;}#sk-container-id-2 div.sk-parallel-item {display: flex;flex-direction: column;z-index: 1;position: relative;background-color: white;}#sk-container-id-2 div.sk-parallel-item:first-child::after {align-self: flex-end;width: 50%;}#sk-container-id-2 div.sk-parallel-item:last-child::after {align-self: flex-start;width: 50%;}#sk-container-id-2 div.sk-parallel-item:only-child::after {width: 0;}#sk-container-id-2 div.sk-dashed-wrapped {border: 1px dashed gray;margin: 0 0.4em 0.5em 0.4em;box-sizing: border-box;padding-bottom: 0.4em;background-color: white;}#sk-container-id-2 div.sk-label label {font-family: monospace;font-weight: bold;display: inline-block;line-height: 1.2em;}#sk-container-id-2 div.sk-label-container {text-align: center;}#sk-container-id-2 div.sk-container {/* jupyter's `normalize.less` sets `[hidden] { display: none; }` but bootstrap.min.css set `[hidden] { display: none !important; }` so we also need the `!important` here to be able to override the default hidden behavior on the sphinx rendered scikit-learn.org. See: https://github.com/scikit-learn/scikit-learn/issues/21755 */display: inline-block !important;position: relative;}#sk-container-id-2 div.sk-text-repr-fallback {display: none;}</style><div id=\"sk-container-id-2\" class=\"sk-top-container\"><div class=\"sk-text-repr-fallback\"><pre>KNeighborsClassifier()</pre><b>In a Jupyter environment, please rerun this cell to show the HTML representation or trust the notebook. <br />On GitHub, the HTML representation is unable to render, please try loading this page with nbviewer.org.</b></div><div class=\"sk-container\" hidden><div class=\"sk-item\"><div class=\"sk-estimator sk-toggleable\"><input class=\"sk-toggleable__control sk-hidden--visually\" id=\"sk-estimator-id-2\" type=\"checkbox\" checked><label for=\"sk-estimator-id-2\" class=\"sk-toggleable__label sk-toggleable__label-arrow\">KNeighborsClassifier</label><div class=\"sk-toggleable__content\"><pre>KNeighborsClassifier()</pre></div></div></div></div></div>"
      ],
      "text/plain": [
       "KNeighborsClassifier()"
      ]
     },
     "execution_count": 14,
     "metadata": {},
     "output_type": "execute_result"
    }
   ],
   "source": [
    "knn = KNeighborsClassifier()\n",
    "knn.fit(X_train_pc,Y_train)\n"
   ]
  },
  {
   "cell_type": "code",
   "execution_count": 15,
   "metadata": {
    "execution": {
     "iopub.execute_input": "2024-08-10T13:48:25.921485Z",
     "iopub.status.busy": "2024-08-10T13:48:25.920301Z",
     "iopub.status.idle": "2024-08-10T13:48:30.334123Z",
     "shell.execute_reply": "2024-08-10T13:48:30.332665Z",
     "shell.execute_reply.started": "2024-08-10T13:48:25.921419Z"
    }
   },
   "outputs": [],
   "source": [
    "Y_pred_pc =  knn.predict(X_test_pc)"
   ]
  },
  {
   "cell_type": "code",
   "execution_count": 16,
   "metadata": {
    "execution": {
     "iopub.execute_input": "2024-08-10T13:48:30.335992Z",
     "iopub.status.busy": "2024-08-10T13:48:30.335619Z",
     "iopub.status.idle": "2024-08-10T13:48:30.346590Z",
     "shell.execute_reply": "2024-08-10T13:48:30.345061Z",
     "shell.execute_reply.started": "2024-08-10T13:48:30.335945Z"
    }
   },
   "outputs": [
    {
     "data": {
      "text/plain": [
       "0.9664285714285714"
      ]
     },
     "execution_count": 16,
     "metadata": {},
     "output_type": "execute_result"
    }
   ],
   "source": [
    "accuracy_score(Y_pred_pc,Y_test)"
   ]
  },
  {
   "cell_type": "markdown",
   "metadata": {},
   "source": [
    "<h2 style = \"color:purple;\">Here after reducing the dimension too,model is providing an accuracy more than the higher dimension one</h2>"
   ]
  },
  {
   "cell_type": "markdown",
   "metadata": {},
   "source": [
    "### To find the eigen value of each 300 PCA's,we have to do"
   ]
  },
  {
   "cell_type": "code",
   "execution_count": 17,
   "metadata": {
    "execution": {
     "iopub.execute_input": "2024-08-10T13:48:30.348624Z",
     "iopub.status.busy": "2024-08-10T13:48:30.348172Z",
     "iopub.status.idle": "2024-08-10T13:48:30.366826Z",
     "shell.execute_reply": "2024-08-10T13:48:30.365032Z",
     "shell.execute_reply.started": "2024-08-10T13:48:30.348592Z"
    }
   },
   "outputs": [
    {
     "data": {
      "text/plain": [
       "array([335506.57620544, 244807.10511442, 212051.0345165 , 185066.15331643,\n",
       "       168000.24596853, 148918.34905623, 112510.83340209,  99329.48444433,\n",
       "        95140.26441454,  79978.97709016,  71872.98931731,  70295.41855281,\n",
       "        58642.17064567,  57797.84788158,  54416.08107528,  51094.27632925,\n",
       "        45432.48090442,  44087.7557423 ,  40634.96784429,  39529.38503822,\n",
       "        36946.57183798,  35169.451414  ,  33191.94921844,  31498.07839924,\n",
       "        30379.28062781,  28621.64409406,  27987.85491942,  26623.31466668,\n",
       "        25478.29769701,  23807.36816765,  22692.17429756,  21743.11666432,\n",
       "        20713.09877465,  20215.78534799,  19292.09319353,  18537.71836944,\n",
       "        17440.58129125,  16726.94208682,  16181.85994331,  15951.91565979,\n",
       "        15537.57647086,  15248.0604924 ,  14302.3838214 ,  13585.34380657,\n",
       "        13172.16484611,  12812.4365613 ,  12385.86119839,  11979.30992071,\n",
       "        11475.73209726,  10919.83699426,  10789.15231981,  10549.79757968,\n",
       "        10039.28673402,   9839.67219411,   9584.35154067,   9248.19161882,\n",
       "         9097.1273108 ,   8812.44209057,   8682.46342807,   8421.49695543,\n",
       "         8260.01115365,   8210.10902256,   7791.07770839,   7610.51511567,\n",
       "         7369.08914415,   7067.23924477,   6926.65443561,   6740.8044036 ,\n",
       "         6648.51073274,   6463.85567833,   6373.64443005,   6241.15565681,\n",
       "         6016.33029661,   5926.02905022,   5671.72988052,   5600.02607401,\n",
       "         5487.76439341,   5282.49884611,   5037.99019776,   4874.98257763,\n",
       "         4840.87184116,   4798.79417004,   4767.90789346,   4645.66474916,\n",
       "         4531.18131461,   4480.89958022,   4460.03041684,   4243.68636426,\n",
       "         4183.08046349,   4124.42995212,   3972.86737407,   3914.40199275,\n",
       "         3871.23071664,   3783.80809825,   3708.65809041,   3679.18999154,\n",
       "         3562.61239935,   3548.10457505,   3467.0409542 ,   3434.56215303,\n",
       "         3333.60494759,   3264.06626307,   3219.4790456 ,   3143.64005253,\n",
       "         3122.23554443,   3049.16894033,   2986.18133403,   2915.23077615,\n",
       "         2862.11687921,   2787.45612491,   2699.43593673,   2674.55191477,\n",
       "         2653.98494976,   2621.33595093,   2605.85036294,   2567.94686952,\n",
       "         2515.17479401,   2500.04575244,   2453.1331383 ,   2411.91758262,\n",
       "         2383.0583124 ,   2350.69177273,   2324.78882031,   2279.55885621,\n",
       "         2233.32417917,   2230.73604362,   2182.87109217,   2164.24191174,\n",
       "         2117.87314063,   2078.00664552,   2059.85531455,   2028.26449407,\n",
       "         2015.72421929,   2000.51827259,   1975.35253202,   1954.23703594,\n",
       "         1939.90912256,   1906.68252793,   1835.22585091,   1812.11480455,\n",
       "         1789.6317831 ,   1759.60096772,   1752.63374419,   1716.11944587,\n",
       "         1690.32018766,   1681.10079218,   1658.17973805,   1641.31618593,\n",
       "         1623.06824459,   1604.37303729,   1588.65644683,   1583.95522587,\n",
       "         1557.6802128 ,   1553.73849772,   1544.27752887,   1517.18008434,\n",
       "         1511.54550229,   1466.66765869,   1443.71885438,   1429.44559471,\n",
       "         1420.2354111 ,   1385.12708343,   1365.46256944,   1358.85777902,\n",
       "         1352.38954736,   1343.62245352,   1307.96839607,   1293.90922016,\n",
       "         1288.20112398,   1280.23581224,   1259.45123352,   1249.27793153,\n",
       "         1236.47626178,   1230.60392247,   1219.59056608,   1215.01254298,\n",
       "         1187.67892152,   1179.5439016 ,   1170.3144376 ,   1165.05633324,\n",
       "         1151.92574745,   1135.43389864,   1120.84507326,   1113.52272126,\n",
       "         1099.41937192,   1095.77044824,   1090.95787361,   1088.24793899,\n",
       "         1066.03664948,   1062.51269038,   1050.22553007,   1042.35446389,\n",
       "         1026.12026289,   1022.62391132,   1013.36792055,   1011.29448165,\n",
       "         1005.52437891,    989.03301344,    980.5362613 ,    973.27203568,\n",
       "          963.46861811,    950.26463524,    944.34082916,    926.44345402,\n",
       "          920.56343832,    916.44769839,    904.08423869,    899.79732511,\n",
       "          898.74751016,    886.15779249,    883.37868271,    878.55369207,\n",
       "          871.70064211,    869.39286077,    860.45102209,    850.55116894,\n",
       "          846.23236112,    837.03092322,    830.81012293,    825.00291332,\n",
       "          821.3256201 ,    819.93488806,    814.98144031,    805.00239993,\n",
       "          794.90387257,    788.45659172,    784.71891699,    779.94876726,\n",
       "          774.00515906,    770.95266076,    756.81601261,    750.90792777,\n",
       "          742.97635232,    740.39922495,    731.489472  ,    727.12100693,\n",
       "          721.71699492,    714.97901968,    710.28529188,    700.22589139,\n",
       "          696.97791696,    692.05886664,    689.29411588,    680.15407015,\n",
       "          674.07603232,    671.33089937,    665.38569359,    659.44479086,\n",
       "          657.08515225,    652.4274661 ,    651.4400466 ,    638.59206384,\n",
       "          633.82368114,    628.50188825,    627.16563162,    623.84943548,\n",
       "          623.5547637 ,    616.30254229,    615.45690427,    610.79301845,\n",
       "          603.98771193,    593.29232334,    589.57146702,    584.17681954,\n",
       "          582.87928296,    580.18685503,    578.03028167,    574.24156141,\n",
       "          565.03535787,    564.09385345,    559.43442252,    553.61140588,\n",
       "          553.08393543,    548.67275676,    543.70205491,    540.89800134,\n",
       "          534.22704633,    531.6838795 ,    527.81405225,    523.84588739,\n",
       "          520.60559991,    515.09408926,    514.35411226,    499.87248754,\n",
       "          497.14265072,    491.08997895,    487.98382087,    485.52451038,\n",
       "          484.17542585,    481.30996984,    475.14055231,    470.78194934,\n",
       "          467.97346246,    464.09278802,    460.70378404,    456.38554091,\n",
       "          449.21428214,    442.14758938,    437.53132018,    431.92950428])"
      ]
     },
     "execution_count": 17,
     "metadata": {},
     "output_type": "execute_result"
    }
   ],
   "source": [
    "pc.explained_variance_"
   ]
  },
  {
   "cell_type": "markdown",
   "metadata": {},
   "source": [
    "### To find the eigen vector of each PCA's we have to do:(Each PCA'S are 785 dimesnion that means 300 PCA contains 785 columns)"
   ]
  },
  {
   "cell_type": "code",
   "execution_count": 18,
   "metadata": {
    "execution": {
     "iopub.execute_input": "2024-08-10T13:48:30.370238Z",
     "iopub.status.busy": "2024-08-10T13:48:30.369614Z",
     "iopub.status.idle": "2024-08-10T13:48:30.384027Z",
     "shell.execute_reply": "2024-08-10T13:48:30.381915Z",
     "shell.execute_reply.started": "2024-08-10T13:48:30.370191Z"
    }
   },
   "outputs": [
    {
     "data": {
      "text/plain": [
       "array([[-5.08742506e-18, -1.85289325e-17,  5.85242472e-18, ...,\n",
       "        -0.00000000e+00, -0.00000000e+00, -0.00000000e+00],\n",
       "       [ 3.24001214e-17,  7.23566590e-17, -5.49829002e-17, ...,\n",
       "        -0.00000000e+00, -0.00000000e+00, -0.00000000e+00],\n",
       "       [-1.20489528e-17, -9.07782297e-18,  5.80314138e-17, ...,\n",
       "        -0.00000000e+00, -0.00000000e+00, -0.00000000e+00],\n",
       "       ...,\n",
       "       [-4.11336387e-17,  7.16695855e-17,  4.69013117e-17, ...,\n",
       "         0.00000000e+00,  0.00000000e+00,  0.00000000e+00],\n",
       "       [ 1.98536899e-18,  6.24205298e-17, -9.10803664e-17, ...,\n",
       "        -0.00000000e+00, -0.00000000e+00, -0.00000000e+00],\n",
       "       [ 2.83033291e-19, -3.08889870e-17,  6.70214021e-17, ...,\n",
       "         0.00000000e+00,  0.00000000e+00,  0.00000000e+00]])"
      ]
     },
     "execution_count": 18,
     "metadata": {},
     "output_type": "execute_result"
    }
   ],
   "source": [
    "pc.components_"
   ]
  },
  {
   "cell_type": "code",
   "execution_count": 19,
   "metadata": {
    "execution": {
     "iopub.execute_input": "2024-08-10T13:48:30.386942Z",
     "iopub.status.busy": "2024-08-10T13:48:30.386338Z",
     "iopub.status.idle": "2024-08-10T13:48:30.398722Z",
     "shell.execute_reply": "2024-08-10T13:48:30.396666Z",
     "shell.execute_reply.started": "2024-08-10T13:48:30.386896Z"
    }
   },
   "outputs": [
    {
     "data": {
      "text/plain": [
       "(300, 784)"
      ]
     },
     "execution_count": 19,
     "metadata": {},
     "output_type": "execute_result"
    }
   ],
   "source": [
    "pc.components_.shape"
   ]
  },
  {
   "cell_type": "markdown",
   "metadata": {},
   "source": [
    "### There are 300 PCA with 784 columns"
   ]
  },
  {
   "cell_type": "markdown",
   "metadata": {},
   "source": [
    "## How can we find how many components are required in PCA? To find this do this.  Ans:The component till which we can get 90% variance should be used."
   ]
  },
  {
   "cell_type": "code",
   "execution_count": 20,
   "metadata": {
    "execution": {
     "iopub.execute_input": "2024-08-10T13:48:30.402569Z",
     "iopub.status.busy": "2024-08-10T13:48:30.401708Z",
     "iopub.status.idle": "2024-08-10T13:48:30.419223Z",
     "shell.execute_reply": "2024-08-10T13:48:30.417307Z",
     "shell.execute_reply.started": "2024-08-10T13:48:30.402489Z"
    }
   },
   "outputs": [
    {
     "data": {
      "text/plain": [
       "array([0.09770722, 0.07129345, 0.06175413, 0.05389551, 0.04892553,\n",
       "       0.04336844, 0.03276574, 0.02892703, 0.02770703, 0.02329171,\n",
       "       0.02093107, 0.02047164, 0.01707795, 0.01683206, 0.01584721,\n",
       "       0.01487983, 0.01323098, 0.01283937, 0.01183384, 0.01151186,\n",
       "       0.01075969, 0.01024215, 0.00966626, 0.00917296, 0.00884714,\n",
       "       0.00833528, 0.00815071, 0.00775332, 0.00741987, 0.00693325,\n",
       "       0.00660848, 0.00633209, 0.00603213, 0.0058873 , 0.0056183 ,\n",
       "       0.00539861, 0.0050791 , 0.00487127, 0.00471253, 0.00464556,\n",
       "       0.0045249 , 0.00444059, 0.00416518, 0.00395636, 0.00383604,\n",
       "       0.00373128, 0.00360705, 0.00348865, 0.003342  , 0.00318011,\n",
       "       0.00314205, 0.00307234, 0.00292367, 0.00286554, 0.00279118,\n",
       "       0.00269329, 0.00264929, 0.00256639, 0.00252853, 0.00245253,\n",
       "       0.0024055 , 0.00239097, 0.00226894, 0.00221636, 0.00214605,\n",
       "       0.00205814, 0.0020172 , 0.00196308, 0.0019362 , 0.00188242,\n",
       "       0.00185615, 0.00181757, 0.00175209, 0.0017258 , 0.00165174,\n",
       "       0.00163086, 0.00159816, 0.00153838, 0.00146718, 0.00141971,\n",
       "       0.00140977, 0.00139752, 0.00138852, 0.00135292, 0.00131958,\n",
       "       0.00130494, 0.00129886, 0.00123586, 0.00121821, 0.00120113,\n",
       "       0.00115699, 0.00113996, 0.00112739, 0.00110193, 0.00108005,\n",
       "       0.00107146, 0.00103751, 0.00103329, 0.00100968, 0.00100022,\n",
       "       0.00097082, 0.00095057, 0.00093759, 0.0009155 , 0.00090927,\n",
       "       0.00088799, 0.00086964, 0.00084898, 0.00083351, 0.00081177,\n",
       "       0.00078614, 0.00077889, 0.0007729 , 0.00076339, 0.00075888,\n",
       "       0.00074785, 0.00073248, 0.00072807, 0.00071441, 0.00070241,\n",
       "       0.000694  , 0.00068458, 0.00067703, 0.00066386, 0.0006504 ,\n",
       "       0.00064964, 0.0006357 , 0.00063028, 0.00061677, 0.00060516,\n",
       "       0.00059988, 0.00059068, 0.00058703, 0.0005826 , 0.00057527,\n",
       "       0.00056912, 0.00056495, 0.00055527, 0.00053446, 0.00052773,\n",
       "       0.00052118, 0.00051244, 0.00051041, 0.00049977, 0.00049226,\n",
       "       0.00048958, 0.0004829 , 0.00047799, 0.00047267, 0.00046723,\n",
       "       0.00046265, 0.00046128, 0.00045363, 0.00045248, 0.00044973,\n",
       "       0.00044184, 0.0004402 , 0.00042713, 0.00042044, 0.00041629,\n",
       "       0.00041361, 0.00040338, 0.00039765, 0.00039573, 0.00039385,\n",
       "       0.00039129, 0.00038091, 0.00037682, 0.00037515, 0.00037283,\n",
       "       0.00036678, 0.00036382, 0.00036009, 0.00035838, 0.00035517,\n",
       "       0.00035384, 0.00034588, 0.00034351, 0.00034082, 0.00033929,\n",
       "       0.00033547, 0.00033066, 0.00032642, 0.00032428, 0.00032018,\n",
       "       0.00031911, 0.00031771, 0.00031692, 0.00031045, 0.00030943,\n",
       "       0.00030585, 0.00030356, 0.00029883, 0.00029781, 0.00029512,\n",
       "       0.00029451, 0.00029283, 0.00028803, 0.00028555, 0.00028344,\n",
       "       0.00028058, 0.00027674, 0.00027501, 0.0002698 , 0.00026809,\n",
       "       0.00026689, 0.00026329, 0.00026204, 0.00026174, 0.00025807,\n",
       "       0.00025726, 0.00025586, 0.00025386, 0.00025319, 0.00025058,\n",
       "       0.0002477 , 0.00024644, 0.00024376, 0.00024195, 0.00024026,\n",
       "       0.00023919, 0.00023878, 0.00023734, 0.00023444, 0.00023149,\n",
       "       0.00022962, 0.00022853, 0.00022714, 0.00022541, 0.00022452,\n",
       "       0.0002204 , 0.00021868, 0.00021637, 0.00021562, 0.00021303,\n",
       "       0.00021175, 0.00021018, 0.00020822, 0.00020685, 0.00020392,\n",
       "       0.00020298, 0.00020154, 0.00020074, 0.00019808, 0.00019631,\n",
       "       0.00019551, 0.00019378, 0.00019205, 0.00019136, 0.00019   ,\n",
       "       0.00018971, 0.00018597, 0.00018458, 0.00018303, 0.00018265,\n",
       "       0.00018168, 0.00018159, 0.00017948, 0.00017924, 0.00017788,\n",
       "       0.0001759 , 0.00017278, 0.0001717 , 0.00017013, 0.00016975,\n",
       "       0.00016896, 0.00016834, 0.00016723, 0.00016455, 0.00016428,\n",
       "       0.00016292, 0.00016122, 0.00016107, 0.00015979, 0.00015834,\n",
       "       0.00015752, 0.00015558, 0.00015484, 0.00015371, 0.00015256,\n",
       "       0.00015161, 0.00015001, 0.00014979, 0.00014557, 0.00014478,\n",
       "       0.00014302, 0.00014211, 0.0001414 , 0.000141  , 0.00014017,\n",
       "       0.00013837, 0.0001371 , 0.00013628, 0.00013515, 0.00013417,\n",
       "       0.00013291, 0.00013082, 0.00012876, 0.00012742, 0.00012579])"
      ]
     },
     "execution_count": 20,
     "metadata": {},
     "output_type": "execute_result"
    }
   ],
   "source": [
    "pc.explained_variance_ratio_ \n",
    "#This will give ratio of each pc i.e for each ev from i to n = evi/(ev1+ev2+....evn)"
   ]
  },
  {
   "cell_type": "code",
   "execution_count": 21,
   "metadata": {
    "execution": {
     "iopub.execute_input": "2024-08-10T13:49:46.097185Z",
     "iopub.status.busy": "2024-08-10T13:49:46.096660Z",
     "iopub.status.idle": "2024-08-10T13:49:46.106146Z",
     "shell.execute_reply": "2024-08-10T13:49:46.104681Z",
     "shell.execute_reply.started": "2024-08-10T13:49:46.097144Z"
    }
   },
   "outputs": [
    {
     "data": {
      "text/plain": [
       "(300,)"
      ]
     },
     "execution_count": 21,
     "metadata": {},
     "output_type": "execute_result"
    }
   ],
   "source": [
    "pc.explained_variance_ratio_.shape"
   ]
  },
  {
   "cell_type": "markdown",
   "metadata": {},
   "source": [
    "### There are 300 eigen value for each PCA in above array.They are represented in form of ratio i.e. for ith ev = evi/(ev1+ev2....evn).Now ev1 dekhi evn samma joddei jada kati samma ma chai 0.90 or 90 % aauxa tetiota component hamilai chainxa"
   ]
  },
  {
   "cell_type": "code",
   "execution_count": 26,
   "metadata": {
    "execution": {
     "iopub.execute_input": "2024-08-10T14:00:51.120555Z",
     "iopub.status.busy": "2024-08-10T14:00:51.120014Z",
     "iopub.status.idle": "2024-08-10T14:00:51.127149Z",
     "shell.execute_reply": "2024-08-10T14:00:51.125554Z",
     "shell.execute_reply.started": "2024-08-10T14:00:51.120519Z"
    }
   },
   "outputs": [],
   "source": [
    "Commulative_variance = np.cumsum(pc.explained_variance_ratio_)"
   ]
  },
  {
   "cell_type": "markdown",
   "metadata": {},
   "source": [
    "<img src= \"PCA2.png\"/>"
   ]
  },
  {
   "cell_type": "markdown",
   "metadata": {},
   "source": [
    "### Here we encocounter 90% variance at the circle of blue color.So we need coomponent upto there which can be calculated as"
   ]
  },
  {
   "cell_type": "code",
   "execution_count": 29,
   "metadata": {
    "execution": {
     "iopub.execute_input": "2024-08-10T14:01:41.330448Z",
     "iopub.status.busy": "2024-08-10T14:01:41.329181Z",
     "iopub.status.idle": "2024-08-10T14:01:41.338785Z",
     "shell.execute_reply": "2024-08-10T14:01:41.337390Z",
     "shell.execute_reply.started": "2024-08-10T14:01:41.330373Z"
    }
   },
   "outputs": [
    {
     "data": {
      "text/plain": [
       "86"
      ]
     },
     "execution_count": 29,
     "metadata": {},
     "output_type": "execute_result"
    }
   ],
   "source": [
    "np.argmax(Commulative_variance>=0.90)"
   ]
  },
  {
   "cell_type": "markdown",
   "metadata": {},
   "source": [
    "### So we need minimum of 86 components."
   ]
  },
  {
   "cell_type": "code",
   "execution_count": null,
   "metadata": {},
   "outputs": [],
   "source": []
  }
 ],
 "metadata": {
  "kaggle": {
   "accelerator": "none",
   "dataSources": [
    {
     "databundleVersionId": 861823,
     "sourceId": 3004,
     "sourceType": "competition"
    }
   ],
   "dockerImageVersionId": 30746,
   "isGpuEnabled": false,
   "isInternetEnabled": false,
   "language": "python",
   "sourceType": "notebook"
  },
  "kernelspec": {
   "display_name": "Python 3 (ipykernel)",
   "language": "python",
   "name": "python3"
  },
  "language_info": {
   "codemirror_mode": {
    "name": "ipython",
    "version": 3
   },
   "file_extension": ".py",
   "mimetype": "text/x-python",
   "name": "python",
   "nbconvert_exporter": "python",
   "pygments_lexer": "ipython3",
   "version": "3.12.4"
  }
 },
 "nbformat": 4,
 "nbformat_minor": 4
}
