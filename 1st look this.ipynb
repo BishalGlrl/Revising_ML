{
 "cells": [
  {
   "cell_type": "markdown",
   "id": "90bb9959-65fb-4e80-8af0-01ac6c6d19fa",
   "metadata": {},
   "source": [
    "## 0) What are the steps in building machine learning model<br> <br>-Define a problem(Why you want to use model)<br>-Data Collection<br>-Data cleaning(error,duplicates,null,outliers,scaling,PCA)<br>-Choose a model appropriate<br>-Train a model<br>-Evaluate the model accuracy<br>-Tune hyperparameters<br>-Use cross validation technique to validate model(K-Fold Cross validation)"
   ]
  },
  {
   "cell_type": "markdown",
   "id": "928e28cc-4209-4092-bf3e-503b749721c2",
   "metadata": {},
   "source": [
    "## FUNCTION TO LOOKK"
   ]
  },
  {
   "cell_type": "markdown",
   "id": "7cb31718-f34d-4612-b8c7-eaef07e95d99",
   "metadata": {},
   "source": [
    "nunique(),value_count(),describe(),info(),.iloc()"
   ]
  },
  {
   "cell_type": "markdown",
   "id": "5fd554d4-c26e-4fb0-877b-939afba57fc5",
   "metadata": {},
   "source": [
    "numpy array lai data frame lai convert garna <p style = 'color:red;'> pd.DataFrame(name_of_array) <p>.and to convert pandas DataFrame to nympy array you have to use <p style = 'color:red;'>name_of_dataframe.values</p>"
   ]
  },
  {
   "cell_type": "markdown",
   "id": "353fcb12-8bd9-4d5c-9d88-c511314c564b",
   "metadata": {},
   "source": [
    "## 1) In machine learning,Every input feature(X) must be inpendent of each other and the output feature i.e. Y is dependent on input features\n"
   ]
  },
  {
   "cell_type": "markdown",
   "id": "03f6b698-7922-4163-bfda-fd3acac8791b",
   "metadata": {},
   "source": [
    "## 2) In machine learning, While using SimpleInputer,then it will by default calculate the mean of the given column of the dataframe and append that mean to the column.Now if we want to insert in other way,i.e. if we have categorical data,whose mean is not possible to calculate,thwn we can fill the missing value with the most occured value in column as :\n",
    "<h3 style = 'color : red;'>SimpleInputer(strategy = 'most_frequent')</h3>"
   ]
  },
  {
   "cell_type": "markdown",
   "id": "d390dca2-b035-48cc-bfa3-12bebf82ae81",
   "metadata": {},
   "source": [
    "### 3) bi = pd.concat([df,number],axis = 1) #Axis 1 vayo vaney side bata jodxa i.e. column wise jodne.Axis 0 vayo vaney tala bata i.e. row jodne.<br><br>In Y.rename(columns={0 :'target'},axis = 1,inplace = True), axis=1 means you're working with columns, not rows.If you want to rename rows then use Y.rename(index={0: 'new_label'}, axis=0, inplace=True) .But you should not have to specify axis if you write columns or index like :<br>Y.rename(columns={0 :'target'},inplace = True) <br> Y.rename(index={0: 'new_label'}, inplace=True)\r\n"
   ]
  },
  {
   "cell_type": "markdown",
   "id": "dd313f0a-8f60-4b81-82ab-ab918378ec54",
   "metadata": {},
   "source": [
    "### 4) bi['number'].nunique() will show the number of unique value in a column whereas only unique will show the unique value in column"
   ]
  },
  {
   "cell_type": "markdown",
   "id": "bb01fb9b-2884-498c-a50b-4f91c7cd988c",
   "metadata": {},
   "source": [
    "### 5) df.value_count().sum() It will show total columns in the data frame"
   ]
  },
  {
   "cell_type": "markdown",
   "id": "292fa785-c924-4970-a0cc-850db4d53f04",
   "metadata": {},
   "source": [
    "### 6) df.isnull() is used to find null values and we can use df.isnull().mean to find average data missing and df.isnull().sum to find total data missing"
   ]
  },
  {
   "cell_type": "markdown",
   "id": "5224ff4e-640e-4a70-89f3-e58f7503913f",
   "metadata": {},
   "source": [
    "### 7) df['column_name'].mode() gives the frequentky occured value in the column"
   ]
  },
  {
   "cell_type": "markdown",
   "id": "c799ac3d-ed55-460d-ae3b-84c152cd84c9",
   "metadata": {},
   "source": [
    "### 8) Selecting only the numeric column from the dataset\n",
    "numeric_df = pd.DataFrame() <br>\n",
    "for cols in df.columns:<br>\n",
    "    if pd.api.types.is_numeric_dtype(df[cols]):<br>\n",
    "        numeric_df[cols] = df[cols]<br>"
   ]
  },
  {
   "cell_type": "markdown",
   "id": "020d28be-d261-4ca3-a1aa-b3fef125f1b8",
   "metadata": {},
   "source": [
    "### 9) This gives duplicated column name\n",
    " df.columns[df.columns.duplicated()] <br>\n",
    " #Remove duplicate columns, keeping the first occurrence <br>\n",
    "df = df.loc[:, ~df.columns.duplicated()] <br>"
   ]
  },
  {
   "cell_type": "markdown",
   "id": "7ff63d8c-5bbd-48a0-9243-3509529fb6c4",
   "metadata": {},
   "source": [
    "### 10) Generating a dataframe with a random binary numbers\n",
    "np.random.seed(43) ##This code is used to generate the same output randomly everytime the code runs.We can input anynumber here in random seed.But you have to write a code that generate the random number in this same box <br>\n",
    "\n",
    "mean_vector1 = np.array([0,0,0]) #This specifies the mean vector which is the mean of all the vectors to be generated<br>\n",
    "mean_vector2 = np.array([1,1,1]) #This specifies another mean vector which is the mean of all the vectors to be generated<br>\n",
    "cov_matrix = np.array([[1, 0, 0], [0, 1, 0], [0, 0, 1]]) ## This is the covariance matrix,which defines the spread of data and relationship between axis.<br>\n",
    "\n",
    "#If i want a 4D data to be generated,then i have to specify 4D mean and 4D of covariance<br>\n",
    "first_20_random1 = np.random.multivariate_normal(mean_vector1,cov_matrix,20) # I want a 20 data with mean [0,0,0] and with given spread<br>\n",
    "first_20_random2 = np.random.multivariate_normal(mean_vector2,cov_matrix,20)<br>\n",
    "\n",
    "data = np.vstack([first_20_random1,first_20_random2])<br>\n",
    "df = pd.DataFrame(data)<br>\n",
    "\n",
    "\n",
    "\n",
    "target = np.hstack([np.zeros(20),np.ones(20)])<br>\n",
    "target = pd.DataFrame(target)<br>\n",
    "df = np.hstack([df,target])<br>\n",
    "df = pd.DataFrame(df)<br>\n",
    "\n",
    "df = df.rename(columns={0:'feature1',1:'feature2',2:'feature3',3:'target'})"
   ]
  },
  {
   "cell_type": "markdown",
   "id": "5a55ee1d-7f31-4f19-86aa-cb28612bcf65",
   "metadata": {},
   "source": [
    "### 11)For plotting image in matplotlib where all the pixels value of image are given,do this\n",
    "import matplotlib.pyplot as plt <br>\n",
    "plt.imshow(df.iloc[19002,1:].values.reshape(28,28)) \n",
    "### Here i select the image of row 19002 and all the pixels column after one.There were total of 785 columns including one label.So i reshape 784 imput columns to 28*28 pixels"
   ]
  },
  {
   "cell_type": "markdown",
   "id": "5ca71fb2-075b-4733-8c93-9e2b27a45017",
   "metadata": {},
   "source": [
    "### 12) To know the type of an X_train object\n",
    "type(X_train)"
   ]
  },
  {
   "cell_type": "markdown",
   "id": "357c0366-edd7-4f07-bd47-2f2b034914ea",
   "metadata": {},
   "source": [
    "### 13) Difference between series and dataframe is that they both are a data type of pandas where Series is 1 dimensional that contains only one column with their associate index but dataframe contains rows and columns together in 2D form"
   ]
  },
  {
   "cell_type": "markdown",
   "id": "c7c24c1f-597b-4a4c-ae80-ecc331cb8865",
   "metadata": {},
   "source": [
    "## 14) For generating random classification or regression dataset you can use\n",
    "X,Y = make_regression(n_samples = 4, n_features = 1,random_state=43)\n"
   ]
  },
  {
   "cell_type": "markdown",
   "id": "39c6ec43-0904-4dd1-8dcf-fc831952a756",
   "metadata": {},
   "source": [
    "## 14) If you want to know the dimensionality of array ,then convert the array to dataframe and jati ota column xa tetiota nei dimension"
   ]
  },
  {
   "cell_type": "markdown",
   "id": "82a2d66e-edbc-4c2f-b1df-98e9c34c1b0e",
   "metadata": {},
   "source": [
    "## 15) This array ([120.20589414,  58.0091255 ,  28.68420753,  70.28750617]) means 1 row,4 column so it is 4D.<br>\n",
    "This array ([[120.20589414], <br>\r",
    "      [ 58.0091255 ]<br>,       [ 28.68420753<br>]\n",
    "       [ 70.28750617 means 4 row 1 column so 1 D<br>]])"
   ]
  },
  {
   "cell_type": "markdown",
   "id": "58875648-70b7-402d-b182-842c6a6bf19f",
   "metadata": {},
   "source": [
    "### 16) reshape function is used to change the shape (dimension ) of the array.if it is reshape(3,4) then it change the array to the shape of 3 rows 4 column and if it is reshape(4) then it changes array to 1D with 4 elements"
   ]
  },
  {
   "cell_type": "markdown",
   "id": "7e4ec932-0ed0-4ba7-a793-670c7300a554",
   "metadata": {},
   "source": [
    " 17) If array is like ([[ 0.25739993], <br>\n",
    "                        [-0.5349156 ],<br>\n",
    "                        [-0.90848143],<br>\n",
    "                        [-0.37850311]])) <br>\n",
    "then it will act as a matrix of <br>\n",
    "[-0.5349156<br>\n",
    "                                 -0.9-848143<br>\n",
    "                                 -0.37850311]<br>\n",
    "and adding anything to this for eg doing -1 will return it as <br>\n",
    "[-1.5349156<br>\n",
    "                                                                 -1.9-848143<br>\n",
    "                                                                 -1.37850311]<br>\n",
    "and as array it will be seem as <br>\n",
    "[-1.5349156 ],<br>\n",
    "                                [-1.90848143],<br>\n",
    "                                [-1.37850311]<br>"
   ]
  },
  {
   "cell_type": "markdown",
   "id": "e782860b-e9da-4769-936e-bf877ca763e3",
   "metadata": {},
   "source": [
    "## 18) Use of ravel in multidimesnional array\n",
    "<img src = 'ravel.png'/>"
   ]
  },
  {
   "cell_type": "markdown",
   "id": "741cbe83-413b-40a5-b3fc-428597aead8a",
   "metadata": {},
   "source": [
    "<h2>19) When r2_score comes negative ,it implies that our model is poorly predicting the output and wither we need to change the model or we need to preprocess our data more weely as it may be less nicely preprocesssed</h2>"
   ]
  },
  {
   "cell_type": "markdown",
   "id": "d4a7f9a9-cd52-4d8f-bcc4-42602f856947",
   "metadata": {},
   "source": [
    "### 20) Multivariate analysis ko lagi plt ko scatter ra sns ko barplot herne ra univariate ko lagi countplot herne"
   ]
  },
  {
   "cell_type": "markdown",
   "id": "0c8e8c20-37a4-498a-b75e-bb7a3a0c3818",
   "metadata": {},
   "source": [
    "## 21) If flower is a name of a dataframe with a column 'name',then to access a value of flower simply do 'flower.name'.<br>You can apply for loop or if loop to these values"
   ]
  },
  {
   "cell_type": "markdown",
   "id": "88629e04-cf96-4d10-bbd4-160c3ca29d91",
   "metadata": {},
   "source": [
    "### 22) df1 = dataframe[dataframe.targets == 1] ## dataframe vanne dataframe ko targets column ko value 0 vayeko row ko whole row ko value select garera euta faltei dataframe return garcha(look in tut 31)"
   ]
  },
  {
   "cell_type": "markdown",
   "id": "ca7582e3-1083-4a8d-9c65-f2b83ecc16a7",
   "metadata": {},
   "source": [
    "## 23) Iterating through each item(each row's value) in 'target' columns of 'Y' dataframe and if the value of the row has 0 then it will append 0 in list and so on\n"
   ]
  },
  {
   "cell_type": "raw",
   "id": "4abfebc1-dc15-4924-b133-817abd1b6517",
   "metadata": {},
   "source": [
    "flower = []\n",
    "for val in Y.targets:\n",
    "    if val == 0:\n",
    "            flower.append('setosa')\n",
    "    elif val == 1:\n",
    "        flower.append('versicolor')\n",
    "    elif val == 2 :\n",
    "        flower.append('virginica')\n",
    "flower = pd.DataFrame(flower)"
   ]
  },
  {
   "cell_type": "markdown",
   "id": "e00b1406-b83a-4398-8d4a-cb1326c61051",
   "metadata": {},
   "source": [
    "## 24 )<br><br>\n",
    "dataframe =  pd.concat([X,Y],axis = 1,ignore_index = True),<br><br>\n",
    "### This will combine two dataframe X and Y but their column will be in integer from 0 onwards so keep the column name as<br><br>\n",
    "temp = np.hstack([X.columns,Y.columns])<br><br>\n",
    "###Then use this column name<br><br>\n",
    "dataframe.columns = temp"
   ]
  },
  {
   "cell_type": "markdown",
   "id": "734494e8-5156-472c-921f-77c411d33f9c",
   "metadata": {},
   "source": [
    "### 25) Always keep in mind that X can contain any dimension i.e. feature in it but Y should have only one dimension i.e. only one target column"
   ]
  },
  {
   "cell_type": "markdown",
   "id": "8edf1272-5683-4e61-8877-1db79ef76a01",
   "metadata": {},
   "source": [
    "## 26)"
   ]
  },
  {
   "cell_type": "raw",
   "id": "f9657019-8622-468f-99c9-ed0bd5069e1e",
   "metadata": {},
   "source": [
    "dataframe.iloc[:,-2:-1] "
   ]
  },
  {
   "cell_type": "markdown",
   "id": "3da93084-0ff0-4957-817d-9d0b32099000",
   "metadata": {},
   "source": [
    "### THis will extract only the second last column i.e. -2:-1 or second_last: last means means only selecting second last "
   ]
  },
  {
   "cell_type": "markdown",
   "id": "daa5822d-5eff-4f56-ad59-58651d3a25c7",
   "metadata": {},
   "source": [
    "## 27) Logistic regression is a classification model whereas LinearRegression is a regression model"
   ]
  },
  {
   "cell_type": "markdown",
   "id": "bb680061-5e87-4a99-8ff1-dec91996b5e9",
   "metadata": {},
   "source": [
    "### 28)<br> \n",
    "df.drop_duplicates() \n",
    "### This will keep the first occurance and drop others"
   ]
  },
  {
   "cell_type": "markdown",
   "id": "e484b15d-6f97-44d2-a760-c3bb41d4f8ce",
   "metadata": {},
   "source": [
    "## 29) Date and time lai pani handle garna sikhne"
   ]
  },
  {
   "cell_type": "markdown",
   "id": "a833a003-abd5-4535-9c19-cb82712f3af5",
   "metadata": {},
   "source": [
    "### 30) To find the data type of all the columns in dataframe 'df' do \n",
    "df.dtypes"
   ]
  },
  {
   "cell_type": "markdown",
   "id": "d9e0dd2e-93f5-4580-a56a-5302b2754699",
   "metadata": {},
   "source": [
    "#### 31) If you just want to scale the whole value in dataframe,the you can directly do\n",
    "from sklearn.preprocessing import MinMaxScaler<br>\n",
    "scale = MinMaxScaler()<br>\n",
    "scale.fit_transform(df)<br><br>\n",
    "#### But here like using  fit_tranform in X_train and only transform in X_test,Just use fit_transform in dataframe"
   ]
  },
  {
   "cell_type": "markdown",
   "id": "43653a47-c580-434c-94e4-addd9e737bb8",
   "metadata": {},
   "source": [
    "### 32) <br>\n",
    "#### df= df[['Pclass','Sex','Age','Fare','Survived']] <br>\n",
    "### Here i want to only keep Pclass,Sex,Age,Fare,Survived <br>"
   ]
  },
  {
   "cell_type": "markdown",
   "id": "b745e5b1-3e0d-4cd2-a075-44dcb284108d",
   "metadata": {},
   "source": [
    "## 33)If we want to iterate through two datas in a single for loop then"
   ]
  },
  {
   "cell_type": "raw",
   "id": "c0cccde8-1cf8-4113-bc8c-08f0c7ab657e",
   "metadata": {},
   "source": [
    "for words,vectrs in zip(data,arrays):\n",
    "    print(f\"THE VECTOR FOR WORD '{words}' IS \\n {vectrs}\")"
   ]
  },
  {
   "cell_type": "markdown",
   "id": "20218861-60b2-4532-8c3d-f09d7b23c36b",
   "metadata": {},
   "source": [
    "#### where data and array are in the form of list.We have to pass this two data in the zip method as parameter and can access data inside this"
   ]
  },
  {
   "cell_type": "markdown",
   "id": "e1618b43-e876-4da9-9565-59210ae5170a",
   "metadata": {},
   "source": [
    "### 34) For using get_dummies,you simply have to do"
   ]
  },
  {
   "cell_type": "raw",
   "id": "60379ba3-2091-4bd7-8911-821e71803d40",
   "metadata": {},
   "source": [
    "temp = pd.get_dummies(df['Category'],dtype=np.int_)"
   ]
  },
  {
   "cell_type": "markdown",
   "id": "3d3d4f3c-3c2a-43f9-bcbd-713b382455d0",
   "metadata": {},
   "source": [
    "### 35) Countvectorizer method ma fit garda whole dataframe lai matra navayera kun chai column ma count vectorizer laune ho teslai matra garnu parxa"
   ]
  },
  {
   "cell_type": "raw",
   "id": "2e00afdb-0be7-453f-80f3-82f6d448e4b9",
   "metadata": {},
   "source": [
    "cv.fit_transform(new_df['Message'])"
   ]
  },
  {
   "cell_type": "markdown",
   "id": "ebbf09ea-307d-4d0b-84aa-3d7e680e990b",
   "metadata": {},
   "source": [
    "#### Here i just want to apply countvectorizer in Message column of new_dataframe"
   ]
  },
  {
   "cell_type": "markdown",
   "id": "0a09f33e-48d1-4cd2-b0b2-edcf702e0489",
   "metadata": {},
   "source": [
    "### 36) There are three types of encoding <br><br>1) One hot encoding using pd.get_dummie(for categorical data that are not in order like names,school e.t.c)<br><br>2) Ordinal encoding suing ordinalencoder(For categorical data that are in order like Small,medium,Large)<br><br>3) Binary Encoding using LabelEncoder(For categorical data with two classes like spam,notspam and male,female)<br><br><br><br>"
   ]
  },
  {
   "cell_type": "markdown",
   "id": "b5ca682d-a441-428d-9994-200591fd0fe2",
   "metadata": {},
   "source": [
    "### 37) df[['column_name']] returns a column as a dataframe,whereas df['column_name'] returns a value as a series"
   ]
  },
  {
   "cell_type": "markdown",
   "id": "1f165a36-b958-463e-908a-3a825f075fd8",
   "metadata": {},
   "source": [
    "### 38) Always be sure while doing train_test split,X must be in dataframe and Y must be in series or dataframe.To ensure that X must be in dataframe,do \"X=df[['column_name']] or df.drop('other_column',axis=1)\".Dont do X = df['column_name'].<br><br>But for Y you can have a series value by doing Y = df['column_name']"
   ]
  },
  {
   "cell_type": "markdown",
   "id": "eb3d02da-1727-4795-877a-a83d8ba72542",
   "metadata": {},
   "source": [
    "### 39) the difference between fit('data') and fit_transform('data') is that,when we apply fit_transform method then model gets fit i.e. learns the pattern from data and then transforms the 'data' passed there it is used basically in encoders like LabelEncoder that fit the classifier and then transofrm the data too i.e. X_train data and apply 0 and 1.But in fit method,only the classifier gets fit.No need to transform the data.For eg in LinearRegression,model only need to be fit to predict the future input value and data should not be transformed"
   ]
  },
  {
   "cell_type": "markdown",
   "id": "c7af5fe3-5194-4598-9e34-af6b08a04b06",
   "metadata": {},
   "source": [
    "### 40) LabelEncoder only handles one column,so it cannot work with column transformer.Instead OrdinalEncoder and OneHotEncoder is designed to work with multiple columns so it can be used within column transformer.But if you just want to use labelEncoder inside column transformer,then use OrdinalEncoder as it works similar to LabelEncoder"
   ]
  },
  {
   "cell_type": "markdown",
   "id": "042866ce-bf65-49ed-8778-08cb3a56b882",
   "metadata": {},
   "source": [
    "### 41) In r2_score,the higher value indicates the more fit to model.Hence among two model,the model having higherr r2_value will be goos"
   ]
  },
  {
   "cell_type": "markdown",
   "id": "3c0be2fc-befd-4f93-b3a9-f2e2987b671e",
   "metadata": {},
   "source": [
    "### 42) df.describe() will be giving a description of values in data columns like mean of the values in each column with max and min value in each column"
   ]
  },
  {
   "cell_type": "markdown",
   "id": "7debc7a0-471b-4994-b143-183a5a4d0633",
   "metadata": {},
   "source": [
    "### 43) \"df['column_name'].value_counts\" will give the total unique value in the column with their total occurance in the column"
   ]
  },
  {
   "cell_type": "markdown",
   "id": "50d87ae8-3684-4943-bd55-a54d1dd2b610",
   "metadata": {},
   "source": [
    "### 44) When doing \"train_test_split\" to the X that have been preprocessed and Y as obtained from dataset,pass another argument called as stratify=target_label_name to ensure same ratio of class label in both train and test split as <br><br><h3>X_train,X_test,Y_train,Y_test = train_test_split(X_scaled,Y,stratify=Y,test_size=0.2,random_state=43),in stratify = Y,Y is the name of target column<h3>"
   ]
  },
  {
   "cell_type": "code",
   "execution_count": null,
   "id": "2313e0cc-c619-4a72-a2a9-ebe394adf974",
   "metadata": {},
   "outputs": [],
   "source": []
  }
 ],
 "metadata": {
  "kernelspec": {
   "display_name": "Python 3 (ipykernel)",
   "language": "python",
   "name": "python3"
  },
  "language_info": {
   "codemirror_mode": {
    "name": "ipython",
    "version": 3
   },
   "file_extension": ".py",
   "mimetype": "text/x-python",
   "name": "python",
   "nbconvert_exporter": "python",
   "pygments_lexer": "ipython3",
   "version": "3.12.4"
  }
 },
 "nbformat": 4,
 "nbformat_minor": 5
}
