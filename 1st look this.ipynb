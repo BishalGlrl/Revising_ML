{
 "cells": [
  {
   "cell_type": "markdown",
   "id": "90bb9959-65fb-4e80-8af0-01ac6c6d19fa",
   "metadata": {},
   "source": [
    "<img src='Screenshot (73).png'>"
   ]
  },
  {
   "cell_type": "markdown",
   "id": "928e28cc-4209-4092-bf3e-503b749721c2",
   "metadata": {},
   "source": [
    "## FUNCTION TO LOOKK"
   ]
  },
  {
   "cell_type": "markdown",
   "id": "7cb31718-f34d-4612-b8c7-eaef07e95d99",
   "metadata": {},
   "source": [
    "nunique(),value_count(),describe(),info(),.iloc()"
   ]
  },
  {
   "cell_type": "markdown",
   "id": "5fd554d4-c26e-4fb0-877b-939afba57fc5",
   "metadata": {},
   "source": [
    "numpy array lai data frame lai convert garna <p style = 'color:red;'> pd.DataFrame(name_of_array) <p>.and to convert pandas DataFrame to nympy array you have to use <p style = 'color:red;'>name_of_dataframe.values</p>"
   ]
  },
  {
   "cell_type": "markdown",
   "id": "353fcb12-8bd9-4d5c-9d88-c511314c564b",
   "metadata": {},
   "source": [
    "## 1) In machine learning,Every input feature(X) must be inpendent of each other and the output feature i.e. Y is dependent on input features\n"
   ]
  },
  {
   "cell_type": "markdown",
   "id": "03f6b698-7922-4163-bfda-fd3acac8791b",
   "metadata": {},
   "source": [
    "## 2) In machine learning, While using SimpleInputer,then it will by default calculate the mean of the given column of the dataframe and append that mean to the column.Now if we want to insert in other way,i.e. if we have categorical data,whose mean is not possible to calculate,thwn we can fill the missing value with the most occured value in column as :\n",
    "<h3 style = 'color : red;'>SimpleInputer(strategy = 'most_frequent')</h3>"
   ]
  },
  {
   "cell_type": "markdown",
   "id": "d390dca2-b035-48cc-bfa3-12bebf82ae81",
   "metadata": {},
   "source": [
    "### 3) bi = pd.concat([df,number],axis = 1) #Axis 1 vayo vaney side bata jodxa.Axis 0 vayo vaney tala bata"
   ]
  },
  {
   "cell_type": "markdown",
   "id": "dd313f0a-8f60-4b81-82ab-ab918378ec54",
   "metadata": {},
   "source": [
    "### 4) bi['number'].nunique() will show the number of unique value in a column whereas only unique will show the unique value in column"
   ]
  },
  {
   "cell_type": "markdown",
   "id": "bb01fb9b-2884-498c-a50b-4f91c7cd988c",
   "metadata": {},
   "source": [
    "### 5) df.value_count().sum() It will show total columns in the data frame"
   ]
  },
  {
   "cell_type": "markdown",
   "id": "292fa785-c924-4970-a0cc-850db4d53f04",
   "metadata": {},
   "source": [
    "### 6) df.isnull() is used to find null values and we can use df.isnull().mean to find average data missing and df.isnull().sum to find total data missing"
   ]
  },
  {
   "cell_type": "markdown",
   "id": "5224ff4e-640e-4a70-89f3-e58f7503913f",
   "metadata": {},
   "source": [
    "### 7) df['column_name'].mode() gives the frequentky occured value in the column"
   ]
  },
  {
   "cell_type": "markdown",
   "id": "c799ac3d-ed55-460d-ae3b-84c152cd84c9",
   "metadata": {},
   "source": [
    "### 8) Selecting only the numeric column from the dataset\n",
    "numeric_df = pd.DataFrame() <br>\n",
    "for cols in df.columns:<br>\n",
    "    if pd.api.types.is_numeric_dtype(df[cols]):<br>\n",
    "        numeric_df[cols] = df[cols]<br>"
   ]
  },
  {
   "cell_type": "markdown",
   "id": "020d28be-d261-4ca3-a1aa-b3fef125f1b8",
   "metadata": {},
   "source": [
    "### 9) This gives duplicated column name\n",
    " df.columns[df.columns.duplicated()] <br>\n",
    " #Remove duplicate columns, keeping the first occurrence <br>\n",
    "df = df.loc[:, ~df.columns.duplicated()] <br>"
   ]
  },
  {
   "cell_type": "markdown",
   "id": "7ff63d8c-5bbd-48a0-9243-3509529fb6c4",
   "metadata": {},
   "source": [
    "### 10) Generating a dataframe with a random binary numbers\n",
    "np.random.seed(43) ##This code is used to generate the same output randomly everytime the code runs.We can input anynumber here in random seed.But you have to write a code that generate the random number in this same box <br>\n",
    "\n",
    "mean_vector1 = np.array([0,0,0]) #This specifies the mean vector which is the mean of all the vectors to be generated<br>\n",
    "mean_vector2 = np.array([1,1,1]) #This specifies another mean vector which is the mean of all the vectors to be generated<br>\n",
    "cov_matrix = np.array([[1, 0, 0], [0, 1, 0], [0, 0, 1]]) ## This is the covariance matrix,which defines the spread of data and relationship between axis.<br>\n",
    "\n",
    "#If i want a 4D data to be generated,then i have to specify 4D mean and 4D of covariance<br>\n",
    "first_20_random1 = np.random.multivariate_normal(mean_vector1,cov_matrix,20) # I want a 20 data with mean [0,0,0] and with given spread<br>\n",
    "first_20_random2 = np.random.multivariate_normal(mean_vector2,cov_matrix,20)<br>\n",
    "\n",
    "data = np.vstack([first_20_random1,first_20_random2])<br>\n",
    "df = pd.DataFrame(data)<br>\n",
    "\n",
    "\n",
    "\n",
    "target = np.hstack([np.zeros(20),np.ones(20)])<br>\n",
    "target = pd.DataFrame(target)<br>\n",
    "df = np.hstack([df,target])<br>\n",
    "df = pd.DataFrame(df)<br>\n",
    "\n",
    "df = df.rename(columns={0:'feature1',1:'feature2',2:'feature3',3:'target'})"
   ]
  },
  {
   "cell_type": "markdown",
   "id": "5a55ee1d-7f31-4f19-86aa-cb28612bcf65",
   "metadata": {},
   "source": [
    "### 11)For plotting image in matplotlib where all the pixels value of image are given,do this\n",
    "import matplotlib.pyplot as plt <br>\n",
    "plt.imshow(df.iloc[19002,1:].values.reshape(28,28)) \n",
    "### Here i select the image of row 19002 and all the pixels column after one.There were total of 785 columns including one label.So i reshape 784 imput columns to 28*28 pixels"
   ]
  },
  {
   "cell_type": "markdown",
   "id": "5ca71fb2-075b-4733-8c93-9e2b27a45017",
   "metadata": {},
   "source": [
    "### 12) To know the type of an X_train object\n",
    "type(X_train)"
   ]
  },
  {
   "cell_type": "markdown",
   "id": "357c0366-edd7-4f07-bd47-2f2b034914ea",
   "metadata": {},
   "source": [
    "### 13) Difference between series and dataframe is that they both are a data type of pandas where Series is 1 dimensional that contains only one column with their associate index but dataframe contains rows and columns together in 2D form"
   ]
  },
  {
   "cell_type": "code",
   "execution_count": null,
   "id": "dd26c4e3-19e9-4462-844f-51b917c903bc",
   "metadata": {},
   "outputs": [],
   "source": []
  }
 ],
 "metadata": {
  "kernelspec": {
   "display_name": "Python 3 (ipykernel)",
   "language": "python",
   "name": "python3"
  },
  "language_info": {
   "codemirror_mode": {
    "name": "ipython",
    "version": 3
   },
   "file_extension": ".py",
   "mimetype": "text/x-python",
   "name": "python",
   "nbconvert_exporter": "python",
   "pygments_lexer": "ipython3",
   "version": "3.12.4"
  }
 },
 "nbformat": 4,
 "nbformat_minor": 5
}
