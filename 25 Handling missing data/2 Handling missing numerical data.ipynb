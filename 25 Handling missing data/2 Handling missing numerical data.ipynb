{
 "cells": [
  {
   "cell_type": "markdown",
   "id": "8ae7f772-40f4-40dc-87c1-d27b716b05bc",
   "metadata": {},
   "source": [
    "<img src = 'Numerical data.png'/>"
   ]
  },
  {
   "cell_type": "code",
   "execution_count": null,
   "id": "9af28bd8-cd50-44f7-b8b6-0ac36ee42273",
   "metadata": {},
   "outputs": [],
   "source": []
  },
  {
   "cell_type": "markdown",
   "id": "9e606354-34bc-4308-9ccd-ebef289397d3",
   "metadata": {},
   "source": [
    "## 1) Univariate analysis means handling missing value in column by using other values in the same columns.Like replacing with mean value of column"
   ]
  },
  {
   "cell_type": "markdown",
   "id": "4d983c92-fc08-404c-a288-8049e177b4cd",
   "metadata": {},
   "source": [
    "## 2) Multivariate analysis means handling missing values in the column by using other values in other column of the data frame"
   ]
  },
  {
   "cell_type": "markdown",
   "id": "edf5e35d-aba6-4f5e-af5d-adae4e9359c7",
   "metadata": {},
   "source": [
    "<h2 style = 'color: red;'>Here in this file we learn <b>Univariate analysis </b>with <br>a) Fillng with mean/median <br>b) Filling with Arbitary value <br>c) Using End of distribution <br>d)Filling values randomly <br> e) Selecting best method directly using skicit learn</h2>"
   ]
  },
  {
   "cell_type": "markdown",
   "id": "91f6c696-cd30-4f2e-a916-1069a30d9c28",
   "metadata": {},
   "source": [
    "<h2 style = 'color:green;'>Make sure to check covariance,correlation ,variance and outliers using boxplot for data after transformation</h2>"
   ]
  },
  {
   "cell_type": "markdown",
   "id": "94018054-3693-42d8-a1df-9fe2506fecfa",
   "metadata": {},
   "source": [
    "## a) Using mean/median for filling null data"
   ]
  },
  {
   "cell_type": "markdown",
   "id": "488b5d4e-843a-4eb5-b583-98b9da903e24",
   "metadata": {},
   "source": [
    "Filling with mean and median in simple but can change `the distribution of data and can introduce outliers in dataset "
   ]
  },
  {
   "cell_type": "code",
   "execution_count": 79,
   "id": "c72a304a-05aa-4f87-ba4d-b647b67ffe62",
   "metadata": {},
   "outputs": [],
   "source": [
    "import pandas as pd\n",
    "import numpy as np\n",
    "from sklearn.model_selection import train_test_split"
   ]
  },
  {
   "cell_type": "code",
   "execution_count": 157,
   "id": "43d7e612-7fa3-449a-b0b7-836cb0ba7d7b",
   "metadata": {},
   "outputs": [],
   "source": [
    "df = pd.read_csv('train.csv',usecols=['Age','Fare','Survived','SibSp','Parch'])"
   ]
  },
  {
   "cell_type": "code",
   "execution_count": 159,
   "id": "fa11baf8-7602-4dcd-aca6-bb0df568cbef",
   "metadata": {},
   "outputs": [
    {
     "data": {
      "text/html": [
       "<div>\n",
       "<style scoped>\n",
       "    .dataframe tbody tr th:only-of-type {\n",
       "        vertical-align: middle;\n",
       "    }\n",
       "\n",
       "    .dataframe tbody tr th {\n",
       "        vertical-align: top;\n",
       "    }\n",
       "\n",
       "    .dataframe thead th {\n",
       "        text-align: right;\n",
       "    }\n",
       "</style>\n",
       "<table border=\"1\" class=\"dataframe\">\n",
       "  <thead>\n",
       "    <tr style=\"text-align: right;\">\n",
       "      <th></th>\n",
       "      <th>Survived</th>\n",
       "      <th>Age</th>\n",
       "      <th>SibSp</th>\n",
       "      <th>Parch</th>\n",
       "      <th>Fare</th>\n",
       "    </tr>\n",
       "  </thead>\n",
       "  <tbody>\n",
       "    <tr>\n",
       "      <th>0</th>\n",
       "      <td>0</td>\n",
       "      <td>22.0</td>\n",
       "      <td>1</td>\n",
       "      <td>0</td>\n",
       "      <td>7.25</td>\n",
       "    </tr>\n",
       "  </tbody>\n",
       "</table>\n",
       "</div>"
      ],
      "text/plain": [
       "   Survived   Age  SibSp  Parch  Fare\n",
       "0         0  22.0      1      0  7.25"
      ]
     },
     "execution_count": 159,
     "metadata": {},
     "output_type": "execute_result"
    }
   ],
   "source": [
    "df.head(1)"
   ]
  },
  {
   "cell_type": "code",
   "execution_count": 161,
   "id": "c84953c4-6442-4a4f-b23c-7794ab0a267e",
   "metadata": {},
   "outputs": [],
   "source": [
    "df['Family']= df['SibSp'] + df['Parch']"
   ]
  },
  {
   "cell_type": "code",
   "execution_count": 163,
   "id": "e613dba3-de62-4cad-8b3c-05096565123c",
   "metadata": {},
   "outputs": [
    {
     "data": {
      "text/html": [
       "<div>\n",
       "<style scoped>\n",
       "    .dataframe tbody tr th:only-of-type {\n",
       "        vertical-align: middle;\n",
       "    }\n",
       "\n",
       "    .dataframe tbody tr th {\n",
       "        vertical-align: top;\n",
       "    }\n",
       "\n",
       "    .dataframe thead th {\n",
       "        text-align: right;\n",
       "    }\n",
       "</style>\n",
       "<table border=\"1\" class=\"dataframe\">\n",
       "  <thead>\n",
       "    <tr style=\"text-align: right;\">\n",
       "      <th></th>\n",
       "      <th>Survived</th>\n",
       "      <th>Age</th>\n",
       "      <th>SibSp</th>\n",
       "      <th>Parch</th>\n",
       "      <th>Fare</th>\n",
       "      <th>Family</th>\n",
       "    </tr>\n",
       "  </thead>\n",
       "  <tbody>\n",
       "    <tr>\n",
       "      <th>0</th>\n",
       "      <td>0</td>\n",
       "      <td>22.0</td>\n",
       "      <td>1</td>\n",
       "      <td>0</td>\n",
       "      <td>7.2500</td>\n",
       "      <td>1</td>\n",
       "    </tr>\n",
       "    <tr>\n",
       "      <th>1</th>\n",
       "      <td>1</td>\n",
       "      <td>38.0</td>\n",
       "      <td>1</td>\n",
       "      <td>0</td>\n",
       "      <td>71.2833</td>\n",
       "      <td>1</td>\n",
       "    </tr>\n",
       "    <tr>\n",
       "      <th>2</th>\n",
       "      <td>1</td>\n",
       "      <td>26.0</td>\n",
       "      <td>0</td>\n",
       "      <td>0</td>\n",
       "      <td>7.9250</td>\n",
       "      <td>0</td>\n",
       "    </tr>\n",
       "    <tr>\n",
       "      <th>3</th>\n",
       "      <td>1</td>\n",
       "      <td>35.0</td>\n",
       "      <td>1</td>\n",
       "      <td>0</td>\n",
       "      <td>53.1000</td>\n",
       "      <td>1</td>\n",
       "    </tr>\n",
       "    <tr>\n",
       "      <th>4</th>\n",
       "      <td>0</td>\n",
       "      <td>35.0</td>\n",
       "      <td>0</td>\n",
       "      <td>0</td>\n",
       "      <td>8.0500</td>\n",
       "      <td>0</td>\n",
       "    </tr>\n",
       "    <tr>\n",
       "      <th>...</th>\n",
       "      <td>...</td>\n",
       "      <td>...</td>\n",
       "      <td>...</td>\n",
       "      <td>...</td>\n",
       "      <td>...</td>\n",
       "      <td>...</td>\n",
       "    </tr>\n",
       "    <tr>\n",
       "      <th>886</th>\n",
       "      <td>0</td>\n",
       "      <td>27.0</td>\n",
       "      <td>0</td>\n",
       "      <td>0</td>\n",
       "      <td>13.0000</td>\n",
       "      <td>0</td>\n",
       "    </tr>\n",
       "    <tr>\n",
       "      <th>887</th>\n",
       "      <td>1</td>\n",
       "      <td>19.0</td>\n",
       "      <td>0</td>\n",
       "      <td>0</td>\n",
       "      <td>30.0000</td>\n",
       "      <td>0</td>\n",
       "    </tr>\n",
       "    <tr>\n",
       "      <th>888</th>\n",
       "      <td>0</td>\n",
       "      <td>NaN</td>\n",
       "      <td>1</td>\n",
       "      <td>2</td>\n",
       "      <td>23.4500</td>\n",
       "      <td>3</td>\n",
       "    </tr>\n",
       "    <tr>\n",
       "      <th>889</th>\n",
       "      <td>1</td>\n",
       "      <td>26.0</td>\n",
       "      <td>0</td>\n",
       "      <td>0</td>\n",
       "      <td>30.0000</td>\n",
       "      <td>0</td>\n",
       "    </tr>\n",
       "    <tr>\n",
       "      <th>890</th>\n",
       "      <td>0</td>\n",
       "      <td>32.0</td>\n",
       "      <td>0</td>\n",
       "      <td>0</td>\n",
       "      <td>7.7500</td>\n",
       "      <td>0</td>\n",
       "    </tr>\n",
       "  </tbody>\n",
       "</table>\n",
       "<p>891 rows × 6 columns</p>\n",
       "</div>"
      ],
      "text/plain": [
       "     Survived   Age  SibSp  Parch     Fare  Family\n",
       "0           0  22.0      1      0   7.2500       1\n",
       "1           1  38.0      1      0  71.2833       1\n",
       "2           1  26.0      0      0   7.9250       0\n",
       "3           1  35.0      1      0  53.1000       1\n",
       "4           0  35.0      0      0   8.0500       0\n",
       "..        ...   ...    ...    ...      ...     ...\n",
       "886         0  27.0      0      0  13.0000       0\n",
       "887         1  19.0      0      0  30.0000       0\n",
       "888         0   NaN      1      2  23.4500       3\n",
       "889         1  26.0      0      0  30.0000       0\n",
       "890         0  32.0      0      0   7.7500       0\n",
       "\n",
       "[891 rows x 6 columns]"
      ]
     },
     "execution_count": 163,
     "metadata": {},
     "output_type": "execute_result"
    }
   ],
   "source": [
    "df"
   ]
  },
  {
   "cell_type": "code",
   "execution_count": 165,
   "id": "e6841c99-4ca6-4d5f-b42b-d4d7813980b9",
   "metadata": {},
   "outputs": [],
   "source": [
    "df.drop(['SibSp','Parch'],axis = 1,inplace = True)"
   ]
  },
  {
   "cell_type": "code",
   "execution_count": 167,
   "id": "1818b347-1800-4a8a-a5e3-577e73cf6835",
   "metadata": {},
   "outputs": [
    {
     "data": {
      "text/html": [
       "<div>\n",
       "<style scoped>\n",
       "    .dataframe tbody tr th:only-of-type {\n",
       "        vertical-align: middle;\n",
       "    }\n",
       "\n",
       "    .dataframe tbody tr th {\n",
       "        vertical-align: top;\n",
       "    }\n",
       "\n",
       "    .dataframe thead th {\n",
       "        text-align: right;\n",
       "    }\n",
       "</style>\n",
       "<table border=\"1\" class=\"dataframe\">\n",
       "  <thead>\n",
       "    <tr style=\"text-align: right;\">\n",
       "      <th></th>\n",
       "      <th>Survived</th>\n",
       "      <th>Age</th>\n",
       "      <th>Fare</th>\n",
       "      <th>Family</th>\n",
       "    </tr>\n",
       "  </thead>\n",
       "  <tbody>\n",
       "    <tr>\n",
       "      <th>0</th>\n",
       "      <td>0</td>\n",
       "      <td>22.0</td>\n",
       "      <td>7.2500</td>\n",
       "      <td>1</td>\n",
       "    </tr>\n",
       "    <tr>\n",
       "      <th>1</th>\n",
       "      <td>1</td>\n",
       "      <td>38.0</td>\n",
       "      <td>71.2833</td>\n",
       "      <td>1</td>\n",
       "    </tr>\n",
       "    <tr>\n",
       "      <th>2</th>\n",
       "      <td>1</td>\n",
       "      <td>26.0</td>\n",
       "      <td>7.9250</td>\n",
       "      <td>0</td>\n",
       "    </tr>\n",
       "    <tr>\n",
       "      <th>3</th>\n",
       "      <td>1</td>\n",
       "      <td>35.0</td>\n",
       "      <td>53.1000</td>\n",
       "      <td>1</td>\n",
       "    </tr>\n",
       "    <tr>\n",
       "      <th>4</th>\n",
       "      <td>0</td>\n",
       "      <td>35.0</td>\n",
       "      <td>8.0500</td>\n",
       "      <td>0</td>\n",
       "    </tr>\n",
       "    <tr>\n",
       "      <th>...</th>\n",
       "      <td>...</td>\n",
       "      <td>...</td>\n",
       "      <td>...</td>\n",
       "      <td>...</td>\n",
       "    </tr>\n",
       "    <tr>\n",
       "      <th>886</th>\n",
       "      <td>0</td>\n",
       "      <td>27.0</td>\n",
       "      <td>13.0000</td>\n",
       "      <td>0</td>\n",
       "    </tr>\n",
       "    <tr>\n",
       "      <th>887</th>\n",
       "      <td>1</td>\n",
       "      <td>19.0</td>\n",
       "      <td>30.0000</td>\n",
       "      <td>0</td>\n",
       "    </tr>\n",
       "    <tr>\n",
       "      <th>888</th>\n",
       "      <td>0</td>\n",
       "      <td>NaN</td>\n",
       "      <td>23.4500</td>\n",
       "      <td>3</td>\n",
       "    </tr>\n",
       "    <tr>\n",
       "      <th>889</th>\n",
       "      <td>1</td>\n",
       "      <td>26.0</td>\n",
       "      <td>30.0000</td>\n",
       "      <td>0</td>\n",
       "    </tr>\n",
       "    <tr>\n",
       "      <th>890</th>\n",
       "      <td>0</td>\n",
       "      <td>32.0</td>\n",
       "      <td>7.7500</td>\n",
       "      <td>0</td>\n",
       "    </tr>\n",
       "  </tbody>\n",
       "</table>\n",
       "<p>891 rows × 4 columns</p>\n",
       "</div>"
      ],
      "text/plain": [
       "     Survived   Age     Fare  Family\n",
       "0           0  22.0   7.2500       1\n",
       "1           1  38.0  71.2833       1\n",
       "2           1  26.0   7.9250       0\n",
       "3           1  35.0  53.1000       1\n",
       "4           0  35.0   8.0500       0\n",
       "..        ...   ...      ...     ...\n",
       "886         0  27.0  13.0000       0\n",
       "887         1  19.0  30.0000       0\n",
       "888         0   NaN  23.4500       3\n",
       "889         1  26.0  30.0000       0\n",
       "890         0  32.0   7.7500       0\n",
       "\n",
       "[891 rows x 4 columns]"
      ]
     },
     "execution_count": 167,
     "metadata": {},
     "output_type": "execute_result"
    }
   ],
   "source": [
    "df"
   ]
  },
  {
   "cell_type": "code",
   "execution_count": 169,
   "id": "13bcd972-bc7a-4a0a-8ca6-aba5e28870b0",
   "metadata": {},
   "outputs": [
    {
     "data": {
      "text/plain": [
       "array([ 1,  0,  4,  2,  6,  5,  3,  7, 10], dtype=int64)"
      ]
     },
     "execution_count": 169,
     "metadata": {},
     "output_type": "execute_result"
    }
   ],
   "source": [
    "df['Family'].unique()"
   ]
  },
  {
   "cell_type": "code",
   "execution_count": 171,
   "id": "5ec2ddb3-cdf4-4e33-9d29-6a1d3738b692",
   "metadata": {},
   "outputs": [
    {
     "data": {
      "text/plain": [
       "Survived    0.000000\n",
       "Age         0.198653\n",
       "Fare        0.000000\n",
       "Family      0.000000\n",
       "dtype: float64"
      ]
     },
     "execution_count": 171,
     "metadata": {},
     "output_type": "execute_result"
    }
   ],
   "source": [
    "df.isnull().mean()"
   ]
  },
  {
   "cell_type": "code",
   "execution_count": 173,
   "id": "43b1ad89-1eea-4983-875a-6060b9cd5ada",
   "metadata": {},
   "outputs": [],
   "source": [
    "# Define the proportion of values to remove\n",
    "proportion_to_remove = 0.02  # For example, remove 30% of the values\n",
    "\n",
    "# Calculate the number of values to remove\n",
    "num_to_remove = int(len(df) * proportion_to_remove)\n",
    "\n",
    "# Randomly select indices to set to NaN\n",
    "indices_to_remove = df.sample(n=num_to_remove, random_state=1).index\n",
    "\n",
    "# Set the values at those indices to NaN\n",
    "df.loc[indices_to_remove, 'Fare'] = np.nan"
   ]
  },
  {
   "cell_type": "code",
   "execution_count": 175,
   "id": "1f99a0aa-6647-4b6a-8c7c-2bdc6fd75aee",
   "metadata": {},
   "outputs": [
    {
     "data": {
      "text/plain": [
       "Survived    0.000000\n",
       "Age         0.198653\n",
       "Fare        0.019080\n",
       "Family      0.000000\n",
       "dtype: float64"
      ]
     },
     "execution_count": 175,
     "metadata": {},
     "output_type": "execute_result"
    }
   ],
   "source": [
    "df.isnull().mean()"
   ]
  },
  {
   "cell_type": "code",
   "execution_count": 177,
   "id": "a6427dbc-968a-4497-a7ac-1696e904de4e",
   "metadata": {},
   "outputs": [],
   "source": [
    "Age_mean = df['Age'].mean()\n",
    "Fare_mean = df['Fare'].mean()"
   ]
  },
  {
   "cell_type": "code",
   "execution_count": 179,
   "id": "95cf60fa-297f-4bb4-bcd8-9b538fe69e6d",
   "metadata": {},
   "outputs": [],
   "source": [
    "df['Age_mean'] = df['Age'].fillna(Age_mean)\n",
    "df['Fare_mean'] = df['Fare'].fillna(Fare_mean)"
   ]
  },
  {
   "cell_type": "code",
   "execution_count": 181,
   "id": "5f18cc6d-595d-40d6-b03d-f2385ce1305c",
   "metadata": {},
   "outputs": [],
   "source": [
    "Age_median = df['Age'].median()\n",
    "Fare_median = df['Fare'].median()"
   ]
  },
  {
   "cell_type": "code",
   "execution_count": 183,
   "id": "547f81d2-5c7d-4bde-a68b-b38b28c9f93f",
   "metadata": {},
   "outputs": [
    {
     "data": {
      "text/plain": [
       "28.0"
      ]
     },
     "execution_count": 183,
     "metadata": {},
     "output_type": "execute_result"
    }
   ],
   "source": [
    "Age_median"
   ]
  },
  {
   "cell_type": "code",
   "execution_count": 185,
   "id": "861224b6-f645-4628-916e-7344d4ff2ebe",
   "metadata": {},
   "outputs": [],
   "source": [
    "df['Age_median'] = df['Age'].fillna(Age_median)\n",
    "df['Fare_median'] = df['Fare'].fillna(Fare_median)"
   ]
  },
  {
   "cell_type": "code",
   "execution_count": 187,
   "id": "3ba646b2-fc2f-4159-95de-cc890ca8a098",
   "metadata": {},
   "outputs": [
    {
     "data": {
      "text/html": [
       "<div>\n",
       "<style scoped>\n",
       "    .dataframe tbody tr th:only-of-type {\n",
       "        vertical-align: middle;\n",
       "    }\n",
       "\n",
       "    .dataframe tbody tr th {\n",
       "        vertical-align: top;\n",
       "    }\n",
       "\n",
       "    .dataframe thead th {\n",
       "        text-align: right;\n",
       "    }\n",
       "</style>\n",
       "<table border=\"1\" class=\"dataframe\">\n",
       "  <thead>\n",
       "    <tr style=\"text-align: right;\">\n",
       "      <th></th>\n",
       "      <th>Survived</th>\n",
       "      <th>Age</th>\n",
       "      <th>Fare</th>\n",
       "      <th>Family</th>\n",
       "      <th>Age_mean</th>\n",
       "      <th>Fare_mean</th>\n",
       "      <th>Age_median</th>\n",
       "      <th>Fare_median</th>\n",
       "    </tr>\n",
       "  </thead>\n",
       "  <tbody>\n",
       "    <tr>\n",
       "      <th>0</th>\n",
       "      <td>0</td>\n",
       "      <td>22.0</td>\n",
       "      <td>7.2500</td>\n",
       "      <td>1</td>\n",
       "      <td>22.000000</td>\n",
       "      <td>7.250000</td>\n",
       "      <td>22.0</td>\n",
       "      <td>7.2500</td>\n",
       "    </tr>\n",
       "    <tr>\n",
       "      <th>1</th>\n",
       "      <td>1</td>\n",
       "      <td>38.0</td>\n",
       "      <td>71.2833</td>\n",
       "      <td>1</td>\n",
       "      <td>38.000000</td>\n",
       "      <td>71.283300</td>\n",
       "      <td>38.0</td>\n",
       "      <td>71.2833</td>\n",
       "    </tr>\n",
       "    <tr>\n",
       "      <th>2</th>\n",
       "      <td>1</td>\n",
       "      <td>26.0</td>\n",
       "      <td>NaN</td>\n",
       "      <td>0</td>\n",
       "      <td>26.000000</td>\n",
       "      <td>32.365822</td>\n",
       "      <td>26.0</td>\n",
       "      <td>14.4542</td>\n",
       "    </tr>\n",
       "    <tr>\n",
       "      <th>3</th>\n",
       "      <td>1</td>\n",
       "      <td>35.0</td>\n",
       "      <td>NaN</td>\n",
       "      <td>1</td>\n",
       "      <td>35.000000</td>\n",
       "      <td>32.365822</td>\n",
       "      <td>35.0</td>\n",
       "      <td>14.4542</td>\n",
       "    </tr>\n",
       "    <tr>\n",
       "      <th>4</th>\n",
       "      <td>0</td>\n",
       "      <td>35.0</td>\n",
       "      <td>8.0500</td>\n",
       "      <td>0</td>\n",
       "      <td>35.000000</td>\n",
       "      <td>8.050000</td>\n",
       "      <td>35.0</td>\n",
       "      <td>8.0500</td>\n",
       "    </tr>\n",
       "    <tr>\n",
       "      <th>...</th>\n",
       "      <td>...</td>\n",
       "      <td>...</td>\n",
       "      <td>...</td>\n",
       "      <td>...</td>\n",
       "      <td>...</td>\n",
       "      <td>...</td>\n",
       "      <td>...</td>\n",
       "      <td>...</td>\n",
       "    </tr>\n",
       "    <tr>\n",
       "      <th>886</th>\n",
       "      <td>0</td>\n",
       "      <td>27.0</td>\n",
       "      <td>13.0000</td>\n",
       "      <td>0</td>\n",
       "      <td>27.000000</td>\n",
       "      <td>13.000000</td>\n",
       "      <td>27.0</td>\n",
       "      <td>13.0000</td>\n",
       "    </tr>\n",
       "    <tr>\n",
       "      <th>887</th>\n",
       "      <td>1</td>\n",
       "      <td>19.0</td>\n",
       "      <td>30.0000</td>\n",
       "      <td>0</td>\n",
       "      <td>19.000000</td>\n",
       "      <td>30.000000</td>\n",
       "      <td>19.0</td>\n",
       "      <td>30.0000</td>\n",
       "    </tr>\n",
       "    <tr>\n",
       "      <th>888</th>\n",
       "      <td>0</td>\n",
       "      <td>NaN</td>\n",
       "      <td>23.4500</td>\n",
       "      <td>3</td>\n",
       "      <td>29.699118</td>\n",
       "      <td>23.450000</td>\n",
       "      <td>28.0</td>\n",
       "      <td>23.4500</td>\n",
       "    </tr>\n",
       "    <tr>\n",
       "      <th>889</th>\n",
       "      <td>1</td>\n",
       "      <td>26.0</td>\n",
       "      <td>30.0000</td>\n",
       "      <td>0</td>\n",
       "      <td>26.000000</td>\n",
       "      <td>30.000000</td>\n",
       "      <td>26.0</td>\n",
       "      <td>30.0000</td>\n",
       "    </tr>\n",
       "    <tr>\n",
       "      <th>890</th>\n",
       "      <td>0</td>\n",
       "      <td>32.0</td>\n",
       "      <td>7.7500</td>\n",
       "      <td>0</td>\n",
       "      <td>32.000000</td>\n",
       "      <td>7.750000</td>\n",
       "      <td>32.0</td>\n",
       "      <td>7.7500</td>\n",
       "    </tr>\n",
       "  </tbody>\n",
       "</table>\n",
       "<p>891 rows × 8 columns</p>\n",
       "</div>"
      ],
      "text/plain": [
       "     Survived   Age     Fare  Family   Age_mean  Fare_mean  Age_median  \\\n",
       "0           0  22.0   7.2500       1  22.000000   7.250000        22.0   \n",
       "1           1  38.0  71.2833       1  38.000000  71.283300        38.0   \n",
       "2           1  26.0      NaN       0  26.000000  32.365822        26.0   \n",
       "3           1  35.0      NaN       1  35.000000  32.365822        35.0   \n",
       "4           0  35.0   8.0500       0  35.000000   8.050000        35.0   \n",
       "..        ...   ...      ...     ...        ...        ...         ...   \n",
       "886         0  27.0  13.0000       0  27.000000  13.000000        27.0   \n",
       "887         1  19.0  30.0000       0  19.000000  30.000000        19.0   \n",
       "888         0   NaN  23.4500       3  29.699118  23.450000        28.0   \n",
       "889         1  26.0  30.0000       0  26.000000  30.000000        26.0   \n",
       "890         0  32.0   7.7500       0  32.000000   7.750000        32.0   \n",
       "\n",
       "     Fare_median  \n",
       "0         7.2500  \n",
       "1        71.2833  \n",
       "2        14.4542  \n",
       "3        14.4542  \n",
       "4         8.0500  \n",
       "..           ...  \n",
       "886      13.0000  \n",
       "887      30.0000  \n",
       "888      23.4500  \n",
       "889      30.0000  \n",
       "890       7.7500  \n",
       "\n",
       "[891 rows x 8 columns]"
      ]
     },
     "execution_count": 187,
     "metadata": {},
     "output_type": "execute_result"
    }
   ],
   "source": [
    "df"
   ]
  },
  {
   "cell_type": "code",
   "execution_count": 189,
   "id": "8ac24ecc-2df5-4ace-8bfc-b31fbcec344c",
   "metadata": {},
   "outputs": [],
   "source": [
    "X= df.drop(['Survived'],axis = 1)\n",
    "Y = df['Survived']"
   ]
  },
  {
   "cell_type": "code",
   "execution_count": 191,
   "id": "7abc2659-b175-4483-b033-f543c0a023fc",
   "metadata": {},
   "outputs": [],
   "source": [
    "X_train,X_test,Y_train,Y_test = train_test_split(X,\n",
    "                                                Y,\n",
    "                                                test_size=0.2,\n",
    "                                                random_state=0)"
   ]
  },
  {
   "cell_type": "code",
   "execution_count": 193,
   "id": "b38b1d11-ac84-4635-9ac8-d0e416c03d3e",
   "metadata": {},
   "outputs": [
    {
     "data": {
      "text/html": [
       "<div>\n",
       "<style scoped>\n",
       "    .dataframe tbody tr th:only-of-type {\n",
       "        vertical-align: middle;\n",
       "    }\n",
       "\n",
       "    .dataframe tbody tr th {\n",
       "        vertical-align: top;\n",
       "    }\n",
       "\n",
       "    .dataframe thead th {\n",
       "        text-align: right;\n",
       "    }\n",
       "</style>\n",
       "<table border=\"1\" class=\"dataframe\">\n",
       "  <thead>\n",
       "    <tr style=\"text-align: right;\">\n",
       "      <th></th>\n",
       "      <th>Age</th>\n",
       "      <th>Fare</th>\n",
       "      <th>Family</th>\n",
       "      <th>Age_mean</th>\n",
       "      <th>Fare_mean</th>\n",
       "      <th>Age_median</th>\n",
       "      <th>Fare_median</th>\n",
       "    </tr>\n",
       "  </thead>\n",
       "  <tbody>\n",
       "    <tr>\n",
       "      <th>140</th>\n",
       "      <td>NaN</td>\n",
       "      <td>15.2458</td>\n",
       "      <td>2</td>\n",
       "      <td>29.699118</td>\n",
       "      <td>15.2458</td>\n",
       "      <td>28.0</td>\n",
       "      <td>15.2458</td>\n",
       "    </tr>\n",
       "    <tr>\n",
       "      <th>439</th>\n",
       "      <td>31.0</td>\n",
       "      <td>10.5000</td>\n",
       "      <td>0</td>\n",
       "      <td>31.000000</td>\n",
       "      <td>10.5000</td>\n",
       "      <td>31.0</td>\n",
       "      <td>10.5000</td>\n",
       "    </tr>\n",
       "    <tr>\n",
       "      <th>817</th>\n",
       "      <td>31.0</td>\n",
       "      <td>37.0042</td>\n",
       "      <td>2</td>\n",
       "      <td>31.000000</td>\n",
       "      <td>37.0042</td>\n",
       "      <td>31.0</td>\n",
       "      <td>37.0042</td>\n",
       "    </tr>\n",
       "    <tr>\n",
       "      <th>378</th>\n",
       "      <td>20.0</td>\n",
       "      <td>4.0125</td>\n",
       "      <td>0</td>\n",
       "      <td>20.000000</td>\n",
       "      <td>4.0125</td>\n",
       "      <td>20.0</td>\n",
       "      <td>4.0125</td>\n",
       "    </tr>\n",
       "    <tr>\n",
       "      <th>491</th>\n",
       "      <td>21.0</td>\n",
       "      <td>7.2500</td>\n",
       "      <td>0</td>\n",
       "      <td>21.000000</td>\n",
       "      <td>7.2500</td>\n",
       "      <td>21.0</td>\n",
       "      <td>7.2500</td>\n",
       "    </tr>\n",
       "    <tr>\n",
       "      <th>...</th>\n",
       "      <td>...</td>\n",
       "      <td>...</td>\n",
       "      <td>...</td>\n",
       "      <td>...</td>\n",
       "      <td>...</td>\n",
       "      <td>...</td>\n",
       "      <td>...</td>\n",
       "    </tr>\n",
       "    <tr>\n",
       "      <th>835</th>\n",
       "      <td>39.0</td>\n",
       "      <td>83.1583</td>\n",
       "      <td>2</td>\n",
       "      <td>39.000000</td>\n",
       "      <td>83.1583</td>\n",
       "      <td>39.0</td>\n",
       "      <td>83.1583</td>\n",
       "    </tr>\n",
       "    <tr>\n",
       "      <th>192</th>\n",
       "      <td>19.0</td>\n",
       "      <td>7.8542</td>\n",
       "      <td>1</td>\n",
       "      <td>19.000000</td>\n",
       "      <td>7.8542</td>\n",
       "      <td>19.0</td>\n",
       "      <td>7.8542</td>\n",
       "    </tr>\n",
       "    <tr>\n",
       "      <th>629</th>\n",
       "      <td>NaN</td>\n",
       "      <td>7.7333</td>\n",
       "      <td>0</td>\n",
       "      <td>29.699118</td>\n",
       "      <td>7.7333</td>\n",
       "      <td>28.0</td>\n",
       "      <td>7.7333</td>\n",
       "    </tr>\n",
       "    <tr>\n",
       "      <th>559</th>\n",
       "      <td>36.0</td>\n",
       "      <td>17.4000</td>\n",
       "      <td>1</td>\n",
       "      <td>36.000000</td>\n",
       "      <td>17.4000</td>\n",
       "      <td>36.0</td>\n",
       "      <td>17.4000</td>\n",
       "    </tr>\n",
       "    <tr>\n",
       "      <th>684</th>\n",
       "      <td>60.0</td>\n",
       "      <td>39.0000</td>\n",
       "      <td>2</td>\n",
       "      <td>60.000000</td>\n",
       "      <td>39.0000</td>\n",
       "      <td>60.0</td>\n",
       "      <td>39.0000</td>\n",
       "    </tr>\n",
       "  </tbody>\n",
       "</table>\n",
       "<p>712 rows × 7 columns</p>\n",
       "</div>"
      ],
      "text/plain": [
       "      Age     Fare  Family   Age_mean  Fare_mean  Age_median  Fare_median\n",
       "140   NaN  15.2458       2  29.699118    15.2458        28.0      15.2458\n",
       "439  31.0  10.5000       0  31.000000    10.5000        31.0      10.5000\n",
       "817  31.0  37.0042       2  31.000000    37.0042        31.0      37.0042\n",
       "378  20.0   4.0125       0  20.000000     4.0125        20.0       4.0125\n",
       "491  21.0   7.2500       0  21.000000     7.2500        21.0       7.2500\n",
       "..    ...      ...     ...        ...        ...         ...          ...\n",
       "835  39.0  83.1583       2  39.000000    83.1583        39.0      83.1583\n",
       "192  19.0   7.8542       1  19.000000     7.8542        19.0       7.8542\n",
       "629   NaN   7.7333       0  29.699118     7.7333        28.0       7.7333\n",
       "559  36.0  17.4000       1  36.000000    17.4000        36.0      17.4000\n",
       "684  60.0  39.0000       2  60.000000    39.0000        60.0      39.0000\n",
       "\n",
       "[712 rows x 7 columns]"
      ]
     },
     "execution_count": 193,
     "metadata": {},
     "output_type": "execute_result"
    }
   ],
   "source": [
    "X_train"
   ]
  },
  {
   "cell_type": "code",
   "execution_count": 195,
   "id": "41e86fe3-d977-4738-85ce-ed1196c3128a",
   "metadata": {},
   "outputs": [
    {
     "data": {
      "image/png": "[encoded data removed]",
      "text/plain": [
       "<Figure size 640x480 with 1 Axes>"
      ]
     },
     "metadata": {},
     "output_type": "display_data"
    }
   ],
   "source": [
    "import matplotlib.pyplot as plt\n",
    "\n",
    "# Create a new figure\n",
    "fig = plt.figure()#The statement fig = plt.figure(figsize=(15, 5)) sets the overall size of the entire figure,individual subplots are created within this figure\n",
    "# 15 inches wide and 5 inches tall.\n",
    "\n",
    "# Add a single subplot (111 means whole grid divided into 1 row, 1 column, 1st subplot)\n",
    "ax = fig.add_subplot(111)\n",
    "\n",
    "# Plot KDE for original 'Age' variable\n",
    "X_train['Age'].plot(kind='kde', ax=ax)\n",
    "\n",
    "# Plot KDE for 'Age_median' with a different color\n",
    "X_train['Age_median'].plot(kind='kde', ax=ax, color='red')\n",
    "\n",
    "# Plot KDE for 'Age_mean' with another different color\n",
    "X_train['Age_mean'].plot(kind='kde', ax=ax, color='green')\n",
    "\n",
    "# Display the plot\n",
    "plt.show()\n"
   ]
  },
  {
   "cell_type": "code",
   "execution_count": 205,
   "id": "ef514a74-0875-4ec4-a88b-b21f6496a5c4",
   "metadata": {},
   "outputs": [
    {
     "data": {
      "image/png": "[encoded data removed]",
      "text/plain": [
       "<Figure size 1500x500 with 3 Axes>"
      ]
     },
     "metadata": {},
     "output_type": "display_data"
    }
   ],
   "source": [
    "import matplotlib.pyplot as plt\n",
    "\n",
    "# Create a new figure\n",
    "fig = plt.figure(figsize=(15, 5)) #The statement fig = plt.figure(figsize=(15, 5)) sets the overall size of the entire figure,individual subplots are created within this figure\n",
    "# 15 inches wide and 5 inches tall.\n",
    "\n",
    "# Euta whole grid lai one row ra 3 column ma divide garya where each both is named sequentially as 1st,2nd and 3rd subplot.\n",
    "ax1 = fig.add_subplot(131)  # 1st subplot\n",
    "ax2 = fig.add_subplot(132)  # 2nd subplot\n",
    "ax3 = fig.add_subplot(133)  # 3rd subplot\n",
    "\n",
    "# Plot KDE for 'Age' in the first subplot\n",
    "X_train['Age'].plot(kind='kde', ax=ax1, color='blue') #  For drawing histogram just give kind = 'hist'\n",
    "ax1.set_title('Age')\n",
    "ax1.set_xlabel('Value')\n",
    "ax1.set_ylabel('Density')\n",
    "\n",
    "# Plot KDE for 'Age_median' in the second subplot\n",
    "X_train['Age_median'].plot(kind='kde', ax=ax2, color='red')\n",
    "ax2.set_title('Age_median')\n",
    "ax2.set_xlabel('Value')\n",
    "ax2.set_ylabel('Density')\n",
    "\n",
    "# Plot KDE for 'Age_mean' in the third subplot\n",
    "X_train['Age_mean'].plot(kind='kde', ax=ax3, color='green')\n",
    "ax3.set_title('Age_mean')\n",
    "ax3.set_xlabel('Value')\n",
    "ax3.set_ylabel('Density')\n",
    "\n",
    "# Adjust layout to prevent overlap\n",
    "plt.tight_layout()\n",
    "\n",
    "# Show the plot\n",
    "plt.show()\n"
   ]
  },
  {
   "cell_type": "markdown",
   "id": "846c4531-b3e5-4529-8d99-e6d87dc50b97",
   "metadata": {},
   "source": [
    "## In above we can see that when Age_median and Age_mean doesnt preserves the distribution of data as of in Age.Now lets check for Fare"
   ]
  },
  {
   "cell_type": "code",
   "execution_count": 201,
   "id": "f8985794-1d8c-4d0b-9d4d-fc9a0f711f93",
   "metadata": {},
   "outputs": [
    {
     "data": {
      "image/png": "[encoded data removed]",
      "text/plain": [
       "<Figure size 1500x500 with 3 Axes>"
      ]
     },
     "metadata": {},
     "output_type": "display_data"
    }
   ],
   "source": [
    "# Create a new figure\n",
    "fig = plt.figure(figsize=(15, 5))\n",
    "\n",
    "# Euta whole grid lai one row ra 3 column ma divide garya where each both is named sequentially as 1st,2nd and 3rd subplot.\n",
    "ax1 = fig.add_subplot(131)  # 1st subplot\n",
    "ax2 = fig.add_subplot(132)  # 2nd subplot\n",
    "ax3 = fig.add_subplot(133)  # 3rd subplot\n",
    "\n",
    "# Plot KDE for 'Age' in the first subplot\n",
    "X_train['Fare'].plot(kind='kde', ax=ax1, color='blue') #  For drawing histogram just give kind = 'hist'\n",
    "ax1.set_title('Fare')\n",
    "ax1.set_xlabel('Value')\n",
    "ax1.set_ylabel('Density')\n",
    "\n",
    "# Plot KDE for 'Age_median' in the second subplot\n",
    "X_train['Fare_median'].plot(kind='kde', ax=ax2, color='red')\n",
    "ax2.set_title('Fare_median')\n",
    "ax2.set_xlabel('Value')\n",
    "ax2.set_ylabel('Density')\n",
    "\n",
    "# Plot KDE for 'Age_mean' in the third subplot\n",
    "X_train['Fare_mean'].plot(kind='kde', ax=ax3, color='green')\n",
    "ax3.set_title('Fare_mean')\n",
    "ax3.set_xlabel('Value')\n",
    "ax3.set_ylabel('Density')\n",
    "\n",
    "# Adjust layout to prevent overlap\n",
    "plt.tight_layout()\n",
    "\n",
    "# Show the plot\n",
    "plt.show()\n"
   ]
  },
  {
   "cell_type": "code",
   "execution_count": 203,
   "id": "2b214564-e450-4731-af15-b9bb583d8b53",
   "metadata": {},
   "outputs": [
    {
     "data": {
      "image/png": "[encoded data removed]",
      "text/plain": [
       "<Figure size 1500x500 with 1 Axes>"
      ]
     },
     "metadata": {},
     "output_type": "display_data"
    }
   ],
   "source": [
    "# Create a new figure\n",
    "fig = plt.figure(figsize=(15, 5))\n",
    "\n",
    "# Euta whole grid lai one row ra 1 column ma divide garya where each both is named sequentially as 1st,2nd and 3rd subplot.\n",
    "ax1 = fig.add_subplot(111)  # 1st subplot\n",
    "\n",
    "# Plot KDE for 'Age' in the first subplot\n",
    "X_train['Fare'].plot(kind='kde', ax=ax1, color='blue') #  For drawing histogram just give kind = 'hist'\n",
    "\n",
    "# Plot KDE for 'Age_median' in the second subplot\n",
    "X_train['Fare_median'].plot(kind='kde', ax=ax1, color='red')\n",
    "\n",
    "# Plot KDE for 'Age_mean' in the third subplot\n",
    "X_train['Fare_mean'].plot(kind='kde', ax=ax1, color='green')\n",
    "\n",
    "\n",
    "# Adjust layout to prevent overlap\n",
    "plt.tight_layout()\n",
    "\n",
    "# Show the plot\n",
    "plt.show()"
   ]
  },
  {
   "cell_type": "markdown",
   "id": "5f0a0e5d-26e6-40af-b07e-5be999bb48fb",
   "metadata": {},
   "source": [
    "## Here we can see no chan;ge in the distribution after and before the mean."
   ]
  },
  {
   "cell_type": "code",
   "execution_count": 210,
   "id": "8e70f39d-a8ec-4c3d-ae35-f44eae9b27f6",
   "metadata": {},
   "outputs": [
    {
     "data": {
      "text/plain": [
       "Age             213.716509\n",
       "Fare           2556.122948\n",
       "Family            2.770177\n",
       "Age_mean        171.334247\n",
       "Fare_mean      2505.792624\n",
       "Age_median      171.818292\n",
       "Fare_median    2511.812463\n",
       "dtype: float64"
      ]
     },
     "execution_count": 210,
     "metadata": {},
     "output_type": "execute_result"
    }
   ],
   "source": [
    "# X_train[['Age','Age_mean','Age_median']].var()\n",
    "X_train.var()"
   ]
  },
  {
   "cell_type": "markdown",
   "id": "0728c423-e906-4e08-aa94-1d9841b64c60",
   "metadata": {},
   "source": [
    "## Here we can see Age variance has been reduced highly after applying Mean and Median  which is more than 10% inputer.But Fare variance has just been reduced slightly"
   ]
  },
  {
   "cell_type": "code",
   "execution_count": 213,
   "id": "6be0bbca-df6d-4b94-bfb3-f95e09832e79",
   "metadata": {},
   "outputs": [
    {
     "data": {
      "text/html": [
       "<div>\n",
       "<style scoped>\n",
       "    .dataframe tbody tr th:only-of-type {\n",
       "        vertical-align: middle;\n",
       "    }\n",
       "\n",
       "    .dataframe tbody tr th {\n",
       "        vertical-align: top;\n",
       "    }\n",
       "\n",
       "    .dataframe thead th {\n",
       "        text-align: right;\n",
       "    }\n",
       "</style>\n",
       "<table border=\"1\" class=\"dataframe\">\n",
       "  <thead>\n",
       "    <tr style=\"text-align: right;\">\n",
       "      <th></th>\n",
       "      <th>Age</th>\n",
       "      <th>Fare</th>\n",
       "      <th>Family</th>\n",
       "      <th>Age_mean</th>\n",
       "      <th>Fare_mean</th>\n",
       "      <th>Age_median</th>\n",
       "      <th>Fare_median</th>\n",
       "    </tr>\n",
       "  </thead>\n",
       "  <tbody>\n",
       "    <tr>\n",
       "      <th>Age</th>\n",
       "      <td>1.000000</td>\n",
       "      <td>0.099736</td>\n",
       "      <td>-0.295318</td>\n",
       "      <td>1.000000</td>\n",
       "      <td>0.099115</td>\n",
       "      <td>1.000000</td>\n",
       "      <td>0.098090</td>\n",
       "    </tr>\n",
       "    <tr>\n",
       "      <th>Fare</th>\n",
       "      <td>0.099736</td>\n",
       "      <td>1.000000</td>\n",
       "      <td>0.203377</td>\n",
       "      <td>0.094920</td>\n",
       "      <td>1.000000</td>\n",
       "      <td>0.099160</td>\n",
       "      <td>1.000000</td>\n",
       "    </tr>\n",
       "    <tr>\n",
       "      <th>Family</th>\n",
       "      <td>-0.295318</td>\n",
       "      <td>0.203377</td>\n",
       "      <td>1.000000</td>\n",
       "      <td>-0.235258</td>\n",
       "      <td>0.202790</td>\n",
       "      <td>-0.234498</td>\n",
       "      <td>0.205234</td>\n",
       "    </tr>\n",
       "    <tr>\n",
       "      <th>Age_mean</th>\n",
       "      <td>1.000000</td>\n",
       "      <td>0.094920</td>\n",
       "      <td>-0.235258</td>\n",
       "      <td>1.000000</td>\n",
       "      <td>0.094434</td>\n",
       "      <td>0.998663</td>\n",
       "      <td>0.093450</td>\n",
       "    </tr>\n",
       "    <tr>\n",
       "      <th>Fare_mean</th>\n",
       "      <td>0.099115</td>\n",
       "      <td>1.000000</td>\n",
       "      <td>0.202790</td>\n",
       "      <td>0.094434</td>\n",
       "      <td>1.000000</td>\n",
       "      <td>0.098641</td>\n",
       "      <td>0.998766</td>\n",
       "    </tr>\n",
       "    <tr>\n",
       "      <th>Age_median</th>\n",
       "      <td>1.000000</td>\n",
       "      <td>0.099160</td>\n",
       "      <td>-0.234498</td>\n",
       "      <td>0.998663</td>\n",
       "      <td>0.098641</td>\n",
       "      <td>1.000000</td>\n",
       "      <td>0.097797</td>\n",
       "    </tr>\n",
       "    <tr>\n",
       "      <th>Fare_median</th>\n",
       "      <td>0.098090</td>\n",
       "      <td>1.000000</td>\n",
       "      <td>0.205234</td>\n",
       "      <td>0.093450</td>\n",
       "      <td>0.998766</td>\n",
       "      <td>0.097797</td>\n",
       "      <td>1.000000</td>\n",
       "    </tr>\n",
       "  </tbody>\n",
       "</table>\n",
       "</div>"
      ],
      "text/plain": [
       "                  Age      Fare    Family  Age_mean  Fare_mean  Age_median  \\\n",
       "Age          1.000000  0.099736 -0.295318  1.000000   0.099115    1.000000   \n",
       "Fare         0.099736  1.000000  0.203377  0.094920   1.000000    0.099160   \n",
       "Family      -0.295318  0.203377  1.000000 -0.235258   0.202790   -0.234498   \n",
       "Age_mean     1.000000  0.094920 -0.235258  1.000000   0.094434    0.998663   \n",
       "Fare_mean    0.099115  1.000000  0.202790  0.094434   1.000000    0.098641   \n",
       "Age_median   1.000000  0.099160 -0.234498  0.998663   0.098641    1.000000   \n",
       "Fare_median  0.098090  1.000000  0.205234  0.093450   0.998766    0.097797   \n",
       "\n",
       "             Fare_median  \n",
       "Age             0.098090  \n",
       "Fare            1.000000  \n",
       "Family          0.205234  \n",
       "Age_mean        0.093450  \n",
       "Fare_mean       0.998766  \n",
       "Age_median      0.097797  \n",
       "Fare_median     1.000000  "
      ]
     },
     "execution_count": 213,
     "metadata": {},
     "output_type": "execute_result"
    }
   ],
   "source": [
    "X_train.corr()"
   ]
  },
  {
   "cell_type": "code",
   "execution_count": 215,
   "id": "3b881e65-be07-4619-9f18-8c604ebc2db6",
   "metadata": {},
   "outputs": [
    {
     "data": {
      "text/html": [
       "<div>\n",
       "<style scoped>\n",
       "    .dataframe tbody tr th:only-of-type {\n",
       "        vertical-align: middle;\n",
       "    }\n",
       "\n",
       "    .dataframe tbody tr th {\n",
       "        vertical-align: top;\n",
       "    }\n",
       "\n",
       "    .dataframe thead th {\n",
       "        text-align: right;\n",
       "    }\n",
       "</style>\n",
       "<table border=\"1\" class=\"dataframe\">\n",
       "  <thead>\n",
       "    <tr style=\"text-align: right;\">\n",
       "      <th></th>\n",
       "      <th>Age</th>\n",
       "      <th>Fare</th>\n",
       "      <th>Family</th>\n",
       "      <th>Age_mean</th>\n",
       "      <th>Fare_mean</th>\n",
       "      <th>Age_median</th>\n",
       "      <th>Fare_median</th>\n",
       "    </tr>\n",
       "  </thead>\n",
       "  <tbody>\n",
       "    <tr>\n",
       "      <th>Age</th>\n",
       "      <td>213.716509</td>\n",
       "      <td>78.398770</td>\n",
       "      <td>-6.393469</td>\n",
       "      <td>213.716509</td>\n",
       "      <td>77.086088</td>\n",
       "      <td>213.716509</td>\n",
       "      <td>76.369832</td>\n",
       "    </tr>\n",
       "    <tr>\n",
       "      <th>Fare</th>\n",
       "      <td>78.398770</td>\n",
       "      <td>2556.122948</td>\n",
       "      <td>17.238115</td>\n",
       "      <td>63.110871</td>\n",
       "      <td>2556.122948</td>\n",
       "      <td>66.016947</td>\n",
       "      <td>2556.122948</td>\n",
       "    </tr>\n",
       "    <tr>\n",
       "      <th>Family</th>\n",
       "      <td>-6.393469</td>\n",
       "      <td>17.238115</td>\n",
       "      <td>2.770177</td>\n",
       "      <td>-5.125313</td>\n",
       "      <td>16.895552</td>\n",
       "      <td>-5.115968</td>\n",
       "      <td>17.119734</td>\n",
       "    </tr>\n",
       "    <tr>\n",
       "      <th>Age_mean</th>\n",
       "      <td>213.716509</td>\n",
       "      <td>63.110871</td>\n",
       "      <td>-5.125313</td>\n",
       "      <td>171.334247</td>\n",
       "      <td>61.876175</td>\n",
       "      <td>171.346696</td>\n",
       "      <td>61.304547</td>\n",
       "    </tr>\n",
       "    <tr>\n",
       "      <th>Fare_mean</th>\n",
       "      <td>77.086088</td>\n",
       "      <td>2556.122948</td>\n",
       "      <td>16.895552</td>\n",
       "      <td>61.876175</td>\n",
       "      <td>2505.792624</td>\n",
       "      <td>64.723695</td>\n",
       "      <td>2505.706025</td>\n",
       "    </tr>\n",
       "    <tr>\n",
       "      <th>Age_median</th>\n",
       "      <td>213.716509</td>\n",
       "      <td>66.016947</td>\n",
       "      <td>-5.115968</td>\n",
       "      <td>171.346696</td>\n",
       "      <td>64.723695</td>\n",
       "      <td>171.818292</td>\n",
       "      <td>64.247415</td>\n",
       "    </tr>\n",
       "    <tr>\n",
       "      <th>Fare_median</th>\n",
       "      <td>76.369832</td>\n",
       "      <td>2556.122948</td>\n",
       "      <td>17.119734</td>\n",
       "      <td>61.304547</td>\n",
       "      <td>2505.706025</td>\n",
       "      <td>64.247415</td>\n",
       "      <td>2511.812463</td>\n",
       "    </tr>\n",
       "  </tbody>\n",
       "</table>\n",
       "</div>"
      ],
      "text/plain": [
       "                    Age         Fare     Family    Age_mean    Fare_mean  \\\n",
       "Age          213.716509    78.398770  -6.393469  213.716509    77.086088   \n",
       "Fare          78.398770  2556.122948  17.238115   63.110871  2556.122948   \n",
       "Family        -6.393469    17.238115   2.770177   -5.125313    16.895552   \n",
       "Age_mean     213.716509    63.110871  -5.125313  171.334247    61.876175   \n",
       "Fare_mean     77.086088  2556.122948  16.895552   61.876175  2505.792624   \n",
       "Age_median   213.716509    66.016947  -5.115968  171.346696    64.723695   \n",
       "Fare_median   76.369832  2556.122948  17.119734   61.304547  2505.706025   \n",
       "\n",
       "             Age_median  Fare_median  \n",
       "Age          213.716509    76.369832  \n",
       "Fare          66.016947  2556.122948  \n",
       "Family        -5.115968    17.119734  \n",
       "Age_mean     171.346696    61.304547  \n",
       "Fare_mean     64.723695  2505.706025  \n",
       "Age_median   171.818292    64.247415  \n",
       "Fare_median   64.247415  2511.812463  "
      ]
     },
     "execution_count": 215,
     "metadata": {},
     "output_type": "execute_result"
    }
   ],
   "source": [
    "X_train.cov()"
   ]
  },
  {
   "cell_type": "markdown",
   "id": "957bbbcb-59d3-4efd-b9a7-abe8ea522ff2",
   "metadata": {},
   "source": [
    "## In above two cell ,we can see that Fare doesnt have much change in covariance and coreelation while applying mean and median to the null dataset.But Age has drastic one"
   ]
  },
  {
   "cell_type": "code",
   "execution_count": 218,
   "id": "70f159d8-4315-48ed-83bc-537dd1e99045",
   "metadata": {},
   "outputs": [
    {
     "data": {
      "text/plain": [
       "<Axes: >"
      ]
     },
     "execution_count": 218,
     "metadata": {},
     "output_type": "execute_result"
    },
    {
     "data": {
      "image/png": "[encoded data removed]",
      "text/plain": [
       "<Figure size 640x480 with 1 Axes>"
      ]
     },
     "metadata": {},
     "output_type": "display_data"
    }
   ],
   "source": [
    "X_train[['Age','Age_mean','Age_median']].boxplot()"
   ]
  },
  {
   "cell_type": "markdown",
   "id": "c28f2420-6c3d-41b2-80a2-d656036b8eae",
   "metadata": {},
   "source": [
    "## Here in box plot more outliers are being generated in Age_mean and Age_median which is not good"
   ]
  },
  {
   "cell_type": "code",
   "execution_count": 221,
   "id": "971c7f18-ed2a-4e79-81ca-bd8ceb9839bb",
   "metadata": {},
   "outputs": [
    {
     "data": {
      "text/plain": [
       "<Axes: >"
      ]
     },
     "execution_count": 221,
     "metadata": {},
     "output_type": "execute_result"
    },
    {
     "data": {
      "image/png": "[encoded data removed]",
      "text/plain": [
       "<Figure size 640x480 with 1 Axes>"
      ]
     },
     "metadata": {},
     "output_type": "display_data"
    }
   ],
   "source": [
    "X_train[['Fare','Fare_mean','Fare_median']].boxplot()"
   ]
  },
  {
   "cell_type": "markdown",
   "id": "5be1429d-9a27-4aad-8780-21a9f3728eb1",
   "metadata": {},
   "source": [
    "## Fare didnot introduce more outlier here"
   ]
  },
  {
   "cell_type": "markdown",
   "id": "3f7098d1-bfc7-472c-9ec1-2f47bd262d4a",
   "metadata": {},
   "source": [
    "<h1 style = 'color:red;'>Seeing all the condition above,it seems suitable to apply mean median in null value in fare instead of in age</h1>"
   ]
  },
  {
   "cell_type": "code",
   "execution_count": null,
   "id": "9d238971-906f-4a79-8e91-eed086e0e7dd",
   "metadata": {},
   "outputs": [],
   "source": []
  }
 ],
 "metadata": {
  "kernelspec": {
   "display_name": "Python 3 (ipykernel)",
   "language": "python",
   "name": "python3"
  },
  "language_info": {
   "codemirror_mode": {
    "name": "ipython",
    "version": 3
   },
   "file_extension": ".py",
   "mimetype": "text/x-python",
   "name": "python",
   "nbconvert_exporter": "python",
   "pygments_lexer": "ipython3",
   "version": "3.12.4"
  }
 },
 "nbformat": 4,
 "nbformat_minor": 5
}
