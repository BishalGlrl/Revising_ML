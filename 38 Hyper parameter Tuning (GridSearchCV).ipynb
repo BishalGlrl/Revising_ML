{
 "cells": [
  {
   "cell_type": "markdown",
   "id": "3a833b79-7295-43e2-82f3-8f6d689cc43b",
   "metadata": {},
   "source": [
    "### When we choose the model for our dataset,then it contains many parameter.So the process of adjusting the parameters to get the good performance is known as hyperparameter tuning<br><br>Here we will be learning about GridSearchCV method for Hyperparameter tuning"
   ]
  },
  {
   "cell_type": "code",
   "execution_count": 1,
   "id": "6831aa78-d382-4b7a-9b2b-37966ee4350e",
   "metadata": {},
   "outputs": [],
   "source": [
    "import pandas as pd\n",
    "import numpy as np"
   ]
  },
  {
   "cell_type": "code",
   "execution_count": 2,
   "id": "0bf2550a-2a46-444b-b6c1-0bb5f11eb839",
   "metadata": {},
   "outputs": [],
   "source": [
    "df = pd.read_csv('train.csv')"
   ]
  },
  {
   "cell_type": "code",
   "execution_count": 3,
   "id": "40e67b11-8b06-492c-b532-c127d2760875",
   "metadata": {},
   "outputs": [
    {
     "data": {
      "text/html": [
       "<div>\n",
       "<style scoped>\n",
       "    .dataframe tbody tr th:only-of-type {\n",
       "        vertical-align: middle;\n",
       "    }\n",
       "\n",
       "    .dataframe tbody tr th {\n",
       "        vertical-align: top;\n",
       "    }\n",
       "\n",
       "    .dataframe thead th {\n",
       "        text-align: right;\n",
       "    }\n",
       "</style>\n",
       "<table border=\"1\" class=\"dataframe\">\n",
       "  <thead>\n",
       "    <tr style=\"text-align: right;\">\n",
       "      <th></th>\n",
       "      <th>PassengerId</th>\n",
       "      <th>Survived</th>\n",
       "      <th>Pclass</th>\n",
       "      <th>Name</th>\n",
       "      <th>Sex</th>\n",
       "      <th>Age</th>\n",
       "      <th>SibSp</th>\n",
       "      <th>Parch</th>\n",
       "      <th>Ticket</th>\n",
       "      <th>Fare</th>\n",
       "      <th>Cabin</th>\n",
       "      <th>Embarked</th>\n",
       "    </tr>\n",
       "  </thead>\n",
       "  <tbody>\n",
       "    <tr>\n",
       "      <th>0</th>\n",
       "      <td>1</td>\n",
       "      <td>0</td>\n",
       "      <td>3</td>\n",
       "      <td>Braund, Mr. Owen Harris</td>\n",
       "      <td>male</td>\n",
       "      <td>22.0</td>\n",
       "      <td>1</td>\n",
       "      <td>0</td>\n",
       "      <td>A/5 21171</td>\n",
       "      <td>7.2500</td>\n",
       "      <td>NaN</td>\n",
       "      <td>S</td>\n",
       "    </tr>\n",
       "    <tr>\n",
       "      <th>1</th>\n",
       "      <td>2</td>\n",
       "      <td>1</td>\n",
       "      <td>1</td>\n",
       "      <td>Cumings, Mrs. John Bradley (Florence Briggs Th...</td>\n",
       "      <td>female</td>\n",
       "      <td>38.0</td>\n",
       "      <td>1</td>\n",
       "      <td>0</td>\n",
       "      <td>PC 17599</td>\n",
       "      <td>71.2833</td>\n",
       "      <td>C85</td>\n",
       "      <td>C</td>\n",
       "    </tr>\n",
       "    <tr>\n",
       "      <th>2</th>\n",
       "      <td>3</td>\n",
       "      <td>1</td>\n",
       "      <td>3</td>\n",
       "      <td>Heikkinen, Miss. Laina</td>\n",
       "      <td>female</td>\n",
       "      <td>26.0</td>\n",
       "      <td>0</td>\n",
       "      <td>0</td>\n",
       "      <td>STON/O2. 3101282</td>\n",
       "      <td>7.9250</td>\n",
       "      <td>NaN</td>\n",
       "      <td>S</td>\n",
       "    </tr>\n",
       "  </tbody>\n",
       "</table>\n",
       "</div>"
      ],
      "text/plain": [
       "   PassengerId  Survived  Pclass  \\\n",
       "0            1         0       3   \n",
       "1            2         1       1   \n",
       "2            3         1       3   \n",
       "\n",
       "                                                Name     Sex   Age  SibSp  \\\n",
       "0                            Braund, Mr. Owen Harris    male  22.0      1   \n",
       "1  Cumings, Mrs. John Bradley (Florence Briggs Th...  female  38.0      1   \n",
       "2                             Heikkinen, Miss. Laina  female  26.0      0   \n",
       "\n",
       "   Parch            Ticket     Fare Cabin Embarked  \n",
       "0      0         A/5 21171   7.2500   NaN        S  \n",
       "1      0          PC 17599  71.2833   C85        C  \n",
       "2      0  STON/O2. 3101282   7.9250   NaN        S  "
      ]
     },
     "execution_count": 3,
     "metadata": {},
     "output_type": "execute_result"
    }
   ],
   "source": [
    "df.head(3)"
   ]
  },
  {
   "cell_type": "code",
   "execution_count": 5,
   "id": "acd157f1-6a0f-410b-b865-3a11250a2cbe",
   "metadata": {},
   "outputs": [],
   "source": [
    "df = df[['Survived','Pclass','Sex','Fare']]"
   ]
  },
  {
   "cell_type": "code",
   "execution_count": 9,
   "id": "5935d5da-9c45-4a9f-b1a7-cdc99ad2d064",
   "metadata": {},
   "outputs": [
    {
     "data": {
      "text/plain": [
       "Survived    0\n",
       "Pclass      0\n",
       "Sex         0\n",
       "Fare        0\n",
       "dtype: int64"
      ]
     },
     "execution_count": 9,
     "metadata": {},
     "output_type": "execute_result"
    }
   ],
   "source": [
    "df.isnull().sum()"
   ]
  },
  {
   "cell_type": "code",
   "execution_count": 11,
   "id": "4b4c7c91-a538-4537-a0ba-61fa280152bd",
   "metadata": {},
   "outputs": [],
   "source": [
    "from sklearn.preprocessing import LabelEncoder\n",
    "lb = LabelEncoder()"
   ]
  },
  {
   "cell_type": "code",
   "execution_count": 12,
   "id": "92686309-e593-4d4f-b83b-9650825722e5",
   "metadata": {},
   "outputs": [],
   "source": [
    "df['sex'] = pd.DataFrame(lb.fit_transform(df['Sex']),columns=['sex'])"
   ]
  },
  {
   "cell_type": "code",
   "execution_count": 13,
   "id": "b530ba95-3a91-421f-b116-f6dc9a7f8f4f",
   "metadata": {},
   "outputs": [],
   "source": [
    "df.drop('Sex',axis = 1,inplace=True)"
   ]
  },
  {
   "cell_type": "code",
   "execution_count": 17,
   "id": "2a8ca09f-9366-4da3-a4fc-bf087578b145",
   "metadata": {},
   "outputs": [
    {
     "data": {
      "text/html": [
       "<div>\n",
       "<style scoped>\n",
       "    .dataframe tbody tr th:only-of-type {\n",
       "        vertical-align: middle;\n",
       "    }\n",
       "\n",
       "    .dataframe tbody tr th {\n",
       "        vertical-align: top;\n",
       "    }\n",
       "\n",
       "    .dataframe thead th {\n",
       "        text-align: right;\n",
       "    }\n",
       "</style>\n",
       "<table border=\"1\" class=\"dataframe\">\n",
       "  <thead>\n",
       "    <tr style=\"text-align: right;\">\n",
       "      <th></th>\n",
       "      <th>Survived</th>\n",
       "      <th>Pclass</th>\n",
       "      <th>Fare</th>\n",
       "      <th>sex</th>\n",
       "    </tr>\n",
       "  </thead>\n",
       "  <tbody>\n",
       "    <tr>\n",
       "      <th>0</th>\n",
       "      <td>0</td>\n",
       "      <td>3</td>\n",
       "      <td>7.2500</td>\n",
       "      <td>1</td>\n",
       "    </tr>\n",
       "    <tr>\n",
       "      <th>1</th>\n",
       "      <td>1</td>\n",
       "      <td>1</td>\n",
       "      <td>71.2833</td>\n",
       "      <td>0</td>\n",
       "    </tr>\n",
       "    <tr>\n",
       "      <th>2</th>\n",
       "      <td>1</td>\n",
       "      <td>3</td>\n",
       "      <td>7.9250</td>\n",
       "      <td>0</td>\n",
       "    </tr>\n",
       "    <tr>\n",
       "      <th>3</th>\n",
       "      <td>1</td>\n",
       "      <td>1</td>\n",
       "      <td>53.1000</td>\n",
       "      <td>0</td>\n",
       "    </tr>\n",
       "    <tr>\n",
       "      <th>4</th>\n",
       "      <td>0</td>\n",
       "      <td>3</td>\n",
       "      <td>8.0500</td>\n",
       "      <td>1</td>\n",
       "    </tr>\n",
       "    <tr>\n",
       "      <th>...</th>\n",
       "      <td>...</td>\n",
       "      <td>...</td>\n",
       "      <td>...</td>\n",
       "      <td>...</td>\n",
       "    </tr>\n",
       "    <tr>\n",
       "      <th>886</th>\n",
       "      <td>0</td>\n",
       "      <td>2</td>\n",
       "      <td>13.0000</td>\n",
       "      <td>1</td>\n",
       "    </tr>\n",
       "    <tr>\n",
       "      <th>887</th>\n",
       "      <td>1</td>\n",
       "      <td>1</td>\n",
       "      <td>30.0000</td>\n",
       "      <td>0</td>\n",
       "    </tr>\n",
       "    <tr>\n",
       "      <th>888</th>\n",
       "      <td>0</td>\n",
       "      <td>3</td>\n",
       "      <td>23.4500</td>\n",
       "      <td>0</td>\n",
       "    </tr>\n",
       "    <tr>\n",
       "      <th>889</th>\n",
       "      <td>1</td>\n",
       "      <td>1</td>\n",
       "      <td>30.0000</td>\n",
       "      <td>1</td>\n",
       "    </tr>\n",
       "    <tr>\n",
       "      <th>890</th>\n",
       "      <td>0</td>\n",
       "      <td>3</td>\n",
       "      <td>7.7500</td>\n",
       "      <td>1</td>\n",
       "    </tr>\n",
       "  </tbody>\n",
       "</table>\n",
       "<p>891 rows × 4 columns</p>\n",
       "</div>"
      ],
      "text/plain": [
       "     Survived  Pclass     Fare  sex\n",
       "0           0       3   7.2500    1\n",
       "1           1       1  71.2833    0\n",
       "2           1       3   7.9250    0\n",
       "3           1       1  53.1000    0\n",
       "4           0       3   8.0500    1\n",
       "..        ...     ...      ...  ...\n",
       "886         0       2  13.0000    1\n",
       "887         1       1  30.0000    0\n",
       "888         0       3  23.4500    0\n",
       "889         1       1  30.0000    1\n",
       "890         0       3   7.7500    1\n",
       "\n",
       "[891 rows x 4 columns]"
      ]
     },
     "execution_count": 17,
     "metadata": {},
     "output_type": "execute_result"
    }
   ],
   "source": [
    "df"
   ]
  },
  {
   "cell_type": "code",
   "execution_count": 19,
   "id": "35c0b4df-3508-43d9-9bef-647e8067a8e7",
   "metadata": {},
   "outputs": [],
   "source": [
    "from sklearn.ensemble import RandomForestClassifier\n",
    "rfc = RandomForestClassifier(n_estimators=20)"
   ]
  },
  {
   "cell_type": "code",
   "execution_count": 21,
   "id": "a7247c0c-50a3-4f40-9f82-6553a4dd4a17",
   "metadata": {},
   "outputs": [],
   "source": [
    "from sklearn.model_selection import train_test_split\n",
    "X = df.drop('Survived',axis=1)\n",
    "Y = df['Survived']\n",
    "X_train,X_test,Y_train,Y_test = train_test_split(X,Y,test_size=0.2,random_state=43)"
   ]
  },
  {
   "cell_type": "code",
   "execution_count": 23,
   "id": "ab38494a-7b6f-4d99-9518-0f8026e421a5",
   "metadata": {},
   "outputs": [
    {
     "data": {
      "text/plain": [
       "((712, 3), (179, 3), (891, 4))"
      ]
     },
     "execution_count": 23,
     "metadata": {},
     "output_type": "execute_result"
    }
   ],
   "source": [
    "X_train.shape,X_test.shape,df.shape"
   ]
  },
  {
   "cell_type": "code",
   "execution_count": 25,
   "id": "3f44c2b2-0eba-4e99-acef-a820bef460cd",
   "metadata": {},
   "outputs": [
    {
     "data": {
      "text/plain": [
       "0.7597765363128491"
      ]
     },
     "execution_count": 25,
     "metadata": {},
     "output_type": "execute_result"
    }
   ],
   "source": [
    "from sklearn.metrics import accuracy_score\n",
    "rfc.fit(X_train,Y_train)\n",
    "Y_pred = rfc.predict(X_test)\n",
    "accuracy_score(Y_test,Y_pred)"
   ]
  },
  {
   "cell_type": "markdown",
   "id": "25a046c3-8f93-49cf-b116-1537cc634afa",
   "metadata": {},
   "source": [
    "### Here a randomforest classifier gives 77.09 accuracy.Now lets improves the accuracy by performing hyperparameters tuning with GridSearchDV"
   ]
  },
  {
   "cell_type": "code",
   "execution_count": 28,
   "id": "45c12aad-5c2f-4053-9f63-aa51c35db6b5",
   "metadata": {},
   "outputs": [],
   "source": [
    "# Number of trees in random forest\n",
    "n_estimators = [20,60,100,120]\n",
    "\n",
    "# Number of features to consider at every split\n",
    "max_features = [0.2,0.6,1.0]\n",
    "\n",
    "# Maximum number of levels in tree\n",
    "max_depth = [2,8,None]\n",
    "\n",
    "# Number of samples to train each tree\n",
    "max_samples = [0.5,0.75,1.0]\n",
    "\n",
    "# 108 diff random forest train"
   ]
  },
  {
   "cell_type": "code",
   "execution_count": 30,
   "id": "6c78975d-41ab-4b67-aed4-bbbfab40c2c2",
   "metadata": {},
   "outputs": [],
   "source": [
    "### Paramgrid contains the value of paramters of a model(which will be passed in GridSearchCV) which you want to hypertune.In my case there are 4 parameters of RandomForestClassifier model\n",
    "param_grid = {\n",
    "    'n_estimators': [50, 100, 150],          # Number of trees in the forest\n",
    "    'max_features': ['auto', 'sqrt'],        # Number of features to consider at each split\n",
    "    'max_depth': [None, 10, 20, 30],         # Maximum number of levels in tree\n",
    "    'min_samples_split': [2, 5, 10],         # Minimum number of samples required to split a node\n",
    "    'min_samples_leaf': [1, 2, 4],           # Minimum number of samples required at each leaf node\n",
    "    'bootstrap': [True, False]    \n",
    "}"
   ]
  },
  {
   "cell_type": "code",
   "execution_count": 32,
   "id": "4a8d0c64-10de-4fce-b876-e24cbbf04638",
   "metadata": {},
   "outputs": [],
   "source": [
    "from sklearn.model_selection import GridSearchCV\n",
    "rf = RandomForestClassifier()\n",
    "gsc = GridSearchCV(estimator=rf,\n",
    "                   param_grid=param_grid,\n",
    "                   verbose=2,\n",
    "                   n_jobs=-1)"
   ]
  },
  {
   "cell_type": "markdown",
   "id": "c74cb6c6-cf73-4607-ae58-2e6e73dddc3b",
   "metadata": {},
   "source": [
    "### In above,estimator means the model we want to find the paramters,param_grid contains the parameter of model we want to tune,n_jobs means how many core of cpu we want to utilize,n_jobs = -1 means we want to utilize all cores,verbose = 2 specifies the how detailly we want an output"
   ]
  },
  {
   "cell_type": "code",
   "execution_count": null,
   "id": "f075c871-e27f-48f5-85fe-e7d5ae3f5117",
   "metadata": {},
   "outputs": [
    {
     "name": "stdout",
     "output_type": "stream",
     "text": [
      "Fitting 5 folds for each of 432 candidates, totalling 2160 fits\n"
     ]
    }
   ],
   "source": [
    "gsc.fit(X_train,Y_train)"
   ]
  },
  {
   "cell_type": "markdown",
   "id": "f53a10b8-f11f-4644-a6e6-651bff399558",
   "metadata": {},
   "source": [
    "### Now we have fit our training dataset to gsc and we can find best parameters for our model as"
   ]
  },
  {
   "cell_type": "code",
   "execution_count": 95,
   "id": "d039417f-110d-4a7e-9594-edcdb49efd3c",
   "metadata": {},
   "outputs": [],
   "source": [
    "BEST_model = gsc.best_params_ ## We make our own model with these best parameters"
   ]
  },
  {
   "cell_type": "code",
   "execution_count": 97,
   "id": "14ac115c-9df7-47c9-af0f-be345b50649f",
   "metadata": {},
   "outputs": [
    {
     "data": {
      "text/plain": [
       "{'bootstrap': False,\n",
       " 'max_depth': 10,\n",
       " 'max_features': 'sqrt',\n",
       " 'min_samples_leaf': 2,\n",
       " 'min_samples_split': 5,\n",
       " 'n_estimators': 50}"
      ]
     },
     "execution_count": 97,
     "metadata": {},
     "output_type": "execute_result"
    }
   ],
   "source": [
    "gsc.best_params_"
   ]
  },
  {
   "cell_type": "markdown",
   "id": "18473eb6-535c-4e02-8085-3903d7eeb6c1",
   "metadata": {},
   "source": [
    "### When we put those parameters ,then we will be getting a best accuracy.We can find a best accuracy as"
   ]
  },
  {
   "cell_type": "code",
   "execution_count": 100,
   "id": "3013d1d5-2c33-42eb-a090-3cbb5a0741be",
   "metadata": {},
   "outputs": [
    {
     "data": {
      "text/plain": [
       "0.8300403821530582"
      ]
     },
     "execution_count": 100,
     "metadata": {},
     "output_type": "execute_result"
    }
   ],
   "source": [
    "gsc.best_score_"
   ]
  },
  {
   "cell_type": "code",
   "execution_count": 102,
   "id": "dc738a18-b01e-446f-a8b0-c51f07bc5a53",
   "metadata": {},
   "outputs": [
    {
     "data": {
      "text/plain": [
       "0.7821229050279329"
      ]
     },
     "execution_count": 102,
     "metadata": {},
     "output_type": "execute_result"
    }
   ],
   "source": [
    "Yp = gsc.predict(X_test)\n",
    "accuracy_score(Y_test,Yp)"
   ]
  },
  {
   "cell_type": "code",
   "execution_count": null,
   "id": "62287c8d-29fb-4745-baee-fd5846f14c28",
   "metadata": {},
   "outputs": [],
   "source": []
  }
 ],
 "metadata": {
  "kernelspec": {
   "display_name": "Python 3 (ipykernel)",
   "language": "python",
   "name": "python3"
  },
  "language_info": {
   "codemirror_mode": {
    "name": "ipython",
    "version": 3
   },
   "file_extension": ".py",
   "mimetype": "text/x-python",
   "name": "python",
   "nbconvert_exporter": "python",
   "pygments_lexer": "ipython3",
   "version": "3.12.4"
  }
 },
 "nbformat": 4,
 "nbformat_minor": 5
}
