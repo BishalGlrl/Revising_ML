{
 "cells": [
  {
   "cell_type": "markdown",
   "id": "64941ad8-33af-47a5-a06e-8149026c91ce",
   "metadata": {},
   "source": [
    "### Count vectorizer is a technique used in NLP i.e. Natural Language Processing for transforming a sentence of text into a series of numbers which a machine learning model can understand"
   ]
  },
  {
   "cell_type": "markdown",
   "id": "5890ed0b-d757-43fe-bdcb-5c363f65865e",
   "metadata": {},
   "source": [
    "### Following are steps in count vectorizer:<br><br>1) At first the words in a sentence is converted to a tokens.For eg from word \"My Name is Bishal Giri\" and My Name is Biraj Shah,it is converted in tokens as ['My','Name','is','Bishal','Giri','Biraj','Shah'].Here duplicate words are removed<br><br>2)Now from the list of tokens it finds how many time word occur in a sentence as :<br><br>\"My Name is Bishal Giri\" = [1,1,1,1,1,0,0].Tokens \"Biraj\" and \"Giri\" have not been appeared in a text,so there is assigned 0 in their place.<br>\"My Name is Biraj Shah\"=[1,1,1,0,0,1,1].Here Bishal Giri doesnot appears so there is 0 in its place.<br><br>Both array corresponds to the list of tokens created in tokenization phase i.e ['My','Name','is','Bishal','Giri','Biraj','Shah']"
   ]
  },
  {
   "cell_type": "markdown",
   "id": "41603b4c-ce2d-4165-90dc-eec0db259eea",
   "metadata": {},
   "source": [
    "<h2 style = 'color:purple;'>Practical implementations:</h2>"
   ]
  },
  {
   "cell_type": "code",
   "execution_count": 6,
   "id": "b333bb49-8bf5-46ae-97de-1b94f8355c5b",
   "metadata": {},
   "outputs": [],
   "source": [
    "from sklearn.feature_extraction.text import CountVectorizer"
   ]
  },
  {
   "cell_type": "code",
   "execution_count": 26,
   "id": "752ba7b3-053b-4d3b-b460-976d0935d3f3",
   "metadata": {},
   "outputs": [],
   "source": [
    "data = [\n",
    "    \"The quick brown fox jumps over the lazy dog.\",\n",
    "    \"Never jump over the lazy dog quickly.\",\n",
    "    \"The quick brown dog jumped over the lazy fox.\"\n",
    "]"
   ]
  },
  {
   "cell_type": "code",
   "execution_count": 28,
   "id": "19f4f2bc-3491-485b-ab8f-74623ef775da",
   "metadata": {},
   "outputs": [],
   "source": [
    "import pandas as pd\n",
    "import numpy as np\n",
    "df =pd.DataFrame(data)"
   ]
  },
  {
   "cell_type": "code",
   "execution_count": 32,
   "id": "028cdfff-f239-4553-a7c7-c511faf0dd9e",
   "metadata": {},
   "outputs": [
    {
     "data": {
      "text/html": [
       "<div>\n",
       "<style scoped>\n",
       "    .dataframe tbody tr th:only-of-type {\n",
       "        vertical-align: middle;\n",
       "    }\n",
       "\n",
       "    .dataframe tbody tr th {\n",
       "        vertical-align: top;\n",
       "    }\n",
       "\n",
       "    .dataframe thead th {\n",
       "        text-align: right;\n",
       "    }\n",
       "</style>\n",
       "<table border=\"1\" class=\"dataframe\">\n",
       "  <thead>\n",
       "    <tr style=\"text-align: right;\">\n",
       "      <th></th>\n",
       "      <th>0</th>\n",
       "    </tr>\n",
       "  </thead>\n",
       "  <tbody>\n",
       "    <tr>\n",
       "      <th>0</th>\n",
       "      <td>The quick brown fox jumps over the lazy dog.</td>\n",
       "    </tr>\n",
       "    <tr>\n",
       "      <th>1</th>\n",
       "      <td>Never jump over the lazy dog quickly.</td>\n",
       "    </tr>\n",
       "    <tr>\n",
       "      <th>2</th>\n",
       "      <td>The quick brown dog jumped over the lazy fox.</td>\n",
       "    </tr>\n",
       "  </tbody>\n",
       "</table>\n",
       "</div>"
      ],
      "text/plain": [
       "                                               0\n",
       "0   The quick brown fox jumps over the lazy dog.\n",
       "1          Never jump over the lazy dog quickly.\n",
       "2  The quick brown dog jumped over the lazy fox."
      ]
     },
     "execution_count": 32,
     "metadata": {},
     "output_type": "execute_result"
    }
   ],
   "source": [
    "df"
   ]
  },
  {
   "cell_type": "code",
   "execution_count": 36,
   "id": "d5f0c5ee-0a9b-4a1e-a87f-d59a366fb85b",
   "metadata": {},
   "outputs": [],
   "source": [
    "cv = CountVectorizer()\n",
    "new_df = cv.fit_transform(df[0]) ## fit_tranforrm(df) matra lekhyo vane cv ma index ko int value ni janxa ra error dinca.So only giving the value of column not index"
   ]
  },
  {
   "cell_type": "markdown",
   "id": "1a7b6dc9-71ea-457a-87a3-a555ef9b8068",
   "metadata": {},
   "source": [
    "### Tokens created in our case can be found as:"
   ]
  },
  {
   "cell_type": "code",
   "execution_count": 41,
   "id": "b3158684-f039-4dad-a838-6744de79a942",
   "metadata": {},
   "outputs": [
    {
     "name": "stdout",
     "output_type": "stream",
     "text": [
      "Token created  ['brown' 'dog' 'fox' 'jump' 'jumped' 'jumps' 'lazy' 'never' 'over' 'quick'\n",
      " 'quickly' 'the']\n"
     ]
    }
   ],
   "source": [
    "print('Token created ' , cv.get_feature_names_out())"
   ]
  },
  {
   "cell_type": "code",
   "execution_count": 45,
   "id": "a2e23cf3-6b5b-46ad-8d87-c9114b1c8682",
   "metadata": {},
   "outputs": [
    {
     "name": "stdout",
     "output_type": "stream",
     "text": [
      "Vectors for each sentence in our data is  [[1 1 1 0 0 1 1 0 1 1 0 2]\n",
      " [0 1 0 1 0 0 1 1 1 0 1 1]\n",
      " [1 1 1 0 1 0 1 0 1 1 0 2]]\n"
     ]
    }
   ],
   "source": [
    "print('Vectors for each sentence in our data is ', new_df.toarray())"
   ]
  },
  {
   "cell_type": "markdown",
   "id": "859f1878-e618-4097-941b-2ded7caba513",
   "metadata": {},
   "source": [
    "## Writing above vectors in a good form"
   ]
  },
  {
   "cell_type": "code",
   "execution_count": 54,
   "id": "46c3316e-f948-4c29-aae7-2c2578c18683",
   "metadata": {},
   "outputs": [
    {
     "name": "stdout",
     "output_type": "stream",
     "text": [
      "THE VECTOR FOR WORD 'The quick brown fox jumps over the lazy dog.' IS \n",
      " [1 1 1 0 0 1 1 0 1 1 0 2]\n",
      "THE VECTOR FOR WORD 'Never jump over the lazy dog quickly.' IS \n",
      " [0 1 0 1 0 0 1 1 1 0 1 1]\n",
      "THE VECTOR FOR WORD 'The quick brown dog jumped over the lazy fox.' IS \n",
      " [1 1 1 0 1 0 1 0 1 1 0 2]\n"
     ]
    }
   ],
   "source": [
    "arrays = new_df.toarray()\n",
    "for words,vectrs in zip(data,arrays):\n",
    "    print(f\"THE VECTOR FOR WORD '{words}' IS \\n {vectrs}\")"
   ]
  },
  {
   "cell_type": "code",
   "execution_count": null,
   "id": "601411df-07bd-45f4-88fd-746335d2bcfb",
   "metadata": {},
   "outputs": [],
   "source": []
  }
 ],
 "metadata": {
  "kernelspec": {
   "display_name": "Python 3 (ipykernel)",
   "language": "python",
   "name": "python3"
  },
  "language_info": {
   "codemirror_mode": {
    "name": "ipython",
    "version": 3
   },
   "file_extension": ".py",
   "mimetype": "text/x-python",
   "name": "python",
   "nbconvert_exporter": "python",
   "pygments_lexer": "ipython3",
   "version": "3.12.4"
  }
 },
 "nbformat": 4,
 "nbformat_minor": 5
}
