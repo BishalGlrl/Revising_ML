{
 "cells": [
  {
   "cell_type": "code",
   "execution_count": 1,
   "id": "82c197ca-612b-40a8-9e7d-cbbb72fd5942",
   "metadata": {},
   "outputs": [],
   "source": [
    "import pandas as pd\n",
    "import requests #This is to sent HTTP request and get appropriate response\n",
    "from bs4 import BeautifulSoup"
   ]
  },
  {
   "cell_type": "code",
   "execution_count": 3,
   "id": "8d723139-4e9d-4692-b197-3881ebc0c602",
   "metadata": {},
   "outputs": [
    {
     "data": {
      "text/plain": [
       "<Response [403]>"
      ]
     },
     "execution_count": 3,
     "metadata": {},
     "output_type": "execute_result"
    }
   ],
   "source": [
    "url = 'https://www.ambitionbox.com/list-of-companies?campaign=desktop_nav&page=2'\n",
    "requests.get(url) #This gives output as 403 which means server denied our request\n",
    "#If output was 200,it means request successful"
   ]
  },
  {
   "cell_type": "markdown",
   "id": "fb24a0f7-755f-4ec4-b2be-29d497ec4c6e",
   "metadata": {},
   "source": [
    "# FOR MAKING RESPONSE SUCCESSFULL DO THIS METHOD"
   ]
  },
  {
   "cell_type": "code",
   "execution_count": null,
   "id": "f923a627-c98b-4645-92f7-56c453eff883",
   "metadata": {},
   "outputs": [],
   "source": [
    "headers = {\n",
    "    'User-Agent': 'Mozilla/5.0 (Windows NT 10.0; Win64; x64) AppleWebKit/537.36 (KHTML, like Gecko) Chrome/91.0.4472.124 Safari/537.36'\n",
    "}\n",
    "response = requests.get(url, headers=headers)\n"
   ]
  },
  {
   "cell_type": "code",
   "execution_count": null,
   "id": "071e4349-41c9-49fc-998d-2cda85a26abf",
   "metadata": {},
   "outputs": [],
   "source": []
  }
 ],
 "metadata": {
  "kernelspec": {
   "display_name": "Python 3 (ipykernel)",
   "language": "python",
   "name": "python3"
  },
  "language_info": {
   "codemirror_mode": {
    "name": "ipython",
    "version": 3
   },
   "file_extension": ".py",
   "mimetype": "text/x-python",
   "name": "python",
   "nbconvert_exporter": "python",
   "pygments_lexer": "ipython3",
   "version": "3.12.4"
  }
 },
 "nbformat": 4,
 "nbformat_minor": 5
}
