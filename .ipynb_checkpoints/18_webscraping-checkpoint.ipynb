{
 "cells": [
  {
   "cell_type": "code",
   "execution_count": 2,
   "id": "82c197ca-612b-40a8-9e7d-cbbb72fd5942",
   "metadata": {},
   "outputs": [],
   "source": [
    "import pandas as pd\n",
    "import requests #This is to sent HTTP request and get appropriate response\n",
    "from bs4 import BeautifulSoup"
   ]
  },
  {
   "cell_type": "code",
   "execution_count": 4,
   "id": "8d723139-4e9d-4692-b197-3881ebc0c602",
   "metadata": {},
   "outputs": [
    {
     "data": {
      "text/plain": [
       "<Response [403]>"
      ]
     },
     "execution_count": 4,
     "metadata": {},
     "output_type": "execute_result"
    }
   ],
   "source": [
    "requests.get('https://www.ambitionbox.com/list-of-companies?campaign=desktop_nav&page=2') #This gives output as 403 which means server denied our request\n",
    "#If output was 200,it means request successful"
   ]
  },
  {
   "cell_type": "code",
   "execution_count": null,
   "id": "fc645652-0924-4b6d-8e22-bf922fda1efe",
   "metadata": {},
   "outputs": [],
   "source": []
  }
 ],
 "metadata": {
  "kernelspec": {
   "display_name": "Python 3 (ipykernel)",
   "language": "python",
   "name": "python3"
  },
  "language_info": {
   "codemirror_mode": {
    "name": "ipython",
    "version": 3
   },
   "file_extension": ".py",
   "mimetype": "text/x-python",
   "name": "python",
   "nbconvert_exporter": "python",
   "pygments_lexer": "ipython3",
   "version": "3.12.4"
  }
 },
 "nbformat": 4,
 "nbformat_minor": 5
}
