{
 "cells": [
  {
   "cell_type": "markdown",
   "id": "90bb9959-65fb-4e80-8af0-01ac6c6d19fa",
   "metadata": {},
   "source": [
    "<img src='Screenshot (73).png'>"
   ]
  },
  {
   "cell_type": "markdown",
   "id": "928e28cc-4209-4092-bf3e-503b749721c2",
   "metadata": {},
   "source": [
    "## FUNCTION TO LOOKK"
   ]
  },
  {
   "cell_type": "markdown",
   "id": "7cb31718-f34d-4612-b8c7-eaef07e95d99",
   "metadata": {},
   "source": [
    "nunique(),value_count(),describe(),info(),.iloc()"
   ]
  },
  {
   "cell_type": "markdown",
   "id": "5fd554d4-c26e-4fb0-877b-939afba57fc5",
   "metadata": {},
   "source": [
    "numpy array lai data frame lai convert garna <p style = 'color:red;'> pd.DataFrame(name_of_array) <p>.and to convert pandas DataFrame to nympy array you have to use <p style = 'color:red;'>name_of_dataframe.values</p>"
   ]
  },
  {
   "cell_type": "markdown",
   "id": "353fcb12-8bd9-4d5c-9d88-c511314c564b",
   "metadata": {},
   "source": [
    "## 1) In machine learning,Every input feature(X) must be inpendent of each other and the output feature i.e. Y is dependent on input features\n"
   ]
  },
  {
   "cell_type": "markdown",
   "id": "03f6b698-7922-4163-bfda-fd3acac8791b",
   "metadata": {},
   "source": [
    "## 2) In machine learning, While using SimpleInputer,then it will by default calculate the mean of the given column of the dataframe and append that mean to the column.Now if we want to insert in other way,i.e. if we have categorical data,whose mean is not possible to calculate,thwn we can fill the missing value with the most occured value in column as :\n",
    "<h3 style = 'color : red;'>SimpleInputer(strategy = 'most_frequent')</h3>"
   ]
  },
  {
   "cell_type": "markdown",
   "id": "d390dca2-b035-48cc-bfa3-12bebf82ae81",
   "metadata": {},
   "source": [
    "### bi = pd.concat([df,number],axis = 1) #Axis 1 vayo vaney side bata jodxa.Axis 0 vayo vaney tala bata"
   ]
  },
  {
   "cell_type": "code",
   "execution_count": null,
   "id": "b13c4556-a527-4b8e-bd15-b3767cc4bf39",
   "metadata": {},
   "outputs": [],
   "source": []
  }
 ],
 "metadata": {
  "kernelspec": {
   "display_name": "Python 3 (ipykernel)",
   "language": "python",
   "name": "python3"
  },
  "language_info": {
   "codemirror_mode": {
    "name": "ipython",
    "version": 3
   },
   "file_extension": ".py",
   "mimetype": "text/x-python",
   "name": "python",
   "nbconvert_exporter": "python",
   "pygments_lexer": "ipython3",
   "version": "3.12.4"
  }
 },
 "nbformat": 4,
 "nbformat_minor": 5
}
