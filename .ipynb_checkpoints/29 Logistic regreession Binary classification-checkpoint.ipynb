{
 "cells": [
  {
   "cell_type": "markdown",
   "id": "092da937-6e13-41c1-a723-214d3bbb03db",
   "metadata": {},
   "source": [
    "## Here we will be doing classification problem,i.e digit prediction as  here we have to predict a categorical value i.e. 0,1,2,3,4,5,...9"
   ]
  },
  {
   "cell_type": "code",
   "execution_count": 49,
   "id": "d883d2c2-400c-4b84-a9ae-bf002c6a2176",
   "metadata": {},
   "outputs": [],
   "source": [
    "from sklearn.datasets import load_digits\n",
    "import pandas as pd\n",
    "import numpy as np"
   ]
  },
  {
   "cell_type": "code",
   "execution_count": 51,
   "id": "1c7e62ba-7679-4e98-939c-94b0662a48d1",
   "metadata": {},
   "outputs": [],
   "source": [
    "df = load_digits()"
   ]
  },
  {
   "cell_type": "markdown",
   "id": "8b55556f-d29b-496e-9e92-c46eb1c1ecc0",
   "metadata": {},
   "source": [
    "### df is in the form of dictionary with two key value pair named as 'data' and 'target' and each key contain value as array of data.So i want to access these values in dictionary"
   ]
  },
  {
   "cell_type": "code",
   "execution_count": 54,
   "id": "20484a50-24b2-4517-a9da-5dc9a56ae682",
   "metadata": {},
   "outputs": [],
   "source": [
    "X = df['data']\n",
    "Y = df['target']"
   ]
  },
  {
   "cell_type": "code",
   "execution_count": 94,
   "id": "f11ae125-990e-47a1-8b2d-44035e08887d",
   "metadata": {},
   "outputs": [
    {
     "data": {
      "text/plain": [
       "(64,)"
      ]
     },
     "execution_count": 94,
     "metadata": {},
     "output_type": "execute_result"
    }
   ],
   "source": [
    "X[0].shape"
   ]
  },
  {
   "cell_type": "code",
   "execution_count": 64,
   "id": "5b7aad15-4480-49da-ada6-b52c2478f889",
   "metadata": {},
   "outputs": [
    {
     "data": {
      "text/plain": [
       "(1797, 64)"
      ]
     },
     "execution_count": 64,
     "metadata": {},
     "output_type": "execute_result"
    }
   ],
   "source": [
    "X.shape ## "
   ]
  },
  {
   "cell_type": "markdown",
   "id": "b94bc755-24f4-4fc3-83af-8866afbdf7a1",
   "metadata": {},
   "source": [
    "## Here X has shape of 64 meaning that 8 pixels in row and 8 in column"
   ]
  },
  {
   "cell_type": "code",
   "execution_count": 67,
   "id": "1e684d77-87f1-4135-bfc9-980a6485e56c",
   "metadata": {},
   "outputs": [
    {
     "data": {
      "text/plain": [
       "<matplotlib.image.AxesImage at 0x1ee58e1dee0>"
      ]
     },
     "execution_count": 67,
     "metadata": {},
     "output_type": "execute_result"
    },
    {
     "data": {
      "image/png": "[encoded data removed]",
      "text/plain": [
       "<Figure size 640x480 with 1 Axes>"
      ]
     },
     "metadata": {},
     "output_type": "display_data"
    }
   ],
   "source": [
    "import matplotlib.pyplot as plt\n",
    "temp = pd.DataFrame(X)\n",
    "plt.imshow(temp.iloc[1601,0:].values.reshape(8,8)) "
   ]
  },
  {
   "cell_type": "code",
   "execution_count": 69,
   "id": "45da6073-64fd-4adb-99cc-6ddc927b3595",
   "metadata": {},
   "outputs": [],
   "source": [
    "from sklearn.model_selection import train_test_split\n",
    "X_train,X_test,Y_train,Y_test = train_test_split(X,Y, test_size=0.2,random_state=43)"
   ]
  },
  {
   "cell_type": "code",
   "execution_count": 71,
   "id": "e95f752b-28d6-4a56-a715-747a344eacb7",
   "metadata": {},
   "outputs": [
    {
     "data": {
      "text/plain": [
       "(1437, 64)"
      ]
     },
     "execution_count": 71,
     "metadata": {},
     "output_type": "execute_result"
    }
   ],
   "source": [
    "X_train.shape"
   ]
  },
  {
   "cell_type": "code",
   "execution_count": 73,
   "id": "6af7744c-86bf-431f-8ff3-34373c77571e",
   "metadata": {},
   "outputs": [],
   "source": [
    "from sklearn.linear_model import LogisticRegression\n",
    "lr = LogisticRegression()"
   ]
  },
  {
   "cell_type": "code",
   "execution_count": 78,
   "id": "4129d81e-c9c6-4026-af22-26f7b155cfc9",
   "metadata": {},
   "outputs": [
    {
     "name": "stderr",
     "output_type": "stream",
     "text": [
      "C:\\Users\\dell\\AppData\\Roaming\\Python\\Python312\\site-packages\\sklearn\\linear_model\\_logistic.py:469: ConvergenceWarning: lbfgs failed to converge (status=1):\n",
      "STOP: TOTAL NO. of ITERATIONS REACHED LIMIT.\n",
      "\n",
      "Increase the number of iterations (max_iter) or scale the data as shown in:\n",
      "    https://scikit-learn.org/stable/modules/preprocessing.html\n",
      "Please also refer to the documentation for alternative solver options:\n",
      "    https://scikit-learn.org/stable/modules/linear_model.html#logistic-regression\n",
      "  n_iter_i = _check_optimize_result(\n"
     ]
    }
   ],
   "source": [
    "lr.fit(X_train,Y_train)\n",
    "Y_pred = lr.predict(X_test)"
   ]
  },
  {
   "cell_type": "code",
   "execution_count": 80,
   "id": "8aea5ea3-bf38-4b3c-9f06-fbfb60c1eff4",
   "metadata": {},
   "outputs": [
    {
     "data": {
      "text/plain": [
       "0.975"
      ]
     },
     "execution_count": 80,
     "metadata": {},
     "output_type": "execute_result"
    }
   ],
   "source": [
    "from sklearn.metrics import accuracy_score\n",
    "accuracy_score(Y_pred,Y_test)"
   ]
  },
  {
   "cell_type": "markdown",
   "id": "b04e5b12-04b7-49db-94cb-dc1e61fec17d",
   "metadata": {},
   "source": [
    "### Our model is performing well with an accuracy of 0.95"
   ]
  },
  {
   "cell_type": "code",
   "execution_count": 85,
   "id": "e3f81989-384c-415b-84fd-70c289474bdf",
   "metadata": {},
   "outputs": [
    {
     "data": {
      "text/plain": [
       "<matplotlib.image.AxesImage at 0x1ee5b3fb3b0>"
      ]
     },
     "execution_count": 85,
     "metadata": {},
     "output_type": "execute_result"
    },
    {
     "data": {
      "image/png": "[encoded data removed]",
      "text/plain": [
       "<Figure size 640x480 with 1 Axes>"
      ]
     },
     "metadata": {},
     "output_type": "display_data"
    }
   ],
   "source": [
    "plt.imshow(temp.iloc[120,0:].values.reshape(8,8))"
   ]
  },
  {
   "cell_type": "code",
   "execution_count": 87,
   "id": "0659f7d4-c3be-49c8-9fcf-741b8fee321b",
   "metadata": {},
   "outputs": [
    {
     "data": {
      "text/plain": [
       "5"
      ]
     },
     "execution_count": 87,
     "metadata": {},
     "output_type": "execute_result"
    }
   ],
   "source": [
    "Y[120]"
   ]
  },
  {
   "cell_type": "markdown",
   "id": "eb1fef21-9d95-4467-984a-70905d3cde14",
   "metadata": {},
   "source": [
    "### Now lets make a prediction of X_train,whether out model predict right or not"
   ]
  },
  {
   "cell_type": "code",
   "execution_count": 98,
   "id": "1f5384c2-2761-40e1-8dc3-a0f635376566",
   "metadata": {},
   "outputs": [
    {
     "data": {
      "text/plain": [
       "array([5])"
      ]
     },
     "execution_count": 98,
     "metadata": {},
     "output_type": "execute_result"
    }
   ],
   "source": [
    "lr.predict([X[120]])"
   ]
  },
  {
   "cell_type": "code",
   "execution_count": null,
   "id": "49b7a83a-fefa-4ebd-bbba-c53358d9ad6e",
   "metadata": {},
   "outputs": [],
   "source": []
  }
 ],
 "metadata": {
  "kernelspec": {
   "display_name": "Python 3 (ipykernel)",
   "language": "python",
   "name": "python3"
  },
  "language_info": {
   "codemirror_mode": {
    "name": "ipython",
    "version": 3
   },
   "file_extension": ".py",
   "mimetype": "text/x-python",
   "name": "python",
   "nbconvert_exporter": "python",
   "pygments_lexer": "ipython3",
   "version": "3.12.4"
  }
 },
 "nbformat": 4,
 "nbformat_minor": 5
}
