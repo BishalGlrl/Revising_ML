{
 "cells": [
  {
   "cell_type": "code",
   "execution_count": 11,
   "id": "730ff588-9823-4b4a-9599-fb81d921d89d",
   "metadata": {},
   "outputs": [
    {
     "name": "stdout",
     "output_type": "stream",
     "text": [
      "Collecting numpy==1.26.4Note: you may need to restart the kernel to use updated packages.\n",
      "\n",
      "  Using cached numpy-1.26.4-cp312-cp312-win_amd64.whl.metadata (61 kB)\n",
      "Using cached numpy-1.26.4-cp312-cp312-win_amd64.whl (15.5 MB)\n",
      "Installing collected packages: numpy\n",
      "  Attempting uninstall: numpy\n",
      "    Found existing installation: numpy 2.0.1\n",
      "    Uninstalling numpy-2.0.1:\n",
      "      Successfully uninstalled numpy-2.0.1\n",
      "Successfully installed numpy-1.26.4\n"
     ]
    },
    {
     "name": "stderr",
     "output_type": "stream",
     "text": [
      "  WARNING: The script f2py.exe is installed in 'C:\\Users\\dell\\AppData\\Roaming\\Python\\Python312\\Scripts' which is not on PATH.\n",
      "  Consider adding this directory to PATH or, if you prefer to suppress this warning, use --no-warn-script-location.\n",
      "  WARNING: Failed to remove contents in a temporary directory 'C:\\Users\\dell\\AppData\\Roaming\\Python\\Python312\\site-packages\\~-mpy.libs'.\n",
      "  You can safely remove it manually.\n",
      "  WARNING: Failed to remove contents in a temporary directory 'C:\\Users\\dell\\AppData\\Roaming\\Python\\Python312\\site-packages\\~-mpy'.\n",
      "  You can safely remove it manually.\n",
      "ERROR: pip's dependency resolver does not currently take into account all the packages that are installed. This behaviour is the source of the following dependency conflicts.\n",
      "pandas-profiling 3.2.0 requires joblib~=1.1.0, but you have joblib 1.4.2 which is incompatible.\n"
     ]
    }
   ],
   "source": [
    "pip install numpy==1.26.4 --user"
   ]
  },
  {
   "cell_type": "markdown",
   "id": "941ecbd8-3e72-48e9-be2f-3d65143b907d",
   "metadata": {},
   "source": [
    "## Linear regression is used in regression with continuous value like in house price prediction <br> Logistic regression in other hand is used in classification problem like in spam message finder"
   ]
  },
  {
   "cell_type": "markdown",
   "id": "78c05836-20aa-4fc9-8f77-9e6234424e91",
   "metadata": {},
   "source": [
    "## There are two types of classification problem in machine learning: <br><br>1) Binary classification(In spam filtering,it has only two classes i.e. spam,not spam) <br><br>2) Multiclass classification(In party vote prediction we may have three classes i.e.Amale,Mahodi and Congress)"
   ]
  },
  {
   "cell_type": "markdown",
   "id": "a51d3fc9-af43-4904-9dab-14b898d3c89d",
   "metadata": {},
   "source": [
    "### In classification problem(Chance of getting insurance,binary classification problem),We have a scatterplot somethig like this \n",
    "<img src= \"graph.png\"/>"
   ]
  },
  {
   "cell_type": "markdown",
   "id": "843a7e51-325b-4ae3-8e7a-44d6e8c277b4",
   "metadata": {},
   "source": [
    "### So in this type of problem,drawing a straight line from between might be inaccurate,so the most accurate way is to draw a sigmoid there as :"
   ]
  },
  {
   "cell_type": "markdown",
   "id": "8dc0a27d-2599-42cf-a153-ee61c0b76e38",
   "metadata": {},
   "source": [
    "<img src=\"logistic.png\"/>"
   ]
  },
  {
   "cell_type": "markdown",
   "id": "841a7c34-ce7d-4014-9dd7-2fee1381b6f4",
   "metadata": {},
   "source": [
    "### This method is termed as logistic regression"
   ]
  },
  {
   "cell_type": "markdown",
   "id": "42de8722-71eb-4e12-a996-99f2387fcecf",
   "metadata": {},
   "source": [
    "## Here the left one is of linear regression line equation and right one is a logisitic regression sigmoid equation"
   ]
  },
  {
   "cell_type": "markdown",
   "id": "8e98d78e-cabc-4d18-b24b-98a40b2132e5",
   "metadata": {},
   "source": [
    "<img src = \"f.png\"/>"
   ]
  },
  {
   "cell_type": "code",
   "execution_count": 46,
   "id": "ab19dc16-f71f-4585-843c-a874a4a1966d",
   "metadata": {},
   "outputs": [],
   "source": [
    "import numpy as np\n",
    "import pandas as pd"
   ]
  },
  {
   "cell_type": "code",
   "execution_count": 48,
   "id": "f5b14d53-e2aa-4118-8fcd-82d4e038fcb8",
   "metadata": {},
   "outputs": [],
   "source": [
    "df = pd.read_csv('HR_comma_sep.csv')"
   ]
  },
  {
   "cell_type": "code",
   "execution_count": 50,
   "id": "d514e6ee-c0a2-4ec2-8181-c42af231b0ff",
   "metadata": {},
   "outputs": [
    {
     "data": {
      "text/html": [
       "<div>\n",
       "<style scoped>\n",
       "    .dataframe tbody tr th:only-of-type {\n",
       "        vertical-align: middle;\n",
       "    }\n",
       "\n",
       "    .dataframe tbody tr th {\n",
       "        vertical-align: top;\n",
       "    }\n",
       "\n",
       "    .dataframe thead th {\n",
       "        text-align: right;\n",
       "    }\n",
       "</style>\n",
       "<table border=\"1\" class=\"dataframe\">\n",
       "  <thead>\n",
       "    <tr style=\"text-align: right;\">\n",
       "      <th></th>\n",
       "      <th>satisfaction_level</th>\n",
       "      <th>last_evaluation</th>\n",
       "      <th>number_project</th>\n",
       "      <th>average_montly_hours</th>\n",
       "      <th>time_spend_company</th>\n",
       "      <th>Work_accident</th>\n",
       "      <th>left</th>\n",
       "      <th>promotion_last_5years</th>\n",
       "      <th>Department</th>\n",
       "      <th>salary</th>\n",
       "    </tr>\n",
       "  </thead>\n",
       "  <tbody>\n",
       "    <tr>\n",
       "      <th>0</th>\n",
       "      <td>0.38</td>\n",
       "      <td>0.53</td>\n",
       "      <td>2</td>\n",
       "      <td>157</td>\n",
       "      <td>3</td>\n",
       "      <td>0</td>\n",
       "      <td>1</td>\n",
       "      <td>0</td>\n",
       "      <td>sales</td>\n",
       "      <td>low</td>\n",
       "    </tr>\n",
       "    <tr>\n",
       "      <th>1</th>\n",
       "      <td>0.80</td>\n",
       "      <td>0.86</td>\n",
       "      <td>5</td>\n",
       "      <td>262</td>\n",
       "      <td>6</td>\n",
       "      <td>0</td>\n",
       "      <td>1</td>\n",
       "      <td>0</td>\n",
       "      <td>sales</td>\n",
       "      <td>medium</td>\n",
       "    </tr>\n",
       "    <tr>\n",
       "      <th>2</th>\n",
       "      <td>0.11</td>\n",
       "      <td>0.88</td>\n",
       "      <td>7</td>\n",
       "      <td>272</td>\n",
       "      <td>4</td>\n",
       "      <td>0</td>\n",
       "      <td>1</td>\n",
       "      <td>0</td>\n",
       "      <td>sales</td>\n",
       "      <td>medium</td>\n",
       "    </tr>\n",
       "    <tr>\n",
       "      <th>3</th>\n",
       "      <td>0.72</td>\n",
       "      <td>0.87</td>\n",
       "      <td>5</td>\n",
       "      <td>223</td>\n",
       "      <td>5</td>\n",
       "      <td>0</td>\n",
       "      <td>1</td>\n",
       "      <td>0</td>\n",
       "      <td>sales</td>\n",
       "      <td>low</td>\n",
       "    </tr>\n",
       "    <tr>\n",
       "      <th>4</th>\n",
       "      <td>0.37</td>\n",
       "      <td>0.52</td>\n",
       "      <td>2</td>\n",
       "      <td>159</td>\n",
       "      <td>3</td>\n",
       "      <td>0</td>\n",
       "      <td>1</td>\n",
       "      <td>0</td>\n",
       "      <td>sales</td>\n",
       "      <td>low</td>\n",
       "    </tr>\n",
       "  </tbody>\n",
       "</table>\n",
       "</div>"
      ],
      "text/plain": [
       "   satisfaction_level  last_evaluation  number_project  average_montly_hours  \\\n",
       "0                0.38             0.53               2                   157   \n",
       "1                0.80             0.86               5                   262   \n",
       "2                0.11             0.88               7                   272   \n",
       "3                0.72             0.87               5                   223   \n",
       "4                0.37             0.52               2                   159   \n",
       "\n",
       "   time_spend_company  Work_accident  left  promotion_last_5years Department  \\\n",
       "0                   3              0     1                      0      sales   \n",
       "1                   6              0     1                      0      sales   \n",
       "2                   4              0     1                      0      sales   \n",
       "3                   5              0     1                      0      sales   \n",
       "4                   3              0     1                      0      sales   \n",
       "\n",
       "   salary  \n",
       "0     low  \n",
       "1  medium  \n",
       "2  medium  \n",
       "3     low  \n",
       "4     low  "
      ]
     },
     "execution_count": 50,
     "metadata": {},
     "output_type": "execute_result"
    }
   ],
   "source": [
    "df.head()"
   ]
  },
  {
   "cell_type": "code",
   "execution_count": 54,
   "id": "2144ee9f-cb7a-4e63-8d6d-f5839cd54537",
   "metadata": {},
   "outputs": [
    {
     "data": {
      "text/plain": [
       "(14999, 9)"
      ]
     },
     "execution_count": 54,
     "metadata": {},
     "output_type": "execute_result"
    }
   ],
   "source": [
    "df.drop('left',axis=1).shape"
   ]
  },
  {
   "cell_type": "code",
   "execution_count": 56,
   "id": "f350d7a8-080b-487f-8ac4-641a491db29c",
   "metadata": {},
   "outputs": [
    {
     "data": {
      "text/plain": [
       "<matplotlib.collections.PathCollection at 0x1adc9549ee0>"
      ]
     },
     "execution_count": 56,
     "metadata": {},
     "output_type": "execute_result"
    },
    {
     "data": {
      "image/png": "[encoded data removed]",
      "text/plain": [
       "<Figure size 640x480 with 1 Axes>"
      ]
     },
     "metadata": {},
     "output_type": "display_data"
    }
   ],
   "source": [
    "import matplotlib.pyplot as plt\n",
    "plt.scatter(x='salary',y='left',data=df,color = 'red')\n",
    "\n",
    "# plt.bar(x=df['salary'],height=df['left'],width=df['promotion_last_5years'],color = 'red')"
   ]
  },
  {
   "cell_type": "code",
   "execution_count": 58,
   "id": "29f3a78b-1394-4c35-928d-8c441f59a214",
   "metadata": {},
   "outputs": [],
   "source": [
    "import seaborn as sns"
   ]
  },
  {
   "cell_type": "code",
   "execution_count": 60,
   "id": "82a91dd0-6c04-42de-9a1e-bcb0a1d27d00",
   "metadata": {},
   "outputs": [
    {
     "data": {
      "image/png": "[encoded data removed]",
      "text/plain": [
       "<Figure size 640x480 with 1 Axes>"
      ]
     },
     "metadata": {},
     "output_type": "display_data"
    }
   ],
   "source": [
    "sns.barplot(x = 'salary', y = 'left',data = df )\n",
    "plt.title('Relation between salary and left')\n",
    "plt.show()"
   ]
  },
  {
   "cell_type": "markdown",
   "id": "de8bce5c-09ba-4ede-abcf-1ad70f0726e1",
   "metadata": {},
   "source": [
    "### Here it is seen that people with high salary are leaving job less and less salary are leaving more"
   ]
  },
  {
   "cell_type": "markdown",
   "id": "959e6b65-1c78-4034-a47f-24bb0094998a",
   "metadata": {},
   "source": [
    "# Performing one hot encoding to transform the categorical column to numeric using one hot encoding"
   ]
  },
  {
   "cell_type": "code",
   "execution_count": 66,
   "id": "a9c9667f-b424-4f64-9df6-99763a7f54af",
   "metadata": {},
   "outputs": [],
   "source": [
    "df1 = pd.get_dummies(df,columns=['Department','salary'],dtype=np.int32)"
   ]
  },
  {
   "cell_type": "code",
   "execution_count": 62,
   "id": "edbd1d91-9b9e-442b-a150-8aaa59291e6f",
   "metadata": {},
   "outputs": [],
   "source": [
    "from sklearn.model_selection import train_test_split\n",
    "X = df1.drop('left',axis=1)\n",
    "Y = df1['left']\n",
    "X_train,X_test,Y_train,Y_test = train_test_split(X,Y,test_size=0.2,random_state=43)"
   ]
  },
  {
   "cell_type": "code",
   "execution_count": 64,
   "id": "1689c94b-6675-4dc8-a7a9-cd7627b5ccdc",
   "metadata": {},
   "outputs": [
    {
     "name": "stderr",
     "output_type": "stream",
     "text": [
      "C:\\Users\\dell\\AppData\\Roaming\\Python\\Python312\\site-packages\\sklearn\\linear_model\\_logistic.py:469: ConvergenceWarning: lbfgs failed to converge (status=1):\n",
      "STOP: TOTAL NO. of ITERATIONS REACHED LIMIT.\n",
      "\n",
      "Increase the number of iterations (max_iter) or scale the data as shown in:\n",
      "    https://scikit-learn.org/stable/modules/preprocessing.html\n",
      "Please also refer to the documentation for alternative solver options:\n",
      "    https://scikit-learn.org/stable/modules/linear_model.html#logistic-regression\n",
      "  n_iter_i = _check_optimize_result(\n"
     ]
    },
    {
     "data": {
      "text/plain": [
       "0.7863333333333333"
      ]
     },
     "execution_count": 64,
     "metadata": {},
     "output_type": "execute_result"
    }
   ],
   "source": [
    "from sklearn.linear_model import LogisticRegression\n",
    "from sklearn.metrics import accuracy_score\n",
    "LR = LogisticRegression()\n",
    "LR.fit(X_train,Y_train)\n",
    "y_pred = LR.predict(X_test)\n",
    "acc = accuracy_score(Y_test,y_pred)\n",
    "acc"
   ]
  },
  {
   "cell_type": "code",
   "execution_count": null,
   "id": "26870a32-3dd1-459c-b417-aa581431051e",
   "metadata": {},
   "outputs": [],
   "source": []
  }
 ],
 "metadata": {
  "kernelspec": {
   "display_name": "Python 3 (ipykernel)",
   "language": "python",
   "name": "python3"
  },
  "language_info": {
   "codemirror_mode": {
    "name": "ipython",
    "version": 3
   },
   "file_extension": ".py",
   "mimetype": "text/x-python",
   "name": "python",
   "nbconvert_exporter": "python",
   "pygments_lexer": "ipython3",
   "version": "3.12.4"
  }
 },
 "nbformat": 4,
 "nbformat_minor": 5
}
