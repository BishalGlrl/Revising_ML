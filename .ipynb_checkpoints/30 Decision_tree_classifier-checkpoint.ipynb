{
 "cells": [
  {
   "cell_type": "markdown",
   "id": "15b73fa6-a90a-4147-8d29-756185f497ec",
   "metadata": {},
   "source": [
    "# Decision tree is the process of splitting down the classes into further subclasses by using Entropy and Gini to find on what basis the classses have to be splitted.After splitting class on subclass if entropy and gini are minimum,then it proceed with same root class\n",
    "### Gini index shows a chance of predicting data's class label wrong.\n",
    "### Entropy shows how mixed the data is i.e. same data belonging to different class.\n",
    "### lower entropy and Gini Index both indicate more purity in the data with most element belonging to same class."
   ]
  },
  {
   "cell_type": "markdown",
   "id": "93f966f4-1ad3-4ecb-8f08-032be2fd931c",
   "metadata": {},
   "source": [
    "### Let us assume dataset as <br>\n",
    "<img src = 'dataset.png'/>"
   ]
  },
  {
   "cell_type": "markdown",
   "id": "1be68ffb-22b6-4f4a-992b-9da79883f948",
   "metadata": {},
   "source": [
    "### Lets split classes in above dataframe on the basis of colors as:\n",
    "<img src = \"tree.png\"/>"
   ]
  },
  {
   "cell_type": "markdown",
   "id": "6cc20a3c-e723-4e12-b92f-17c1ff02af12",
   "metadata": {},
   "source": [
    "## In above root class is 'Color' which is splitted into Red,Yellow and Green and further in to apples,Bananas and Apples.Now Decision tree calculates Entropy and Gini for for before and after split and if the result of entropy and gini after split is  less than before split or zero after splitting, then it proceed with same root class else it will be taking another class as its root class and calculates the entropy and gini before and after splits"
   ]
  },
  {
   "cell_type": "code",
   "execution_count": 1,
   "id": "c77b9195-5ea3-440e-8fc5-742bafe9ff17",
   "metadata": {},
   "outputs": [],
   "source": [
    "import pandas as pd\n",
    "import numpy as np"
   ]
  },
  {
   "cell_type": "code",
   "execution_count": 11,
   "id": "9507fc5f-0075-4a11-86b7-81a7708dc05e",
   "metadata": {},
   "outputs": [],
   "source": [
    "df = pd.read_csv('salaries.csv')"
   ]
  },
  {
   "cell_type": "code",
   "execution_count": 13,
   "id": "eb1f39d3-ab2a-4829-95d2-2866a6b96903",
   "metadata": {},
   "outputs": [
    {
     "data": {
      "text/html": [
       "<div>\n",
       "<style scoped>\n",
       "    .dataframe tbody tr th:only-of-type {\n",
       "        vertical-align: middle;\n",
       "    }\n",
       "\n",
       "    .dataframe tbody tr th {\n",
       "        vertical-align: top;\n",
       "    }\n",
       "\n",
       "    .dataframe thead th {\n",
       "        text-align: right;\n",
       "    }\n",
       "</style>\n",
       "<table border=\"1\" class=\"dataframe\">\n",
       "  <thead>\n",
       "    <tr style=\"text-align: right;\">\n",
       "      <th></th>\n",
       "      <th>company</th>\n",
       "      <th>job</th>\n",
       "      <th>degree</th>\n",
       "      <th>salary_more_then_100k</th>\n",
       "    </tr>\n",
       "  </thead>\n",
       "  <tbody>\n",
       "    <tr>\n",
       "      <th>0</th>\n",
       "      <td>google</td>\n",
       "      <td>sales executive</td>\n",
       "      <td>bachelors</td>\n",
       "      <td>0</td>\n",
       "    </tr>\n",
       "    <tr>\n",
       "      <th>1</th>\n",
       "      <td>google</td>\n",
       "      <td>sales executive</td>\n",
       "      <td>masters</td>\n",
       "      <td>0</td>\n",
       "    </tr>\n",
       "    <tr>\n",
       "      <th>2</th>\n",
       "      <td>google</td>\n",
       "      <td>business manager</td>\n",
       "      <td>bachelors</td>\n",
       "      <td>1</td>\n",
       "    </tr>\n",
       "    <tr>\n",
       "      <th>3</th>\n",
       "      <td>google</td>\n",
       "      <td>business manager</td>\n",
       "      <td>masters</td>\n",
       "      <td>1</td>\n",
       "    </tr>\n",
       "    <tr>\n",
       "      <th>4</th>\n",
       "      <td>google</td>\n",
       "      <td>computer programmer</td>\n",
       "      <td>bachelors</td>\n",
       "      <td>0</td>\n",
       "    </tr>\n",
       "  </tbody>\n",
       "</table>\n",
       "</div>"
      ],
      "text/plain": [
       "  company                  job     degree  salary_more_then_100k\n",
       "0  google      sales executive  bachelors                      0\n",
       "1  google      sales executive    masters                      0\n",
       "2  google     business manager  bachelors                      1\n",
       "3  google     business manager    masters                      1\n",
       "4  google  computer programmer  bachelors                      0"
      ]
     },
     "execution_count": 13,
     "metadata": {},
     "output_type": "execute_result"
    }
   ],
   "source": [
    "df.head()"
   ]
  },
  {
   "cell_type": "code",
   "execution_count": 15,
   "id": "fc91b3aa-80f5-4999-a9a8-24f5fb425b46",
   "metadata": {},
   "outputs": [
    {
     "data": {
      "text/plain": [
       "company                  0\n",
       "job                      0\n",
       "degree                   0\n",
       "salary_more_then_100k    0\n",
       "dtype: int64"
      ]
     },
     "execution_count": 15,
     "metadata": {},
     "output_type": "execute_result"
    }
   ],
   "source": [
    "df.isnull().sum()"
   ]
  },
  {
   "cell_type": "code",
   "execution_count": 23,
   "id": "f8f80484-4baa-4161-846a-111fb2c1fa17",
   "metadata": {},
   "outputs": [
    {
     "data": {
      "text/plain": [
       "<Axes: xlabel='salary_more_then_100k', ylabel='count'>"
      ]
     },
     "execution_count": 23,
     "metadata": {},
     "output_type": "execute_result"
    },
    {
     "data": {
      "image/png": "[encoded data removed]",
      "text/plain": [
       "<Figure size 640x480 with 1 Axes>"
      ]
     },
     "metadata": {},
     "output_type": "display_data"
    }
   ],
   "source": [
    "import matplotlib.pyplot as plt\n",
    "import seaborn as sns\n",
    "\n",
    "sns.countplot(x= df['salary_more_then_100k'],data = df)"
   ]
  },
  {
   "cell_type": "code",
   "execution_count": 27,
   "id": "d732067d-8d6b-4379-8156-268809d593f4",
   "metadata": {},
   "outputs": [
    {
     "data": {
      "image/png": "[encoded data removed]",
      "text/plain": [
       "<Figure size 640x480 with 1 Axes>"
      ]
     },
     "metadata": {},
     "output_type": "display_data"
    }
   ],
   "source": [
    "plt.scatter(x= 'salary_more_then_100k',y='company',data = df)\n",
    "plt.title(\"Comparision between two columns\")\n",
    "plt.show()"
   ]
  },
  {
   "cell_type": "code",
   "execution_count": 35,
   "id": "23adf31a-1662-482b-ad9a-8e99591cd983",
   "metadata": {},
   "outputs": [],
   "source": [
    "df_encoded = pd.get_dummies(data = df,columns=['company','job','degree'],dtype=np.int32)\n",
    "# df['company'].nunique()"
   ]
  },
  {
   "cell_type": "code",
   "execution_count": 47,
   "id": "bbedb5e3-ba84-43ce-abd4-f477d7975154",
   "metadata": {},
   "outputs": [],
   "source": [
    "from sklearn.model_selection import train_test_split\n",
    "df_encoded.rename(columns={'salary_more_then_100k':'salary'},inplace= True)\n",
    "X = df_encoded.drop(['salary'],axis = 1)\n",
    "Y = df_encoded['salary']\n",
    "X_train,X_test,Y_train,Y_test = train_test_split(X,Y,test_size=0.2,random_state=43)"
   ]
  },
  {
   "cell_type": "code",
   "execution_count": 49,
   "id": "4d036af7-0acc-4564-b84c-2142f87ce125",
   "metadata": {},
   "outputs": [
    {
     "data": {
      "text/plain": [
       "((16, 9), (12, 8), (4, 8))"
      ]
     },
     "execution_count": 49,
     "metadata": {},
     "output_type": "execute_result"
    }
   ],
   "source": [
    "df_encoded.shape,X_train.shape,X_test.shape"
   ]
  },
  {
   "cell_type": "code",
   "execution_count": 51,
   "id": "f07cd74e-0b17-43b2-a9d7-0017682d1ca1",
   "metadata": {},
   "outputs": [
    {
     "data": {
      "text/plain": [
       "0.75"
      ]
     },
     "execution_count": 51,
     "metadata": {},
     "output_type": "execute_result"
    }
   ],
   "source": [
    "from sklearn.tree import DecisionTreeClassifier\n",
    "from sklearn.metrics import accuracy_score\n",
    "DTC = DecisionTreeClassifier()\n",
    "DTC.fit(X_train,Y_train)\n",
    "y_pred = DTC.predict(X_test)\n",
    "accuracy_score(Y_test,y_pred)\n"
   ]
  },
  {
   "cell_type": "code",
   "execution_count": 59,
   "id": "cf5710af-0564-489f-b18f-62216af4d259",
   "metadata": {},
   "outputs": [
    {
     "data": {
      "text/plain": [
       "array([[1, 1],\n",
       "       [0, 2]], dtype=int64)"
      ]
     },
     "execution_count": 59,
     "metadata": {},
     "output_type": "execute_result"
    }
   ],
   "source": [
    "from sklearn.metrics import confusion_matrix\n",
    "cn = confusion_matrix(Y_test,y_pred)\n",
    "cn"
   ]
  },
  {
   "cell_type": "markdown",
   "id": "5edec606-e668-4e31-bc0c-2f66034cf433",
   "metadata": {},
   "source": [
    "## cn in above cant be understand .So lets draw a heatmap and analyse it more efficiently"
   ]
  },
  {
   "cell_type": "code",
   "execution_count": 64,
   "id": "a41f84ff-fd83-4556-bf56-b8ee76a0709f",
   "metadata": {},
   "outputs": [
    {
     "data": {
      "text/plain": [
       "Text(50.722222222222214, 0.5, 'Actual')"
      ]
     },
     "execution_count": 64,
     "metadata": {},
     "output_type": "execute_result"
    },
    {
     "data": {
      "image/png": "[encoded data removed]",
      "text/plain": [
       "<Figure size 640x480 with 2 Axes>"
      ]
     },
     "metadata": {},
     "output_type": "display_data"
    }
   ],
   "source": [
    "sns.heatmap(cn,annot=True)\n",
    "plt.xlabel('Predicted')\n",
    "plt.ylabel('Actual')"
   ]
  },
  {
   "cell_type": "markdown",
   "id": "5e1a00b9-864b-4b40-9aa3-61b0c259a7b7",
   "metadata": {},
   "source": [
    "## In above figure it is showing that 0 classed were 1 in actual but predicted as 0<br>2 classes weere 1 in actual and predicted as 1<br>1 class was 0 in actual and predicted as 1 and same for another"
   ]
  },
  {
   "cell_type": "code",
   "execution_count": null,
   "id": "2ddf60b4-21b2-4264-b6e9-e86b23154ded",
   "metadata": {},
   "outputs": [],
   "source": []
  }
 ],
 "metadata": {
  "kernelspec": {
   "display_name": "Python 3 (ipykernel)",
   "language": "python",
   "name": "python3"
  },
  "language_info": {
   "codemirror_mode": {
    "name": "ipython",
    "version": 3
   },
   "file_extension": ".py",
   "mimetype": "text/x-python",
   "name": "python",
   "nbconvert_exporter": "python",
   "pygments_lexer": "ipython3",
   "version": "3.12.4"
  }
 },
 "nbformat": 4,
 "nbformat_minor": 5
}
