{
 "cells": [
  {
   "cell_type": "markdown",
   "id": "41d5d857-d081-4618-ac74-6833ea92f44c",
   "metadata": {},
   "source": [
    "### Ensemble Learning is a machine learning technique where multiple models are combined to improve overall performance compared to a single model."
   ]
  },
  {
   "cell_type": "markdown",
   "id": "76e9048d-5023-4fb1-b8a8-d540f5396f15",
   "metadata": {},
   "source": [
    "### In machine learning,there are following types of ensemble learning,<br> <img src = 'ensemble.png'>"
   ]
  },
  {
   "cell_type": "markdown",
   "id": "ef2141ff-0690-4079-9c13-317cd41e0405",
   "metadata": {},
   "source": [
    "### 1) In voting ensemble, a single dataset is fed to different model we choose.For eg a single dataset can be fed to threee models i.e. SVM,Decision tree and Logistic regression .And then For classification, when predicting the test data,the most occured class label is choosen(For eg if model1 gives 0,model2 gives 1 and model3 gives 0 then 0 is choosen),And for regression,avaerage value is taken(for eg is model1 gives 4.5,model2 gives 6.78 and model3 gives 98.88 then the predicted label would be 4.5+6.78+98.88/3)"
   ]
  },
  {
   "cell_type": "markdown",
   "id": "ea2d9728-0e38-4b1d-8876-dd904df92640",
   "metadata": {},
   "source": [
    "### 2) Stacking : SKIPPPP"
   ]
  },
  {
   "cell_type": "markdown",
   "id": "eea474da-ffe0-4337-9a5f-0273e5757bff",
   "metadata": {},
   "source": [
    "### 3) Bagging : In bagging, instead of taking different model as in voting ensemble,we take a  multiplesame model.And then  fed a data randomly to each model from dataset.<br><br>For eg: We have a dataset with 1000 rows and then we consider 3 SVM models.So we will be taking 500 datas from the dataset and fed it to SVM1 and put 500 rows again back to original dataset.Again we will be taking another 500 data and fed it to SVM2 and then again put it back to original dataset and same for SVM3.Then class label for a test data is predicted as in voting ensemble for both classification and regression"
   ]
  },
  {
   "cell_type": "markdown",
   "id": "75e97aed-beaa-42a9-8c3b-d2b2f7b7719d",
   "metadata": {},
   "source": [
    "### 4) Boosting : In this model,just like bagging we will be taking multiple same models.<br><br>Lets learn the working through an example.Let us consider we take three number of LinearRegression i.e.LR1,LR2,LR3.so at first whole data is fed to LR1,LR2,LR3 and at first LR1 will be learning patterns from the data and finding the mistake it make while predicting class label for test data and pass those mistakes to LR2.Now LR2 also will learn the underlying patterns from the data  trying to minimize those errors passed from LR2.Again it will be recording the mistakes it makes while predicting the class label for test data.It then pass those mistakes to LR3 and LR3 tries to minimize those mistakes it received from LR2 while learning patterns from the dataset.<br><br>Since in each step model is boosting its performance by minimizing the mistakes it receives from the previous model,it is called boosting algorithm"
   ]
  },
  {
   "cell_type": "code",
   "execution_count": null,
   "id": "3eaa2ebf-9465-4326-9cb7-9ed37b0cdc6a",
   "metadata": {},
   "outputs": [],
   "source": []
  }
 ],
 "metadata": {
  "kernelspec": {
   "display_name": "Python 3 (ipykernel)",
   "language": "python",
   "name": "python3"
  },
  "language_info": {
   "codemirror_mode": {
    "name": "ipython",
    "version": 3
   },
   "file_extension": ".py",
   "mimetype": "text/x-python",
   "name": "python",
   "nbconvert_exporter": "python",
   "pygments_lexer": "ipython3",
   "version": "3.12.4"
  }
 },
 "nbformat": 4,
 "nbformat_minor": 5
}
