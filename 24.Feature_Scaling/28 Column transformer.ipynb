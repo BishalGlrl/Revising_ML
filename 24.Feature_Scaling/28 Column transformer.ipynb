{
 "cells": [
  {
   "cell_type": "markdown",
   "id": "a317fad3-d5e9-44be-8ba7-aa6b754b09e2",
   "metadata": {},
   "source": [
    "# COLUMN TRANSFORMER\n",
    "transformation1 = ColumnTransformer(transformers = [], remainder= 'passthrough')"
   ]
  },
  {
   "cell_type": "code",
   "execution_count": 14,
   "id": "13e13724-4ebf-40d1-97dc-48407f042b51",
   "metadata": {},
   "outputs": [],
   "source": [
    "import pandas as pd\n",
    "import numpy as np\n",
    "from sklearn.impute import SimpleImputer\n",
    "from sklearn.preprocessing import OrdinalEncoder\n",
    "from sklearn.preprocessing import OneHotEncoder\n",
    "from sklearn.model_selection import train_test_split"
   ]
  },
  {
   "cell_type": "code",
   "execution_count": 4,
   "id": "c8fb3ed5-ba30-4d2e-a52d-600ccd2d64e6",
   "metadata": {},
   "outputs": [],
   "source": [
    "df = pd.read_csv('covid_toy.csv')"
   ]
  },
  {
   "cell_type": "code",
   "execution_count": 6,
   "id": "be263777-1502-47d4-b59f-0ef209af7bec",
   "metadata": {},
   "outputs": [
    {
     "data": {
      "text/html": [
       "<div>\n",
       "<style scoped>\n",
       "    .dataframe tbody tr th:only-of-type {\n",
       "        vertical-align: middle;\n",
       "    }\n",
       "\n",
       "    .dataframe tbody tr th {\n",
       "        vertical-align: top;\n",
       "    }\n",
       "\n",
       "    .dataframe thead th {\n",
       "        text-align: right;\n",
       "    }\n",
       "</style>\n",
       "<table border=\"1\" class=\"dataframe\">\n",
       "  <thead>\n",
       "    <tr style=\"text-align: right;\">\n",
       "      <th></th>\n",
       "      <th>age</th>\n",
       "      <th>gender</th>\n",
       "      <th>fever</th>\n",
       "      <th>cough</th>\n",
       "      <th>city</th>\n",
       "      <th>has_covid</th>\n",
       "    </tr>\n",
       "  </thead>\n",
       "  <tbody>\n",
       "    <tr>\n",
       "      <th>5</th>\n",
       "      <td>84</td>\n",
       "      <td>Female</td>\n",
       "      <td>NaN</td>\n",
       "      <td>Mild</td>\n",
       "      <td>Bangalore</td>\n",
       "      <td>Yes</td>\n",
       "    </tr>\n",
       "    <tr>\n",
       "      <th>82</th>\n",
       "      <td>24</td>\n",
       "      <td>Male</td>\n",
       "      <td>98.0</td>\n",
       "      <td>Mild</td>\n",
       "      <td>Kolkata</td>\n",
       "      <td>Yes</td>\n",
       "    </tr>\n",
       "    <tr>\n",
       "      <th>86</th>\n",
       "      <td>25</td>\n",
       "      <td>Male</td>\n",
       "      <td>104.0</td>\n",
       "      <td>Mild</td>\n",
       "      <td>Bangalore</td>\n",
       "      <td>Yes</td>\n",
       "    </tr>\n",
       "    <tr>\n",
       "      <th>50</th>\n",
       "      <td>19</td>\n",
       "      <td>Male</td>\n",
       "      <td>101.0</td>\n",
       "      <td>Mild</td>\n",
       "      <td>Delhi</td>\n",
       "      <td>Yes</td>\n",
       "    </tr>\n",
       "    <tr>\n",
       "      <th>11</th>\n",
       "      <td>65</td>\n",
       "      <td>Female</td>\n",
       "      <td>98.0</td>\n",
       "      <td>Mild</td>\n",
       "      <td>Mumbai</td>\n",
       "      <td>Yes</td>\n",
       "    </tr>\n",
       "  </tbody>\n",
       "</table>\n",
       "</div>"
      ],
      "text/plain": [
       "    age  gender  fever cough       city has_covid\n",
       "5    84  Female    NaN  Mild  Bangalore       Yes\n",
       "82   24    Male   98.0  Mild    Kolkata       Yes\n",
       "86   25    Male  104.0  Mild  Bangalore       Yes\n",
       "50   19    Male  101.0  Mild      Delhi       Yes\n",
       "11   65  Female   98.0  Mild     Mumbai       Yes"
      ]
     },
     "execution_count": 6,
     "metadata": {},
     "output_type": "execute_result"
    }
   ],
   "source": [
    "df.sample(5)"
   ]
  },
  {
   "cell_type": "code",
   "execution_count": 8,
   "id": "0503867f-c5ae-4636-ad5b-a5c9ff9af97a",
   "metadata": {},
   "outputs": [
    {
     "data": {
      "text/plain": [
       "age           0\n",
       "gender        0\n",
       "fever        10\n",
       "cough         0\n",
       "city          0\n",
       "has_covid     0\n",
       "dtype: int64"
      ]
     },
     "execution_count": 8,
     "metadata": {},
     "output_type": "execute_result"
    }
   ],
   "source": [
    "df.isnull().sum()"
   ]
  },
  {
   "cell_type": "code",
   "execution_count": 40,
   "id": "1b416e13-af71-4c64-821b-d69ad8a2ade6",
   "metadata": {},
   "outputs": [
    {
     "data": {
      "text/plain": [
       "cough\n",
       "Mild      62\n",
       "Strong    38\n",
       "Name: count, dtype: int64"
      ]
     },
     "execution_count": 40,
     "metadata": {},
     "output_type": "execute_result"
    }
   ],
   "source": [
    "df['cough'].value_counts()"
   ]
  },
  {
   "cell_type": "markdown",
   "id": "541ef1d2-b34f-4033-b2e0-2fe96fa6d9a6",
   "metadata": {},
   "source": [
    "<h2 style = 'color :red;'> SimpleInputer:</h2><h2>Here we will be using simpleinputer function to handle missing value.Instead of removing rows or columns with missing values (which can lead to significant data loss), imputing values allows you us retain the entire dataset for analysis and modeling by replacing value with suitable mean or other</h2>"
   ]
  },
  {
   "cell_type": "code",
   "execution_count": 12,
   "id": "68f1b0c0-563c-4d05-a2e9-c278a165ed2f",
   "metadata": {},
   "outputs": [],
   "source": [
    "X = df[['age','gender','fever','cough','city']]\n",
    "Y = df[['has_covid']]"
   ]
  },
  {
   "cell_type": "code",
   "execution_count": 16,
   "id": "2f1f4935-9d24-4367-827c-f64cd73adab9",
   "metadata": {},
   "outputs": [],
   "source": [
    "X_train,X_test,Y_train,Y_test = train_test_split(X,\n",
    "                                                Y,\n",
    "                                                test_size=0.2,\n",
    "                                                random_state=0)"
   ]
  },
  {
   "cell_type": "code",
   "execution_count": 24,
   "id": "7853cd70-425a-4b28-9d3f-7569f2878f9b",
   "metadata": {},
   "outputs": [
    {
     "data": {
      "text/plain": [
       "(80, 5)"
      ]
     },
     "execution_count": 24,
     "metadata": {},
     "output_type": "execute_result"
    }
   ],
   "source": [
    "X_train.shape"
   ]
  },
  {
   "cell_type": "code",
   "execution_count": 22,
   "id": "da40bca4-6639-47d2-a080-b71f7ec4fec3",
   "metadata": {},
   "outputs": [
    {
     "data": {
      "text/plain": [
       "(20, 5)"
      ]
     },
     "execution_count": 22,
     "metadata": {},
     "output_type": "execute_result"
    }
   ],
   "source": [
    "X_test.shape"
   ]
  },
  {
   "cell_type": "code",
   "execution_count": 48,
   "id": "bf96b379-8873-48fe-95bb-b9285ee48c08",
   "metadata": {},
   "outputs": [],
   "source": [
    "Si = SimpleImputer()\n",
    "categories = [['Mild','Strong']]\n",
    "Oe = OrdinalEncoder(categories=categories)\n",
    "Ohe = OneHotEncoder(drop = 'first',sparse_output=False,dtype=np.int32)"
   ]
  },
  {
   "cell_type": "code",
   "execution_count": 34,
   "id": "a10827f8-080e-4468-8194-5920d8a1c53e",
   "metadata": {},
   "outputs": [],
   "source": [
    "X_train_fever = Si.fit_transform(X_train[['fever']])\n",
    "X_test_fever = Si.transform(X_test[['fever']])"
   ]
  },
  {
   "cell_type": "code",
   "execution_count": 67,
   "id": "4325381a-6124-4847-99b5-6331444a6363",
   "metadata": {},
   "outputs": [
    {
     "data": {
      "text/plain": [
       "array([[ 99.        ],\n",
       "       [104.        ],\n",
       "       [ 98.        ],\n",
       "       [104.        ],\n",
       "       [ 99.        ],\n",
       "       [ 99.        ],\n",
       "       [101.        ],\n",
       "       [ 98.        ],\n",
       "       [ 98.        ],\n",
       "       [100.        ],\n",
       "       [102.        ],\n",
       "       [ 99.        ],\n",
       "       [ 99.        ],\n",
       "       [104.        ],\n",
       "       [100.        ],\n",
       "       [102.        ],\n",
       "       [ 98.        ],\n",
       "       [100.91549296],\n",
       "       [100.        ],\n",
       "       [104.        ],\n",
       "       [100.        ],\n",
       "       [ 98.        ],\n",
       "       [100.        ],\n",
       "       [100.91549296],\n",
       "       [101.        ],\n",
       "       [103.        ],\n",
       "       [ 98.        ],\n",
       "       [102.        ],\n",
       "       [101.        ],\n",
       "       [100.91549296],\n",
       "       [100.91549296],\n",
       "       [104.        ],\n",
       "       [103.        ],\n",
       "       [102.        ],\n",
       "       [104.        ],\n",
       "       [101.        ],\n",
       "       [ 98.        ],\n",
       "       [102.        ],\n",
       "       [ 98.        ],\n",
       "       [100.        ],\n",
       "       [100.91549296],\n",
       "       [103.        ],\n",
       "       [104.        ],\n",
       "       [ 99.        ],\n",
       "       [103.        ],\n",
       "       [103.        ],\n",
       "       [101.        ],\n",
       "       [ 98.        ],\n",
       "       [104.        ],\n",
       "       [103.        ],\n",
       "       [100.91549296],\n",
       "       [100.91549296],\n",
       "       [104.        ],\n",
       "       [101.        ],\n",
       "       [ 98.        ],\n",
       "       [103.        ],\n",
       "       [ 98.        ],\n",
       "       [100.91549296],\n",
       "       [101.        ],\n",
       "       [101.        ],\n",
       "       [100.91549296],\n",
       "       [100.        ],\n",
       "       [ 99.        ],\n",
       "       [101.        ],\n",
       "       [103.        ],\n",
       "       [102.        ],\n",
       "       [ 98.        ],\n",
       "       [ 99.        ],\n",
       "       [100.        ],\n",
       "       [101.        ],\n",
       "       [101.        ],\n",
       "       [101.        ],\n",
       "       [ 98.        ],\n",
       "       [104.        ],\n",
       "       [101.        ],\n",
       "       [101.        ],\n",
       "       [ 99.        ],\n",
       "       [104.        ],\n",
       "       [104.        ],\n",
       "       [102.        ]])"
      ]
     },
     "execution_count": 67,
     "metadata": {},
     "output_type": "execute_result"
    }
   ],
   "source": [
    "X_train_fever"
   ]
  },
  {
   "cell_type": "code",
   "execution_count": 44,
   "id": "09ed07b2-1390-4287-a799-ce81f57e9b6b",
   "metadata": {},
   "outputs": [],
   "source": [
    "X_train_cough = Oe.fit_transform(X_train [['cough']])\n",
    "X_test_cough = Oe.transform (X_test[['cough']])"
   ]
  },
  {
   "cell_type": "code",
   "execution_count": 50,
   "id": "c3c833cb-87e5-4f38-aa1c-59f67a8c0299",
   "metadata": {},
   "outputs": [],
   "source": [
    "X_train_gender_city = Ohe.fit_transform(X_train[['gender','city']])\n",
    "X_test_gender_city = Ohe.transform(X_test[['gender','city']])"
   ]
  },
  {
   "cell_type": "code",
   "execution_count": 54,
   "id": "37e3596a-1d3c-4eee-a3da-cafc2277da82",
   "metadata": {},
   "outputs": [
    {
     "data": {
      "text/plain": [
       "array([[0, 0, 1, 0],\n",
       "       [1, 0, 0, 0],\n",
       "       [1, 1, 0, 0],\n",
       "       [0, 0, 0, 1],\n",
       "       [1, 0, 1, 0],\n",
       "       [1, 0, 1, 0],\n",
       "       [0, 0, 1, 0],\n",
       "       [1, 0, 1, 0],\n",
       "       [0, 0, 0, 1],\n",
       "       [0, 0, 0, 0],\n",
       "       [1, 1, 0, 0],\n",
       "       [0, 0, 1, 0],\n",
       "       [1, 0, 0, 0],\n",
       "       [1, 0, 0, 0],\n",
       "       [0, 0, 0, 1],\n",
       "       [1, 1, 0, 0],\n",
       "       [0, 0, 1, 0],\n",
       "       [0, 0, 1, 0],\n",
       "       [0, 0, 1, 0],\n",
       "       [0, 0, 0, 0]])"
      ]
     },
     "execution_count": 54,
     "metadata": {},
     "output_type": "execute_result"
    }
   ],
   "source": [
    "X_test_gender_city"
   ]
  },
  {
   "cell_type": "markdown",
   "id": "cd07c5eb-b35d-42cc-b45e-b69ca18b0ae0",
   "metadata": {},
   "source": [
    "<h3 style = 'color :red;'>From np.concate and np.hstack,we can use any of this to join np array.But in np.concate we should specify axis = 1 to join horizontally and axis = 0 to join vertically</h3>"
   ]
  },
  {
   "cell_type": "code",
   "execution_count": 69,
   "id": "529fe84d-1873-461d-aec2-dc8d5f5c7e78",
   "metadata": {},
   "outputs": [],
   "source": [
    "age = X_train['age'].values\n",
    "# np.concatenate((age,X_train_cough,X_train_fever,X_train_gender_city),axis = 1)"
   ]
  },
  {
   "cell_type": "code",
   "execution_count": 77,
   "id": "8cfb596b-025b-4e0c-a365-4f56588eb0c1",
   "metadata": {},
   "outputs": [],
   "source": [
    "from sklearn.preprocessing import MinMaxScaler\n",
    "No = MinMaxScaler()\n",
    "X_train_age = No.fit_transform(X_train[['age']])\n",
    "X_test_age = No.transform(X_test[['age']])"
   ]
  },
  {
   "cell_type": "code",
   "execution_count": 81,
   "id": "4489185b-6af5-4945-9e52-483c65a55208",
   "metadata": {},
   "outputs": [
    {
     "data": {
      "text/plain": [
       "array([[0.21518987],\n",
       "       [0.64556962],\n",
       "       [0.32911392],\n",
       "       [0.88607595],\n",
       "       [0.84810127],\n",
       "       [0.7721519 ],\n",
       "       [0.11392405],\n",
       "       [0.06329114],\n",
       "       [0.24050633],\n",
       "       [0.94936709],\n",
       "       [0.24050633],\n",
       "       [0.11392405],\n",
       "       [0.6835443 ],\n",
       "       [0.62025316],\n",
       "       [0.07594937],\n",
       "       [0.35443038],\n",
       "       [0.74683544],\n",
       "       [0.83544304],\n",
       "       [0.06329114],\n",
       "       [0.36708861],\n",
       "       [0.27848101],\n",
       "       [0.96202532],\n",
       "       [0.27848101],\n",
       "       [0.97468354],\n",
       "       [0.75949367],\n",
       "       [0.82278481],\n",
       "       [0.44303797],\n",
       "       [0.55696203],\n",
       "       [0.55696203],\n",
       "       [1.        ],\n",
       "       [0.41772152],\n",
       "       [0.01265823],\n",
       "       [0.69620253],\n",
       "       [0.87341772],\n",
       "       [0.13924051],\n",
       "       [0.17721519],\n",
       "       [0.75949367],\n",
       "       [0.97468354],\n",
       "       [0.94936709],\n",
       "       [0.53164557],\n",
       "       [0.88607595],\n",
       "       [0.98734177],\n",
       "       [0.58227848],\n",
       "       [0.55696203],\n",
       "       [0.5443038 ],\n",
       "       [0.13924051],\n",
       "       [0.36708861],\n",
       "       [0.81012658],\n",
       "       [0.58227848],\n",
       "       [0.51898734],\n",
       "       [0.46835443],\n",
       "       [0.36708861],\n",
       "       [0.49367089],\n",
       "       [0.18987342],\n",
       "       [0.        ],\n",
       "       [0.86075949],\n",
       "       [0.08860759],\n",
       "       [0.93670886],\n",
       "       [0.98734177],\n",
       "       [0.03797468],\n",
       "       [0.2278481 ],\n",
       "       [0.63291139],\n",
       "       [0.75949367],\n",
       "       [0.17721519],\n",
       "       [0.56962025],\n",
       "       [0.81012658],\n",
       "       [0.2278481 ],\n",
       "       [0.25316456],\n",
       "       [0.        ],\n",
       "       [0.79746835],\n",
       "       [0.53164557],\n",
       "       [0.41772152],\n",
       "       [0.86075949],\n",
       "       [0.15189873],\n",
       "       [0.74683544],\n",
       "       [0.58227848],\n",
       "       [0.75949367],\n",
       "       [0.46835443],\n",
       "       [0.16455696],\n",
       "       [0.18987342]])"
      ]
     },
     "execution_count": 81,
     "metadata": {},
     "output_type": "execute_result"
    }
   ],
   "source": [
    "X_train_age"
   ]
  },
  {
   "cell_type": "code",
   "execution_count": 83,
   "id": "95b269b3-af4b-4914-8595-2f254ed11a35",
   "metadata": {},
   "outputs": [],
   "source": [
    "final_one = np.concatenate((X_train_age,X_train_cough,X_train_fever,X_train_gender_city),axis = 1)"
   ]
  },
  {
   "cell_type": "code",
   "execution_count": 85,
   "id": "8c7cf92d-23a4-4e94-9859-a80111a20a0c",
   "metadata": {},
   "outputs": [
    {
     "data": {
      "text/plain": [
       "(80, 7)"
      ]
     },
     "execution_count": 85,
     "metadata": {},
     "output_type": "execute_result"
    }
   ],
   "source": [
    "final_one.shape"
   ]
  },
  {
   "cell_type": "markdown",
   "id": "1c2dcbed-f557-4822-a5ff-2095dda3eb76",
   "metadata": {},
   "source": [
    "## Now instead of doing all of these step,we can simply use COlumnTranformer to do our task"
   ]
  },
  {
   "cell_type": "markdown",
   "id": "f0425ec5-c498-4a8a-8826-af9bcb6e62f3",
   "metadata": {},
   "source": [
    "<h1 style = 'color:red;'>ColumnTransformer</h1>"
   ]
  },
  {
   "cell_type": "code",
   "execution_count": 93,
   "id": "25602769-863e-40ef-a84f-17dbb553eccc",
   "metadata": {},
   "outputs": [
    {
     "data": {
      "text/html": [
       "<div>\n",
       "<style scoped>\n",
       "    .dataframe tbody tr th:only-of-type {\n",
       "        vertical-align: middle;\n",
       "    }\n",
       "\n",
       "    .dataframe tbody tr th {\n",
       "        vertical-align: top;\n",
       "    }\n",
       "\n",
       "    .dataframe thead th {\n",
       "        text-align: right;\n",
       "    }\n",
       "</style>\n",
       "<table border=\"1\" class=\"dataframe\">\n",
       "  <thead>\n",
       "    <tr style=\"text-align: right;\">\n",
       "      <th></th>\n",
       "      <th>age</th>\n",
       "      <th>gender</th>\n",
       "      <th>fever</th>\n",
       "      <th>cough</th>\n",
       "      <th>city</th>\n",
       "      <th>has_covid</th>\n",
       "    </tr>\n",
       "  </thead>\n",
       "  <tbody>\n",
       "    <tr>\n",
       "      <th>0</th>\n",
       "      <td>60</td>\n",
       "      <td>Male</td>\n",
       "      <td>103.0</td>\n",
       "      <td>Mild</td>\n",
       "      <td>Kolkata</td>\n",
       "      <td>No</td>\n",
       "    </tr>\n",
       "    <tr>\n",
       "      <th>1</th>\n",
       "      <td>27</td>\n",
       "      <td>Male</td>\n",
       "      <td>100.0</td>\n",
       "      <td>Mild</td>\n",
       "      <td>Delhi</td>\n",
       "      <td>Yes</td>\n",
       "    </tr>\n",
       "    <tr>\n",
       "      <th>2</th>\n",
       "      <td>42</td>\n",
       "      <td>Male</td>\n",
       "      <td>101.0</td>\n",
       "      <td>Mild</td>\n",
       "      <td>Delhi</td>\n",
       "      <td>No</td>\n",
       "    </tr>\n",
       "    <tr>\n",
       "      <th>3</th>\n",
       "      <td>31</td>\n",
       "      <td>Female</td>\n",
       "      <td>98.0</td>\n",
       "      <td>Mild</td>\n",
       "      <td>Kolkata</td>\n",
       "      <td>No</td>\n",
       "    </tr>\n",
       "    <tr>\n",
       "      <th>4</th>\n",
       "      <td>65</td>\n",
       "      <td>Female</td>\n",
       "      <td>101.0</td>\n",
       "      <td>Mild</td>\n",
       "      <td>Mumbai</td>\n",
       "      <td>No</td>\n",
       "    </tr>\n",
       "  </tbody>\n",
       "</table>\n",
       "</div>"
      ],
      "text/plain": [
       "   age  gender  fever cough     city has_covid\n",
       "0   60    Male  103.0  Mild  Kolkata        No\n",
       "1   27    Male  100.0  Mild    Delhi       Yes\n",
       "2   42    Male  101.0  Mild    Delhi        No\n",
       "3   31  Female   98.0  Mild  Kolkata        No\n",
       "4   65  Female  101.0  Mild   Mumbai        No"
      ]
     },
     "execution_count": 93,
     "metadata": {},
     "output_type": "execute_result"
    }
   ],
   "source": [
    "df.head()"
   ]
  },
  {
   "cell_type": "code",
   "execution_count": 113,
   "id": "d00675a9-b798-4e34-a339-d13f52a5912e",
   "metadata": {},
   "outputs": [],
   "source": [
    "Ct = ColumnTransformer(\n",
    "    transformers=[\n",
    "        ('trn1', OrdinalEncoder(categories=[['Mild', 'Strong']]), ['cough']),\n",
    "        ('trn2', SimpleImputer(), ['fever']),\n",
    "        ('trn3', OneHotEncoder(drop='first', sparse_output=False, dtype=np.int32), ['city', 'gender'])\n",
    "    ],\n",
    "    remainder='passthrough'\n",
    ")\n"
   ]
  },
  {
   "cell_type": "code",
   "execution_count": 115,
   "id": "fb27dc74-44d5-460c-ae4d-66fe4069db7e",
   "metadata": {},
   "outputs": [],
   "source": [
    "X_train_transformed = Ct.fit_transform(X_train)\n",
    "X_test_transformed = Ct.transform(X_test)"
   ]
  },
  {
   "cell_type": "code",
   "execution_count": 117,
   "id": "2aa4aaf6-0a9a-4927-abd8-a1f2324eae5e",
   "metadata": {},
   "outputs": [
    {
     "data": {
      "text/plain": [
       "array([[  0.        ,  99.        ,   0.        ,   0.        ,\n",
       "          0.        ,   0.        ,  22.        ],\n",
       "       [  1.        , 104.        ,   0.        ,   0.        ,\n",
       "          0.        ,   0.        ,  56.        ],\n",
       "       [  0.        ,  98.        ,   0.        ,   1.        ,\n",
       "          0.        ,   0.        ,  31.        ],\n",
       "       [  1.        , 104.        ,   1.        ,   0.        ,\n",
       "          0.        ,   0.        ,  75.        ],\n",
       "       [  0.        ,  99.        ,   0.        ,   0.        ,\n",
       "          0.        ,   1.        ,  72.        ],\n",
       "       [  1.        ,  99.        ,   0.        ,   0.        ,\n",
       "          0.        ,   1.        ,  66.        ],\n",
       "       [  1.        , 101.        ,   0.        ,   0.        ,\n",
       "          0.        ,   1.        ,  14.        ],\n",
       "       [  1.        ,  98.        ,   0.        ,   1.        ,\n",
       "          0.        ,   0.        ,  10.        ],\n",
       "       [  0.        ,  98.        ,   0.        ,   1.        ,\n",
       "          0.        ,   1.        ,  24.        ],\n",
       "       [  0.        , 100.        ,   0.        ,   0.        ,\n",
       "          0.        ,   1.        ,  80.        ],\n",
       "       [  1.        , 102.        ,   0.        ,   0.        ,\n",
       "          0.        ,   0.        ,  24.        ],\n",
       "       [  0.        ,  99.        ,   0.        ,   0.        ,\n",
       "          1.        ,   0.        ,  14.        ],\n",
       "       [  1.        ,  99.        ,   1.        ,   0.        ,\n",
       "          0.        ,   0.        ,  59.        ],\n",
       "       [  1.        , 104.        ,   0.        ,   1.        ,\n",
       "          0.        ,   0.        ,  54.        ],\n",
       "       [  1.        , 100.        ,   0.        ,   1.        ,\n",
       "          0.        ,   0.        ,  11.        ],\n",
       "       [  1.        , 102.        ,   1.        ,   0.        ,\n",
       "          0.        ,   0.        ,  33.        ],\n",
       "       [  0.        ,  98.        ,   0.        ,   0.        ,\n",
       "          0.        ,   0.        ,  64.        ],\n",
       "       [  1.        , 100.91549296,   0.        ,   1.        ,\n",
       "          0.        ,   1.        ,  71.        ],\n",
       "       [  0.        , 100.        ,   0.        ,   0.        ,\n",
       "          0.        ,   1.        ,  10.        ],\n",
       "       [  1.        , 104.        ,   1.        ,   0.        ,\n",
       "          0.        ,   0.        ,  34.        ],\n",
       "       [  0.        , 100.        ,   1.        ,   0.        ,\n",
       "          0.        ,   1.        ,  27.        ],\n",
       "       [  1.        ,  98.        ,   0.        ,   0.        ,\n",
       "          1.        ,   0.        ,  81.        ],\n",
       "       [  0.        , 100.        ,   1.        ,   0.        ,\n",
       "          0.        ,   1.        ,  27.        ],\n",
       "       [  0.        , 100.91549296,   0.        ,   1.        ,\n",
       "          0.        ,   1.        ,  82.        ],\n",
       "       [  0.        , 101.        ,   0.        ,   0.        ,\n",
       "          1.        ,   0.        ,  65.        ],\n",
       "       [  1.        , 103.        ,   0.        ,   1.        ,\n",
       "          0.        ,   1.        ,  70.        ],\n",
       "       [  1.        ,  98.        ,   1.        ,   0.        ,\n",
       "          0.        ,   0.        ,  40.        ],\n",
       "       [  0.        , 102.        ,   1.        ,   0.        ,\n",
       "          0.        ,   0.        ,  49.        ],\n",
       "       [  0.        , 101.        ,   1.        ,   0.        ,\n",
       "          0.        ,   0.        ,  49.        ],\n",
       "       [  0.        , 100.91549296,   0.        ,   0.        ,\n",
       "          0.        ,   0.        ,  84.        ],\n",
       "       [  0.        , 100.91549296,   1.        ,   0.        ,\n",
       "          0.        ,   1.        ,  38.        ],\n",
       "       [  0.        , 104.        ,   0.        ,   1.        ,\n",
       "          0.        ,   0.        ,   6.        ],\n",
       "       [  0.        , 103.        ,   0.        ,   1.        ,\n",
       "          0.        ,   1.        ,  60.        ],\n",
       "       [  0.        , 102.        ,   0.        ,   0.        ,\n",
       "          1.        ,   1.        ,  74.        ],\n",
       "       [  0.        , 104.        ,   0.        ,   1.        ,\n",
       "          0.        ,   1.        ,  16.        ],\n",
       "       [  0.        , 101.        ,   1.        ,   0.        ,\n",
       "          0.        ,   1.        ,  19.        ],\n",
       "       [  0.        ,  98.        ,   0.        ,   0.        ,\n",
       "          1.        ,   0.        ,  65.        ],\n",
       "       [  1.        , 102.        ,   0.        ,   0.        ,\n",
       "          0.        ,   0.        ,  82.        ],\n",
       "       [  0.        ,  98.        ,   1.        ,   0.        ,\n",
       "          0.        ,   0.        ,  80.        ],\n",
       "       [  1.        , 100.        ,   0.        ,   0.        ,\n",
       "          0.        ,   0.        ,  47.        ],\n",
       "       [  0.        , 100.91549296,   1.        ,   0.        ,\n",
       "          0.        ,   0.        ,  75.        ],\n",
       "       [  0.        , 103.        ,   0.        ,   1.        ,\n",
       "          0.        ,   1.        ,  83.        ],\n",
       "       [  0.        , 104.        ,   0.        ,   1.        ,\n",
       "          0.        ,   1.        ,  51.        ],\n",
       "       [  1.        ,  99.        ,   0.        ,   0.        ,\n",
       "          0.        ,   0.        ,  49.        ],\n",
       "       [  0.        , 103.        ,   0.        ,   1.        ,\n",
       "          0.        ,   0.        ,  48.        ],\n",
       "       [  0.        , 103.        ,   0.        ,   0.        ,\n",
       "          0.        ,   0.        ,  16.        ],\n",
       "       [  1.        , 101.        ,   1.        ,   0.        ,\n",
       "          0.        ,   0.        ,  34.        ],\n",
       "       [  1.        ,  98.        ,   0.        ,   0.        ,\n",
       "          1.        ,   0.        ,  69.        ],\n",
       "       [  0.        , 104.        ,   0.        ,   0.        ,\n",
       "          0.        ,   1.        ,  51.        ],\n",
       "       [  1.        , 103.        ,   0.        ,   0.        ,\n",
       "          0.        ,   1.        ,  46.        ],\n",
       "       [  1.        , 100.91549296,   0.        ,   0.        ,\n",
       "          0.        ,   0.        ,  42.        ],\n",
       "       [  1.        , 100.91549296,   0.        ,   0.        ,\n",
       "          1.        ,   0.        ,  34.        ],\n",
       "       [  0.        , 104.        ,   0.        ,   0.        ,\n",
       "          1.        ,   1.        ,  44.        ],\n",
       "       [  0.        , 101.        ,   0.        ,   0.        ,\n",
       "          0.        ,   0.        ,  20.        ],\n",
       "       [  1.        ,  98.        ,   0.        ,   0.        ,\n",
       "          1.        ,   0.        ,   5.        ],\n",
       "       [  0.        , 103.        ,   1.        ,   0.        ,\n",
       "          0.        ,   0.        ,  73.        ],\n",
       "       [  1.        ,  98.        ,   0.        ,   0.        ,\n",
       "          0.        ,   1.        ,  12.        ],\n",
       "       [  1.        , 100.91549296,   0.        ,   1.        ,\n",
       "          0.        ,   1.        ,  79.        ],\n",
       "       [  0.        , 101.        ,   0.        ,   1.        ,\n",
       "          0.        ,   0.        ,  83.        ],\n",
       "       [  0.        , 101.        ,   0.        ,   1.        ,\n",
       "          0.        ,   0.        ,   8.        ],\n",
       "       [  0.        , 100.91549296,   0.        ,   0.        ,\n",
       "          1.        ,   1.        ,  23.        ],\n",
       "       [  0.        , 100.        ,   0.        ,   1.        ,\n",
       "          0.        ,   1.        ,  55.        ],\n",
       "       [  0.        ,  99.        ,   1.        ,   0.        ,\n",
       "          0.        ,   1.        ,  65.        ],\n",
       "       [  0.        , 101.        ,   0.        ,   0.        ,\n",
       "          1.        ,   0.        ,  19.        ],\n",
       "       [  0.        , 103.        ,   0.        ,   1.        ,\n",
       "          0.        ,   0.        ,  50.        ],\n",
       "       [  0.        , 102.        ,   0.        ,   0.        ,\n",
       "          0.        ,   0.        ,  69.        ],\n",
       "       [  1.        ,  98.        ,   0.        ,   0.        ,\n",
       "          1.        ,   1.        ,  23.        ],\n",
       "       [  1.        ,  99.        ,   0.        ,   1.        ,\n",
       "          0.        ,   0.        ,  25.        ],\n",
       "       [  0.        , 100.        ,   0.        ,   1.        ,\n",
       "          0.        ,   0.        ,   5.        ],\n",
       "       [  1.        , 101.        ,   1.        ,   0.        ,\n",
       "          0.        ,   0.        ,  68.        ],\n",
       "       [  1.        , 101.        ,   0.        ,   0.        ,\n",
       "          0.        ,   1.        ,  47.        ],\n",
       "       [  0.        , 101.        ,   0.        ,   0.        ,\n",
       "          0.        ,   0.        ,  38.        ],\n",
       "       [  0.        ,  98.        ,   0.        ,   0.        ,\n",
       "          0.        ,   1.        ,  73.        ],\n",
       "       [  0.        , 104.        ,   0.        ,   1.        ,\n",
       "          0.        ,   0.        ,  17.        ],\n",
       "       [  0.        , 101.        ,   1.        ,   0.        ,\n",
       "          0.        ,   0.        ,  64.        ],\n",
       "       [  1.        , 101.        ,   0.        ,   1.        ,\n",
       "          0.        ,   0.        ,  51.        ],\n",
       "       [  0.        ,  99.        ,   0.        ,   0.        ,\n",
       "          0.        ,   1.        ,  65.        ],\n",
       "       [  0.        , 104.        ,   0.        ,   0.        ,\n",
       "          1.        ,   1.        ,  42.        ],\n",
       "       [  0.        , 104.        ,   0.        ,   0.        ,\n",
       "          0.        ,   0.        ,  18.        ],\n",
       "       [  1.        , 102.        ,   1.        ,   0.        ,\n",
       "          0.        ,   1.        ,  20.        ]])"
      ]
     },
     "execution_count": 117,
     "metadata": {},
     "output_type": "execute_result"
    }
   ],
   "source": [
    "X_train_transformed"
   ]
  },
  {
   "cell_type": "code",
   "execution_count": 133,
   "id": "881150f6-4f77-4549-8dce-fe0721fae71d",
   "metadata": {},
   "outputs": [
    {
     "data": {
      "text/html": [
       "<div>\n",
       "<style scoped>\n",
       "    .dataframe tbody tr th:only-of-type {\n",
       "        vertical-align: middle;\n",
       "    }\n",
       "\n",
       "    .dataframe tbody tr th {\n",
       "        vertical-align: top;\n",
       "    }\n",
       "\n",
       "    .dataframe thead th {\n",
       "        text-align: right;\n",
       "    }\n",
       "</style>\n",
       "<table border=\"1\" class=\"dataframe\">\n",
       "  <thead>\n",
       "    <tr style=\"text-align: right;\">\n",
       "      <th></th>\n",
       "      <th>0</th>\n",
       "      <th>1</th>\n",
       "      <th>2</th>\n",
       "      <th>3</th>\n",
       "      <th>4</th>\n",
       "      <th>5</th>\n",
       "      <th>6</th>\n",
       "    </tr>\n",
       "  </thead>\n",
       "  <tbody>\n",
       "    <tr>\n",
       "      <th>0</th>\n",
       "      <td>0.0</td>\n",
       "      <td>99.0</td>\n",
       "      <td>0.0</td>\n",
       "      <td>0.0</td>\n",
       "      <td>0.0</td>\n",
       "      <td>0.0</td>\n",
       "      <td>22.0</td>\n",
       "    </tr>\n",
       "    <tr>\n",
       "      <th>1</th>\n",
       "      <td>1.0</td>\n",
       "      <td>104.0</td>\n",
       "      <td>0.0</td>\n",
       "      <td>0.0</td>\n",
       "      <td>0.0</td>\n",
       "      <td>0.0</td>\n",
       "      <td>56.0</td>\n",
       "    </tr>\n",
       "    <tr>\n",
       "      <th>2</th>\n",
       "      <td>0.0</td>\n",
       "      <td>98.0</td>\n",
       "      <td>0.0</td>\n",
       "      <td>1.0</td>\n",
       "      <td>0.0</td>\n",
       "      <td>0.0</td>\n",
       "      <td>31.0</td>\n",
       "    </tr>\n",
       "    <tr>\n",
       "      <th>3</th>\n",
       "      <td>1.0</td>\n",
       "      <td>104.0</td>\n",
       "      <td>1.0</td>\n",
       "      <td>0.0</td>\n",
       "      <td>0.0</td>\n",
       "      <td>0.0</td>\n",
       "      <td>75.0</td>\n",
       "    </tr>\n",
       "    <tr>\n",
       "      <th>4</th>\n",
       "      <td>0.0</td>\n",
       "      <td>99.0</td>\n",
       "      <td>0.0</td>\n",
       "      <td>0.0</td>\n",
       "      <td>0.0</td>\n",
       "      <td>1.0</td>\n",
       "      <td>72.0</td>\n",
       "    </tr>\n",
       "    <tr>\n",
       "      <th>...</th>\n",
       "      <td>...</td>\n",
       "      <td>...</td>\n",
       "      <td>...</td>\n",
       "      <td>...</td>\n",
       "      <td>...</td>\n",
       "      <td>...</td>\n",
       "      <td>...</td>\n",
       "    </tr>\n",
       "    <tr>\n",
       "      <th>75</th>\n",
       "      <td>1.0</td>\n",
       "      <td>101.0</td>\n",
       "      <td>0.0</td>\n",
       "      <td>1.0</td>\n",
       "      <td>0.0</td>\n",
       "      <td>0.0</td>\n",
       "      <td>51.0</td>\n",
       "    </tr>\n",
       "    <tr>\n",
       "      <th>76</th>\n",
       "      <td>0.0</td>\n",
       "      <td>99.0</td>\n",
       "      <td>0.0</td>\n",
       "      <td>0.0</td>\n",
       "      <td>0.0</td>\n",
       "      <td>1.0</td>\n",
       "      <td>65.0</td>\n",
       "    </tr>\n",
       "    <tr>\n",
       "      <th>77</th>\n",
       "      <td>0.0</td>\n",
       "      <td>104.0</td>\n",
       "      <td>0.0</td>\n",
       "      <td>0.0</td>\n",
       "      <td>1.0</td>\n",
       "      <td>1.0</td>\n",
       "      <td>42.0</td>\n",
       "    </tr>\n",
       "    <tr>\n",
       "      <th>78</th>\n",
       "      <td>0.0</td>\n",
       "      <td>104.0</td>\n",
       "      <td>0.0</td>\n",
       "      <td>0.0</td>\n",
       "      <td>0.0</td>\n",
       "      <td>0.0</td>\n",
       "      <td>18.0</td>\n",
       "    </tr>\n",
       "    <tr>\n",
       "      <th>79</th>\n",
       "      <td>1.0</td>\n",
       "      <td>102.0</td>\n",
       "      <td>1.0</td>\n",
       "      <td>0.0</td>\n",
       "      <td>0.0</td>\n",
       "      <td>1.0</td>\n",
       "      <td>20.0</td>\n",
       "    </tr>\n",
       "  </tbody>\n",
       "</table>\n",
       "<p>80 rows × 7 columns</p>\n",
       "</div>"
      ],
      "text/plain": [
       "      0      1    2    3    4    5     6\n",
       "0   0.0   99.0  0.0  0.0  0.0  0.0  22.0\n",
       "1   1.0  104.0  0.0  0.0  0.0  0.0  56.0\n",
       "2   0.0   98.0  0.0  1.0  0.0  0.0  31.0\n",
       "3   1.0  104.0  1.0  0.0  0.0  0.0  75.0\n",
       "4   0.0   99.0  0.0  0.0  0.0  1.0  72.0\n",
       "..  ...    ...  ...  ...  ...  ...   ...\n",
       "75  1.0  101.0  0.0  1.0  0.0  0.0  51.0\n",
       "76  0.0   99.0  0.0  0.0  0.0  1.0  65.0\n",
       "77  0.0  104.0  0.0  0.0  1.0  1.0  42.0\n",
       "78  0.0  104.0  0.0  0.0  0.0  0.0  18.0\n",
       "79  1.0  102.0  1.0  0.0  0.0  1.0  20.0\n",
       "\n",
       "[80 rows x 7 columns]"
      ]
     },
     "execution_count": 133,
     "metadata": {},
     "output_type": "execute_result"
    }
   ],
   "source": [
    "pd.DataFrame(X_train_transformed)"
   ]
  },
  {
   "cell_type": "code",
   "execution_count": 131,
   "id": "ec9f46f3-79a5-479f-9199-a427c5d5d506",
   "metadata": {},
   "outputs": [
    {
     "ename": "ValueError",
     "evalue": "all the input arrays must have same number of dimensions, but the array at index 0 has 1 dimension(s) and the array at index 1 has 2 dimension(s)",
     "output_type": "error",
     "traceback": [
      "\u001b[1;31m---------------------------------------------------------------------------\u001b[0m",
      "\u001b[1;31mValueError\u001b[0m                                Traceback (most recent call last)",
      "Cell \u001b[1;32mIn[131], line 1\u001b[0m\n\u001b[1;32m----> 1\u001b[0m \u001b[43mnp\u001b[49m\u001b[38;5;241;43m.\u001b[39;49m\u001b[43mhstack\u001b[49m\u001b[43m(\u001b[49m\u001b[43m(\u001b[49m\u001b[43md\u001b[49m\u001b[43m,\u001b[49m\u001b[43mX_train_transformed\u001b[49m\u001b[43m)\u001b[49m\u001b[43m)\u001b[49m\n",
      "File \u001b[1;32mG:\\Anaconda\\Lib\\site-packages\\numpy\\core\\shape_base.py:357\u001b[0m, in \u001b[0;36mhstack\u001b[1;34m(tup, dtype, casting)\u001b[0m\n\u001b[0;32m    355\u001b[0m \u001b[38;5;66;03m# As a special case, dimension 0 of 1-dimensional arrays is \"horizontal\"\u001b[39;00m\n\u001b[0;32m    356\u001b[0m \u001b[38;5;28;01mif\u001b[39;00m arrs \u001b[38;5;129;01mand\u001b[39;00m arrs[\u001b[38;5;241m0\u001b[39m]\u001b[38;5;241m.\u001b[39mndim \u001b[38;5;241m==\u001b[39m \u001b[38;5;241m1\u001b[39m:\n\u001b[1;32m--> 357\u001b[0m     \u001b[38;5;28;01mreturn\u001b[39;00m \u001b[43m_nx\u001b[49m\u001b[38;5;241;43m.\u001b[39;49m\u001b[43mconcatenate\u001b[49m\u001b[43m(\u001b[49m\u001b[43marrs\u001b[49m\u001b[43m,\u001b[49m\u001b[43m \u001b[49m\u001b[38;5;241;43m0\u001b[39;49m\u001b[43m,\u001b[49m\u001b[43m \u001b[49m\u001b[43mdtype\u001b[49m\u001b[38;5;241;43m=\u001b[39;49m\u001b[43mdtype\u001b[49m\u001b[43m,\u001b[49m\u001b[43m \u001b[49m\u001b[43mcasting\u001b[49m\u001b[38;5;241;43m=\u001b[39;49m\u001b[43mcasting\u001b[49m\u001b[43m)\u001b[49m\n\u001b[0;32m    358\u001b[0m \u001b[38;5;28;01melse\u001b[39;00m:\n\u001b[0;32m    359\u001b[0m     \u001b[38;5;28;01mreturn\u001b[39;00m _nx\u001b[38;5;241m.\u001b[39mconcatenate(arrs, \u001b[38;5;241m1\u001b[39m, dtype\u001b[38;5;241m=\u001b[39mdtype, casting\u001b[38;5;241m=\u001b[39mcasting)\n",
      "\u001b[1;31mValueError\u001b[0m: all the input arrays must have same number of dimensions, but the array at index 0 has 1 dimension(s) and the array at index 1 has 2 dimension(s)"
     ]
    }
   ],
   "source": [
    "np.hstack((d,X_train_transformed))"
   ]
  },
  {
   "cell_type": "code",
   "execution_count": null,
   "id": "50d28aba-47e1-448c-a0c0-67a443c54dfe",
   "metadata": {},
   "outputs": [],
   "source": []
  }
 ],
 "metadata": {
  "kernelspec": {
   "display_name": "Python 3 (ipykernel)",
   "language": "python",
   "name": "python3"
  },
  "language_info": {
   "codemirror_mode": {
    "name": "ipython",
    "version": 3
   },
   "file_extension": ".py",
   "mimetype": "text/x-python",
   "name": "python",
   "nbconvert_exporter": "python",
   "pygments_lexer": "ipython3",
   "version": "3.12.4"
  }
 },
 "nbformat": 4,
 "nbformat_minor": 5
}
