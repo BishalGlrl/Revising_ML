{
 "cells": [
  {
   "cell_type": "markdown",
   "id": "aed96efa-2f54-4c37-a7bf-78de003c1ad8",
   "metadata": {},
   "source": [
    "<h2>Most machine learning algorithms works on normally distributed data</h2><h2 style = 'color : red;'>Function transformer helps to ensure normal distribution in the data</h2>"
   ]
  },
  {
   "cell_type": "markdown",
   "id": "58cccb2f-2c0d-4e71-be68-97533df0a726",
   "metadata": {},
   "source": [
    "<img src='Function_transformer.png'/>"
   ]
  },
  {
   "cell_type": "markdown",
   "id": "34fdd50d-c5d7-4c4b-9f2e-76361ef46265",
   "metadata": {},
   "source": [
    "## 1) Log Transform : If our data is right skewed i.e. left tira fukeko , then we can apply log transform to make our data less right skewed(i.e. fukeko part lai thorei right lyauna).Log transform cannot be applied to column with -ve value as log cannot be applied to -ve value.\n"
   ]
  },
  {
   "cell_type": "markdown",
   "id": "818b0c3a-5322-4b2e-9c73-1f9cc36a8c7a",
   "metadata": {},
   "source": [
    "## 2) Reciprocal(1/x) Transform : Here it transforms small value to larger one and larger value to small one"
   ]
  },
  {
   "cell_type": "markdown",
   "id": "50240541-0e7a-474e-bc71-40fb36df156d",
   "metadata": {},
   "source": [
    "## 3) Square (x2) transform : It is widely used in data that is left skewed(means right tira fukeko)"
   ]
  },
  {
   "cell_type": "markdown",
   "id": "0c7d501b-0f91-456b-bb2b-96f4ccf5af58",
   "metadata": {},
   "source": [
    "## 4) Square root transform"
   ]
  },
  {
   "cell_type": "code",
   "execution_count": null,
   "id": "ee87e5c3-77f0-4e57-8a64-034554769674",
   "metadata": {},
   "outputs": [],
   "source": []
  }
 ],
 "metadata": {
  "kernelspec": {
   "display_name": "Python 3 (ipykernel)",
   "language": "python",
   "name": "python3"
  },
  "language_info": {
   "codemirror_mode": {
    "name": "ipython",
    "version": 3
   },
   "file_extension": ".py",
   "mimetype": "text/x-python",
   "name": "python",
   "nbconvert_exporter": "python",
   "pygments_lexer": "ipython3",
   "version": "3.12.4"
  }
 },
 "nbformat": 4,
 "nbformat_minor": 5
}
