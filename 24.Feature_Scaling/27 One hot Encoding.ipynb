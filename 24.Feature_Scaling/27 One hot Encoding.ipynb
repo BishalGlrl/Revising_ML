{
 "cells": [
  {
   "cell_type": "markdown",
   "id": "63fad5b3-e0bf-4377-8ac9-c456a7201500",
   "metadata": {},
   "source": [
    "## One hot Encoding is used for Nominal data(Nominal data are those data which are not in certain order.Like gender male and female are not in any order.These both are equally equal)"
   ]
  },
  {
   "cell_type": "markdown",
   "id": "3961fa6c-9ca2-4880-9bdb-2d1c1c140e3d",
   "metadata": {},
   "source": [
    "<img src='OneHotEncoding.png' />"
   ]
  },
  {
   "cell_type": "markdown",
   "id": "de40c2ae-665c-49ef-9b19-f3102db1e9b7",
   "metadata": {},
   "source": [
    "#### In above figure there are colors which is nominal value as they are not in any order.Now we have to perform onehotEncoding.In oneHotEncoding,we have to make a column for each class i.e in our case there has to be three column(Red,Blue,Yellow).If there there were 50 classes we have to make 50 columns.In resulting column,each row are represented in threee dimensional array i.e. first row is in form of [1,0,0] second in [1,0,0]third in [0,1,0] and so on"
   ]
  },
  {
   "cell_type": "markdown",
   "id": "9d442e70-c91a-436e-aa67-d8b81746ae3a",
   "metadata": {},
   "source": [
    "## The resultant column formed in second picture i.e YELLOW,BLUE AND RED are known as Dummy variable.These Dummy variable can lead to multicollinearity issue(We will talk about this later).So to reduce this issue,we have to reduce one column from the resulting table.That is,from total of n column we will be only taking n-1 column"
   ]
  },
  {
   "cell_type": "markdown",
   "id": "90025e4f-f2a8-491a-9b75-b78289107c58",
   "metadata": {},
   "source": [
    "## Also, When we have a category such as \"Maruti\",\"Suzuki\",'Hyundai','Rolls Royces','Land Rover'.Here \"Maruti\",\"Suzuki\",'Hyundai' may have larger value each but 'Rolls Royces','Land Rover' may have less value each.So in these scenario where some categories have less value,we can combine those less valued categories into single categories as 'Others' where 'Others' contains the combination of both the 'Rolls Royces' and 'Land Rover'"
   ]
  },
  {
   "cell_type": "code",
   "execution_count": 119,
   "id": "e6cef359-1e0b-4a00-a0a7-58bfaf9520bd",
   "metadata": {},
   "outputs": [],
   "source": [
    "import pandas as pd\n",
    "import numpy as np"
   ]
  },
  {
   "cell_type": "code",
   "execution_count": 13,
   "id": "5b1bfc59-24d7-40cf-8932-26def01466d2",
   "metadata": {},
   "outputs": [],
   "source": [
    "df = pd.read_csv('cars.csv');"
   ]
  },
  {
   "cell_type": "code",
   "execution_count": 15,
   "id": "cbdebf1b-4c77-415f-bb25-edec4559fcb5",
   "metadata": {},
   "outputs": [
    {
     "data": {
      "text/html": [
       "<div>\n",
       "<style scoped>\n",
       "    .dataframe tbody tr th:only-of-type {\n",
       "        vertical-align: middle;\n",
       "    }\n",
       "\n",
       "    .dataframe tbody tr th {\n",
       "        vertical-align: top;\n",
       "    }\n",
       "\n",
       "    .dataframe thead th {\n",
       "        text-align: right;\n",
       "    }\n",
       "</style>\n",
       "<table border=\"1\" class=\"dataframe\">\n",
       "  <thead>\n",
       "    <tr style=\"text-align: right;\">\n",
       "      <th></th>\n",
       "      <th>brand</th>\n",
       "      <th>km_driven</th>\n",
       "      <th>fuel</th>\n",
       "      <th>owner</th>\n",
       "      <th>selling_price</th>\n",
       "    </tr>\n",
       "  </thead>\n",
       "  <tbody>\n",
       "    <tr>\n",
       "      <th>0</th>\n",
       "      <td>Maruti</td>\n",
       "      <td>145500</td>\n",
       "      <td>Diesel</td>\n",
       "      <td>First Owner</td>\n",
       "      <td>450000</td>\n",
       "    </tr>\n",
       "    <tr>\n",
       "      <th>1</th>\n",
       "      <td>Skoda</td>\n",
       "      <td>120000</td>\n",
       "      <td>Diesel</td>\n",
       "      <td>Second Owner</td>\n",
       "      <td>370000</td>\n",
       "    </tr>\n",
       "    <tr>\n",
       "      <th>2</th>\n",
       "      <td>Honda</td>\n",
       "      <td>140000</td>\n",
       "      <td>Petrol</td>\n",
       "      <td>Third Owner</td>\n",
       "      <td>158000</td>\n",
       "    </tr>\n",
       "    <tr>\n",
       "      <th>3</th>\n",
       "      <td>Hyundai</td>\n",
       "      <td>127000</td>\n",
       "      <td>Diesel</td>\n",
       "      <td>First Owner</td>\n",
       "      <td>225000</td>\n",
       "    </tr>\n",
       "    <tr>\n",
       "      <th>4</th>\n",
       "      <td>Maruti</td>\n",
       "      <td>120000</td>\n",
       "      <td>Petrol</td>\n",
       "      <td>First Owner</td>\n",
       "      <td>130000</td>\n",
       "    </tr>\n",
       "  </tbody>\n",
       "</table>\n",
       "</div>"
      ],
      "text/plain": [
       "     brand  km_driven    fuel         owner  selling_price\n",
       "0   Maruti     145500  Diesel   First Owner         450000\n",
       "1    Skoda     120000  Diesel  Second Owner         370000\n",
       "2    Honda     140000  Petrol   Third Owner         158000\n",
       "3  Hyundai     127000  Diesel   First Owner         225000\n",
       "4   Maruti     120000  Petrol   First Owner         130000"
      ]
     },
     "execution_count": 15,
     "metadata": {},
     "output_type": "execute_result"
    }
   ],
   "source": [
    "df.head()"
   ]
  },
  {
   "cell_type": "code",
   "execution_count": 21,
   "id": "e1d98067-c779-4b60-8b7f-5ce17c72bb15",
   "metadata": {},
   "outputs": [
    {
     "data": {
      "text/plain": [
       "brand            0\n",
       "km_driven        0\n",
       "fuel             0\n",
       "owner            0\n",
       "selling_price    0\n",
       "dtype: int64"
      ]
     },
     "execution_count": 21,
     "metadata": {},
     "output_type": "execute_result"
    }
   ],
   "source": [
    "df.isnull().sum()"
   ]
  },
  {
   "cell_type": "markdown",
   "id": "9ef4e09e-1fa3-40d1-bbdc-3f392d73cec4",
   "metadata": {},
   "source": [
    "### To get information about how many unique row are there in certain column of dataframe,we have to use:"
   ]
  },
  {
   "cell_type": "code",
   "execution_count": 38,
   "id": "253b8201-bb33-4852-b0c2-62b413fbeee8",
   "metadata": {},
   "outputs": [
    {
     "data": {
      "text/plain": [
       "brand\n",
       "Maruti           2448\n",
       "Hyundai          1415\n",
       "Mahindra          772\n",
       "Tata              734\n",
       "Toyota            488\n",
       "Honda             467\n",
       "Ford              397\n",
       "Chevrolet         230\n",
       "Renault           228\n",
       "Volkswagen        186\n",
       "BMW               120\n",
       "Skoda             105\n",
       "Nissan             81\n",
       "Jaguar             71\n",
       "Volvo              67\n",
       "Datsun             65\n",
       "Mercedes-Benz      54\n",
       "Fiat               47\n",
       "Audi               40\n",
       "Lexus              34\n",
       "Jeep               31\n",
       "Mitsubishi         14\n",
       "Force               6\n",
       "Land                6\n",
       "Isuzu               5\n",
       "Kia                 4\n",
       "Ambassador          4\n",
       "Daewoo              3\n",
       "MG                  3\n",
       "Ashok               1\n",
       "Opel                1\n",
       "Peugeot             1\n",
       "Name: count, dtype: int64"
      ]
     },
     "execution_count": 38,
     "metadata": {},
     "output_type": "execute_result"
    }
   ],
   "source": [
    "df['brand'].value_counts()"
   ]
  },
  {
   "cell_type": "code",
   "execution_count": 40,
   "id": "d5cdda24-2ee4-4fb9-8620-aeede0f1d8f6",
   "metadata": {},
   "outputs": [
    {
     "data": {
      "text/plain": [
       "32"
      ]
     },
     "execution_count": 40,
     "metadata": {},
     "output_type": "execute_result"
    }
   ],
   "source": [
    "df['brand'].nunique() #thIS HELP US TO FIND THE NO OF UNIQUE VALUE IN THE COLUMNS"
   ]
  },
  {
   "cell_type": "code",
   "execution_count": 46,
   "id": "43affd1b-1f29-41c3-9817-a9aaec001877",
   "metadata": {},
   "outputs": [
    {
     "data": {
      "text/plain": [
       "fuel\n",
       "Diesel    4402\n",
       "Petrol    3631\n",
       "CNG         57\n",
       "LPG         38\n",
       "Name: count, dtype: int64"
      ]
     },
     "execution_count": 46,
     "metadata": {},
     "output_type": "execute_result"
    }
   ],
   "source": [
    "df['fuel'].value_counts()"
   ]
  },
  {
   "cell_type": "code",
   "execution_count": 48,
   "id": "4d19fe1b-975e-4cd7-9ea8-0512c25b3b10",
   "metadata": {},
   "outputs": [
    {
     "data": {
      "text/plain": [
       "owner\n",
       "First Owner             5289\n",
       "Second Owner            2105\n",
       "Third Owner              555\n",
       "Fourth & Above Owner     174\n",
       "Test Drive Car             5\n",
       "Name: count, dtype: int64"
      ]
     },
     "execution_count": 48,
     "metadata": {},
     "output_type": "execute_result"
    }
   ],
   "source": [
    "df['owner'].value_counts()"
   ]
  },
  {
   "cell_type": "code",
   "execution_count": 72,
   "id": "50508bdf-f576-46ed-a23c-a830e830cdaf",
   "metadata": {},
   "outputs": [
    {
     "data": {
      "text/html": [
       "<div>\n",
       "<style scoped>\n",
       "    .dataframe tbody tr th:only-of-type {\n",
       "        vertical-align: middle;\n",
       "    }\n",
       "\n",
       "    .dataframe tbody tr th {\n",
       "        vertical-align: top;\n",
       "    }\n",
       "\n",
       "    .dataframe thead th {\n",
       "        text-align: right;\n",
       "    }\n",
       "</style>\n",
       "<table border=\"1\" class=\"dataframe\">\n",
       "  <thead>\n",
       "    <tr style=\"text-align: right;\">\n",
       "      <th></th>\n",
       "      <th>brand</th>\n",
       "      <th>km_driven</th>\n",
       "      <th>fuel</th>\n",
       "      <th>owner</th>\n",
       "      <th>selling_price</th>\n",
       "    </tr>\n",
       "  </thead>\n",
       "  <tbody>\n",
       "    <tr>\n",
       "      <th>4076</th>\n",
       "      <td>Hyundai</td>\n",
       "      <td>30000</td>\n",
       "      <td>Petrol</td>\n",
       "      <td>First Owner</td>\n",
       "      <td>375000</td>\n",
       "    </tr>\n",
       "    <tr>\n",
       "      <th>3021</th>\n",
       "      <td>Maruti</td>\n",
       "      <td>110000</td>\n",
       "      <td>Petrol</td>\n",
       "      <td>Second Owner</td>\n",
       "      <td>120000</td>\n",
       "    </tr>\n",
       "  </tbody>\n",
       "</table>\n",
       "</div>"
      ],
      "text/plain": [
       "        brand  km_driven    fuel         owner  selling_price\n",
       "4076  Hyundai      30000  Petrol   First Owner         375000\n",
       "3021   Maruti     110000  Petrol  Second Owner         120000"
      ]
     },
     "execution_count": 72,
     "metadata": {},
     "output_type": "execute_result"
    }
   ],
   "source": [
    "df.sample(2)"
   ]
  },
  {
   "cell_type": "markdown",
   "id": "e4b15f78-29ef-4619-962e-7929676891d7",
   "metadata": {},
   "source": [
    "# OneHotEncoding using scikit-learn"
   ]
  },
  {
   "cell_type": "code",
   "execution_count": 74,
   "id": "afe119b5-26b6-4da1-89c1-0c90a0f0e9ee",
   "metadata": {},
   "outputs": [],
   "source": [
    "from sklearn.model_selection import train_test_split\n",
    "X = df.iloc[:,0:4]\n",
    "Y= df.iloc[:,-1]"
   ]
  },
  {
   "cell_type": "code",
   "execution_count": 76,
   "id": "9362b4b6-f07d-47f5-b07b-370a455af5ca",
   "metadata": {},
   "outputs": [],
   "source": [
    "X_train,X_test,Y_train,Y_test = train_test_split(X,\n",
    "                                                Y,\n",
    "                                                test_size=0.2,\n",
    "                                                random_state=0)"
   ]
  },
  {
   "cell_type": "code",
   "execution_count": 88,
   "id": "6c66088c-497e-4efa-a4b5-75bcc0e350e2",
   "metadata": {},
   "outputs": [
    {
     "data": {
      "text/html": [
       "<div>\n",
       "<style scoped>\n",
       "    .dataframe tbody tr th:only-of-type {\n",
       "        vertical-align: middle;\n",
       "    }\n",
       "\n",
       "    .dataframe tbody tr th {\n",
       "        vertical-align: top;\n",
       "    }\n",
       "\n",
       "    .dataframe thead th {\n",
       "        text-align: right;\n",
       "    }\n",
       "</style>\n",
       "<table border=\"1\" class=\"dataframe\">\n",
       "  <thead>\n",
       "    <tr style=\"text-align: right;\">\n",
       "      <th></th>\n",
       "      <th>brand</th>\n",
       "      <th>km_driven</th>\n",
       "      <th>fuel</th>\n",
       "      <th>owner</th>\n",
       "    </tr>\n",
       "  </thead>\n",
       "  <tbody>\n",
       "    <tr>\n",
       "      <th>3042</th>\n",
       "      <td>Hyundai</td>\n",
       "      <td>60000</td>\n",
       "      <td>LPG</td>\n",
       "      <td>First Owner</td>\n",
       "    </tr>\n",
       "    <tr>\n",
       "      <th>1520</th>\n",
       "      <td>Tata</td>\n",
       "      <td>150000</td>\n",
       "      <td>Diesel</td>\n",
       "      <td>Third Owner</td>\n",
       "    </tr>\n",
       "    <tr>\n",
       "      <th>2611</th>\n",
       "      <td>Hyundai</td>\n",
       "      <td>110000</td>\n",
       "      <td>Diesel</td>\n",
       "      <td>Second Owner</td>\n",
       "    </tr>\n",
       "    <tr>\n",
       "      <th>3544</th>\n",
       "      <td>Mahindra</td>\n",
       "      <td>28000</td>\n",
       "      <td>Diesel</td>\n",
       "      <td>Second Owner</td>\n",
       "    </tr>\n",
       "    <tr>\n",
       "      <th>4138</th>\n",
       "      <td>Maruti</td>\n",
       "      <td>15000</td>\n",
       "      <td>Petrol</td>\n",
       "      <td>First Owner</td>\n",
       "    </tr>\n",
       "    <tr>\n",
       "      <th>...</th>\n",
       "      <td>...</td>\n",
       "      <td>...</td>\n",
       "      <td>...</td>\n",
       "      <td>...</td>\n",
       "    </tr>\n",
       "    <tr>\n",
       "      <th>4931</th>\n",
       "      <td>Tata</td>\n",
       "      <td>70000</td>\n",
       "      <td>Diesel</td>\n",
       "      <td>Third Owner</td>\n",
       "    </tr>\n",
       "    <tr>\n",
       "      <th>3264</th>\n",
       "      <td>Ford</td>\n",
       "      <td>100000</td>\n",
       "      <td>Diesel</td>\n",
       "      <td>Second Owner</td>\n",
       "    </tr>\n",
       "    <tr>\n",
       "      <th>1653</th>\n",
       "      <td>Hyundai</td>\n",
       "      <td>90000</td>\n",
       "      <td>Petrol</td>\n",
       "      <td>Second Owner</td>\n",
       "    </tr>\n",
       "    <tr>\n",
       "      <th>2607</th>\n",
       "      <td>Volkswagen</td>\n",
       "      <td>90000</td>\n",
       "      <td>Diesel</td>\n",
       "      <td>First Owner</td>\n",
       "    </tr>\n",
       "    <tr>\n",
       "      <th>2732</th>\n",
       "      <td>Hyundai</td>\n",
       "      <td>110000</td>\n",
       "      <td>Petrol</td>\n",
       "      <td>First Owner</td>\n",
       "    </tr>\n",
       "  </tbody>\n",
       "</table>\n",
       "<p>6502 rows × 4 columns</p>\n",
       "</div>"
      ],
      "text/plain": [
       "           brand  km_driven    fuel         owner\n",
       "3042     Hyundai      60000     LPG   First Owner\n",
       "1520        Tata     150000  Diesel   Third Owner\n",
       "2611     Hyundai     110000  Diesel  Second Owner\n",
       "3544    Mahindra      28000  Diesel  Second Owner\n",
       "4138      Maruti      15000  Petrol   First Owner\n",
       "...          ...        ...     ...           ...\n",
       "4931        Tata      70000  Diesel   Third Owner\n",
       "3264        Ford     100000  Diesel  Second Owner\n",
       "1653     Hyundai      90000  Petrol  Second Owner\n",
       "2607  Volkswagen      90000  Diesel   First Owner\n",
       "2732     Hyundai     110000  Petrol   First Owner\n",
       "\n",
       "[6502 rows x 4 columns]"
      ]
     },
     "execution_count": 88,
     "metadata": {},
     "output_type": "execute_result"
    }
   ],
   "source": [
    "X_train"
   ]
  },
  {
   "cell_type": "code",
   "execution_count": 161,
   "id": "e33ee580-1141-48a9-b387-06cbbb1954ee",
   "metadata": {},
   "outputs": [],
   "source": [
    "from sklearn.preprocessing import OneHotEncoder\n",
    "oh = OneHotEncoder(drop ='first' ,sparse_output=False,dtype=np.int32)"
   ]
  },
  {
   "cell_type": "markdown",
   "id": "7a9fb0a3-b91e-418f-8f1d-ff7cc9dd80e9",
   "metadata": {},
   "source": [
    "### drop ='first' will remove the first column from resuting table of any dataframe it is applied to.This is done to minimize multicollinearity issue and sparse_outpu = False will give the output of below cell in the form of array .If we dont specify this then by default it will be providing output in sparse matrix format.And also the output will be in the form of float,so to take it in the form of integer,we specify it as np.int32"
   ]
  },
  {
   "cell_type": "code",
   "execution_count": 164,
   "id": "704ba025-6341-472a-b2d6-27a26a837319",
   "metadata": {},
   "outputs": [],
   "source": [
    "X_train_new = oh.fit_transform(X_train[['fuel','owner']])"
   ]
  },
  {
   "cell_type": "code",
   "execution_count": 166,
   "id": "f786b1f0-58ea-4da7-a27b-f28838951c70",
   "metadata": {},
   "outputs": [
    {
     "data": {
      "text/plain": [
       "array([[0, 1, 0, ..., 0, 0, 0],\n",
       "       [1, 0, 0, ..., 0, 0, 1],\n",
       "       [1, 0, 0, ..., 1, 0, 0],\n",
       "       ...,\n",
       "       [0, 0, 1, ..., 1, 0, 0],\n",
       "       [1, 0, 0, ..., 0, 0, 0],\n",
       "       [0, 0, 1, ..., 0, 0, 0]])"
      ]
     },
     "execution_count": 166,
     "metadata": {},
     "output_type": "execute_result"
    }
   ],
   "source": [
    "X_train_new"
   ]
  },
  {
   "cell_type": "markdown",
   "id": "1ac69e5b-8b6c-462c-ad17-1a7a5c546f23",
   "metadata": {},
   "source": [
    "### Now this is in a suitable form for us to analyze"
   ]
  },
  {
   "cell_type": "code",
   "execution_count": 168,
   "id": "76f31549-01c8-41f4-b5fd-6e036b5dc1f5",
   "metadata": {},
   "outputs": [],
   "source": [
    "X_test_new = oh.transform(X_test[['fuel','owner']])"
   ]
  },
  {
   "cell_type": "code",
   "execution_count": 170,
   "id": "14b862c9-9c19-496b-88e2-801711bcaf77",
   "metadata": {},
   "outputs": [],
   "source": [
    "h = np.hstack((X_train[['brand','km_driven']].values,X_train_new))"
   ]
  },
  {
   "cell_type": "code",
   "execution_count": 172,
   "id": "c84df748-3a2a-4ec4-8834-2ecbd7d14f08",
   "metadata": {},
   "outputs": [
    {
     "data": {
      "text/plain": [
       "(6502, 9)"
      ]
     },
     "execution_count": 172,
     "metadata": {},
     "output_type": "execute_result"
    }
   ],
   "source": [
    "h.shape"
   ]
  },
  {
   "cell_type": "markdown",
   "id": "fd5c454e-3c35-46de-a404-bb6cb9669b7a",
   "metadata": {},
   "source": [
    "# Now for the feature such as brand that contains a large number of category,it results in many column.So we handle this type of feature as:"
   ]
  },
  {
   "cell_type": "code",
   "execution_count": null,
   "id": "05911884-4198-4321-a492-c4a95fe1c3b1",
   "metadata": {},
   "outputs": [],
   "source": []
  }
 ],
 "metadata": {
  "kernelspec": {
   "display_name": "Python 3 (ipykernel)",
   "language": "python",
   "name": "python3"
  },
  "language_info": {
   "codemirror_mode": {
    "name": "ipython",
    "version": 3
   },
   "file_extension": ".py",
   "mimetype": "text/x-python",
   "name": "python",
   "nbconvert_exporter": "python",
   "pygments_lexer": "ipython3",
   "version": "3.12.4"
  }
 },
 "nbformat": 4,
 "nbformat_minor": 5
}
