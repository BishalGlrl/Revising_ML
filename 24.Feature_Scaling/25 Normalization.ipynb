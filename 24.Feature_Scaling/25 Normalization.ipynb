{
 "cells": [
  {
   "cell_type": "markdown",
   "id": "0137fc9c-da70-443f-95cc-20588a70119c",
   "metadata": {},
   "source": [
    "### First type of Normalization is Min-Max Scaling,which means reducing the value of column within a range of [0,1].Here we use formula as (Xi - Xmin)/(Xmax - Xmin) where Xmin is minimum value of column and Xmax is maximum value of column"
   ]
  },
  {
   "cell_type": "code",
   "execution_count": 2,
   "id": "5a925ea2-dd7b-4196-b495-88d0b42e77d2",
   "metadata": {},
   "outputs": [],
   "source": [
    "import numpy as np\n",
    "import pandas as pd\n",
    "import matplotlib.pyplot as plt\n",
    "import seaborn as sns"
   ]
  },
  {
   "cell_type": "code",
   "execution_count": 12,
   "id": "4504f6de-afbe-4ede-8eb8-10b18818fd47",
   "metadata": {},
   "outputs": [
    {
     "data": {
      "text/plain": [
       "'\\nheader=None: This argument specifies that the CSV file does not have a header row. By default, pd.read_csv assumes the first row of the CSV file is a header row containing column names. When header=None is specified, pandas will not interpret the first row as headers and will instead treat it as data, assigning default integer column labels starting from 0.\\n\\nusecols=[0, 1, 2]: This argument specifies which columns to read from the CSV file. In this case, only the columns with indices 0, 1, and 2 are read into the DataFrame. Column indices are zero-based, so these correspond to the first, second, and third columns in the CSV file.\\n'"
      ]
     },
     "execution_count": 12,
     "metadata": {},
     "output_type": "execute_result"
    }
   ],
   "source": [
    "df = pd.read_csv('wine_data.csv',header= None,usecols=[0,1,2])\n",
    "'''\n",
    "header=None: This argument specifies that the CSV file does not have a header row. By default, pd.read_csv assumes the first row of the CSV file is a header row containing column names. When header=None is specified, pandas will not interpret the first row as headers and will instead treat it as data, assigning default integer column labels starting from 0.\n",
    "\n",
    "usecols=[0, 1, 2]: This argument specifies which columns to read from the CSV file. In this case, only the columns with indices 0, 1, and 2 are read into the DataFrame. Column indices are zero-based, so these correspond to the first, second, and third columns in the CSV file.\n",
    "'''"
   ]
  },
  {
   "cell_type": "code",
   "execution_count": 14,
   "id": "eb6f55e8-6365-421a-8730-6d0614e89e7e",
   "metadata": {},
   "outputs": [
    {
     "data": {
      "text/html": [
       "<div>\n",
       "<style scoped>\n",
       "    .dataframe tbody tr th:only-of-type {\n",
       "        vertical-align: middle;\n",
       "    }\n",
       "\n",
       "    .dataframe tbody tr th {\n",
       "        vertical-align: top;\n",
       "    }\n",
       "\n",
       "    .dataframe thead th {\n",
       "        text-align: right;\n",
       "    }\n",
       "</style>\n",
       "<table border=\"1\" class=\"dataframe\">\n",
       "  <thead>\n",
       "    <tr style=\"text-align: right;\">\n",
       "      <th></th>\n",
       "      <th>0</th>\n",
       "      <th>1</th>\n",
       "      <th>2</th>\n",
       "    </tr>\n",
       "  </thead>\n",
       "  <tbody>\n",
       "    <tr>\n",
       "      <th>0</th>\n",
       "      <td>1</td>\n",
       "      <td>14.23</td>\n",
       "      <td>1.71</td>\n",
       "    </tr>\n",
       "    <tr>\n",
       "      <th>1</th>\n",
       "      <td>1</td>\n",
       "      <td>13.20</td>\n",
       "      <td>1.78</td>\n",
       "    </tr>\n",
       "    <tr>\n",
       "      <th>2</th>\n",
       "      <td>1</td>\n",
       "      <td>13.16</td>\n",
       "      <td>2.36</td>\n",
       "    </tr>\n",
       "    <tr>\n",
       "      <th>3</th>\n",
       "      <td>1</td>\n",
       "      <td>14.37</td>\n",
       "      <td>1.95</td>\n",
       "    </tr>\n",
       "    <tr>\n",
       "      <th>4</th>\n",
       "      <td>1</td>\n",
       "      <td>13.24</td>\n",
       "      <td>2.59</td>\n",
       "    </tr>\n",
       "  </tbody>\n",
       "</table>\n",
       "</div>"
      ],
      "text/plain": [
       "   0      1     2\n",
       "0  1  14.23  1.71\n",
       "1  1  13.20  1.78\n",
       "2  1  13.16  2.36\n",
       "3  1  14.37  1.95\n",
       "4  1  13.24  2.59"
      ]
     },
     "execution_count": 14,
     "metadata": {},
     "output_type": "execute_result"
    }
   ],
   "source": [
    "df.head()"
   ]
  },
  {
   "cell_type": "markdown",
   "id": "d25da7ef-e6dc-4c3f-8cc3-8d0c288c5289",
   "metadata": {},
   "source": [
    "#### Now instead of 0,1 and 2 in header,lets give them a appropriate name"
   ]
  },
  {
   "cell_type": "code",
   "execution_count": 17,
   "id": "d329786a-8a96-4aff-a9b9-b276b73f6960",
   "metadata": {},
   "outputs": [],
   "source": [
    "column_names = ['Class Label', 'Alcohol', 'Malic Acid']\n",
    "df.columns = column_names"
   ]
  },
  {
   "cell_type": "code",
   "execution_count": 19,
   "id": "3c09e2d6-75f1-49b7-bc89-1334608d290d",
   "metadata": {},
   "outputs": [
    {
     "data": {
      "text/html": [
       "<div>\n",
       "<style scoped>\n",
       "    .dataframe tbody tr th:only-of-type {\n",
       "        vertical-align: middle;\n",
       "    }\n",
       "\n",
       "    .dataframe tbody tr th {\n",
       "        vertical-align: top;\n",
       "    }\n",
       "\n",
       "    .dataframe thead th {\n",
       "        text-align: right;\n",
       "    }\n",
       "</style>\n",
       "<table border=\"1\" class=\"dataframe\">\n",
       "  <thead>\n",
       "    <tr style=\"text-align: right;\">\n",
       "      <th></th>\n",
       "      <th>Class Label</th>\n",
       "      <th>Alcohol</th>\n",
       "      <th>Malic Acid</th>\n",
       "    </tr>\n",
       "  </thead>\n",
       "  <tbody>\n",
       "    <tr>\n",
       "      <th>0</th>\n",
       "      <td>1</td>\n",
       "      <td>14.23</td>\n",
       "      <td>1.71</td>\n",
       "    </tr>\n",
       "    <tr>\n",
       "      <th>1</th>\n",
       "      <td>1</td>\n",
       "      <td>13.20</td>\n",
       "      <td>1.78</td>\n",
       "    </tr>\n",
       "    <tr>\n",
       "      <th>2</th>\n",
       "      <td>1</td>\n",
       "      <td>13.16</td>\n",
       "      <td>2.36</td>\n",
       "    </tr>\n",
       "    <tr>\n",
       "      <th>3</th>\n",
       "      <td>1</td>\n",
       "      <td>14.37</td>\n",
       "      <td>1.95</td>\n",
       "    </tr>\n",
       "    <tr>\n",
       "      <th>4</th>\n",
       "      <td>1</td>\n",
       "      <td>13.24</td>\n",
       "      <td>2.59</td>\n",
       "    </tr>\n",
       "  </tbody>\n",
       "</table>\n",
       "</div>"
      ],
      "text/plain": [
       "   Class Label  Alcohol  Malic Acid\n",
       "0            1    14.23        1.71\n",
       "1            1    13.20        1.78\n",
       "2            1    13.16        2.36\n",
       "3            1    14.37        1.95\n",
       "4            1    13.24        2.59"
      ]
     },
     "execution_count": 19,
     "metadata": {},
     "output_type": "execute_result"
    }
   ],
   "source": [
    "df.head()"
   ]
  },
  {
   "cell_type": "code",
   "execution_count": 23,
   "id": "e787bb9d-3125-4d94-87e1-7aeee43d327c",
   "metadata": {},
   "outputs": [
    {
     "data": {
      "text/plain": [
       "(178, 3)"
      ]
     },
     "execution_count": 23,
     "metadata": {},
     "output_type": "execute_result"
    }
   ],
   "source": [
    "df.shape"
   ]
  },
  {
   "cell_type": "code",
   "execution_count": 29,
   "id": "2a4e1627-ba06-41e1-a0a8-eb74d0f2b607",
   "metadata": {},
   "outputs": [],
   "source": [
    "#DOING TRAIN TEST SPLIT\n",
    "from sklearn.model_selection import train_test_split\n",
    "X = df[['Alcohol','Malic Acid']]\n",
    "Y = df['Class Label']\n",
    "X_train,X_test,Y_train,Y_test = train_test_split(X,\n",
    "                                                Y,\n",
    "                                                test_size=0.2,\n",
    "                                                random_state= 0)"
   ]
  },
  {
   "cell_type": "code",
   "execution_count": 39,
   "id": "0f785b32-261f-47a4-a239-395d4463c4bf",
   "metadata": {},
   "outputs": [
    {
     "data": {
      "text/plain": [
       "((142, 2), (36, 2))"
      ]
     },
     "execution_count": 39,
     "metadata": {},
     "output_type": "execute_result"
    }
   ],
   "source": [
    "X_train.shape , X_test.shape"
   ]
  },
  {
   "cell_type": "code",
   "execution_count": 47,
   "id": "3d527711-f277-41b0-9d4a-16b50bbb965a",
   "metadata": {},
   "outputs": [],
   "source": [
    "from sklearn.preprocessing import MinMaxScaler\n",
    "scaler = MinMaxScaler()\n",
    "X_train_scaled = scaler.fit_transform(X_train)\n",
    "X_test_scaled = scaler.fit_transform(X_test)"
   ]
  },
  {
   "cell_type": "code",
   "execution_count": 49,
   "id": "6409d78c-f48c-4bef-a197-32ef8a4613b0",
   "metadata": {},
   "outputs": [
    {
     "data": {
      "text/plain": [
       "array([[0.71505376, 0.51323829],\n",
       "       [0.44623656, 0.16089613],\n",
       "       [0.15860215, 0.25458248],\n",
       "       [0.63709677, 0.64562118],\n",
       "       [0.66397849, 0.21792261],\n",
       "       [0.72580645, 0.15478615],\n",
       "       [0.33870968, 0.42566191],\n",
       "       [0.42204301, 0.12219959],\n",
       "       [0.10215054, 0.        ],\n",
       "       [0.7016129 , 0.48065173],\n",
       "       [0.42204301, 0.3503055 ],\n",
       "       [0.25      , 0.0712831 ],\n",
       "       [0.32795699, 0.6395112 ],\n",
       "       [0.87903226, 0.24032587],\n",
       "       [0.49731183, 0.45824847],\n",
       "       [0.66129032, 0.58044807],\n",
       "       [0.68010753, 0.19755601],\n",
       "       [0.88978495, 0.19144603],\n",
       "       [0.72043011, 0.22810591],\n",
       "       [0.31989247, 0.11201629],\n",
       "       [0.60215054, 0.7209776 ],\n",
       "       [0.57258065, 0.57637475],\n",
       "       [0.76075269, 0.15682281],\n",
       "       [0.48924731, 0.51527495],\n",
       "       [0.75537634, 0.68839104],\n",
       "       [0.61021505, 0.19959267],\n",
       "       [0.54301075, 0.63543788],\n",
       "       [0.39784946, 0.10183299],\n",
       "       [0.33870968, 0.13645621],\n",
       "       [0.46774194, 0.54786151],\n",
       "       [0.5188172 , 0.55193483],\n",
       "       [0.70967742, 0.10386965],\n",
       "       [0.57258065, 0.3299389 ],\n",
       "       [0.36021505, 0.0407332 ],\n",
       "       [0.38709677, 0.15885947],\n",
       "       [0.20967742, 0.28105906],\n",
       "       [0.59408602, 0.6598778 ],\n",
       "       [0.82526882, 0.2892057 ],\n",
       "       [0.15591398, 0.12423625],\n",
       "       [0.52688172, 0.18940937],\n",
       "       [0.46774194, 0.33604888],\n",
       "       [0.65860215, 0.18940937],\n",
       "       [0.1155914 , 0.61099796],\n",
       "       [0.27956989, 0.2892057 ],\n",
       "       [0.21236559, 0.14867617],\n",
       "       [0.65053763, 0.60285132],\n",
       "       [0.31451613, 0.46639511],\n",
       "       [0.54301075, 0.20162933],\n",
       "       [0.57526882, 0.90631365],\n",
       "       [0.28225806, 0.12016293],\n",
       "       [0.30645161, 0.14460285],\n",
       "       [0.37365591, 0.75152749],\n",
       "       [0.22580645, 0.72708758],\n",
       "       [0.3172043 , 0.09164969],\n",
       "       [0.78225806, 0.20162933],\n",
       "       [0.82526882, 0.26069246],\n",
       "       [0.44086022, 0.04887984],\n",
       "       [1.        , 0.20162933],\n",
       "       [0.32795699, 0.81059063],\n",
       "       [0.48924731, 0.17515275],\n",
       "       [0.72580645, 0.73727088],\n",
       "       [0.81451613, 0.18126273],\n",
       "       [0.69892473, 0.21792261],\n",
       "       [0.34946237, 0.0509165 ],\n",
       "       [0.75      , 0.20570265],\n",
       "       [0.28225806, 0.27291242],\n",
       "       [0.53763441, 0.03258656],\n",
       "       [0.89784946, 0.24643585],\n",
       "       [0.57526882, 0.37678208],\n",
       "       [0.45430108, 0.20570265],\n",
       "       [0.90322581, 0.23014257],\n",
       "       [0.62096774, 0.0407332 ],\n",
       "       [0.16935484, 0.23217923],\n",
       "       [0.21774194, 0.0305499 ],\n",
       "       [0.49193548, 0.12423625],\n",
       "       [0.7311828 , 0.20162933],\n",
       "       [0.40322581, 0.97148676],\n",
       "       [0.55913978, 0.23625255],\n",
       "       [0.90053763, 0.23014257],\n",
       "       [0.86021505, 0.19755601],\n",
       "       [0.26075269, 0.15682281],\n",
       "       [0.59139785, 0.52138493],\n",
       "       [0.90053763, 0.58044807],\n",
       "       [0.83064516, 0.15071283],\n",
       "       [0.26075269, 0.54786151],\n",
       "       [0.35215054, 0.34826884],\n",
       "       [0.65860215, 0.21792261],\n",
       "       [0.60752688, 0.25050916],\n",
       "       [0.63978495, 0.63136456],\n",
       "       [0.72043011, 1.        ],\n",
       "       [0.36021505, 0.09572301],\n",
       "       [0.58333333, 0.21181263],\n",
       "       [0.11290323, 0.33808554],\n",
       "       [0.69623656, 0.85743381],\n",
       "       [0.76612903, 0.23421589],\n",
       "       [0.37365591, 0.36863544],\n",
       "       [0.47849462, 0.3197556 ],\n",
       "       [0.41666667, 0.11201629],\n",
       "       [0.75268817, 0.16904277],\n",
       "       [0.5483871 , 0.15478615],\n",
       "       [0.44892473, 0.57230143],\n",
       "       [0.73655914, 0.23625255],\n",
       "       [0.48655914, 0.45213849],\n",
       "       [0.36021505, 0.18126273],\n",
       "       [0.66666667, 0.21588595],\n",
       "       [0.76344086, 0.23625255],\n",
       "       [0.28225806, 0.13238289],\n",
       "       [0.68548387, 0.18737271],\n",
       "       [0.55107527, 0.64358452],\n",
       "       [0.20430108, 0.28309572],\n",
       "       [0.38172043, 0.46639511],\n",
       "       [0.71236559, 0.22199593],\n",
       "       [0.66935484, 0.49490835],\n",
       "       [0.66397849, 0.48472505],\n",
       "       [0.49462366, 0.78818737],\n",
       "       [0.80376344, 0.19144603],\n",
       "       [0.33870968, 0.49490835],\n",
       "       [0.28225806, 0.07942974],\n",
       "       [0.44892473, 0.63747454],\n",
       "       [0.        , 0.15682281],\n",
       "       [0.6155914 , 0.50916497],\n",
       "       [0.83333333, 0.68431772],\n",
       "       [0.66129032, 0.18737271],\n",
       "       [0.21774194, 0.43788187],\n",
       "       [0.54301075, 0.26680244],\n",
       "       [0.45430108, 0.21792261],\n",
       "       [0.4811828 , 0.53564155],\n",
       "       [0.63709677, 0.78615071],\n",
       "       [0.85752688, 0.66191446],\n",
       "       [0.72311828, 0.14052953],\n",
       "       [0.51075269, 0.42158859],\n",
       "       [0.16397849, 0.2688391 ],\n",
       "       [0.33870968, 0.17718941],\n",
       "       [0.16666667, 0.18940937],\n",
       "       [0.60483871, 0.18329939],\n",
       "       [0.51075269, 0.62321792],\n",
       "       [0.76075269, 0.12423625],\n",
       "       [0.21236559, 0.19959267],\n",
       "       [0.36021505, 0.08757637],\n",
       "       [0.37365591, 0.17718941],\n",
       "       [0.77150538, 0.19144603],\n",
       "       [0.84139785, 0.3604888 ]])"
      ]
     },
     "execution_count": 49,
     "metadata": {},
     "output_type": "execute_result"
    }
   ],
   "source": [
    "X_train_scaled"
   ]
  },
  {
   "cell_type": "code",
   "execution_count": 59,
   "id": "0eca7ef5-fcba-420f-bd21-3f4df5a3b7f1",
   "metadata": {},
   "outputs": [],
   "source": [
    "X_train_scaled= pd.DataFrame(X_train_scaled , columns=X_train.columns)\n",
    "X_test_scaled= pd.DataFrame(X_test_scaled , columns=X_train.columns)"
   ]
  },
  {
   "cell_type": "code",
   "execution_count": 61,
   "id": "b4987628-1d86-439c-be7b-737d3a5c883c",
   "metadata": {},
   "outputs": [
    {
     "data": {
      "text/html": [
       "<div>\n",
       "<style scoped>\n",
       "    .dataframe tbody tr th:only-of-type {\n",
       "        vertical-align: middle;\n",
       "    }\n",
       "\n",
       "    .dataframe tbody tr th {\n",
       "        vertical-align: top;\n",
       "    }\n",
       "\n",
       "    .dataframe thead th {\n",
       "        text-align: right;\n",
       "    }\n",
       "</style>\n",
       "<table border=\"1\" class=\"dataframe\">\n",
       "  <thead>\n",
       "    <tr style=\"text-align: right;\">\n",
       "      <th></th>\n",
       "      <th>Alcohol</th>\n",
       "      <th>Malic Acid</th>\n",
       "    </tr>\n",
       "  </thead>\n",
       "  <tbody>\n",
       "    <tr>\n",
       "      <th>count</th>\n",
       "      <td>142.000000</td>\n",
       "      <td>142.000000</td>\n",
       "    </tr>\n",
       "    <tr>\n",
       "      <th>mean</th>\n",
       "      <td>12.984859</td>\n",
       "      <td>2.372606</td>\n",
       "    </tr>\n",
       "    <tr>\n",
       "      <th>std</th>\n",
       "      <td>0.807175</td>\n",
       "      <td>1.115360</td>\n",
       "    </tr>\n",
       "    <tr>\n",
       "      <th>min</th>\n",
       "      <td>11.030000</td>\n",
       "      <td>0.740000</td>\n",
       "    </tr>\n",
       "    <tr>\n",
       "      <th>25%</th>\n",
       "      <td>12.347500</td>\n",
       "      <td>1.602500</td>\n",
       "    </tr>\n",
       "    <tr>\n",
       "      <th>50%</th>\n",
       "      <td>13.040000</td>\n",
       "      <td>1.895000</td>\n",
       "    </tr>\n",
       "    <tr>\n",
       "      <th>75%</th>\n",
       "      <td>13.637500</td>\n",
       "      <td>3.222500</td>\n",
       "    </tr>\n",
       "    <tr>\n",
       "      <th>max</th>\n",
       "      <td>14.750000</td>\n",
       "      <td>5.650000</td>\n",
       "    </tr>\n",
       "  </tbody>\n",
       "</table>\n",
       "</div>"
      ],
      "text/plain": [
       "          Alcohol  Malic Acid\n",
       "count  142.000000  142.000000\n",
       "mean    12.984859    2.372606\n",
       "std      0.807175    1.115360\n",
       "min     11.030000    0.740000\n",
       "25%     12.347500    1.602500\n",
       "50%     13.040000    1.895000\n",
       "75%     13.637500    3.222500\n",
       "max     14.750000    5.650000"
      ]
     },
     "execution_count": 61,
     "metadata": {},
     "output_type": "execute_result"
    }
   ],
   "source": [
    "X_train.describe()"
   ]
  },
  {
   "cell_type": "code",
   "execution_count": 63,
   "id": "0e9e509b-a009-4269-b61a-c9315a83a4aa",
   "metadata": {},
   "outputs": [
    {
     "data": {
      "text/html": [
       "<div>\n",
       "<style scoped>\n",
       "    .dataframe tbody tr th:only-of-type {\n",
       "        vertical-align: middle;\n",
       "    }\n",
       "\n",
       "    .dataframe tbody tr th {\n",
       "        vertical-align: top;\n",
       "    }\n",
       "\n",
       "    .dataframe thead th {\n",
       "        text-align: right;\n",
       "    }\n",
       "</style>\n",
       "<table border=\"1\" class=\"dataframe\">\n",
       "  <thead>\n",
       "    <tr style=\"text-align: right;\">\n",
       "      <th></th>\n",
       "      <th>Alcohol</th>\n",
       "      <th>Malic Acid</th>\n",
       "    </tr>\n",
       "  </thead>\n",
       "  <tbody>\n",
       "    <tr>\n",
       "      <th>count</th>\n",
       "      <td>142.000000</td>\n",
       "      <td>142.000000</td>\n",
       "    </tr>\n",
       "    <tr>\n",
       "      <th>mean</th>\n",
       "      <td>0.525500</td>\n",
       "      <td>0.332506</td>\n",
       "    </tr>\n",
       "    <tr>\n",
       "      <th>std</th>\n",
       "      <td>0.216983</td>\n",
       "      <td>0.227161</td>\n",
       "    </tr>\n",
       "    <tr>\n",
       "      <th>min</th>\n",
       "      <td>0.000000</td>\n",
       "      <td>0.000000</td>\n",
       "    </tr>\n",
       "    <tr>\n",
       "      <th>25%</th>\n",
       "      <td>0.354167</td>\n",
       "      <td>0.175662</td>\n",
       "    </tr>\n",
       "    <tr>\n",
       "      <th>50%</th>\n",
       "      <td>0.540323</td>\n",
       "      <td>0.235234</td>\n",
       "    </tr>\n",
       "    <tr>\n",
       "      <th>75%</th>\n",
       "      <td>0.700941</td>\n",
       "      <td>0.505601</td>\n",
       "    </tr>\n",
       "    <tr>\n",
       "      <th>max</th>\n",
       "      <td>1.000000</td>\n",
       "      <td>1.000000</td>\n",
       "    </tr>\n",
       "  </tbody>\n",
       "</table>\n",
       "</div>"
      ],
      "text/plain": [
       "          Alcohol  Malic Acid\n",
       "count  142.000000  142.000000\n",
       "mean     0.525500    0.332506\n",
       "std      0.216983    0.227161\n",
       "min      0.000000    0.000000\n",
       "25%      0.354167    0.175662\n",
       "50%      0.540323    0.235234\n",
       "75%      0.700941    0.505601\n",
       "max      1.000000    1.000000"
      ]
     },
     "execution_count": 63,
     "metadata": {},
     "output_type": "execute_result"
    }
   ],
   "source": [
    "X_train_scaled.describe()"
   ]
  },
  {
   "cell_type": "markdown",
   "id": "d48ee7c8-b403-4fad-abca-1a728b001163",
   "metadata": {},
   "source": [
    "### Here unlike standardization,the value of mean and standard devaition will not be 0 and 1"
   ]
  },
  {
   "cell_type": "code",
   "execution_count": 66,
   "id": "10228e72-dc7e-47b7-8559-4f78f86a4f87",
   "metadata": {},
   "outputs": [
    {
     "data": {
      "text/plain": [
       "<Axes: title={'center': 'After Scaling'}, xlabel='Alcohol', ylabel='Density'>"
      ]
     },
     "execution_count": 66,
     "metadata": {},
     "output_type": "execute_result"
    },
    {
     "data": {
      "image/png": "[encoded data removed]",
      "text/plain": [
       "<Figure size 1200x500 with 2 Axes>"
      ]
     },
     "metadata": {},
     "output_type": "display_data"
    }
   ],
   "source": [
    "fig , (ax1,ax2) = plt.subplots(ncols=2 , figsize = (12,5))\n",
    "\n",
    "#Before Scaling\n",
    "ax1.set_title('Before Scaling')\n",
    "sns.kdeplot(X_train['Alcohol'],ax = ax1)\n",
    "sns.kdeplot(X_train['Malic Acid'],ax = ax1)\n",
    "\n",
    "#After Scaling\n",
    "ax2.set_title('After Scaling')\n",
    "sns.kdeplot(X_train_scaled['Alcohol'],ax = ax2)\n",
    "sns.kdeplot(X_train_scaled['Malic Acid'],ax = ax2)"
   ]
  },
  {
   "cell_type": "markdown",
   "id": "ebec4a57-47aa-4d50-8dd4-968fa1bef45e",
   "metadata": {},
   "source": [
    "<h1 style = \"color : red;\">From above figure we can see the variation after normalization.After normalization we can easily perform comparision between Alcohol and Meric acid</h1>"
   ]
  },
  {
   "cell_type": "code",
   "execution_count": null,
   "id": "8ce4aea0-0c65-4c2e-90fe-38e3f0d0faf5",
   "metadata": {},
   "outputs": [],
   "source": []
  }
 ],
 "metadata": {
  "kernelspec": {
   "display_name": "Python 3 (ipykernel)",
   "language": "python",
   "name": "python3"
  },
  "language_info": {
   "codemirror_mode": {
    "name": "ipython",
    "version": 3
   },
   "file_extension": ".py",
   "mimetype": "text/x-python",
   "name": "python",
   "nbconvert_exporter": "python",
   "pygments_lexer": "ipython3",
   "version": "3.12.4"
  }
 },
 "nbformat": 4,
 "nbformat_minor": 5
}
